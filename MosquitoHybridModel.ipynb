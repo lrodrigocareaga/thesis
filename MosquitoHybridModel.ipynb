{
  "nbformat": 4,
  "nbformat_minor": 0,
  "metadata": {
    "colab": {
      "name": "MosquitoHybridModel.ipynb",
      "provenance": [],
      "collapsed_sections": [
        "ulDg6tAjm25k",
        "5l_qLqRqSRKi",
        "DqhpzTqATdtG"
      ],
      "toc_visible": true,
      "machine_shape": "hm",
      "include_colab_link": true
    },
    "kernelspec": {
      "name": "python3",
      "display_name": "Python 3"
    },
    "accelerator": "GPU"
  },
  "cells": [
    {
      "cell_type": "markdown",
      "metadata": {
        "id": "view-in-github",
        "colab_type": "text"
      },
      "source": [
        "<a href=\"https://colab.research.google.com/github/lrodrigocareaga/thesis/blob/master/MosquitoHybridModel.ipynb\" target=\"_parent\"><img src=\"https://colab.research.google.com/assets/colab-badge.svg\" alt=\"Open In Colab\"/></a>"
      ]
    },
    {
      "cell_type": "markdown",
      "metadata": {
        "id": "YuevJNCEHRu0",
        "colab_type": "text"
      },
      "source": [
        "# Libraries"
      ]
    },
    {
      "cell_type": "code",
      "metadata": {
        "id": "SHJMkg8Yi6nd",
        "colab_type": "code",
        "outputId": "13529ec2-67d0-4e11-aab5-b373302a04ac",
        "colab": {
          "base_uri": "https://localhost:8080/",
          "height": 32
        }
      },
      "source": [
        "#General libraries needed\n",
        "import numpy as np\n",
        "import pandas as pd\n",
        "import matplotlib.pyplot as plt\n",
        "import tensorflow as tf\n",
        "from tensorboardcolab import TensorBoardColab, TensorBoardColabCallback\n",
        "import keras,os,tarfile,sys,pickle,zipfile\n",
        "\n",
        "#Keras libraries & packages\n",
        "from keras import models,initializers,layers,optimizers\n",
        "from keras import backend as K\n",
        "from keras.utils import to_categorical,plot_model\n",
        "from keras.models import Sequential,Model, load_model\n",
        "from keras.optimizers import Adam\n",
        "from keras.preprocessing import image\n",
        "from keras.preprocessing.image import ImageDataGenerator\n",
        "from keras.layers import Input,Dense,Conv2D,advanced_activations,Flatten,concatenate,Dropout,MaxPooling2D,Activation,GlobalAveragePooling2D,BatchNormalization,SeparableConv2D,SpatialDropout2D,LeakyReLU\n",
        "from keras.callbacks import EarlyStopping, ModelCheckpoint\n",
        "\n",
        "from keras.applications.inception_v3 import InceptionV3\n",
        "from keras.applications.vgg19 import VGG19\n",
        "from keras.applications.resnet50 import ResNet50\n",
        "from keras.applications import MobileNet\n",
        "from keras.applications.mobilenet import preprocess_input\n",
        "\n",
        "#Sci-kit libraries\n",
        "from sklearn import metrics\n",
        "from sklearn.metrics import confusion_matrix,roc_auc_score, roc_curve, classification_report\n",
        "from sklearn.model_selection import train_test_split,StratifiedKFold, KFold, ShuffleSplit\n",
        "from sklearn.utils.multiclass import unique_labels\n",
        "from sklearn.preprocessing import MinMaxScaler, LabelBinarizer, MultiLabelBinarizer, LabelEncoder\n",
        "from sklearn.svm import SVR, LinearSVR\n",
        "from sklearn.linear_model import LinearRegression, LogisticRegression\n",
        "from sklearn.datasets import make_regression\n",
        "\n",
        "#Others\n",
        "import time\n",
        "import matplotlib.image as mpimg\n",
        "import skimage\n",
        "import argparse\n",
        "import locale\n",
        "import glob\n",
        "import sklearn.model_selection\n",
        "import cv2\n",
        "import shapely.wkt\n",
        "import shapely.affinity\n",
        "import seaborn as sns\n",
        "from skimage.io import imshow\n",
        "from shapely.geometry import MultiPolygon, Polygon\n",
        "from collections import defaultdict\n",
        "from shapely.wkt import loads as wkt_loads"
      ],
      "execution_count": 1,
      "outputs": [
        {
          "output_type": "stream",
          "text": [
            "Using TensorFlow backend.\n"
          ],
          "name": "stderr"
        }
      ]
    },
    {
      "cell_type": "code",
      "metadata": {
        "id": "j_JXoaNRHTar",
        "colab_type": "code",
        "outputId": "2173041f-9b68-4ff9-b1aa-08b7306cf639",
        "colab": {
          "base_uri": "https://localhost:8080/",
          "height": 32
        }
      },
      "source": [
        "# Establish the home directory\n",
        "from google.colab import drive\n",
        "drive.mount('/content/drive/')\n",
        "os.chdir('/content/drive/My Drive/mosquito')\n"
      ],
      "execution_count": 2,
      "outputs": [
        {
          "output_type": "stream",
          "text": [
            "Drive already mounted at /content/drive/; to attempt to forcibly remount, call drive.mount(\"/content/drive/\", force_remount=True).\n"
          ],
          "name": "stdout"
        }
      ]
    },
    {
      "cell_type": "code",
      "metadata": {
        "id": "dOz4B23tKqlg",
        "colab_type": "code",
        "outputId": "b5efb72f-c1b9-432b-8ccb-ee6c5daf18bc",
        "colab": {
          "base_uri": "https://localhost:8080/",
          "height": 96
        }
      },
      "source": [
        "tbc=TensorBoardColab()\n",
        "import warnings\n",
        "warnings.filterwarnings('ignore')"
      ],
      "execution_count": 3,
      "outputs": [
        {
          "output_type": "stream",
          "text": [
            "Wait for 8 seconds...\n",
            "TensorBoard link:\n",
            "http://28149406.ngrok.io\n"
          ],
          "name": "stdout"
        }
      ]
    },
    {
      "cell_type": "markdown",
      "metadata": {
        "id": "e32AktirJwbc",
        "colab_type": "text"
      },
      "source": [
        "# Experiments"
      ]
    },
    {
      "cell_type": "markdown",
      "metadata": {
        "id": "YrY6jnihSbyX",
        "colab_type": "text"
      },
      "source": [
        "## Load Data\n"
      ]
    },
    {
      "cell_type": "code",
      "metadata": {
        "id": "MLxz-JTnla6o",
        "colab_type": "code",
        "colab": {}
      },
      "source": [
        "def loadData(fileXls):\n",
        "\n",
        "  #Numerical and Categorical columns needed in the data\n",
        "  cols = ['collection_date','GPS_lat','GPS_lon','species','day','month','year','sample_count']\n",
        "\n",
        "  #Source file\n",
        "  df_info = pd.read_excel(fileXls)\n",
        "  #Erase blank rows\n",
        "  df_info = df_info.dropna()\n",
        "\n",
        "  #Add year and month\n",
        "  df_info['year'] = df_info['collection_date'].dt.year.astype(int)\n",
        "  df_info['month'] = df_info['collection_date'].dt.month.astype(int)\n",
        "  df_info['day'] = df_info['collection_date'].dt.day.astype(int)\n",
        "\n",
        "  #filter the dataset\n",
        "  df = df_info[cols]\n",
        "  df = df.dropna()\n",
        "\n",
        "  df['GENUS'] = df['species'].str.split(' ').str[0].astype(str)\n",
        "  df['SPECIES'] = df['species'].str.split(' ').str[1].astype(str)\n",
        "  df = df.rename(columns={\"GPS_lat\": \"LATITUDE\", \"GPS_lon\": \"LONGITUDE\"})\n",
        "\n",
        "  df.sample_count = df.sample_count.astype(int)\n",
        "  df['date'] = pd.to_datetime(df['collection_date'].dt.strftime('%d-%m-%Y'))\n",
        "\n",
        "  del df['collection_date']\n",
        "  del df['species']\n",
        "\n",
        "  return df"
      ],
      "execution_count": 0,
      "outputs": []
    },
    {
      "cell_type": "code",
      "metadata": {
        "id": "HqqmskXcsmxg",
        "colab_type": "code",
        "colab": {}
      },
      "source": [
        "fileXls = '/content/drive/My Drive/mosquito/Manatee.xlsx'\n",
        "df = loadData(fileXls)"
      ],
      "execution_count": 0,
      "outputs": []
    },
    {
      "cell_type": "code",
      "metadata": {
        "id": "s2dhkxDfG91V",
        "colab_type": "code",
        "colab": {}
      },
      "source": [
        "#Count of mosquitos trapped by ovitrap\n",
        "def printInfo(df):\n",
        "  countMonthK = df[\"month\"].value_counts().keys().tolist()\n",
        "  countMonth = df[\"month\"].value_counts().tolist()\n",
        "  print('Number of mosquitos captured by Month: ' + str(countMonthK))\n",
        "  print('Number of mosquitos captured by Month: ' + str(countMonth))\n",
        "\n",
        "  countYearK = df[\"year\"].value_counts().keys().tolist()\n",
        "  countYear = df[\"year\"].value_counts().tolist()\n",
        "  print('Number of mosquitos captured by Year: ' + str(countYearK))\n",
        "  print('Number of mosquitos captured by Year: ' + str(countYear))\n",
        "\n",
        "  countGenusK = df[\"GENUS\"].value_counts().keys().tolist()\n",
        "  countGenus = df[\"GENUS\"].value_counts().tolist()\n",
        "  print('Number of mosquitos captured by Genus: ' + str(countGenusK))\n",
        "  print('Number of mosquitos captured by Genus: ' + str(countGenus))\n",
        "\n",
        "  #DataFrame of number of mosquitos by trap\n",
        "  traps_df = pd.DataFrame({'Genus' : countGenusK,\n",
        "                         'Total' : countGenus},\n",
        "                         columns=['Genus','Total'])\n",
        "\n",
        "  print(traps_df.head())\n",
        "  return "
      ],
      "execution_count": 0,
      "outputs": []
    },
    {
      "cell_type": "code",
      "metadata": {
        "id": "uFjyesqGIQgh",
        "colab_type": "code",
        "outputId": "0c207916-6694-4028-deea-ea70e7de38be",
        "colab": {
          "base_uri": "https://localhost:8080/",
          "height": 236
        }
      },
      "source": [
        "printInfo(df)"
      ],
      "execution_count": 7,
      "outputs": [
        {
          "output_type": "stream",
          "text": [
            "Number of mosquitos captured by Month: [8, 7, 6, 9, 10, 5, 11, 4, 12, 3, 2, 1]\n",
            "Number of mosquitos captured by Month: [11109, 10999, 10887, 10429, 9977, 5500, 3564, 960, 636, 271, 26, 11]\n",
            "Number of mosquitos captured by Year: [2014, 2013, 2016, 2015, 2012, 2002]\n",
            "Number of mosquitos captured by Year: [14741, 13073, 12847, 12815, 10848, 45]\n",
            "Number of mosquitos captured by Genus: ['Culex', 'Aedes', 'Anopheles', 'Psorophora', 'Mansonia', 'Coquillettidia', 'Uranotaenia', 'Culiseta', 'Wyeomyia', 'BLANK', 'Culicidae', 'Culicinae', 'Orthopodomyia']\n",
            "Number of mosquitos captured by Genus: [22141, 12123, 11354, 9567, 5542, 1605, 1250, 520, 108, 78, 72, 6, 3]\n",
            "        Genus  Total\n",
            "0       Culex  22141\n",
            "1       Aedes  12123\n",
            "2   Anopheles  11354\n",
            "3  Psorophora   9567\n",
            "4    Mansonia   5542\n"
          ],
          "name": "stdout"
        }
      ]
    },
    {
      "cell_type": "code",
      "metadata": {
        "id": "ljVG2DktSoxT",
        "colab_type": "code",
        "colab": {}
      },
      "source": [
        "#dataset of Washington Climate\n",
        "def loadDataClimate(fileXlsClimate):\n",
        "\n",
        "  df_climate = pd.read_excel(fileXlsClimate)\n",
        "\n",
        "  df_climate['LATITUDE'] = df_climate['coordinates'].str.split(';').str[0].astype(float)\n",
        "  df_climate['LONGITUDE'] = df_climate['coordinates'].str.split(';').str[1].astype(float)\n",
        "  \n",
        "  df_climate['date'] =  pd.to_datetime(df_climate['date'], format='%Y-%m-%d')\n",
        "  df_climate['year'] = df_climate['date'].dt.year.astype(int)\n",
        "  df_climate['month'] = df_climate['date'].dt.month.astype(int)\n",
        "  df_climate['day'] = df_climate['date'].dt.day.astype(int)\n",
        "  \n",
        "  return df_climate\n"
      ],
      "execution_count": 0,
      "outputs": []
    },
    {
      "cell_type": "code",
      "metadata": {
        "id": "6FE31Z1iKL9y",
        "colab_type": "code",
        "colab": {}
      },
      "source": [
        "#fileXlsClimate = '/content/drive/My Drive/mosquito/weatherWashington.xlsx'\n",
        "fileXlsClimate = '/content/drive/My Drive/mosquito/WeatherManateeFinal.xlsx'\n",
        "df_climate = loadDataClimate(fileXlsClimate)"
      ],
      "execution_count": 0,
      "outputs": []
    },
    {
      "cell_type": "code",
      "metadata": {
        "id": "_6BCgDRNUEdw",
        "colab_type": "code",
        "colab": {}
      },
      "source": [
        "#Merge of climate and mosquitos dataset\n",
        "def mergeDatasets(df, df_climate):\n",
        "  result = pd.merge(df, df_climate, how='inner', on=['year','month','day','LATITUDE','LONGITUDE'])\n",
        "  result.head()\n",
        "\n",
        "  #Export dataset to csv\n",
        "  result.to_csv('result.csv',index=True)\n",
        "  del result['date_x']\n",
        "  del result['coordinates']\n",
        "  result = result.rename(columns={\"sample_count\": \"TOTAL\", \"date_y\": \"date\"}) \n",
        "  result.TOTAL = result.TOTAL.astype(int)\n",
        "\n",
        "  return result"
      ],
      "execution_count": 0,
      "outputs": []
    },
    {
      "cell_type": "code",
      "metadata": {
        "id": "3zZBokVhSnGa",
        "colab_type": "code",
        "outputId": "a30cd501-d976-4ae3-f3cd-0b2fb1b5a62e",
        "colab": {
          "base_uri": "https://localhost:8080/",
          "height": 576
        }
      },
      "source": [
        "result = mergeDatasets(df, df_climate)\n",
        "print(result.head())\n",
        "print(result.info())"
      ],
      "execution_count": 11,
      "outputs": [
        {
          "output_type": "stream",
          "text": [
            "    LATITUDE  LONGITUDE  day  ...  humidity  windSpeed  cloudCover\n",
            "0  27.516317 -82.537735   22  ...      0.78       2.16        0.45\n",
            "1  27.516317 -82.537735   22  ...      0.78       2.16        0.45\n",
            "2  27.554018 -82.545481   22  ...      0.78       2.15        0.44\n",
            "3  27.488870 -82.592140   22  ...      0.79       2.25        0.44\n",
            "4  27.439449 -82.548928   22  ...      0.80       2.36        0.40\n",
            "\n",
            "[5 rows x 20 columns]\n",
            "<class 'pandas.core.frame.DataFrame'>\n",
            "Int64Index: 64332 entries, 0 to 64331\n",
            "Data columns (total 20 columns):\n",
            "LATITUDE              64332 non-null float64\n",
            "LONGITUDE             64332 non-null float64\n",
            "day                   64332 non-null int64\n",
            "month                 64332 non-null int64\n",
            "year                  64332 non-null int64\n",
            "TOTAL                 64332 non-null int64\n",
            "GENUS                 64332 non-null object\n",
            "SPECIES               64332 non-null object\n",
            "date                  64332 non-null datetime64[ns]\n",
            "precipType            64332 non-null int64\n",
            "precipProbability     64332 non-null float64\n",
            "precipIntensity       64332 non-null float64\n",
            "precipIntensityMax    64332 non-null float64\n",
            "temperatureLow        64332 non-null float64\n",
            "temperatureHigh       64332 non-null float64\n",
            "temperatureMin        64332 non-null float64\n",
            "temperatureMax        64332 non-null float64\n",
            "humidity              64332 non-null float64\n",
            "windSpeed             64332 non-null float64\n",
            "cloudCover            64332 non-null float64\n",
            "dtypes: datetime64[ns](1), float64(12), int64(5), object(2)\n",
            "memory usage: 10.3+ MB\n",
            "None\n"
          ],
          "name": "stdout"
        }
      ]
    },
    {
      "cell_type": "code",
      "metadata": {
        "id": "ns_0BB8DCDDT",
        "colab_type": "code",
        "colab": {}
      },
      "source": [
        "result['location'] = result['LATITUDE'].astype(str) + '_' + result['LONGITUDE'].astype(str)"
      ],
      "execution_count": 0,
      "outputs": []
    },
    {
      "cell_type": "code",
      "metadata": {
        "id": "DYT5giTiJ8I7",
        "colab_type": "code",
        "colab": {}
      },
      "source": [
        "dfImages = pd.read_excel('imagesManatee.xlsx', sheet_name='Sheet1')\n",
        "dfImages.head()\n",
        "result = pd.merge(result, dfImages, how='inner', on='LATITUDE')"
      ],
      "execution_count": 0,
      "outputs": []
    },
    {
      "cell_type": "code",
      "metadata": {
        "id": "_O7Plv2UsIsl",
        "colab_type": "code",
        "colab": {}
      },
      "source": [
        "def takeOutliers(result, percentile):\n",
        "  result  = result.sort_values(by=['TOTAL'])\n",
        "  numEntries = len(result.index)\n",
        "  lowerBound = round(((1-percentile)/2),3)\n",
        "  upperBound = 1-lowerBound\n",
        "  print(lowerBound,' and ',upperBound)\n",
        "  result = result.iloc[int((numEntries*lowerBound)):(int(numEntries*upperBound))]\n",
        "  result.reindex(np.random.permutation(result.index))\n",
        "  return result"
      ],
      "execution_count": 0,
      "outputs": []
    },
    {
      "cell_type": "code",
      "metadata": {
        "id": "voiuqkfCtre2",
        "colab_type": "code",
        "outputId": "f3eed396-77bf-4f2d-d2a1-2a202b0553a1",
        "colab": {
          "base_uri": "https://localhost:8080/",
          "height": 625
        }
      },
      "source": [
        "result = takeOutliers(result, 0.90)\n",
        "print(result.head())\n",
        "print(result.info())"
      ],
      "execution_count": 16,
      "outputs": [
        {
          "output_type": "stream",
          "text": [
            "0.05  and  0.95\n",
            "       LATITUDE  ...                                  fileName\n",
            "9016  27.481256  ...  27.481256_-82.48042_April_2015_500ft.png\n",
            "9014  27.481256  ...  27.481256_-82.48042_April_2015_500ft.png\n",
            "8766  27.481256  ...  27.481256_-82.48042_April_2015_500ft.png\n",
            "8868  27.481256  ...  27.481256_-82.48042_April_2015_500ft.png\n",
            "8816  27.481256  ...  27.481256_-82.48042_April_2015_500ft.png\n",
            "\n",
            "[5 rows x 22 columns]\n",
            "<class 'pandas.core.frame.DataFrame'>\n",
            "Int64Index: 35106 entries, 9016 to 5347\n",
            "Data columns (total 22 columns):\n",
            "LATITUDE              35106 non-null float64\n",
            "LONGITUDE             35106 non-null float64\n",
            "day                   35106 non-null int64\n",
            "month                 35106 non-null int64\n",
            "year                  35106 non-null int64\n",
            "TOTAL                 35106 non-null int64\n",
            "GENUS                 35106 non-null object\n",
            "SPECIES               35106 non-null object\n",
            "date                  35106 non-null datetime64[ns]\n",
            "precipType            35106 non-null int64\n",
            "precipProbability     35106 non-null float64\n",
            "precipIntensity       35106 non-null float64\n",
            "precipIntensityMax    35106 non-null float64\n",
            "temperatureLow        35106 non-null float64\n",
            "temperatureHigh       35106 non-null float64\n",
            "temperatureMin        35106 non-null float64\n",
            "temperatureMax        35106 non-null float64\n",
            "humidity              35106 non-null float64\n",
            "windSpeed             35106 non-null float64\n",
            "cloudCover            35106 non-null float64\n",
            "location              35106 non-null object\n",
            "fileName              35106 non-null object\n",
            "dtypes: datetime64[ns](1), float64(12), int64(5), object(4)\n",
            "memory usage: 7.4+ MB\n",
            "None\n"
          ],
          "name": "stdout"
        }
      ]
    },
    {
      "cell_type": "markdown",
      "metadata": {
        "id": "JsBAmZrcEXW3",
        "colab_type": "text"
      },
      "source": [
        "## Visualization & data split"
      ]
    },
    {
      "cell_type": "code",
      "metadata": {
        "id": "2FAG7RZqIkvx",
        "colab_type": "code",
        "colab": {}
      },
      "source": [
        "def boxPlotFunc(result):\n",
        "  plt.plot()\n",
        "  sns.boxplot(x='GENUS',y='TOTAL',data=result)\n",
        "  plt.xlabel('GENUS')\n",
        "  plt.ylabel('TOTAL')\n",
        "  plt.title('Boxplot Graph')\n",
        "  plt.savefig('box_Overall_Year.eps', format='eps', dpi=900)\n",
        "  return plt.show()"
      ],
      "execution_count": 0,
      "outputs": []
    },
    {
      "cell_type": "code",
      "metadata": {
        "id": "VBp7tmteJNEI",
        "colab_type": "code",
        "colab": {}
      },
      "source": [
        "def violinPlotFunc(result):\n",
        "  sns.violinplot(x='GENUS',y='TOTAL',data=result,inner=None,color='lightgray')\n",
        "  sns.stripplot(x='GENUS',y='TOTAL',data=result,size=10,jitter=True)\n",
        "  plt.xlabel('TOTAL')\n",
        "  plt.ylabel('Overall')\n",
        "  plt.title('Violin Graph')\n",
        "  plt.tight_layout()\n",
        "  plt.savefig('viol_Overall_Year.eps', format='eps', dpi=900)\n",
        "  return plt.show()"
      ],
      "execution_count": 0,
      "outputs": []
    },
    {
      "cell_type": "code",
      "metadata": {
        "id": "H2iu-8Maw66D",
        "colab_type": "code",
        "colab": {}
      },
      "source": [
        "#Observe the correlation of the variables\n",
        "def corrPlotFunc(result):\n",
        "  corr = result.corr()\n",
        "  corr.style.background_gradient()\n",
        "\n",
        "  sns.heatmap(corr, cmap=\"RdYlGn_r\", square= True, vmin=-1, vmax=1)\n",
        "  plt.savefig('corr.eps', format='eps', dpi=900)\n",
        "  # Display the heatmap\n",
        "  return plt.show()"
      ],
      "execution_count": 0,
      "outputs": []
    },
    {
      "cell_type": "code",
      "metadata": {
        "id": "uIMm5m9XeC85",
        "colab_type": "code",
        "outputId": "c84cfcd6-7fd9-4ee9-e4a8-f716b756a85d",
        "colab": {
          "base_uri": "https://localhost:8080/",
          "height": 910
        }
      },
      "source": [
        "boxPlotFunc(result)\n",
        "violinPlotFunc(result)\n",
        "corrPlotFunc(result)"
      ],
      "execution_count": 20,
      "outputs": [
        {
          "output_type": "display_data",
          "data": {
            "image/png": "[encoded data removed]",
            "text/plain": [
              "<Figure size 432x288 with 1 Axes>"
            ]
          },
          "metadata": {
            "tags": []
          }
        },
        {
          "output_type": "display_data",
          "data": {
            "image/png": "[encoded data removed]",
            "text/plain": [
              "<Figure size 432x288 with 1 Axes>"
            ]
          },
          "metadata": {
            "tags": []
          }
        },
        {
          "output_type": "display_data",
          "data": {
            "image/png": "[encoded data removed]",
            "text/plain": [
              "<Figure size 432x288 with 2 Axes>"
            ]
          },
          "metadata": {
            "tags": []
          }
        }
      ]
    },
    {
      "cell_type": "code",
      "metadata": {
        "id": "P-WH6g4fp_Mf",
        "colab_type": "code",
        "colab": {}
      },
      "source": [
        "def xyFunc(result):\n",
        "  del result['date']\n",
        "  del result['location']\n",
        "  del result['fileName']\n",
        "\n",
        "  X = result.iloc[:, :].values\n",
        "  y = result.iloc[:, 5].values\n",
        "\n",
        "  # Transform categorical variables if needed\n",
        "  labelencoder = LabelEncoder()\n",
        "  X[:, 6] = labelencoder.fit_transform(X[:, 6])\n",
        "  X[:, 7] = labelencoder.fit_transform(X[:, 7])\n",
        "  X[:, -1] = labelencoder.fit_transform(X[:, -1])\n",
        "  scaler = MinMaxScaler(feature_range=(0, 1))\n",
        "  X = scaler.fit_transform(X)\n",
        "\n",
        "  return X,y"
      ],
      "execution_count": 0,
      "outputs": []
    },
    {
      "cell_type": "code",
      "metadata": {
        "id": "Rl58JGcofAPz",
        "colab_type": "code",
        "colab": {}
      },
      "source": [
        "X,y = xyFunc(result)"
      ],
      "execution_count": 0,
      "outputs": []
    },
    {
      "cell_type": "markdown",
      "metadata": {
        "id": "tfzIn_e1UH0r",
        "colab_type": "text"
      },
      "source": [
        "## SVM"
      ]
    },
    {
      "cell_type": "code",
      "metadata": {
        "id": "T562eOC1eViX",
        "colab_type": "code",
        "colab": {}
      },
      "source": [
        "# function to print SVM\n",
        "def svmFunct(X,y):\n",
        "  scoresCoef = []\n",
        "  regrSVM = LinearSVR(random_state=0, tol=1e-5)\n",
        "  cv = KFold(n_splits=10, random_state=1, shuffle=True)\n",
        "\n",
        "  for train_index, test_index in cv.split(X):\n",
        "    X_train, X_test, y_train, y_test = X[train_index], X[test_index], y[train_index], y[test_index]\n",
        "    regrSVM.fit(X_train, y_train)\n",
        "    y_pred = regrSVM.predict(X_test)\n",
        "      \n",
        "  print(regrSVM.coef_)\n",
        "  print(regrSVM.intercept_)\n",
        "\n",
        "  \n",
        "  fig, ax = plt.subplots()\n",
        "  ax.scatter(y_test, y_pred)\n",
        "  ax.plot([y_test.min(), y_test.max()], [y_test.min(), y_test.max()], 'k--', lw=4)\n",
        "  ax.set_xlabel('True Values')\n",
        "  ax.set_ylabel('Predicted')\n",
        "  plt.savefig('SVM.eps', format='eps', dpi=900)\n",
        "\n",
        "  return plt.show()"
      ],
      "execution_count": 0,
      "outputs": []
    },
    {
      "cell_type": "code",
      "metadata": {
        "id": "wcqXRWvcx6Q3",
        "colab_type": "code",
        "outputId": "2c9de627-4fa6-4a27-84f2-53655a3e9b92",
        "colab": {
          "base_uri": "https://localhost:8080/",
          "height": 381
        }
      },
      "source": [
        "svmFunct(X,y)"
      ],
      "execution_count": 25,
      "outputs": [
        {
          "output_type": "stream",
          "text": [
            "[-1.77912359e-05  9.43453732e-06 -7.32349217e-07  5.03121491e-05\n",
            " -4.26657798e-05  7.42000021e+02  1.86007461e-05  3.07930272e-06\n",
            " -4.20689384e-05  2.29003765e-06 -4.43209063e-04  5.59475768e-05\n",
            "  2.61958404e-04 -1.83371841e-02 -4.08399443e-04  1.70818409e-02\n",
            " -1.52862607e-05 -1.74275140e-04  1.89454505e-04]\n",
            "[1.00141748]\n"
          ],
          "name": "stdout"
        },
        {
          "output_type": "display_data",
          "data": {
            "image/png": "[encoded data removed]",
            "text/plain": [
              "<Figure size 432x288 with 1 Axes>"
            ]
          },
          "metadata": {
            "tags": []
          }
        }
      ]
    },
    {
      "cell_type": "markdown",
      "metadata": {
        "id": "_VkPLy8CZHEV",
        "colab_type": "text"
      },
      "source": [
        "## Linear Regression"
      ]
    },
    {
      "cell_type": "code",
      "metadata": {
        "colab_type": "code",
        "id": "GDuHJ10YZNCa",
        "colab": {}
      },
      "source": [
        "def linearRegressionFunct(X,y):\n",
        "  scoresCoef = []\n",
        "  linreg = LinearRegression()\n",
        "  cv = KFold(n_splits=10, random_state=1, shuffle=True)\n",
        "\n",
        "  for train_index, test_index in cv.split(X):\n",
        "    X_train, X_test, y_train, y_test = X[train_index], X[test_index], y[train_index], y[test_index]\n",
        "    linreg.fit(X_train, y_train)\n",
        "    y_pred = linreg.predict(X_test)\n",
        "  \n",
        "  print('Accuracy of linear regression classifier on test set: {:.2f}'.format(linreg.score(X_test,y_test)))\n",
        "  #print('Accuracy of logistic regression classifier on test set: {:.2f}'.format(linreg.score(testX, testY))\n",
        "  print(linreg.coef_)\n",
        "  print(linreg.intercept_)\n",
        "\n",
        "  \n",
        "  fig, ax = plt.subplots()\n",
        "  ax.scatter(y_test, y_pred)\n",
        "  ax.plot([y_test.min(), y_test.max()], [y_test.min(), y_test.max()], 'k--', lw=4)\n",
        "  ax.set_xlabel('True Values')\n",
        "  ax.set_ylabel('Predicted')\n",
        "  plt.savefig('linreg.eps', format='eps', dpi=900)\n",
        "\n",
        "  return plt.show()"
      ],
      "execution_count": 0,
      "outputs": []
    },
    {
      "cell_type": "code",
      "metadata": {
        "id": "0eu1PiVcfEbB",
        "colab_type": "code",
        "outputId": "d8b1b889-67c3-4b97-9216-9b346214e910",
        "colab": {
          "base_uri": "https://localhost:8080/",
          "height": 397
        }
      },
      "source": [
        "linearRegressionFunct(X,y)"
      ],
      "execution_count": 27,
      "outputs": [
        {
          "output_type": "stream",
          "text": [
            "Accuracy of linear regression classifier on test set: 1.00\n",
            "[-2.36250574e-14 -1.56319402e-13  1.63410386e-13  6.03264217e-14\n",
            "  5.59101825e-14  7.42000000e+02  2.11058932e-14 -7.39857134e-14\n",
            " -2.09698816e-13 -4.51123473e-14  3.45842158e-13 -4.10845575e-13\n",
            "  2.80182687e-13  2.41028498e-12  7.17176033e-14 -1.90414351e-12\n",
            "  8.07191368e-13 -3.55715457e-13  4.63629135e-13]\n",
            "0.9999999999983729\n"
          ],
          "name": "stdout"
        },
        {
          "output_type": "display_data",
          "data": {
            "image/png": "[encoded data removed]",
            "text/plain": [
              "<Figure size 432x288 with 1 Axes>"
            ]
          },
          "metadata": {
            "tags": []
          }
        }
      ]
    },
    {
      "cell_type": "markdown",
      "metadata": {
        "id": "MVMKqPduSi3j",
        "colab_type": "text"
      },
      "source": [
        "## Dense Neural Network for Regression"
      ]
    },
    {
      "cell_type": "code",
      "metadata": {
        "id": "yfiYVFM-pXKH",
        "colab_type": "code",
        "colab": {}
      },
      "source": [
        "model_checkpoint = ModelCheckpoint('RegMos.h5', verbose=1, save_best_only=True)\n",
        "\n",
        "#model of dense neural network with 16, 8, 4 and 1 neurons in each layer respectively \n",
        "def create_mlp(dim, regress=False):\n",
        "  model = Sequential()\n",
        "  model.add(Dense(16, input_dim=dim, activation=\"relu\"))\n",
        "  model.add(Dense(8, activation=\"relu\"))\n",
        "  model.add(Dense(4, activation=\"relu\"))\n",
        "  \n",
        "  if regress:\n",
        "    model.add(Dense(1, activation=\"linear\"))\n",
        "  \n",
        "  opt = Adam(lr=1e-3, decay=1e-3 / 200)\n",
        "  model.compile(optimizer=opt, loss=\"mean_absolute_percentage_error\", metrics=['mae'])\n",
        "  \n",
        "  return model\n",
        "\n"
      ],
      "execution_count": 0,
      "outputs": []
    },
    {
      "cell_type": "code",
      "metadata": {
        "id": "JIWnEGe1Oonf",
        "colab_type": "code",
        "colab": {}
      },
      "source": [
        "def kFoldMLP(X, y, folds=5, num_epochs=50, batch_size=16, verbose=True):\n",
        "  all_scores = []\n",
        "  model_history = [] \n",
        "  start = time.clock()                 \n",
        "\n",
        "  cv = KFold(n_splits=folds, random_state=1, shuffle=True)\n",
        "\n",
        "  for train_index, test_index in cv.split(X):\n",
        "    X_train, X_test, y_train, y_test = X[train_index], X[test_index], y[train_index], y[test_index]\n",
        "\n",
        "    model = create_mlp(X_train.shape[1], regress=True)\n",
        "\n",
        "    history = model.fit(X_train, y_train,validation_data=(X_test, y_test),\n",
        "                        epochs=num_epochs,callbacks=[model_checkpoint,\n",
        "                        TensorBoardColabCallback(tbc)], batch_size=batch_size, verbose=verbose)\n",
        "    \n",
        "    model_history.append(history)\n",
        "    val_mape,val_mae = model.evaluate(X_test, y_test, verbose=0)\n",
        "    all_scores.append(val_mape)\n",
        "    \n",
        "  end = time.clock()\n",
        "  timeDense = end-start\n",
        "  #total time of training\n",
        "  print(\"Total Time: {} \".format(timeDense)) \n",
        "  return model, model_history, all_scores"
      ],
      "execution_count": 0,
      "outputs": []
    },
    {
      "cell_type": "code",
      "metadata": {
        "id": "sxAk-hF_OOr2",
        "colab_type": "code",
        "outputId": "e97c7e41-c042-4209-e953-5b43fc4777fd",
        "colab": {
          "base_uri": "https://localhost:8080/",
          "height": 1000
        }
      },
      "source": [
        "model, model_history, all_scores = kFoldMLP(X,y,verbose=False)"
      ],
      "execution_count": 46,
      "outputs": [
        {
          "output_type": "stream",
          "text": [
            "\n",
            "Epoch 00001: val_loss did not improve from 0.54008\n",
            "\n",
            "Epoch 00002: val_loss did not improve from 0.54008\n",
            "\n",
            "Epoch 00003: val_loss did not improve from 0.54008\n",
            "\n",
            "Epoch 00004: val_loss did not improve from 0.54008\n",
            "\n",
            "Epoch 00005: val_loss did not improve from 0.54008\n",
            "\n",
            "Epoch 00006: val_loss did not improve from 0.54008\n",
            "\n",
            "Epoch 00007: val_loss did not improve from 0.54008\n",
            "\n",
            "Epoch 00008: val_loss did not improve from 0.54008\n",
            "\n",
            "Epoch 00009: val_loss did not improve from 0.54008\n",
            "\n",
            "Epoch 00010: val_loss did not improve from 0.54008\n",
            "\n",
            "Epoch 00011: val_loss did not improve from 0.54008\n",
            "\n",
            "Epoch 00012: val_loss did not improve from 0.54008\n",
            "\n",
            "Epoch 00013: val_loss did not improve from 0.54008\n",
            "\n",
            "Epoch 00014: val_loss did not improve from 0.54008\n",
            "\n",
            "Epoch 00015: val_loss did not improve from 0.54008\n",
            "\n",
            "Epoch 00016: val_loss did not improve from 0.54008\n",
            "\n",
            "Epoch 00017: val_loss did not improve from 0.54008\n",
            "\n",
            "Epoch 00018: val_loss did not improve from 0.54008\n",
            "\n",
            "Epoch 00019: val_loss did not improve from 0.54008\n",
            "\n",
            "Epoch 00020: val_loss did not improve from 0.54008\n",
            "\n",
            "Epoch 00021: val_loss did not improve from 0.54008\n",
            "\n",
            "Epoch 00022: val_loss did not improve from 0.54008\n",
            "\n",
            "Epoch 00023: val_loss did not improve from 0.54008\n",
            "\n",
            "Epoch 00024: val_loss did not improve from 0.54008\n",
            "\n",
            "Epoch 00025: val_loss did not improve from 0.54008\n",
            "\n",
            "Epoch 00026: val_loss did not improve from 0.54008\n",
            "\n",
            "Epoch 00027: val_loss did not improve from 0.54008\n",
            "\n",
            "Epoch 00028: val_loss did not improve from 0.54008\n",
            "\n",
            "Epoch 00029: val_loss did not improve from 0.54008\n",
            "\n",
            "Epoch 00030: val_loss did not improve from 0.54008\n",
            "\n",
            "Epoch 00031: val_loss did not improve from 0.54008\n",
            "\n",
            "Epoch 00032: val_loss did not improve from 0.54008\n",
            "\n",
            "Epoch 00033: val_loss did not improve from 0.54008\n",
            "\n",
            "Epoch 00034: val_loss did not improve from 0.54008\n",
            "\n",
            "Epoch 00035: val_loss did not improve from 0.54008\n",
            "\n",
            "Epoch 00036: val_loss did not improve from 0.54008\n",
            "\n",
            "Epoch 00037: val_loss did not improve from 0.54008\n",
            "\n",
            "Epoch 00038: val_loss did not improve from 0.54008\n",
            "\n",
            "Epoch 00039: val_loss did not improve from 0.54008\n",
            "\n",
            "Epoch 00040: val_loss did not improve from 0.54008\n",
            "\n",
            "Epoch 00041: val_loss did not improve from 0.54008\n",
            "\n",
            "Epoch 00042: val_loss did not improve from 0.54008\n",
            "\n",
            "Epoch 00043: val_loss did not improve from 0.54008\n",
            "\n",
            "Epoch 00044: val_loss did not improve from 0.54008\n",
            "\n",
            "Epoch 00045: val_loss did not improve from 0.54008\n",
            "\n",
            "Epoch 00046: val_loss did not improve from 0.54008\n",
            "\n",
            "Epoch 00047: val_loss did not improve from 0.54008\n",
            "\n",
            "Epoch 00048: val_loss did not improve from 0.54008\n",
            "\n",
            "Epoch 00049: val_loss did not improve from 0.54008\n",
            "\n",
            "Epoch 00050: val_loss did not improve from 0.54008\n",
            "\n",
            "Epoch 00001: val_loss did not improve from 0.54008\n",
            "\n",
            "Epoch 00002: val_loss did not improve from 0.54008\n",
            "\n",
            "Epoch 00003: val_loss did not improve from 0.54008\n",
            "\n",
            "Epoch 00004: val_loss did not improve from 0.54008\n",
            "\n",
            "Epoch 00005: val_loss did not improve from 0.54008\n",
            "\n",
            "Epoch 00006: val_loss did not improve from 0.54008\n",
            "\n",
            "Epoch 00007: val_loss did not improve from 0.54008\n",
            "\n",
            "Epoch 00008: val_loss did not improve from 0.54008\n",
            "\n",
            "Epoch 00009: val_loss did not improve from 0.54008\n",
            "\n",
            "Epoch 00010: val_loss did not improve from 0.54008\n",
            "\n",
            "Epoch 00011: val_loss did not improve from 0.54008\n",
            "\n",
            "Epoch 00012: val_loss did not improve from 0.54008\n",
            "\n",
            "Epoch 00013: val_loss did not improve from 0.54008\n",
            "\n",
            "Epoch 00014: val_loss did not improve from 0.54008\n",
            "\n",
            "Epoch 00015: val_loss did not improve from 0.54008\n",
            "\n",
            "Epoch 00016: val_loss did not improve from 0.54008\n",
            "\n",
            "Epoch 00017: val_loss did not improve from 0.54008\n",
            "\n",
            "Epoch 00018: val_loss did not improve from 0.54008\n",
            "\n",
            "Epoch 00019: val_loss did not improve from 0.54008\n",
            "\n",
            "Epoch 00020: val_loss did not improve from 0.54008\n",
            "\n",
            "Epoch 00021: val_loss did not improve from 0.54008\n",
            "\n",
            "Epoch 00022: val_loss did not improve from 0.54008\n",
            "\n",
            "Epoch 00023: val_loss did not improve from 0.54008\n",
            "\n",
            "Epoch 00024: val_loss did not improve from 0.54008\n",
            "\n",
            "Epoch 00025: val_loss did not improve from 0.54008\n",
            "\n",
            "Epoch 00026: val_loss did not improve from 0.54008\n",
            "\n",
            "Epoch 00027: val_loss did not improve from 0.54008\n",
            "\n",
            "Epoch 00028: val_loss did not improve from 0.54008\n",
            "\n",
            "Epoch 00029: val_loss did not improve from 0.54008\n",
            "\n",
            "Epoch 00030: val_loss did not improve from 0.54008\n",
            "\n",
            "Epoch 00031: val_loss did not improve from 0.54008\n",
            "\n",
            "Epoch 00032: val_loss did not improve from 0.54008\n",
            "\n",
            "Epoch 00033: val_loss did not improve from 0.54008\n",
            "\n",
            "Epoch 00034: val_loss did not improve from 0.54008\n",
            "\n",
            "Epoch 00035: val_loss did not improve from 0.54008\n",
            "\n",
            "Epoch 00036: val_loss did not improve from 0.54008\n",
            "\n",
            "Epoch 00037: val_loss did not improve from 0.54008\n",
            "\n",
            "Epoch 00038: val_loss did not improve from 0.54008\n",
            "\n",
            "Epoch 00039: val_loss did not improve from 0.54008\n",
            "\n",
            "Epoch 00040: val_loss did not improve from 0.54008\n",
            "\n",
            "Epoch 00041: val_loss did not improve from 0.54008\n",
            "\n",
            "Epoch 00042: val_loss did not improve from 0.54008\n",
            "\n",
            "Epoch 00043: val_loss did not improve from 0.54008\n",
            "\n",
            "Epoch 00044: val_loss did not improve from 0.54008\n",
            "\n",
            "Epoch 00045: val_loss did not improve from 0.54008\n",
            "\n",
            "Epoch 00046: val_loss did not improve from 0.54008\n",
            "\n",
            "Epoch 00047: val_loss did not improve from 0.54008\n",
            "\n",
            "Epoch 00048: val_loss did not improve from 0.54008\n",
            "\n",
            "Epoch 00049: val_loss did not improve from 0.54008\n",
            "\n",
            "Epoch 00050: val_loss did not improve from 0.54008\n",
            "\n",
            "Epoch 00001: val_loss did not improve from 0.54008\n",
            "\n",
            "Epoch 00002: val_loss did not improve from 0.54008\n",
            "\n",
            "Epoch 00003: val_loss did not improve from 0.54008\n",
            "\n",
            "Epoch 00004: val_loss did not improve from 0.54008\n",
            "\n",
            "Epoch 00005: val_loss did not improve from 0.54008\n",
            "\n",
            "Epoch 00006: val_loss did not improve from 0.54008\n",
            "\n",
            "Epoch 00007: val_loss did not improve from 0.54008\n",
            "\n",
            "Epoch 00008: val_loss did not improve from 0.54008\n",
            "\n",
            "Epoch 00009: val_loss did not improve from 0.54008\n",
            "\n",
            "Epoch 00010: val_loss did not improve from 0.54008\n",
            "\n",
            "Epoch 00011: val_loss did not improve from 0.54008\n",
            "\n",
            "Epoch 00012: val_loss did not improve from 0.54008\n",
            "\n",
            "Epoch 00013: val_loss did not improve from 0.54008\n",
            "\n",
            "Epoch 00014: val_loss did not improve from 0.54008\n",
            "\n",
            "Epoch 00015: val_loss did not improve from 0.54008\n",
            "\n",
            "Epoch 00016: val_loss did not improve from 0.54008\n",
            "\n",
            "Epoch 00017: val_loss did not improve from 0.54008\n",
            "\n",
            "Epoch 00018: val_loss did not improve from 0.54008\n",
            "\n",
            "Epoch 00019: val_loss did not improve from 0.54008\n",
            "\n",
            "Epoch 00020: val_loss did not improve from 0.54008\n",
            "\n",
            "Epoch 00021: val_loss did not improve from 0.54008\n",
            "\n",
            "Epoch 00022: val_loss did not improve from 0.54008\n",
            "\n",
            "Epoch 00023: val_loss did not improve from 0.54008\n",
            "\n",
            "Epoch 00024: val_loss did not improve from 0.54008\n",
            "\n",
            "Epoch 00025: val_loss did not improve from 0.54008\n",
            "\n",
            "Epoch 00026: val_loss did not improve from 0.54008\n",
            "\n",
            "Epoch 00027: val_loss did not improve from 0.54008\n",
            "\n",
            "Epoch 00028: val_loss did not improve from 0.54008\n",
            "\n",
            "Epoch 00029: val_loss did not improve from 0.54008\n",
            "\n",
            "Epoch 00030: val_loss did not improve from 0.54008\n",
            "\n",
            "Epoch 00031: val_loss did not improve from 0.54008\n",
            "\n",
            "Epoch 00032: val_loss did not improve from 0.54008\n",
            "\n",
            "Epoch 00033: val_loss did not improve from 0.54008\n",
            "\n",
            "Epoch 00034: val_loss did not improve from 0.54008\n",
            "\n",
            "Epoch 00035: val_loss did not improve from 0.54008\n",
            "\n",
            "Epoch 00036: val_loss did not improve from 0.54008\n",
            "\n",
            "Epoch 00037: val_loss did not improve from 0.54008\n",
            "\n",
            "Epoch 00038: val_loss did not improve from 0.54008\n",
            "\n",
            "Epoch 00039: val_loss did not improve from 0.54008\n",
            "\n",
            "Epoch 00040: val_loss did not improve from 0.54008\n",
            "\n",
            "Epoch 00041: val_loss did not improve from 0.54008\n",
            "\n",
            "Epoch 00042: val_loss did not improve from 0.54008\n",
            "\n",
            "Epoch 00043: val_loss did not improve from 0.54008\n",
            "\n",
            "Epoch 00044: val_loss did not improve from 0.54008\n",
            "\n",
            "Epoch 00045: val_loss did not improve from 0.54008\n",
            "\n",
            "Epoch 00046: val_loss did not improve from 0.54008\n",
            "\n",
            "Epoch 00047: val_loss did not improve from 0.54008\n",
            "\n",
            "Epoch 00048: val_loss did not improve from 0.54008\n",
            "\n",
            "Epoch 00049: val_loss did not improve from 0.54008\n",
            "\n",
            "Epoch 00050: val_loss did not improve from 0.54008\n",
            "\n",
            "Epoch 00001: val_loss did not improve from 0.54008\n",
            "\n",
            "Epoch 00002: val_loss did not improve from 0.54008\n",
            "\n",
            "Epoch 00003: val_loss did not improve from 0.54008\n",
            "\n",
            "Epoch 00004: val_loss did not improve from 0.54008\n",
            "\n",
            "Epoch 00005: val_loss did not improve from 0.54008\n",
            "\n",
            "Epoch 00006: val_loss did not improve from 0.54008\n",
            "\n",
            "Epoch 00007: val_loss did not improve from 0.54008\n",
            "\n",
            "Epoch 00008: val_loss did not improve from 0.54008\n",
            "\n",
            "Epoch 00009: val_loss did not improve from 0.54008\n",
            "\n",
            "Epoch 00010: val_loss did not improve from 0.54008\n",
            "\n",
            "Epoch 00011: val_loss did not improve from 0.54008\n",
            "\n",
            "Epoch 00012: val_loss did not improve from 0.54008\n",
            "\n",
            "Epoch 00013: val_loss did not improve from 0.54008\n",
            "\n",
            "Epoch 00014: val_loss did not improve from 0.54008\n",
            "\n",
            "Epoch 00015: val_loss did not improve from 0.54008\n",
            "\n",
            "Epoch 00016: val_loss did not improve from 0.54008\n",
            "\n",
            "Epoch 00017: val_loss did not improve from 0.54008\n",
            "\n",
            "Epoch 00018: val_loss did not improve from 0.54008\n",
            "\n",
            "Epoch 00019: val_loss did not improve from 0.54008\n",
            "\n",
            "Epoch 00020: val_loss did not improve from 0.54008\n",
            "\n",
            "Epoch 00021: val_loss did not improve from 0.54008\n",
            "\n",
            "Epoch 00022: val_loss did not improve from 0.54008\n",
            "\n",
            "Epoch 00023: val_loss did not improve from 0.54008\n",
            "\n",
            "Epoch 00024: val_loss did not improve from 0.54008\n",
            "\n",
            "Epoch 00025: val_loss did not improve from 0.54008\n",
            "\n",
            "Epoch 00026: val_loss did not improve from 0.54008\n",
            "\n",
            "Epoch 00027: val_loss did not improve from 0.54008\n",
            "\n",
            "Epoch 00028: val_loss did not improve from 0.54008\n",
            "\n",
            "Epoch 00029: val_loss did not improve from 0.54008\n",
            "\n",
            "Epoch 00030: val_loss did not improve from 0.54008\n",
            "\n",
            "Epoch 00031: val_loss did not improve from 0.54008\n",
            "\n",
            "Epoch 00032: val_loss did not improve from 0.54008\n",
            "\n",
            "Epoch 00033: val_loss did not improve from 0.54008\n",
            "\n",
            "Epoch 00034: val_loss did not improve from 0.54008\n",
            "\n",
            "Epoch 00035: val_loss did not improve from 0.54008\n",
            "\n",
            "Epoch 00036: val_loss did not improve from 0.54008\n",
            "\n",
            "Epoch 00037: val_loss improved from 0.54008 to 0.47702, saving model to RegMos.h5\n",
            "\n",
            "Epoch 00038: val_loss did not improve from 0.47702\n",
            "\n",
            "Epoch 00039: val_loss did not improve from 0.47702\n",
            "\n",
            "Epoch 00040: val_loss did not improve from 0.47702\n",
            "\n",
            "Epoch 00041: val_loss did not improve from 0.47702\n",
            "\n",
            "Epoch 00042: val_loss did not improve from 0.47702\n",
            "\n",
            "Epoch 00043: val_loss did not improve from 0.47702\n",
            "\n",
            "Epoch 00044: val_loss did not improve from 0.47702\n",
            "\n",
            "Epoch 00045: val_loss did not improve from 0.47702\n",
            "\n",
            "Epoch 00046: val_loss did not improve from 0.47702\n",
            "\n",
            "Epoch 00047: val_loss did not improve from 0.47702\n",
            "\n",
            "Epoch 00048: val_loss did not improve from 0.47702\n",
            "\n",
            "Epoch 00049: val_loss did not improve from 0.47702\n",
            "\n",
            "Epoch 00050: val_loss did not improve from 0.47702\n",
            "\n",
            "Epoch 00001: val_loss did not improve from 0.47702\n",
            "\n",
            "Epoch 00002: val_loss did not improve from 0.47702\n",
            "\n",
            "Epoch 00003: val_loss did not improve from 0.47702\n",
            "\n",
            "Epoch 00004: val_loss did not improve from 0.47702\n",
            "\n",
            "Epoch 00005: val_loss did not improve from 0.47702\n",
            "\n",
            "Epoch 00006: val_loss did not improve from 0.47702\n",
            "\n",
            "Epoch 00007: val_loss did not improve from 0.47702\n",
            "\n",
            "Epoch 00008: val_loss did not improve from 0.47702\n",
            "\n",
            "Epoch 00009: val_loss did not improve from 0.47702\n",
            "\n",
            "Epoch 00010: val_loss did not improve from 0.47702\n",
            "\n",
            "Epoch 00011: val_loss did not improve from 0.47702\n",
            "\n",
            "Epoch 00012: val_loss did not improve from 0.47702\n",
            "\n",
            "Epoch 00013: val_loss did not improve from 0.47702\n",
            "\n",
            "Epoch 00014: val_loss did not improve from 0.47702\n",
            "\n",
            "Epoch 00015: val_loss did not improve from 0.47702\n",
            "\n",
            "Epoch 00016: val_loss did not improve from 0.47702\n",
            "\n",
            "Epoch 00017: val_loss did not improve from 0.47702\n",
            "\n",
            "Epoch 00018: val_loss did not improve from 0.47702\n",
            "\n",
            "Epoch 00019: val_loss did not improve from 0.47702\n",
            "\n",
            "Epoch 00020: val_loss did not improve from 0.47702\n",
            "\n",
            "Epoch 00021: val_loss did not improve from 0.47702\n",
            "\n",
            "Epoch 00022: val_loss did not improve from 0.47702\n",
            "\n",
            "Epoch 00023: val_loss did not improve from 0.47702\n",
            "\n",
            "Epoch 00024: val_loss did not improve from 0.47702\n",
            "\n",
            "Epoch 00025: val_loss did not improve from 0.47702\n",
            "\n",
            "Epoch 00026: val_loss did not improve from 0.47702\n",
            "\n",
            "Epoch 00027: val_loss did not improve from 0.47702\n",
            "\n",
            "Epoch 00028: val_loss did not improve from 0.47702\n",
            "\n",
            "Epoch 00029: val_loss did not improve from 0.47702\n",
            "\n",
            "Epoch 00030: val_loss did not improve from 0.47702\n",
            "\n",
            "Epoch 00031: val_loss did not improve from 0.47702\n",
            "\n",
            "Epoch 00032: val_loss did not improve from 0.47702\n",
            "\n",
            "Epoch 00033: val_loss did not improve from 0.47702\n",
            "\n",
            "Epoch 00034: val_loss did not improve from 0.47702\n",
            "\n",
            "Epoch 00035: val_loss did not improve from 0.47702\n",
            "\n",
            "Epoch 00036: val_loss did not improve from 0.47702\n",
            "\n",
            "Epoch 00037: val_loss did not improve from 0.47702\n",
            "\n",
            "Epoch 00038: val_loss did not improve from 0.47702\n",
            "\n",
            "Epoch 00039: val_loss did not improve from 0.47702\n",
            "\n",
            "Epoch 00040: val_loss did not improve from 0.47702\n",
            "\n",
            "Epoch 00041: val_loss did not improve from 0.47702\n",
            "\n",
            "Epoch 00042: val_loss did not improve from 0.47702\n",
            "\n",
            "Epoch 00043: val_loss did not improve from 0.47702\n",
            "\n",
            "Epoch 00044: val_loss did not improve from 0.47702\n",
            "\n",
            "Epoch 00045: val_loss did not improve from 0.47702\n",
            "\n",
            "Epoch 00046: val_loss did not improve from 0.47702\n",
            "\n",
            "Epoch 00047: val_loss did not improve from 0.47702\n",
            "\n",
            "Epoch 00048: val_loss did not improve from 0.47702\n",
            "\n",
            "Epoch 00049: val_loss did not improve from 0.47702\n",
            "\n",
            "Epoch 00050: val_loss did not improve from 0.47702\n",
            "Total Time: 2102.5675140000003 \n"
          ],
          "name": "stdout"
        }
      ]
    },
    {
      "cell_type": "code",
      "metadata": {
        "id": "iFy3nuwyKHQB",
        "colab_type": "code",
        "colab": {}
      },
      "source": [
        "colorsList = ['b','g','r','m','y','c','k','w']\n",
        "def lossTrainPlot(model_history):\n",
        "  plt.title('Loss vs Epochs')\n",
        "  for x in range(len(model_history)):\n",
        "    plt.plot(model_history[x].history['loss'], label=('Training Fold ', x+1), color=colorsList[x])\n",
        "  plt.legend()\n",
        "  plt.ylim(0,60)\n",
        "  plt.show()\n",
        "  return"
      ],
      "execution_count": 0,
      "outputs": []
    },
    {
      "cell_type": "code",
      "metadata": {
        "id": "YJE5stUDmFrM",
        "colab_type": "code",
        "colab": {}
      },
      "source": [
        "def lossValPlot(model_history):\n",
        "  plt.title('Loss vs Epochs')\n",
        "  for x in range(len(model_history)):\n",
        "    plt.plot(model_history[x].history['val_loss'], label=('Val Fold ', x+1), color=colorsList[x])\n",
        "  plt.legend()\n",
        "  plt.ylim(0,60)\n",
        "  plt.show()\n",
        "  return"
      ],
      "execution_count": 0,
      "outputs": []
    },
    {
      "cell_type": "code",
      "metadata": {
        "id": "cIFpse-aKQHg",
        "colab_type": "code",
        "colab": {}
      },
      "source": [
        "def lossTrainValPlot(model_history):\n",
        "  plt.title('Train Loss vs Val Loss')\n",
        "  for x in range(len(model_history)): \n",
        "    plt.plot(model_history[x].history['val_loss'], label=('Val Fold', x+1), color=colorsList[x])\n",
        "    plt.plot(model_history[x].history['loss'], label=('Training Fold ', x+1), color=colorsList[x], linestyle = \"dashdot\")\n",
        "  plt.legend(ncol=2)\n",
        "  plt.ylim(0,60)\n",
        "  plt.show()\n",
        "  return"
      ],
      "execution_count": 0,
      "outputs": []
    },
    {
      "cell_type": "code",
      "metadata": {
        "id": "n18aK4SnPiZq",
        "colab_type": "code",
        "outputId": "82ab6ab5-d228-46ce-bd0f-14a184760195",
        "colab": {
          "base_uri": "https://localhost:8080/",
          "height": 807
        }
      },
      "source": [
        "lossTrainPlot(model_history)\n",
        "lossValPlot(model_history)\n",
        "lossTrainValPlot(model_history)"
      ],
      "execution_count": 50,
      "outputs": [
        {
          "output_type": "display_data",
          "data": {
            "image/png": "[encoded data removed]",
            "text/plain": [
              "<Figure size 432x288 with 1 Axes>"
            ]
          },
          "metadata": {
            "tags": []
          }
        },
        {
          "output_type": "display_data",
          "data": {
            "image/png": "[encoded data removed]",
            "text/plain": [
              "<Figure size 432x288 with 1 Axes>"
            ]
          },
          "metadata": {
            "tags": []
          }
        },
        {
          "output_type": "display_data",
          "data": {
            "image/png": "[encoded data removed]",
            "text/plain": [
              "<Figure size 432x288 with 1 Axes>"
            ]
          },
          "metadata": {
            "tags": []
          }
        }
      ]
    },
    {
      "cell_type": "code",
      "metadata": {
        "id": "FGn8u3fTpXBv",
        "colab_type": "code",
        "colab": {}
      },
      "source": [
        "def evaluateModel(trainX,trainY,testX,testY,model,fileImage):\n",
        "\n",
        "  #save model2 plot as png and display summary\n",
        "  plot_model(model, show_shapes = 1, to_file=fileImage)\n",
        "  model.summary()\n",
        "\n",
        "  #evaluation of the model with test data \n",
        "  print(all_scores)\n",
        "  print(np.mean(all_scores))\n",
        "\n",
        "  test_lossDense = model.evaluate(testX, testY)\n",
        "  preds = model.predict(testX)\n",
        "\n",
        "  diff = preds.flatten() - testY\n",
        "  percentDiff = (diff / testY) * 100\n",
        "  absPercentDiff = np.abs(percentDiff)\n",
        "\n",
        "  mean = np.mean(absPercentDiff)\n",
        "  std = np.std(absPercentDiff)\n",
        "\n",
        "  fig, ax = plt.subplots()\n",
        "  ax.scatter(testY, preds)\n",
        "  ax.plot([testY.min(), testY.max()], [testY.min(), testY.max()], 'k--', lw=4)\n",
        "  ax.set_xlabel('Measured')\n",
        "  ax.set_ylabel('Predicted')\n",
        "  plt.show()\n",
        "\n",
        "  print(\"[INFO] avg. mosquito traped: {}, std mosquito trapped: {}\".format((result['TOTAL'].mean()),(result['TOTAL'].std())))\n",
        "  print(\"[INFO] mean: {:.2f}%, std: {:.2f}%\".format(mean, std))\n",
        "  return"
      ],
      "execution_count": 0,
      "outputs": []
    },
    {
      "cell_type": "code",
      "metadata": {
        "id": "yh0WHxpgTwSj",
        "colab_type": "code",
        "outputId": "ece364c5-bbb4-4272-d0e9-95ea4cfe14ef",
        "colab": {
          "base_uri": "https://localhost:8080/",
          "height": 175
        }
      },
      "source": [
        "fileImage ='DenseModel.png'\n",
        "evaluateModel(testX,testY,testX,testY,model,fileImage)"
      ],
      "execution_count": 52,
      "outputs": [
        {
          "output_type": "error",
          "ename": "NameError",
          "evalue": "ignored",
          "traceback": [
            "\u001b[0;31m---------------------------------------------------------------------------\u001b[0m",
            "\u001b[0;31mNameError\u001b[0m                                 Traceback (most recent call last)",
            "\u001b[0;32m<ipython-input-52-3b2f9ef03a8c>\u001b[0m in \u001b[0;36m<module>\u001b[0;34m()\u001b[0m\n\u001b[1;32m      1\u001b[0m \u001b[0mfileImage\u001b[0m \u001b[0;34m=\u001b[0m\u001b[0;34m'DenseModel.png'\u001b[0m\u001b[0;34m\u001b[0m\u001b[0;34m\u001b[0m\u001b[0m\n\u001b[0;32m----> 2\u001b[0;31m \u001b[0mevaluateModel\u001b[0m\u001b[0;34m(\u001b[0m\u001b[0mtestX\u001b[0m\u001b[0;34m,\u001b[0m\u001b[0mtestY\u001b[0m\u001b[0;34m,\u001b[0m\u001b[0mtestX\u001b[0m\u001b[0;34m,\u001b[0m\u001b[0mtestY\u001b[0m\u001b[0;34m,\u001b[0m\u001b[0mmodel\u001b[0m\u001b[0;34m,\u001b[0m\u001b[0mfileImage\u001b[0m\u001b[0;34m)\u001b[0m\u001b[0;34m\u001b[0m\u001b[0;34m\u001b[0m\u001b[0m\n\u001b[0m",
            "\u001b[0;31mNameError\u001b[0m: name 'testX' is not defined"
          ]
        }
      ]
    },
    {
      "cell_type": "code",
      "metadata": {
        "id": "9aBlyO3JQDjH",
        "colab_type": "code",
        "colab": {}
      },
      "source": [
        "def WeightsLayers(model):\n",
        "  for layer in model.layers:\n",
        "      weights = layer.get_weights()\n",
        "  print(weights)\n",
        "  return"
      ],
      "execution_count": 0,
      "outputs": []
    },
    {
      "cell_type": "code",
      "metadata": {
        "id": "tlusHNm7QlBw",
        "colab_type": "code",
        "outputId": "782794c0-ac26-4343-b506-0fa4289640d1",
        "colab": {
          "base_uri": "https://localhost:8080/",
          "height": 82
        }
      },
      "source": [
        "WeightsLayers(model)"
      ],
      "execution_count": 0,
      "outputs": [
        {
          "output_type": "stream",
          "text": [
            "[array([[ 0.13476346],\n",
            "       [ 0.75449026],\n",
            "       [-0.9079459 ],\n",
            "       [-0.61366546]], dtype=float32), array([0.00371771], dtype=float32)]\n"
          ],
          "name": "stdout"
        }
      ]
    },
    {
      "cell_type": "code",
      "metadata": {
        "id": "xlD3ERbzRFNB",
        "colab_type": "code",
        "colab": {}
      },
      "source": [
        "def loadBestModel(modelName):\n",
        "\n",
        "  model = load_model(modelName)\n",
        "  model.load_weights(modelName)\n",
        "  print(\"Loaded model from disk\")\n",
        "\n",
        "  # evaluate loaded model on test data \n",
        "  # Define X_test & Y_test data first\n",
        "  model.compile(loss='mean_absolute_percentage_error', optimizer='adam', metrics=['mape'])\n",
        "  score = model.evaluate(testX, testY, verbose=0)\n",
        "  print (\"%s: %.2f%%\" % (model.metrics_names[1], score[1]))\n",
        "  preds = model.predict(testX)\n",
        "\n",
        "  fig, ax = plt.subplots()\n",
        "  ax.scatter(testY, preds)\n",
        "  ax.plot([testY.min(), testY.max()], [testY.min(), testY.max()], 'k--', lw=4)\n",
        "  ax.set_xlabel('Measured')\n",
        "  ax.set_ylabel('Predicted')\n",
        "  plt.show()\n",
        "  return"
      ],
      "execution_count": 0,
      "outputs": []
    },
    {
      "cell_type": "code",
      "metadata": {
        "id": "-AVYvhmITcu3",
        "colab_type": "code",
        "outputId": "da12a77a-4d35-41ee-9709-45db85350e8a",
        "colab": {
          "base_uri": "https://localhost:8080/",
          "height": 315
        }
      },
      "source": [
        "modelName = 'RegMos.h5'\n",
        "loadBestModel(modelName)"
      ],
      "execution_count": 0,
      "outputs": [
        {
          "output_type": "stream",
          "text": [
            "Loaded model from disk\n",
            "mean_absolute_percentage_error: 48.70%\n"
          ],
          "name": "stdout"
        },
        {
          "output_type": "display_data",
          "data": {
            "image/png": "[encoded data removed]",
            "text/plain": [
              "<Figure size 432x288 with 1 Axes>"
            ]
          },
          "metadata": {
            "tags": []
          }
        }
      ]
    },
    {
      "cell_type": "markdown",
      "metadata": {
        "id": "N8CxfxrgSKOR",
        "colab_type": "text"
      },
      "source": [
        "## CNN with Images"
      ]
    },
    {
      "cell_type": "code",
      "metadata": {
        "id": "Vvgz1n9_oozv",
        "colab_type": "code",
        "colab": {}
      },
      "source": [
        "model_checkpoint2 = ModelCheckpoint('RegMos2.h5', verbose=1, save_best_only=True)\n",
        "def create_cnn(width, height, depth, filters=(16,32,64),regress=False):\n",
        "  \n",
        "  inputShape = (height, width, depth)\n",
        "  chanDim = -1\n",
        "  \n",
        "  inputs = Input(shape=inputShape)\n",
        "  \n",
        "  for (i,f) in enumerate(filters):\n",
        "    if i == 0:\n",
        "      x = inputs\n",
        "      \n",
        "    x = Conv2D(f, (3,3), padding='same', kernel_regularizer='l2')(x)\n",
        "    x = Activation ('relu')(x)\n",
        "    x = BatchNormalization(axis=chanDim)(x)\n",
        "    x = MaxPooling2D(pool_size=(2,2))(x)\n",
        "    \n",
        "  x = Flatten()(x)\n",
        "  x = Dense(16)(x)\n",
        "  x = Activation('relu')(x)\n",
        "  x = BatchNormalization(axis=chanDim)(x)\n",
        "  x = Dropout(0.4)(x)\n",
        "  \n",
        "  x = Dense(4)(x)\n",
        "  x = Activation('relu')(x)\n",
        "  \n",
        "  if regress:\n",
        "    x = Dense(1,activation='linear')(x)\n",
        "    \n",
        "  model = Model(inputs,x)\n",
        "  opt = Adam(lr=1e-3, decay=1e-3 / 200) \n",
        "  model.compile(optimizer=opt, loss=\"mean_absolute_percentage_error\", metrics=['mae'])\n",
        "  \n",
        "  return model"
      ],
      "execution_count": 0,
      "outputs": []
    },
    {
      "cell_type": "code",
      "metadata": {
        "id": "0HC74f42laB2",
        "colab_type": "code",
        "colab": {}
      },
      "source": [
        "def evaluateCNN(X, y, folds=5, num_epochs=50, batch_size=16, verbose=True):\n",
        "  all_scores = []\n",
        "  model_history = [] \n",
        "  start = time.clock()                 \n",
        "\n",
        "  cv = KFold(n_splits=folds, random_state=1, shuffle=True)\n",
        "\n",
        "  train_datagen = ImageDataGenerator(rescale = 1./255, horizontal_flip = True,\n",
        "                                   fill_mode = \"nearest\", zoom_range = 0.2,\n",
        "                                   width_shift_range = 0.2, height_shift_range=0.2,\n",
        "                                   shear_range=0.2, rotation_range=30) \n",
        "\n",
        "  for train_index, test_index in cv.split(X):\n",
        "    X_train, X_test, y_train, y_test = X[train_index], X[test_index], y[train_index], y[test_index]\n",
        "    df = X_train\n",
        "    train_generator = train_datagen.flow_from_dataframe(dataframe=df, directory='/content/drive/My Drive/mosquito/SatManateeAll/', \n",
        "                                              x_col=\"fileName\", y_col=\"TOTAL\",\n",
        "                                              class_mode=\"other\", target_size=(64, 64), \n",
        "                                              batch_size=20)\n",
        "    \n",
        "\n",
        "    model = create_cnn(64, 64, 3, regress=True)\n",
        "    history2 = model2.fit_generator(train_generator,steps_per_epoch=20,epochs=num_epochs)\n",
        "    \n",
        "    model_history.append(history)\n",
        "    val_mape,val_mae = model.evaluate(X_test, y_test, verbose=0)\n",
        "    all_scores.append(val_mape)\n",
        "    \n",
        "  end = time.clock()\n",
        "  timeDense = end-start\n",
        "  #total time of training\n",
        "  print(\"Total Time: {} \".format(timeDense)) \n",
        "  return model, model_history, all_scores"
      ],
      "execution_count": 0,
      "outputs": []
    },
    {
      "cell_type": "code",
      "metadata": {
        "id": "JfNOJAshhfJO",
        "colab_type": "code",
        "colab": {
          "base_uri": "https://localhost:8080/",
          "height": 479
        },
        "outputId": "e7886c4d-b7bb-44fe-edf8-59a999369715"
      },
      "source": [
        "model2, model_history2, all_scores2 = evaluateCNN(trainX,trainY,testX,testY, model2, 50)"
      ],
      "execution_count": 132,
      "outputs": [
        {
          "output_type": "stream",
          "text": [
            "processing fold # 0\n",
            "Epoch 1/50\n",
            "20/20 [==============================] - 20s 1s/step - loss: 96.2777 - mean_absolute_error: 38.9760\n",
            "Epoch 2/50\n",
            "20/20 [==============================] - 20s 986ms/step - loss: 90.7276 - mean_absolute_error: 38.8607\n",
            "Epoch 3/50\n",
            "20/20 [==============================] - 19s 968ms/step - loss: 86.7352 - mean_absolute_error: 40.0649\n",
            "Epoch 4/50\n",
            "20/20 [==============================] - 19s 957ms/step - loss: 83.6106 - mean_absolute_error: 33.8637\n",
            "Epoch 5/50\n",
            "19/20 [===========================>..] - ETA: 0s - loss: 80.7317 - mean_absolute_error: 39.2030"
          ],
          "name": "stdout"
        },
        {
          "output_type": "error",
          "ename": "KeyboardInterrupt",
          "evalue": "ignored",
          "traceback": [
            "\u001b[0;31m---------------------------------------------------------------------------\u001b[0m",
            "\u001b[0;31mKeyboardInterrupt\u001b[0m                         Traceback (most recent call last)",
            "\u001b[0;32m<ipython-input-132-b8769dc41436>\u001b[0m in \u001b[0;36m<module>\u001b[0;34m()\u001b[0m\n\u001b[0;32m----> 1\u001b[0;31m \u001b[0mmodel2\u001b[0m\u001b[0;34m,\u001b[0m \u001b[0mmodel_history2\u001b[0m\u001b[0;34m,\u001b[0m \u001b[0mall_scores2\u001b[0m \u001b[0;34m=\u001b[0m \u001b[0mevaluateCNN\u001b[0m\u001b[0;34m(\u001b[0m\u001b[0mtrainX\u001b[0m\u001b[0;34m,\u001b[0m\u001b[0mtrainY\u001b[0m\u001b[0;34m,\u001b[0m\u001b[0mtestX\u001b[0m\u001b[0;34m,\u001b[0m\u001b[0mtestY\u001b[0m\u001b[0;34m,\u001b[0m \u001b[0mmodel2\u001b[0m\u001b[0;34m,\u001b[0m \u001b[0;36m50\u001b[0m\u001b[0;34m)\u001b[0m\u001b[0;34m\u001b[0m\u001b[0;34m\u001b[0m\u001b[0m\n\u001b[0m",
            "\u001b[0;32m<ipython-input-131-b1a10a2e6569>\u001b[0m in \u001b[0;36mevaluateCNN\u001b[0;34m(trainX, trainY, testX, testY, model, num_epochs)\u001b[0m\n\u001b[1;32m     16\u001b[0m     \u001b[0mtrain_generator\u001b[0m\u001b[0;34m,\u001b[0m\u001b[0;34m\u001b[0m\u001b[0;34m\u001b[0m\u001b[0m\n\u001b[1;32m     17\u001b[0m     \u001b[0msteps_per_epoch\u001b[0m\u001b[0;34m=\u001b[0m\u001b[0;36m20\u001b[0m\u001b[0;34m,\u001b[0m\u001b[0;34m\u001b[0m\u001b[0;34m\u001b[0m\u001b[0m\n\u001b[0;32m---> 18\u001b[0;31m     epochs=num_epochs)\n\u001b[0m\u001b[1;32m     19\u001b[0m     \u001b[0;31m#history2 = model2.fit(partial_train_data, partial_train_targets,validation_data=(val_data, val_targets),epochs=num_epochs,callbacks=[model_checkpoint2, TensorBoardColabCallback(tbc)], batch_size=16, verbose=1)\u001b[0m\u001b[0;34m\u001b[0m\u001b[0;34m\u001b[0m\u001b[0;34m\u001b[0m\u001b[0m\n\u001b[1;32m     20\u001b[0m     \u001b[0mmodel_history2\u001b[0m\u001b[0;34m.\u001b[0m\u001b[0mappend\u001b[0m\u001b[0;34m(\u001b[0m\u001b[0mhistory2\u001b[0m\u001b[0;34m)\u001b[0m\u001b[0;34m\u001b[0m\u001b[0;34m\u001b[0m\u001b[0m\n",
            "\u001b[0;32m/usr/local/lib/python3.6/dist-packages/keras/legacy/interfaces.py\u001b[0m in \u001b[0;36mwrapper\u001b[0;34m(*args, **kwargs)\u001b[0m\n\u001b[1;32m     89\u001b[0m                 warnings.warn('Update your `' + object_name + '` call to the ' +\n\u001b[1;32m     90\u001b[0m                               'Keras 2 API: ' + signature, stacklevel=2)\n\u001b[0;32m---> 91\u001b[0;31m             \u001b[0;32mreturn\u001b[0m \u001b[0mfunc\u001b[0m\u001b[0;34m(\u001b[0m\u001b[0;34m*\u001b[0m\u001b[0margs\u001b[0m\u001b[0;34m,\u001b[0m \u001b[0;34m**\u001b[0m\u001b[0mkwargs\u001b[0m\u001b[0;34m)\u001b[0m\u001b[0;34m\u001b[0m\u001b[0;34m\u001b[0m\u001b[0m\n\u001b[0m\u001b[1;32m     92\u001b[0m         \u001b[0mwrapper\u001b[0m\u001b[0;34m.\u001b[0m\u001b[0m_original_function\u001b[0m \u001b[0;34m=\u001b[0m \u001b[0mfunc\u001b[0m\u001b[0;34m\u001b[0m\u001b[0;34m\u001b[0m\u001b[0m\n\u001b[1;32m     93\u001b[0m         \u001b[0;32mreturn\u001b[0m \u001b[0mwrapper\u001b[0m\u001b[0;34m\u001b[0m\u001b[0;34m\u001b[0m\u001b[0m\n",
            "\u001b[0;32m/usr/local/lib/python3.6/dist-packages/keras/engine/training.py\u001b[0m in \u001b[0;36mfit_generator\u001b[0;34m(self, generator, steps_per_epoch, epochs, verbose, callbacks, validation_data, validation_steps, validation_freq, class_weight, max_queue_size, workers, use_multiprocessing, shuffle, initial_epoch)\u001b[0m\n\u001b[1;32m   1656\u001b[0m             \u001b[0muse_multiprocessing\u001b[0m\u001b[0;34m=\u001b[0m\u001b[0muse_multiprocessing\u001b[0m\u001b[0;34m,\u001b[0m\u001b[0;34m\u001b[0m\u001b[0;34m\u001b[0m\u001b[0m\n\u001b[1;32m   1657\u001b[0m             \u001b[0mshuffle\u001b[0m\u001b[0;34m=\u001b[0m\u001b[0mshuffle\u001b[0m\u001b[0;34m,\u001b[0m\u001b[0;34m\u001b[0m\u001b[0;34m\u001b[0m\u001b[0m\n\u001b[0;32m-> 1658\u001b[0;31m             initial_epoch=initial_epoch)\n\u001b[0m\u001b[1;32m   1659\u001b[0m \u001b[0;34m\u001b[0m\u001b[0m\n\u001b[1;32m   1660\u001b[0m     \u001b[0;34m@\u001b[0m\u001b[0minterfaces\u001b[0m\u001b[0;34m.\u001b[0m\u001b[0mlegacy_generator_methods_support\u001b[0m\u001b[0;34m\u001b[0m\u001b[0;34m\u001b[0m\u001b[0m\n",
            "\u001b[0;32m/usr/local/lib/python3.6/dist-packages/keras/engine/training_generator.py\u001b[0m in \u001b[0;36mfit_generator\u001b[0;34m(model, generator, steps_per_epoch, epochs, verbose, callbacks, validation_data, validation_steps, validation_freq, class_weight, max_queue_size, workers, use_multiprocessing, shuffle, initial_epoch)\u001b[0m\n\u001b[1;32m    179\u001b[0m             \u001b[0mbatch_index\u001b[0m \u001b[0;34m=\u001b[0m \u001b[0;36m0\u001b[0m\u001b[0;34m\u001b[0m\u001b[0;34m\u001b[0m\u001b[0m\n\u001b[1;32m    180\u001b[0m             \u001b[0;32mwhile\u001b[0m \u001b[0msteps_done\u001b[0m \u001b[0;34m<\u001b[0m \u001b[0msteps_per_epoch\u001b[0m\u001b[0;34m:\u001b[0m\u001b[0;34m\u001b[0m\u001b[0;34m\u001b[0m\u001b[0m\n\u001b[0;32m--> 181\u001b[0;31m                 \u001b[0mgenerator_output\u001b[0m \u001b[0;34m=\u001b[0m \u001b[0mnext\u001b[0m\u001b[0;34m(\u001b[0m\u001b[0moutput_generator\u001b[0m\u001b[0;34m)\u001b[0m\u001b[0;34m\u001b[0m\u001b[0;34m\u001b[0m\u001b[0m\n\u001b[0m\u001b[1;32m    182\u001b[0m \u001b[0;34m\u001b[0m\u001b[0m\n\u001b[1;32m    183\u001b[0m                 \u001b[0;32mif\u001b[0m \u001b[0;32mnot\u001b[0m \u001b[0mhasattr\u001b[0m\u001b[0;34m(\u001b[0m\u001b[0mgenerator_output\u001b[0m\u001b[0;34m,\u001b[0m \u001b[0;34m'__len__'\u001b[0m\u001b[0;34m)\u001b[0m\u001b[0;34m:\u001b[0m\u001b[0;34m\u001b[0m\u001b[0;34m\u001b[0m\u001b[0m\n",
            "\u001b[0;32m/usr/local/lib/python3.6/dist-packages/keras/utils/data_utils.py\u001b[0m in \u001b[0;36mget\u001b[0;34m(self)\u001b[0m\n\u001b[1;32m    601\u001b[0m                 \u001b[0;32mtry\u001b[0m\u001b[0;34m:\u001b[0m\u001b[0;34m\u001b[0m\u001b[0;34m\u001b[0m\u001b[0m\n\u001b[1;32m    602\u001b[0m                     \u001b[0mfuture\u001b[0m \u001b[0;34m=\u001b[0m \u001b[0mself\u001b[0m\u001b[0;34m.\u001b[0m\u001b[0mqueue\u001b[0m\u001b[0;34m.\u001b[0m\u001b[0mget\u001b[0m\u001b[0;34m(\u001b[0m\u001b[0mblock\u001b[0m\u001b[0;34m=\u001b[0m\u001b[0;32mTrue\u001b[0m\u001b[0;34m)\u001b[0m\u001b[0;34m\u001b[0m\u001b[0;34m\u001b[0m\u001b[0m\n\u001b[0;32m--> 603\u001b[0;31m                     \u001b[0minputs\u001b[0m \u001b[0;34m=\u001b[0m \u001b[0mfuture\u001b[0m\u001b[0;34m.\u001b[0m\u001b[0mget\u001b[0m\u001b[0;34m(\u001b[0m\u001b[0mtimeout\u001b[0m\u001b[0;34m=\u001b[0m\u001b[0;36m30\u001b[0m\u001b[0;34m)\u001b[0m\u001b[0;34m\u001b[0m\u001b[0;34m\u001b[0m\u001b[0m\n\u001b[0m\u001b[1;32m    604\u001b[0m                     \u001b[0mself\u001b[0m\u001b[0;34m.\u001b[0m\u001b[0mqueue\u001b[0m\u001b[0;34m.\u001b[0m\u001b[0mtask_done\u001b[0m\u001b[0;34m(\u001b[0m\u001b[0;34m)\u001b[0m\u001b[0;34m\u001b[0m\u001b[0;34m\u001b[0m\u001b[0m\n\u001b[1;32m    605\u001b[0m                 \u001b[0;32mexcept\u001b[0m \u001b[0mmp\u001b[0m\u001b[0;34m.\u001b[0m\u001b[0mTimeoutError\u001b[0m\u001b[0;34m:\u001b[0m\u001b[0;34m\u001b[0m\u001b[0;34m\u001b[0m\u001b[0m\n",
            "\u001b[0;32m/usr/lib/python3.6/multiprocessing/pool.py\u001b[0m in \u001b[0;36mget\u001b[0;34m(self, timeout)\u001b[0m\n\u001b[1;32m    636\u001b[0m \u001b[0;34m\u001b[0m\u001b[0m\n\u001b[1;32m    637\u001b[0m     \u001b[0;32mdef\u001b[0m \u001b[0mget\u001b[0m\u001b[0;34m(\u001b[0m\u001b[0mself\u001b[0m\u001b[0;34m,\u001b[0m \u001b[0mtimeout\u001b[0m\u001b[0;34m=\u001b[0m\u001b[0;32mNone\u001b[0m\u001b[0;34m)\u001b[0m\u001b[0;34m:\u001b[0m\u001b[0;34m\u001b[0m\u001b[0;34m\u001b[0m\u001b[0m\n\u001b[0;32m--> 638\u001b[0;31m         \u001b[0mself\u001b[0m\u001b[0;34m.\u001b[0m\u001b[0mwait\u001b[0m\u001b[0;34m(\u001b[0m\u001b[0mtimeout\u001b[0m\u001b[0;34m)\u001b[0m\u001b[0;34m\u001b[0m\u001b[0;34m\u001b[0m\u001b[0m\n\u001b[0m\u001b[1;32m    639\u001b[0m         \u001b[0;32mif\u001b[0m \u001b[0;32mnot\u001b[0m \u001b[0mself\u001b[0m\u001b[0;34m.\u001b[0m\u001b[0mready\u001b[0m\u001b[0;34m(\u001b[0m\u001b[0;34m)\u001b[0m\u001b[0;34m:\u001b[0m\u001b[0;34m\u001b[0m\u001b[0;34m\u001b[0m\u001b[0m\n\u001b[1;32m    640\u001b[0m             \u001b[0;32mraise\u001b[0m \u001b[0mTimeoutError\u001b[0m\u001b[0;34m\u001b[0m\u001b[0;34m\u001b[0m\u001b[0m\n",
            "\u001b[0;32m/usr/lib/python3.6/multiprocessing/pool.py\u001b[0m in \u001b[0;36mwait\u001b[0;34m(self, timeout)\u001b[0m\n\u001b[1;32m    633\u001b[0m \u001b[0;34m\u001b[0m\u001b[0m\n\u001b[1;32m    634\u001b[0m     \u001b[0;32mdef\u001b[0m \u001b[0mwait\u001b[0m\u001b[0;34m(\u001b[0m\u001b[0mself\u001b[0m\u001b[0;34m,\u001b[0m \u001b[0mtimeout\u001b[0m\u001b[0;34m=\u001b[0m\u001b[0;32mNone\u001b[0m\u001b[0;34m)\u001b[0m\u001b[0;34m:\u001b[0m\u001b[0;34m\u001b[0m\u001b[0;34m\u001b[0m\u001b[0m\n\u001b[0;32m--> 635\u001b[0;31m         \u001b[0mself\u001b[0m\u001b[0;34m.\u001b[0m\u001b[0m_event\u001b[0m\u001b[0;34m.\u001b[0m\u001b[0mwait\u001b[0m\u001b[0;34m(\u001b[0m\u001b[0mtimeout\u001b[0m\u001b[0;34m)\u001b[0m\u001b[0;34m\u001b[0m\u001b[0;34m\u001b[0m\u001b[0m\n\u001b[0m\u001b[1;32m    636\u001b[0m \u001b[0;34m\u001b[0m\u001b[0m\n\u001b[1;32m    637\u001b[0m     \u001b[0;32mdef\u001b[0m \u001b[0mget\u001b[0m\u001b[0;34m(\u001b[0m\u001b[0mself\u001b[0m\u001b[0;34m,\u001b[0m \u001b[0mtimeout\u001b[0m\u001b[0;34m=\u001b[0m\u001b[0;32mNone\u001b[0m\u001b[0;34m)\u001b[0m\u001b[0;34m:\u001b[0m\u001b[0;34m\u001b[0m\u001b[0;34m\u001b[0m\u001b[0m\n",
            "\u001b[0;32m/usr/lib/python3.6/threading.py\u001b[0m in \u001b[0;36mwait\u001b[0;34m(self, timeout)\u001b[0m\n\u001b[1;32m    549\u001b[0m             \u001b[0msignaled\u001b[0m \u001b[0;34m=\u001b[0m \u001b[0mself\u001b[0m\u001b[0;34m.\u001b[0m\u001b[0m_flag\u001b[0m\u001b[0;34m\u001b[0m\u001b[0;34m\u001b[0m\u001b[0m\n\u001b[1;32m    550\u001b[0m             \u001b[0;32mif\u001b[0m \u001b[0;32mnot\u001b[0m \u001b[0msignaled\u001b[0m\u001b[0;34m:\u001b[0m\u001b[0;34m\u001b[0m\u001b[0;34m\u001b[0m\u001b[0m\n\u001b[0;32m--> 551\u001b[0;31m                 \u001b[0msignaled\u001b[0m \u001b[0;34m=\u001b[0m \u001b[0mself\u001b[0m\u001b[0;34m.\u001b[0m\u001b[0m_cond\u001b[0m\u001b[0;34m.\u001b[0m\u001b[0mwait\u001b[0m\u001b[0;34m(\u001b[0m\u001b[0mtimeout\u001b[0m\u001b[0;34m)\u001b[0m\u001b[0;34m\u001b[0m\u001b[0;34m\u001b[0m\u001b[0m\n\u001b[0m\u001b[1;32m    552\u001b[0m             \u001b[0;32mreturn\u001b[0m \u001b[0msignaled\u001b[0m\u001b[0;34m\u001b[0m\u001b[0;34m\u001b[0m\u001b[0m\n\u001b[1;32m    553\u001b[0m \u001b[0;34m\u001b[0m\u001b[0m\n",
            "\u001b[0;32m/usr/lib/python3.6/threading.py\u001b[0m in \u001b[0;36mwait\u001b[0;34m(self, timeout)\u001b[0m\n\u001b[1;32m    297\u001b[0m             \u001b[0;32melse\u001b[0m\u001b[0;34m:\u001b[0m\u001b[0;34m\u001b[0m\u001b[0;34m\u001b[0m\u001b[0m\n\u001b[1;32m    298\u001b[0m                 \u001b[0;32mif\u001b[0m \u001b[0mtimeout\u001b[0m \u001b[0;34m>\u001b[0m \u001b[0;36m0\u001b[0m\u001b[0;34m:\u001b[0m\u001b[0;34m\u001b[0m\u001b[0;34m\u001b[0m\u001b[0m\n\u001b[0;32m--> 299\u001b[0;31m                     \u001b[0mgotit\u001b[0m \u001b[0;34m=\u001b[0m \u001b[0mwaiter\u001b[0m\u001b[0;34m.\u001b[0m\u001b[0macquire\u001b[0m\u001b[0;34m(\u001b[0m\u001b[0;32mTrue\u001b[0m\u001b[0;34m,\u001b[0m \u001b[0mtimeout\u001b[0m\u001b[0;34m)\u001b[0m\u001b[0;34m\u001b[0m\u001b[0;34m\u001b[0m\u001b[0m\n\u001b[0m\u001b[1;32m    300\u001b[0m                 \u001b[0;32melse\u001b[0m\u001b[0;34m:\u001b[0m\u001b[0;34m\u001b[0m\u001b[0;34m\u001b[0m\u001b[0m\n\u001b[1;32m    301\u001b[0m                     \u001b[0mgotit\u001b[0m \u001b[0;34m=\u001b[0m \u001b[0mwaiter\u001b[0m\u001b[0;34m.\u001b[0m\u001b[0macquire\u001b[0m\u001b[0;34m(\u001b[0m\u001b[0;32mFalse\u001b[0m\u001b[0;34m)\u001b[0m\u001b[0;34m\u001b[0m\u001b[0;34m\u001b[0m\u001b[0m\n",
            "\u001b[0;31mKeyboardInterrupt\u001b[0m: "
          ]
        }
      ]
    },
    {
      "cell_type": "code",
      "metadata": {
        "id": "CWUime0BZNey",
        "colab_type": "code",
        "colab": {
          "base_uri": "https://localhost:8080/",
          "height": 628
        },
        "outputId": "4bf58cde-a63c-461c-c3ee-dd44d086ed25"
      },
      "source": [
        "fileImage ='CNNModel.png'\n",
        "evaluateModel(trainX,trainY,testX,testY,model,fileImage)"
      ],
      "execution_count": 109,
      "outputs": [
        {
          "output_type": "stream",
          "text": [
            "Model: \"sequential_10\"\n",
            "_________________________________________________________________\n",
            "Layer (type)                 Output Shape              Param #   \n",
            "=================================================================\n",
            "dense_43 (Dense)             (None, 16)                480       \n",
            "_________________________________________________________________\n",
            "dense_44 (Dense)             (None, 8)                 136       \n",
            "_________________________________________________________________\n",
            "dense_45 (Dense)             (None, 4)                 36        \n",
            "_________________________________________________________________\n",
            "dense_46 (Dense)             (None, 1)                 5         \n",
            "=================================================================\n",
            "Total params: 657\n",
            "Trainable params: 657\n",
            "Non-trainable params: 0\n",
            "_________________________________________________________________\n",
            "[68.9483048837246, 1.6752924425191404, 0.8234250842366855, 1.1038821745993521, 0.9218084684180091]\n",
            "14.694542610699557\n",
            "9007/9007 [==============================] - 0s 35us/step\n"
          ],
          "name": "stdout"
        },
        {
          "output_type": "display_data",
          "data": {
            "image/png": "[encoded data removed]",
            "text/plain": [
              "<Figure size 432x288 with 1 Axes>"
            ]
          },
          "metadata": {
            "tags": []
          }
        },
        {
          "output_type": "stream",
          "text": [
            "[INFO] avg. mosquito traped: 37.489165977936686, std mosquito trapped: 48.58960845404813\n",
            "[INFO] mean: 0.92%, std: 1.12%\n"
          ],
          "name": "stdout"
        }
      ]
    },
    {
      "cell_type": "code",
      "metadata": {
        "colab_type": "code",
        "outputId": "021b385a-b60f-4286-ed34-7d62974e5c4a",
        "id": "h9fMGS4ZY0hz",
        "colab": {
          "base_uri": "https://localhost:8080/",
          "height": 807
        }
      },
      "source": [
        "lossTrainPlot(model_history)\n",
        "lossValPlot(model_history)\n",
        "lossTrainValPlot(model_history)"
      ],
      "execution_count": 110,
      "outputs": [
        {
          "output_type": "display_data",
          "data": {
            "image/png": "[encoded data removed]",
            "text/plain": [
              "<Figure size 432x288 with 1 Axes>"
            ]
          },
          "metadata": {
            "tags": []
          }
        },
        {
          "output_type": "display_data",
          "data": {
            "image/png": "[encoded data removed]",
            "text/plain": [
              "<Figure size 432x288 with 1 Axes>"
            ]
          },
          "metadata": {
            "tags": []
          }
        },
        {
          "output_type": "display_data",
          "data": {
            "image/png": "[encoded data removed]",
            "text/plain": [
              "<Figure size 432x288 with 1 Axes>"
            ]
          },
          "metadata": {
            "tags": []
          }
        }
      ]
    },
    {
      "cell_type": "code",
      "metadata": {
        "id": "Ryx9KvnsaSa1",
        "colab_type": "code",
        "colab": {}
      },
      "source": [
        "WeightsLayers(model2)"
      ],
      "execution_count": 0,
      "outputs": []
    },
    {
      "cell_type": "markdown",
      "metadata": {
        "colab_type": "text",
        "id": "ulDg6tAjm25k"
      },
      "source": [
        "### Transfer Learning ResNet"
      ]
    },
    {
      "cell_type": "code",
      "metadata": {
        "colab_type": "code",
        "id": "_ls1WfO5m25l",
        "colab": {}
      },
      "source": [
        "'''modelTransf2=ResNet50(weights=None,\n",
        "                      include_top=True,\n",
        "                      classes=1,\n",
        "                      input_shape=(64,64,3))\n",
        "\n",
        "modelTransf2 = Sequential()\n",
        "\n",
        "\n",
        "modelTransf2.add(base_modelRes)\n",
        "modelTransf2.add(Flatten())\n",
        "modelTransf2.add(BatchNormalization())\n",
        "modelTransf2.add(Dense(128, activation='linear'))\n",
        "modelTransf2.add(layers.LeakyReLU(alpha=0.1))           \n",
        "modelTransf2.add(Dropout(0.3))\n",
        "modelTransf2.add(Dense(21, activation='softmax'))\n",
        "\n",
        "modelTransf2.compile(optimizer='adam',loss='categorical_crossentropy',metrics=['categorical_accuracy'])'''"
      ],
      "execution_count": 0,
      "outputs": []
    },
    {
      "cell_type": "code",
      "metadata": {
        "id": "-2N20MkfoNED",
        "colab_type": "code",
        "colab": {}
      },
      "source": [
        "'''#ResNet50 Vainilla\n",
        "start = time.clock() \n",
        "historyRes = modelTransf2.fit(trainImagesX, trainY, validation_data=(testImagesX, testY),epochs=200, batch_size=8)\n",
        "\n",
        "end = time.clock()\n",
        "timeRes = end-start\n",
        "\n",
        "print(\"Total Time: {} \".format(timeRes)) '''"
      ],
      "execution_count": 0,
      "outputs": []
    },
    {
      "cell_type": "code",
      "metadata": {
        "id": "4roKDw-Ep5js",
        "colab_type": "code",
        "colab": {}
      },
      "source": [
        "'''train_generator = ImageDataGenerator(\n",
        "        featurewise_center=True,\n",
        "        featurewise_std_normalization=True,\n",
        "        rotation_range=45,\n",
        "        width_shift_range=0.05,\n",
        "        height_shift_range=0.05,\n",
        "        horizontal_flip=True,\n",
        "        vertical_flip=True)\n",
        "\n",
        "train_generator.fit(trainImagesX)\n",
        "#ResNet with Data Augmentantion\n",
        "historyResDA = modelTransf2.fit_generator(\n",
        "        train_generator.flow(trainImagesX, trainY,epochs=200, batch_size=8),\n",
        "        steps_per_epoch=int(2*SIZE / 32),\n",
        "        epochs=256,\n",
        "        validation_data=evaluate_generator.flow(testImagesX, testY), batch_size=32),\n",
        "        validation_steps=128,\n",
        "        verbose=2\n",
        "    )'''"
      ],
      "execution_count": 0,
      "outputs": []
    },
    {
      "cell_type": "markdown",
      "metadata": {
        "id": "5l_qLqRqSRKi",
        "colab_type": "text"
      },
      "source": [
        "## Combine the models"
      ]
    },
    {
      "cell_type": "code",
      "metadata": {
        "id": "fLFAVz2Q8U-z",
        "colab_type": "code",
        "colab": {}
      },
      "source": [
        "model_checkpoint3 = ModelCheckpoint('RegMos3.h5', verbose=1, save_best_only=True)\n",
        "def hybridModel(trainX):\n",
        "  mlp = create_mlp(trainX.shape[1], regress=False)\n",
        "  cnn = create_cnn(64, 64, 3, regress=False)\n",
        "\n",
        "  combinedInput = concatenate([mlp.output, cnn.output])\n",
        "\n",
        "  x = Dense(8, activation=\"relu\")(combinedInput)\n",
        "  x = Dense(4, activation=\"relu\")(x)\n",
        "  x = Dense(1, activation=\"linear\")(x)\n",
        "\n",
        "  modelF = Model(inputs=[mlp.input, cnn.input], outputs=x)\n",
        "\n",
        "  opt = Adam(lr=1e-3, decay=1e-3 / 200)\n",
        "  modelF.compile(optimizer=opt, loss=\"mean_absolute_percentage_error\", metrics=['mae'])\n",
        "  \n",
        "  return modelF"
      ],
      "execution_count": 0,
      "outputs": []
    },
    {
      "cell_type": "code",
      "metadata": {
        "id": "YGvu0RQ1fHaU",
        "colab_type": "code",
        "colab": {
          "base_uri": "https://localhost:8080/",
          "height": 438
        },
        "outputId": "bca08f8c-4711-4cbc-8e5f-2148137bd676"
      },
      "source": [
        " modelF = hybridModel(trainX)\n",
        " history3 = modelF.fit_generator(\n",
        "    train_generator,\n",
        "    steps_per_epoch=20,\n",
        "    epochs=num_epochs)"
      ],
      "execution_count": 134,
      "outputs": [
        {
          "output_type": "stream",
          "text": [
            "Epoch 1/50\n"
          ],
          "name": "stdout"
        },
        {
          "output_type": "error",
          "ename": "ValueError",
          "evalue": "ignored",
          "traceback": [
            "\u001b[0;31m---------------------------------------------------------------------------\u001b[0m",
            "\u001b[0;31mValueError\u001b[0m                                Traceback (most recent call last)",
            "\u001b[0;32m<ipython-input-134-7dfdce1e30a3>\u001b[0m in \u001b[0;36m<module>\u001b[0;34m()\u001b[0m\n\u001b[1;32m      3\u001b[0m    \u001b[0mtrain_generator\u001b[0m\u001b[0;34m,\u001b[0m\u001b[0;34m\u001b[0m\u001b[0;34m\u001b[0m\u001b[0m\n\u001b[1;32m      4\u001b[0m    \u001b[0msteps_per_epoch\u001b[0m\u001b[0;34m=\u001b[0m\u001b[0;36m20\u001b[0m\u001b[0;34m,\u001b[0m\u001b[0;34m\u001b[0m\u001b[0;34m\u001b[0m\u001b[0m\n\u001b[0;32m----> 5\u001b[0;31m    epochs=num_epochs)\n\u001b[0m",
            "\u001b[0;32m/usr/local/lib/python3.6/dist-packages/keras/legacy/interfaces.py\u001b[0m in \u001b[0;36mwrapper\u001b[0;34m(*args, **kwargs)\u001b[0m\n\u001b[1;32m     89\u001b[0m                 warnings.warn('Update your `' + object_name + '` call to the ' +\n\u001b[1;32m     90\u001b[0m                               'Keras 2 API: ' + signature, stacklevel=2)\n\u001b[0;32m---> 91\u001b[0;31m             \u001b[0;32mreturn\u001b[0m \u001b[0mfunc\u001b[0m\u001b[0;34m(\u001b[0m\u001b[0;34m*\u001b[0m\u001b[0margs\u001b[0m\u001b[0;34m,\u001b[0m \u001b[0;34m**\u001b[0m\u001b[0mkwargs\u001b[0m\u001b[0;34m)\u001b[0m\u001b[0;34m\u001b[0m\u001b[0;34m\u001b[0m\u001b[0m\n\u001b[0m\u001b[1;32m     92\u001b[0m         \u001b[0mwrapper\u001b[0m\u001b[0;34m.\u001b[0m\u001b[0m_original_function\u001b[0m \u001b[0;34m=\u001b[0m \u001b[0mfunc\u001b[0m\u001b[0;34m\u001b[0m\u001b[0;34m\u001b[0m\u001b[0m\n\u001b[1;32m     93\u001b[0m         \u001b[0;32mreturn\u001b[0m \u001b[0mwrapper\u001b[0m\u001b[0;34m\u001b[0m\u001b[0;34m\u001b[0m\u001b[0m\n",
            "\u001b[0;32m/usr/local/lib/python3.6/dist-packages/keras/engine/training.py\u001b[0m in \u001b[0;36mfit_generator\u001b[0;34m(self, generator, steps_per_epoch, epochs, verbose, callbacks, validation_data, validation_steps, validation_freq, class_weight, max_queue_size, workers, use_multiprocessing, shuffle, initial_epoch)\u001b[0m\n\u001b[1;32m   1656\u001b[0m             \u001b[0muse_multiprocessing\u001b[0m\u001b[0;34m=\u001b[0m\u001b[0muse_multiprocessing\u001b[0m\u001b[0;34m,\u001b[0m\u001b[0;34m\u001b[0m\u001b[0;34m\u001b[0m\u001b[0m\n\u001b[1;32m   1657\u001b[0m             \u001b[0mshuffle\u001b[0m\u001b[0;34m=\u001b[0m\u001b[0mshuffle\u001b[0m\u001b[0;34m,\u001b[0m\u001b[0;34m\u001b[0m\u001b[0;34m\u001b[0m\u001b[0m\n\u001b[0;32m-> 1658\u001b[0;31m             initial_epoch=initial_epoch)\n\u001b[0m\u001b[1;32m   1659\u001b[0m \u001b[0;34m\u001b[0m\u001b[0m\n\u001b[1;32m   1660\u001b[0m     \u001b[0;34m@\u001b[0m\u001b[0minterfaces\u001b[0m\u001b[0;34m.\u001b[0m\u001b[0mlegacy_generator_methods_support\u001b[0m\u001b[0;34m\u001b[0m\u001b[0;34m\u001b[0m\u001b[0m\n",
            "\u001b[0;32m/usr/local/lib/python3.6/dist-packages/keras/engine/training_generator.py\u001b[0m in \u001b[0;36mfit_generator\u001b[0;34m(model, generator, steps_per_epoch, epochs, verbose, callbacks, validation_data, validation_steps, validation_freq, class_weight, max_queue_size, workers, use_multiprocessing, shuffle, initial_epoch)\u001b[0m\n\u001b[1;32m    213\u001b[0m                 outs = model.train_on_batch(x, y,\n\u001b[1;32m    214\u001b[0m                                             \u001b[0msample_weight\u001b[0m\u001b[0;34m=\u001b[0m\u001b[0msample_weight\u001b[0m\u001b[0;34m,\u001b[0m\u001b[0;34m\u001b[0m\u001b[0;34m\u001b[0m\u001b[0m\n\u001b[0;32m--> 215\u001b[0;31m                                             class_weight=class_weight)\n\u001b[0m\u001b[1;32m    216\u001b[0m \u001b[0;34m\u001b[0m\u001b[0m\n\u001b[1;32m    217\u001b[0m                 \u001b[0mouts\u001b[0m \u001b[0;34m=\u001b[0m \u001b[0mto_list\u001b[0m\u001b[0;34m(\u001b[0m\u001b[0mouts\u001b[0m\u001b[0;34m)\u001b[0m\u001b[0;34m\u001b[0m\u001b[0;34m\u001b[0m\u001b[0m\n",
            "\u001b[0;32m/usr/local/lib/python3.6/dist-packages/keras/engine/training.py\u001b[0m in \u001b[0;36mtrain_on_batch\u001b[0;34m(self, x, y, sample_weight, class_weight)\u001b[0m\n\u001b[1;32m   1441\u001b[0m             \u001b[0mx\u001b[0m\u001b[0;34m,\u001b[0m \u001b[0my\u001b[0m\u001b[0;34m,\u001b[0m\u001b[0;34m\u001b[0m\u001b[0;34m\u001b[0m\u001b[0m\n\u001b[1;32m   1442\u001b[0m             \u001b[0msample_weight\u001b[0m\u001b[0;34m=\u001b[0m\u001b[0msample_weight\u001b[0m\u001b[0;34m,\u001b[0m\u001b[0;34m\u001b[0m\u001b[0;34m\u001b[0m\u001b[0m\n\u001b[0;32m-> 1443\u001b[0;31m             class_weight=class_weight)\n\u001b[0m\u001b[1;32m   1444\u001b[0m         \u001b[0;32mif\u001b[0m \u001b[0mself\u001b[0m\u001b[0;34m.\u001b[0m\u001b[0m_uses_dynamic_learning_phase\u001b[0m\u001b[0;34m(\u001b[0m\u001b[0;34m)\u001b[0m\u001b[0;34m:\u001b[0m\u001b[0;34m\u001b[0m\u001b[0;34m\u001b[0m\u001b[0m\n\u001b[1;32m   1445\u001b[0m             \u001b[0mins\u001b[0m \u001b[0;34m=\u001b[0m \u001b[0mx\u001b[0m \u001b[0;34m+\u001b[0m \u001b[0my\u001b[0m \u001b[0;34m+\u001b[0m \u001b[0msample_weights\u001b[0m \u001b[0;34m+\u001b[0m \u001b[0;34m[\u001b[0m\u001b[0;36m1.\u001b[0m\u001b[0;34m]\u001b[0m\u001b[0;34m\u001b[0m\u001b[0;34m\u001b[0m\u001b[0m\n",
            "\u001b[0;32m/usr/local/lib/python3.6/dist-packages/keras/engine/training.py\u001b[0m in \u001b[0;36m_standardize_user_data\u001b[0;34m(self, x, y, sample_weight, class_weight, check_array_lengths, batch_size)\u001b[0m\n\u001b[1;32m    755\u001b[0m             \u001b[0mfeed_input_shapes\u001b[0m\u001b[0;34m,\u001b[0m\u001b[0;34m\u001b[0m\u001b[0;34m\u001b[0m\u001b[0m\n\u001b[1;32m    756\u001b[0m             \u001b[0mcheck_batch_axis\u001b[0m\u001b[0;34m=\u001b[0m\u001b[0;32mFalse\u001b[0m\u001b[0;34m,\u001b[0m  \u001b[0;31m# Don't enforce the batch size.\u001b[0m\u001b[0;34m\u001b[0m\u001b[0;34m\u001b[0m\u001b[0m\n\u001b[0;32m--> 757\u001b[0;31m             exception_prefix='input')\n\u001b[0m\u001b[1;32m    758\u001b[0m \u001b[0;34m\u001b[0m\u001b[0m\n\u001b[1;32m    759\u001b[0m         \u001b[0;32mif\u001b[0m \u001b[0my\u001b[0m \u001b[0;32mis\u001b[0m \u001b[0;32mnot\u001b[0m \u001b[0;32mNone\u001b[0m\u001b[0;34m:\u001b[0m\u001b[0;34m\u001b[0m\u001b[0;34m\u001b[0m\u001b[0m\n",
            "\u001b[0;32m/usr/local/lib/python3.6/dist-packages/keras/engine/training_utils.py\u001b[0m in \u001b[0;36mstandardize_input_data\u001b[0;34m(data, names, shapes, check_batch_axis, exception_prefix)\u001b[0m\n\u001b[1;32m    103\u001b[0m                 \u001b[0;34m'Expected to see '\u001b[0m \u001b[0;34m+\u001b[0m \u001b[0mstr\u001b[0m\u001b[0;34m(\u001b[0m\u001b[0mlen\u001b[0m\u001b[0;34m(\u001b[0m\u001b[0mnames\u001b[0m\u001b[0;34m)\u001b[0m\u001b[0;34m)\u001b[0m \u001b[0;34m+\u001b[0m \u001b[0;34m' array(s), '\u001b[0m\u001b[0;34m\u001b[0m\u001b[0;34m\u001b[0m\u001b[0m\n\u001b[1;32m    104\u001b[0m                 \u001b[0;34m'but instead got the following list of '\u001b[0m \u001b[0;34m+\u001b[0m\u001b[0;34m\u001b[0m\u001b[0;34m\u001b[0m\u001b[0m\n\u001b[0;32m--> 105\u001b[0;31m                 str(len(data)) + ' arrays: ' + str(data)[:200] + '...')\n\u001b[0m\u001b[1;32m    106\u001b[0m         \u001b[0;32melif\u001b[0m \u001b[0mlen\u001b[0m\u001b[0;34m(\u001b[0m\u001b[0mnames\u001b[0m\u001b[0;34m)\u001b[0m \u001b[0;34m>\u001b[0m \u001b[0;36m1\u001b[0m\u001b[0;34m:\u001b[0m\u001b[0;34m\u001b[0m\u001b[0;34m\u001b[0m\u001b[0m\n\u001b[1;32m    107\u001b[0m             raise ValueError(\n",
            "\u001b[0;31mValueError\u001b[0m: Error when checking model input: the list of Numpy arrays that you are passing to your model is not the size the model expected. Expected to see 2 array(s), but instead got the following list of 1 arrays: [array([[[[0.22762607, 0.23414868, 0.1877501 ],\n         [0.228166  , 0.24385227, 0.19001918],\n         [0.36612147, 0.3495852 , 0.28003663],\n         ...,\n         [0.47465876, 0.4278641 , 0.36564732..."
          ]
        }
      ]
    },
    {
      "cell_type": "code",
      "metadata": {
        "id": "klHezw0ePcrt",
        "colab_type": "code",
        "outputId": "5c4d103d-8964-465e-a162-90533798fbb6",
        "colab": {
          "base_uri": "https://localhost:8080/",
          "height": 487
        }
      },
      "source": [
        "k=5\n",
        "num_val_samples = len(trainX) // k\n",
        "num_epochs = 50\n",
        "all_scores3 = []\n",
        "model_history3 = [] \n",
        "start = time.clock()                 \n",
        "for i in range(k):\n",
        "  print('processing fold #', i)\n",
        "  val_data = trainX[i*num_val_samples: (i+1) * num_val_samples]\n",
        "  val_targets = trainY[i * num_val_samples: (i+1) * num_val_samples]\n",
        "  \n",
        "  #partial_train_data = np.concatenate([trainX[:i * num_val_samples], trainX[(i + 1) * num_val_samples:]], axis=1)\n",
        "  #partial_train_targets = np.concatenate( [trainY[:i * num_val_samples], trainY[(i + 1) * num_val_samples:]], axis=0)\n",
        "  modelF = hybridModel()\n",
        "  #history3 = modelF.fit(partial_train_data, partial_train_targets,validation_data=(val_data, val_targets),epochs=num_epochs,callbacks=[model_checkpoint3, TensorBoardColabCallback(tbc)], batch_size=16, verbose=1)\n",
        "  history3 = modelF.fit_generator(\n",
        "    train_generator,\n",
        "    steps_per_epoch=20,\n",
        "    epochs=num_epochs)\n",
        "  model_history3.append(history3)\n",
        "  val_mape,val_mae = modelF.evaluate(trainX, testY, verbose=1)\n",
        "  all_scores2.append(val_mape)\n",
        "  \n",
        "end = time.clock()\n",
        "timeDense = end-start\n",
        "#total time of training\n",
        "print(\"Total Time: {} \".format(timeDense)) "
      ],
      "execution_count": 119,
      "outputs": [
        {
          "output_type": "stream",
          "text": [
            "processing fold # 0\n",
            "Epoch 1/50\n"
          ],
          "name": "stdout"
        },
        {
          "output_type": "error",
          "ename": "ValueError",
          "evalue": "ignored",
          "traceback": [
            "\u001b[0;31m---------------------------------------------------------------------------\u001b[0m",
            "\u001b[0;31mValueError\u001b[0m                                Traceback (most recent call last)",
            "\u001b[0;32m<ipython-input-119-38a51cbf3a57>\u001b[0m in \u001b[0;36m<module>\u001b[0;34m()\u001b[0m\n\u001b[1;32m     17\u001b[0m     \u001b[0mtrain_generator\u001b[0m\u001b[0;34m,\u001b[0m\u001b[0;34m\u001b[0m\u001b[0;34m\u001b[0m\u001b[0m\n\u001b[1;32m     18\u001b[0m     \u001b[0msteps_per_epoch\u001b[0m\u001b[0;34m=\u001b[0m\u001b[0;36m20\u001b[0m\u001b[0;34m,\u001b[0m\u001b[0;34m\u001b[0m\u001b[0;34m\u001b[0m\u001b[0m\n\u001b[0;32m---> 19\u001b[0;31m     epochs=num_epochs)\n\u001b[0m\u001b[1;32m     20\u001b[0m   \u001b[0mmodel_history3\u001b[0m\u001b[0;34m.\u001b[0m\u001b[0mappend\u001b[0m\u001b[0;34m(\u001b[0m\u001b[0mhistory3\u001b[0m\u001b[0;34m)\u001b[0m\u001b[0;34m\u001b[0m\u001b[0;34m\u001b[0m\u001b[0m\n\u001b[1;32m     21\u001b[0m   \u001b[0mval_mape\u001b[0m\u001b[0;34m,\u001b[0m\u001b[0mval_mae\u001b[0m \u001b[0;34m=\u001b[0m \u001b[0mmodelF\u001b[0m\u001b[0;34m.\u001b[0m\u001b[0mevaluate\u001b[0m\u001b[0;34m(\u001b[0m\u001b[0mtrainX\u001b[0m\u001b[0;34m,\u001b[0m \u001b[0mtestY\u001b[0m\u001b[0;34m,\u001b[0m \u001b[0mverbose\u001b[0m\u001b[0;34m=\u001b[0m\u001b[0;36m1\u001b[0m\u001b[0;34m)\u001b[0m\u001b[0;34m\u001b[0m\u001b[0;34m\u001b[0m\u001b[0m\n",
            "\u001b[0;32m/usr/local/lib/python3.6/dist-packages/keras/legacy/interfaces.py\u001b[0m in \u001b[0;36mwrapper\u001b[0;34m(*args, **kwargs)\u001b[0m\n\u001b[1;32m     89\u001b[0m                 warnings.warn('Update your `' + object_name + '` call to the ' +\n\u001b[1;32m     90\u001b[0m                               'Keras 2 API: ' + signature, stacklevel=2)\n\u001b[0;32m---> 91\u001b[0;31m             \u001b[0;32mreturn\u001b[0m \u001b[0mfunc\u001b[0m\u001b[0;34m(\u001b[0m\u001b[0;34m*\u001b[0m\u001b[0margs\u001b[0m\u001b[0;34m,\u001b[0m \u001b[0;34m**\u001b[0m\u001b[0mkwargs\u001b[0m\u001b[0;34m)\u001b[0m\u001b[0;34m\u001b[0m\u001b[0;34m\u001b[0m\u001b[0m\n\u001b[0m\u001b[1;32m     92\u001b[0m         \u001b[0mwrapper\u001b[0m\u001b[0;34m.\u001b[0m\u001b[0m_original_function\u001b[0m \u001b[0;34m=\u001b[0m \u001b[0mfunc\u001b[0m\u001b[0;34m\u001b[0m\u001b[0;34m\u001b[0m\u001b[0m\n\u001b[1;32m     93\u001b[0m         \u001b[0;32mreturn\u001b[0m \u001b[0mwrapper\u001b[0m\u001b[0;34m\u001b[0m\u001b[0;34m\u001b[0m\u001b[0m\n",
            "\u001b[0;32m/usr/local/lib/python3.6/dist-packages/keras/engine/training.py\u001b[0m in \u001b[0;36mfit_generator\u001b[0;34m(self, generator, steps_per_epoch, epochs, verbose, callbacks, validation_data, validation_steps, validation_freq, class_weight, max_queue_size, workers, use_multiprocessing, shuffle, initial_epoch)\u001b[0m\n\u001b[1;32m   1656\u001b[0m             \u001b[0muse_multiprocessing\u001b[0m\u001b[0;34m=\u001b[0m\u001b[0muse_multiprocessing\u001b[0m\u001b[0;34m,\u001b[0m\u001b[0;34m\u001b[0m\u001b[0;34m\u001b[0m\u001b[0m\n\u001b[1;32m   1657\u001b[0m             \u001b[0mshuffle\u001b[0m\u001b[0;34m=\u001b[0m\u001b[0mshuffle\u001b[0m\u001b[0;34m,\u001b[0m\u001b[0;34m\u001b[0m\u001b[0;34m\u001b[0m\u001b[0m\n\u001b[0;32m-> 1658\u001b[0;31m             initial_epoch=initial_epoch)\n\u001b[0m\u001b[1;32m   1659\u001b[0m \u001b[0;34m\u001b[0m\u001b[0m\n\u001b[1;32m   1660\u001b[0m     \u001b[0;34m@\u001b[0m\u001b[0minterfaces\u001b[0m\u001b[0;34m.\u001b[0m\u001b[0mlegacy_generator_methods_support\u001b[0m\u001b[0;34m\u001b[0m\u001b[0;34m\u001b[0m\u001b[0m\n",
            "\u001b[0;32m/usr/local/lib/python3.6/dist-packages/keras/engine/training_generator.py\u001b[0m in \u001b[0;36mfit_generator\u001b[0;34m(model, generator, steps_per_epoch, epochs, verbose, callbacks, validation_data, validation_steps, validation_freq, class_weight, max_queue_size, workers, use_multiprocessing, shuffle, initial_epoch)\u001b[0m\n\u001b[1;32m    213\u001b[0m                 outs = model.train_on_batch(x, y,\n\u001b[1;32m    214\u001b[0m                                             \u001b[0msample_weight\u001b[0m\u001b[0;34m=\u001b[0m\u001b[0msample_weight\u001b[0m\u001b[0;34m,\u001b[0m\u001b[0;34m\u001b[0m\u001b[0;34m\u001b[0m\u001b[0m\n\u001b[0;32m--> 215\u001b[0;31m                                             class_weight=class_weight)\n\u001b[0m\u001b[1;32m    216\u001b[0m \u001b[0;34m\u001b[0m\u001b[0m\n\u001b[1;32m    217\u001b[0m                 \u001b[0mouts\u001b[0m \u001b[0;34m=\u001b[0m \u001b[0mto_list\u001b[0m\u001b[0;34m(\u001b[0m\u001b[0mouts\u001b[0m\u001b[0;34m)\u001b[0m\u001b[0;34m\u001b[0m\u001b[0;34m\u001b[0m\u001b[0m\n",
            "\u001b[0;32m/usr/local/lib/python3.6/dist-packages/keras/engine/training.py\u001b[0m in \u001b[0;36mtrain_on_batch\u001b[0;34m(self, x, y, sample_weight, class_weight)\u001b[0m\n\u001b[1;32m   1441\u001b[0m             \u001b[0mx\u001b[0m\u001b[0;34m,\u001b[0m \u001b[0my\u001b[0m\u001b[0;34m,\u001b[0m\u001b[0;34m\u001b[0m\u001b[0;34m\u001b[0m\u001b[0m\n\u001b[1;32m   1442\u001b[0m             \u001b[0msample_weight\u001b[0m\u001b[0;34m=\u001b[0m\u001b[0msample_weight\u001b[0m\u001b[0;34m,\u001b[0m\u001b[0;34m\u001b[0m\u001b[0;34m\u001b[0m\u001b[0m\n\u001b[0;32m-> 1443\u001b[0;31m             class_weight=class_weight)\n\u001b[0m\u001b[1;32m   1444\u001b[0m         \u001b[0;32mif\u001b[0m \u001b[0mself\u001b[0m\u001b[0;34m.\u001b[0m\u001b[0m_uses_dynamic_learning_phase\u001b[0m\u001b[0;34m(\u001b[0m\u001b[0;34m)\u001b[0m\u001b[0;34m:\u001b[0m\u001b[0;34m\u001b[0m\u001b[0;34m\u001b[0m\u001b[0m\n\u001b[1;32m   1445\u001b[0m             \u001b[0mins\u001b[0m \u001b[0;34m=\u001b[0m \u001b[0mx\u001b[0m \u001b[0;34m+\u001b[0m \u001b[0my\u001b[0m \u001b[0;34m+\u001b[0m \u001b[0msample_weights\u001b[0m \u001b[0;34m+\u001b[0m \u001b[0;34m[\u001b[0m\u001b[0;36m1.\u001b[0m\u001b[0;34m]\u001b[0m\u001b[0;34m\u001b[0m\u001b[0;34m\u001b[0m\u001b[0m\n",
            "\u001b[0;32m/usr/local/lib/python3.6/dist-packages/keras/engine/training.py\u001b[0m in \u001b[0;36m_standardize_user_data\u001b[0;34m(self, x, y, sample_weight, class_weight, check_array_lengths, batch_size)\u001b[0m\n\u001b[1;32m    755\u001b[0m             \u001b[0mfeed_input_shapes\u001b[0m\u001b[0;34m,\u001b[0m\u001b[0;34m\u001b[0m\u001b[0;34m\u001b[0m\u001b[0m\n\u001b[1;32m    756\u001b[0m             \u001b[0mcheck_batch_axis\u001b[0m\u001b[0;34m=\u001b[0m\u001b[0;32mFalse\u001b[0m\u001b[0;34m,\u001b[0m  \u001b[0;31m# Don't enforce the batch size.\u001b[0m\u001b[0;34m\u001b[0m\u001b[0;34m\u001b[0m\u001b[0m\n\u001b[0;32m--> 757\u001b[0;31m             exception_prefix='input')\n\u001b[0m\u001b[1;32m    758\u001b[0m \u001b[0;34m\u001b[0m\u001b[0m\n\u001b[1;32m    759\u001b[0m         \u001b[0;32mif\u001b[0m \u001b[0my\u001b[0m \u001b[0;32mis\u001b[0m \u001b[0;32mnot\u001b[0m \u001b[0;32mNone\u001b[0m\u001b[0;34m:\u001b[0m\u001b[0;34m\u001b[0m\u001b[0;34m\u001b[0m\u001b[0m\n",
            "\u001b[0;32m/usr/local/lib/python3.6/dist-packages/keras/engine/training_utils.py\u001b[0m in \u001b[0;36mstandardize_input_data\u001b[0;34m(data, names, shapes, check_batch_axis, exception_prefix)\u001b[0m\n\u001b[1;32m    103\u001b[0m                 \u001b[0;34m'Expected to see '\u001b[0m \u001b[0;34m+\u001b[0m \u001b[0mstr\u001b[0m\u001b[0;34m(\u001b[0m\u001b[0mlen\u001b[0m\u001b[0;34m(\u001b[0m\u001b[0mnames\u001b[0m\u001b[0;34m)\u001b[0m\u001b[0;34m)\u001b[0m \u001b[0;34m+\u001b[0m \u001b[0;34m' array(s), '\u001b[0m\u001b[0;34m\u001b[0m\u001b[0;34m\u001b[0m\u001b[0m\n\u001b[1;32m    104\u001b[0m                 \u001b[0;34m'but instead got the following list of '\u001b[0m \u001b[0;34m+\u001b[0m\u001b[0;34m\u001b[0m\u001b[0;34m\u001b[0m\u001b[0m\n\u001b[0;32m--> 105\u001b[0;31m                 str(len(data)) + ' arrays: ' + str(data)[:200] + '...')\n\u001b[0m\u001b[1;32m    106\u001b[0m         \u001b[0;32melif\u001b[0m \u001b[0mlen\u001b[0m\u001b[0;34m(\u001b[0m\u001b[0mnames\u001b[0m\u001b[0;34m)\u001b[0m \u001b[0;34m>\u001b[0m \u001b[0;36m1\u001b[0m\u001b[0;34m:\u001b[0m\u001b[0;34m\u001b[0m\u001b[0;34m\u001b[0m\u001b[0m\n\u001b[1;32m    107\u001b[0m             raise ValueError(\n",
            "\u001b[0;31mValueError\u001b[0m: Error when checking model input: the list of Numpy arrays that you are passing to your model is not the size the model expected. Expected to see 2 array(s), but instead got the following list of 1 arrays: [array([[[[0.35862193, 0.32253852, 0.26478383],\n         [0.47401488, 0.44179925, 0.34673792],\n         [0.42274523, 0.3658334 , 0.2882844 ],\n         ...,\n         [0.37254903, 0.3529412 , 0.24705884..."
          ]
        }
      ]
    },
    {
      "cell_type": "code",
      "metadata": {
        "id": "kCsvuwyxC_oO",
        "colab_type": "code",
        "outputId": "008d7333-a7aa-4890-9690-a549756f735c",
        "colab": {
          "base_uri": "https://localhost:8080/",
          "height": 1000
        }
      },
      "source": [
        "modelF = hybridModel()\n",
        "#save model plot as png and display summary\n",
        "plot_model(modelF, show_shapes = 1, to_file='HybModel.png')\n",
        "modelF.summary()"
      ],
      "execution_count": 0,
      "outputs": [
        {
          "output_type": "stream",
          "text": [
            "__________________________________________________________________________________________________\n",
            "Layer (type)                    Output Shape         Param #     Connected to                     \n",
            "==================================================================================================\n",
            "input_8 (InputLayer)            (None, 256, 256, 3)  0                                            \n",
            "__________________________________________________________________________________________________\n",
            "conv2d_22 (Conv2D)              (None, 256, 256, 16) 448         input_8[0][0]                    \n",
            "__________________________________________________________________________________________________\n",
            "activation_36 (Activation)      (None, 256, 256, 16) 0           conv2d_22[0][0]                  \n",
            "__________________________________________________________________________________________________\n",
            "batch_normalization_29 (BatchNo (None, 256, 256, 16) 64          activation_36[0][0]              \n",
            "__________________________________________________________________________________________________\n",
            "max_pooling2d_22 (MaxPooling2D) (None, 128, 128, 16) 0           batch_normalization_29[0][0]     \n",
            "__________________________________________________________________________________________________\n",
            "conv2d_23 (Conv2D)              (None, 128, 128, 32) 4640        max_pooling2d_22[0][0]           \n",
            "__________________________________________________________________________________________________\n",
            "activation_37 (Activation)      (None, 128, 128, 32) 0           conv2d_23[0][0]                  \n",
            "__________________________________________________________________________________________________\n",
            "batch_normalization_30 (BatchNo (None, 128, 128, 32) 128         activation_37[0][0]              \n",
            "__________________________________________________________________________________________________\n",
            "max_pooling2d_23 (MaxPooling2D) (None, 64, 64, 32)   0           batch_normalization_30[0][0]     \n",
            "__________________________________________________________________________________________________\n",
            "conv2d_24 (Conv2D)              (None, 64, 64, 64)   18496       max_pooling2d_23[0][0]           \n",
            "__________________________________________________________________________________________________\n",
            "activation_38 (Activation)      (None, 64, 64, 64)   0           conv2d_24[0][0]                  \n",
            "__________________________________________________________________________________________________\n",
            "batch_normalization_31 (BatchNo (None, 64, 64, 64)   256         activation_38[0][0]              \n",
            "__________________________________________________________________________________________________\n",
            "max_pooling2d_24 (MaxPooling2D) (None, 32, 32, 64)   0           batch_normalization_31[0][0]     \n",
            "__________________________________________________________________________________________________\n",
            "flatten_8 (Flatten)             (None, 65536)        0           max_pooling2d_24[0][0]           \n",
            "__________________________________________________________________________________________________\n",
            "dense_50 (Dense)                (None, 16)           1048592     flatten_8[0][0]                  \n",
            "__________________________________________________________________________________________________\n",
            "activation_39 (Activation)      (None, 16)           0           dense_50[0][0]                   \n",
            "__________________________________________________________________________________________________\n",
            "dense_47_input (InputLayer)     (None, 17)           0                                            \n",
            "__________________________________________________________________________________________________\n",
            "batch_normalization_32 (BatchNo (None, 16)           64          activation_39[0][0]              \n",
            "__________________________________________________________________________________________________\n",
            "dense_47 (Dense)                (None, 16)           288         dense_47_input[0][0]             \n",
            "__________________________________________________________________________________________________\n",
            "dropout_8 (Dropout)             (None, 16)           0           batch_normalization_32[0][0]     \n",
            "__________________________________________________________________________________________________\n",
            "dense_48 (Dense)                (None, 8)            136         dense_47[0][0]                   \n",
            "__________________________________________________________________________________________________\n",
            "dense_51 (Dense)                (None, 4)            68          dropout_8[0][0]                  \n",
            "__________________________________________________________________________________________________\n",
            "dense_49 (Dense)                (None, 4)            36          dense_48[0][0]                   \n",
            "__________________________________________________________________________________________________\n",
            "activation_40 (Activation)      (None, 4)            0           dense_51[0][0]                   \n",
            "__________________________________________________________________________________________________\n",
            "concatenate_2 (Concatenate)     (None, 8)            0           dense_49[0][0]                   \n",
            "                                                                 activation_40[0][0]              \n",
            "__________________________________________________________________________________________________\n",
            "dense_52 (Dense)                (None, 8)            72          concatenate_2[0][0]              \n",
            "__________________________________________________________________________________________________\n",
            "dense_53 (Dense)                (None, 4)            36          dense_52[0][0]                   \n",
            "__________________________________________________________________________________________________\n",
            "dense_54 (Dense)                (None, 1)            5           dense_53[0][0]                   \n",
            "==================================================================================================\n",
            "Total params: 1,073,329\n",
            "Trainable params: 1,073,073\n",
            "Non-trainable params: 256\n",
            "__________________________________________________________________________________________________\n"
          ],
          "name": "stdout"
        }
      ]
    },
    {
      "cell_type": "code",
      "metadata": {
        "id": "vy7Wdgho8U7c",
        "colab_type": "code",
        "outputId": "bcdc49a1-95e5-416d-cd88-0e968025bc5a",
        "colab": {
          "base_uri": "https://localhost:8080/",
          "height": 1000
        }
      },
      "source": [
        "\n",
        "history3 = modelF.fit([trainX, trainImagesX], trainY, validation_data=([testX, testImagesX], testY),epochs=200,callbacks=[model_checkpoint3, TensorBoardColabCallback(tbc)], batch_size=16)\n",
        "\n",
        "preds = modelF.predict([testX, testImagesX])"
      ],
      "execution_count": 0,
      "outputs": [
        {
          "output_type": "stream",
          "text": [
            "Train on 1416 samples, validate on 607 samples\n",
            "Epoch 1/200\n",
            "1416/1416 [==============================] - 8s 6ms/step - loss: 626.0858 - mean_absolute_error: 0.0541 - val_loss: 77.4509 - val_mean_absolute_error: 0.0164\n",
            "\n",
            "Epoch 00001: val_loss improved from inf to 77.45092, saving model to RegMos3.h5\n",
            "Epoch 2/200\n",
            "1416/1416 [==============================] - 6s 4ms/step - loss: 82.5291 - mean_absolute_error: 0.0187 - val_loss: 87.8507 - val_mean_absolute_error: 0.0183\n",
            "\n",
            "Epoch 00002: val_loss did not improve from 77.45092\n",
            "Epoch 3/200\n",
            "1416/1416 [==============================] - 6s 4ms/step - loss: 60.2530 - mean_absolute_error: 0.0178 - val_loss: 61.5160 - val_mean_absolute_error: 0.0163\n",
            "\n",
            "Epoch 00003: val_loss improved from 77.45092 to 61.51603, saving model to RegMos3.h5\n",
            "Epoch 4/200\n",
            "1416/1416 [==============================] - 6s 4ms/step - loss: 58.2941 - mean_absolute_error: 0.0177 - val_loss: 55.8691 - val_mean_absolute_error: 0.0161\n",
            "\n",
            "Epoch 00004: val_loss improved from 61.51603 to 55.86908, saving model to RegMos3.h5\n",
            "Epoch 5/200\n",
            "1416/1416 [==============================] - 6s 4ms/step - loss: 59.0864 - mean_absolute_error: 0.0176 - val_loss: 54.1062 - val_mean_absolute_error: 0.0157\n",
            "\n",
            "Epoch 00005: val_loss improved from 55.86908 to 54.10624, saving model to RegMos3.h5\n",
            "Epoch 6/200\n",
            "1416/1416 [==============================] - 6s 4ms/step - loss: 57.4685 - mean_absolute_error: 0.0176 - val_loss: 55.6423 - val_mean_absolute_error: 0.0156\n",
            "\n",
            "Epoch 00006: val_loss did not improve from 54.10624\n",
            "Epoch 7/200\n",
            "1416/1416 [==============================] - 6s 4ms/step - loss: 56.6335 - mean_absolute_error: 0.0176 - val_loss: 55.0097 - val_mean_absolute_error: 0.0156\n",
            "\n",
            "Epoch 00007: val_loss did not improve from 54.10624\n",
            "Epoch 8/200\n",
            "1416/1416 [==============================] - 6s 4ms/step - loss: 56.8584 - mean_absolute_error: 0.0176 - val_loss: 56.6388 - val_mean_absolute_error: 0.0163\n",
            "\n",
            "Epoch 00008: val_loss did not improve from 54.10624\n",
            "Epoch 9/200\n",
            "1416/1416 [==============================] - 6s 4ms/step - loss: 56.4400 - mean_absolute_error: 0.0176 - val_loss: 55.4916 - val_mean_absolute_error: 0.0155\n",
            "\n",
            "Epoch 00009: val_loss did not improve from 54.10624\n",
            "Epoch 10/200\n",
            "1416/1416 [==============================] - 6s 4ms/step - loss: 56.2153 - mean_absolute_error: 0.0176 - val_loss: 54.1441 - val_mean_absolute_error: 0.0158\n",
            "\n",
            "Epoch 00010: val_loss did not improve from 54.10624\n",
            "Epoch 11/200\n",
            "1416/1416 [==============================] - 6s 4ms/step - loss: 57.3455 - mean_absolute_error: 0.0176 - val_loss: 56.1408 - val_mean_absolute_error: 0.0154\n",
            "\n",
            "Epoch 00011: val_loss did not improve from 54.10624\n",
            "Epoch 12/200\n",
            "1416/1416 [==============================] - 6s 4ms/step - loss: 56.7670 - mean_absolute_error: 0.0175 - val_loss: 54.8445 - val_mean_absolute_error: 0.0159\n",
            "\n",
            "Epoch 00012: val_loss did not improve from 54.10624\n",
            "Epoch 13/200\n",
            "1416/1416 [==============================] - 6s 4ms/step - loss: 56.7949 - mean_absolute_error: 0.0175 - val_loss: 58.1199 - val_mean_absolute_error: 0.0166\n",
            "\n",
            "Epoch 00013: val_loss did not improve from 54.10624\n",
            "Epoch 14/200\n",
            "1416/1416 [==============================] - 6s 4ms/step - loss: 57.4036 - mean_absolute_error: 0.0176 - val_loss: 57.5440 - val_mean_absolute_error: 0.0164\n",
            "\n",
            "Epoch 00014: val_loss did not improve from 54.10624\n",
            "Epoch 15/200\n",
            "1416/1416 [==============================] - 6s 4ms/step - loss: 57.1111 - mean_absolute_error: 0.0176 - val_loss: 54.5193 - val_mean_absolute_error: 0.0158\n",
            "\n",
            "Epoch 00015: val_loss did not improve from 54.10624\n",
            "Epoch 16/200\n",
            "1416/1416 [==============================] - 6s 4ms/step - loss: 55.9268 - mean_absolute_error: 0.0176 - val_loss: 55.4187 - val_mean_absolute_error: 0.0155\n",
            "\n",
            "Epoch 00016: val_loss did not improve from 54.10624\n",
            "Epoch 17/200\n",
            "1416/1416 [==============================] - 6s 4ms/step - loss: 57.1473 - mean_absolute_error: 0.0177 - val_loss: 56.6783 - val_mean_absolute_error: 0.0163\n",
            "\n",
            "Epoch 00017: val_loss did not improve from 54.10624\n",
            "Epoch 18/200\n",
            "1416/1416 [==============================] - 6s 4ms/step - loss: 56.7329 - mean_absolute_error: 0.0176 - val_loss: 56.4542 - val_mean_absolute_error: 0.0154\n",
            "\n",
            "Epoch 00018: val_loss did not improve from 54.10624\n",
            "Epoch 19/200\n",
            "1416/1416 [==============================] - 6s 4ms/step - loss: 57.1464 - mean_absolute_error: 0.0175 - val_loss: 55.0738 - val_mean_absolute_error: 0.0160\n",
            "\n",
            "Epoch 00019: val_loss did not improve from 54.10624\n",
            "Epoch 20/200\n",
            "1416/1416 [==============================] - 6s 4ms/step - loss: 56.3307 - mean_absolute_error: 0.0177 - val_loss: 55.3601 - val_mean_absolute_error: 0.0156\n",
            "\n",
            "Epoch 00020: val_loss did not improve from 54.10624\n",
            "Epoch 21/200\n",
            "1416/1416 [==============================] - 6s 4ms/step - loss: 57.0354 - mean_absolute_error: 0.0177 - val_loss: 55.4534 - val_mean_absolute_error: 0.0155\n",
            "\n",
            "Epoch 00021: val_loss did not improve from 54.10624\n",
            "Epoch 22/200\n",
            "1416/1416 [==============================] - 6s 4ms/step - loss: 57.5240 - mean_absolute_error: 0.0176 - val_loss: 56.0916 - val_mean_absolute_error: 0.0162\n",
            "\n",
            "Epoch 00022: val_loss did not improve from 54.10624\n",
            "Epoch 23/200\n",
            "1416/1416 [==============================] - 6s 4ms/step - loss: 56.2848 - mean_absolute_error: 0.0176 - val_loss: 54.2227 - val_mean_absolute_error: 0.0158\n",
            "\n",
            "Epoch 00023: val_loss did not improve from 54.10624\n",
            "Epoch 24/200\n",
            "1416/1416 [==============================] - 6s 4ms/step - loss: 56.3953 - mean_absolute_error: 0.0176 - val_loss: 54.3751 - val_mean_absolute_error: 0.0157\n",
            "\n",
            "Epoch 00024: val_loss did not improve from 54.10624\n",
            "Epoch 25/200\n",
            "1416/1416 [==============================] - 6s 4ms/step - loss: 56.1387 - mean_absolute_error: 0.0176 - val_loss: 54.8355 - val_mean_absolute_error: 0.0156\n",
            "\n",
            "Epoch 00025: val_loss did not improve from 54.10624\n",
            "Epoch 26/200\n",
            "1416/1416 [==============================] - 6s 4ms/step - loss: 55.9006 - mean_absolute_error: 0.0176 - val_loss: 56.5425 - val_mean_absolute_error: 0.0154\n",
            "\n",
            "Epoch 00026: val_loss did not improve from 54.10624\n",
            "Epoch 27/200\n",
            "1416/1416 [==============================] - 6s 4ms/step - loss: 56.5424 - mean_absolute_error: 0.0176 - val_loss: 56.1583 - val_mean_absolute_error: 0.0154\n",
            "\n",
            "Epoch 00027: val_loss did not improve from 54.10624\n",
            "Epoch 28/200\n",
            "1416/1416 [==============================] - 6s 4ms/step - loss: 56.1028 - mean_absolute_error: 0.0175 - val_loss: 54.2728 - val_mean_absolute_error: 0.0158\n",
            "\n",
            "Epoch 00028: val_loss did not improve from 54.10624\n",
            "Epoch 29/200\n",
            "1416/1416 [==============================] - 6s 4ms/step - loss: 56.5380 - mean_absolute_error: 0.0176 - val_loss: 54.3797 - val_mean_absolute_error: 0.0158\n",
            "\n",
            "Epoch 00029: val_loss did not improve from 54.10624\n",
            "Epoch 30/200\n",
            "1416/1416 [==============================] - 6s 4ms/step - loss: 56.6054 - mean_absolute_error: 0.0176 - val_loss: 54.9639 - val_mean_absolute_error: 0.0156\n",
            "\n",
            "Epoch 00030: val_loss did not improve from 54.10624\n",
            "Epoch 31/200\n",
            "1416/1416 [==============================] - 6s 4ms/step - loss: 56.1696 - mean_absolute_error: 0.0176 - val_loss: 56.3447 - val_mean_absolute_error: 0.0154\n",
            "\n",
            "Epoch 00031: val_loss did not improve from 54.10624\n",
            "Epoch 32/200\n",
            "1416/1416 [==============================] - 6s 4ms/step - loss: 56.7305 - mean_absolute_error: 0.0176 - val_loss: 56.3971 - val_mean_absolute_error: 0.0162\n",
            "\n",
            "Epoch 00032: val_loss did not improve from 54.10624\n",
            "Epoch 33/200\n",
            "1416/1416 [==============================] - 6s 4ms/step - loss: 57.1284 - mean_absolute_error: 0.0175 - val_loss: 54.7409 - val_mean_absolute_error: 0.0157\n",
            "\n",
            "Epoch 00033: val_loss did not improve from 54.10624\n",
            "Epoch 34/200\n",
            "1416/1416 [==============================] - 6s 4ms/step - loss: 57.3128 - mean_absolute_error: 0.0176 - val_loss: 58.1861 - val_mean_absolute_error: 0.0166\n",
            "\n",
            "Epoch 00034: val_loss did not improve from 54.10624\n",
            "Epoch 35/200\n",
            "1416/1416 [==============================] - 6s 4ms/step - loss: 56.2958 - mean_absolute_error: 0.0176 - val_loss: 54.4418 - val_mean_absolute_error: 0.0158\n",
            "\n",
            "Epoch 00035: val_loss did not improve from 54.10624\n",
            "Epoch 36/200\n",
            "1416/1416 [==============================] - 6s 4ms/step - loss: 56.0214 - mean_absolute_error: 0.0176 - val_loss: 55.7326 - val_mean_absolute_error: 0.0155\n",
            "\n",
            "Epoch 00036: val_loss did not improve from 54.10624\n",
            "Epoch 37/200\n",
            "1416/1416 [==============================] - 6s 4ms/step - loss: 56.4993 - mean_absolute_error: 0.0176 - val_loss: 54.2397 - val_mean_absolute_error: 0.0157\n",
            "\n",
            "Epoch 00037: val_loss did not improve from 54.10624\n",
            "Epoch 38/200\n",
            "1416/1416 [==============================] - 6s 4ms/step - loss: 56.4455 - mean_absolute_error: 0.0175 - val_loss: 54.7701 - val_mean_absolute_error: 0.0156\n",
            "\n",
            "Epoch 00038: val_loss did not improve from 54.10624\n",
            "Epoch 39/200\n",
            "1416/1416 [==============================] - 6s 4ms/step - loss: 56.3143 - mean_absolute_error: 0.0176 - val_loss: 57.8675 - val_mean_absolute_error: 0.0151\n",
            "\n",
            "Epoch 00039: val_loss did not improve from 54.10624\n",
            "Epoch 40/200\n",
            "1416/1416 [==============================] - 6s 4ms/step - loss: 56.7376 - mean_absolute_error: 0.0176 - val_loss: 57.7584 - val_mean_absolute_error: 0.0152\n",
            "\n",
            "Epoch 00040: val_loss did not improve from 54.10624\n",
            "Epoch 41/200\n",
            "1416/1416 [==============================] - 6s 4ms/step - loss: 56.0247 - mean_absolute_error: 0.0176 - val_loss: 55.7840 - val_mean_absolute_error: 0.0155\n",
            "\n",
            "Epoch 00041: val_loss did not improve from 54.10624\n",
            "Epoch 42/200\n",
            "1416/1416 [==============================] - 6s 4ms/step - loss: 56.8679 - mean_absolute_error: 0.0176 - val_loss: 54.0787 - val_mean_absolute_error: 0.0158\n",
            "\n",
            "Epoch 00042: val_loss improved from 54.10624 to 54.07866, saving model to RegMos3.h5\n",
            "Epoch 43/200\n",
            "1416/1416 [==============================] - 6s 4ms/step - loss: 57.0831 - mean_absolute_error: 0.0176 - val_loss: 54.1737 - val_mean_absolute_error: 0.0157\n",
            "\n",
            "Epoch 00043: val_loss did not improve from 54.07866\n",
            "Epoch 44/200\n",
            "1416/1416 [==============================] - 6s 4ms/step - loss: 56.3208 - mean_absolute_error: 0.0176 - val_loss: 54.0855 - val_mean_absolute_error: 0.0158\n",
            "\n",
            "Epoch 00044: val_loss did not improve from 54.07866\n",
            "Epoch 45/200\n",
            "1416/1416 [==============================] - 6s 4ms/step - loss: 55.9731 - mean_absolute_error: 0.0176 - val_loss: 54.3744 - val_mean_absolute_error: 0.0158\n",
            "\n",
            "Epoch 00045: val_loss did not improve from 54.07866\n",
            "Epoch 46/200\n",
            "1416/1416 [==============================] - 6s 4ms/step - loss: 57.0889 - mean_absolute_error: 0.0175 - val_loss: 56.8403 - val_mean_absolute_error: 0.0153\n",
            "\n",
            "Epoch 00046: val_loss did not improve from 54.07866\n",
            "Epoch 47/200\n",
            "1416/1416 [==============================] - 6s 4ms/step - loss: 56.2076 - mean_absolute_error: 0.0176 - val_loss: 55.5036 - val_mean_absolute_error: 0.0155\n",
            "\n",
            "Epoch 00047: val_loss did not improve from 54.07866\n",
            "Epoch 48/200\n",
            "1416/1416 [==============================] - 6s 4ms/step - loss: 56.4068 - mean_absolute_error: 0.0175 - val_loss: 54.2458 - val_mean_absolute_error: 0.0157\n",
            "\n",
            "Epoch 00048: val_loss did not improve from 54.07866\n",
            "Epoch 49/200\n",
            "1416/1416 [==============================] - 6s 4ms/step - loss: 57.0598 - mean_absolute_error: 0.0176 - val_loss: 56.0752 - val_mean_absolute_error: 0.0162\n",
            "\n",
            "Epoch 00049: val_loss did not improve from 54.07866\n",
            "Epoch 50/200\n",
            "1416/1416 [==============================] - 6s 4ms/step - loss: 56.6151 - mean_absolute_error: 0.0176 - val_loss: 55.7525 - val_mean_absolute_error: 0.0161\n",
            "\n",
            "Epoch 00050: val_loss did not improve from 54.07866\n",
            "Epoch 51/200\n",
            "1416/1416 [==============================] - 6s 4ms/step - loss: 55.9697 - mean_absolute_error: 0.0175 - val_loss: 56.4169 - val_mean_absolute_error: 0.0154\n",
            "\n",
            "Epoch 00051: val_loss did not improve from 54.07866\n",
            "Epoch 52/200\n",
            "1416/1416 [==============================] - 6s 4ms/step - loss: 56.4185 - mean_absolute_error: 0.0177 - val_loss: 56.6112 - val_mean_absolute_error: 0.0153\n",
            "\n",
            "Epoch 00052: val_loss did not improve from 54.07866\n",
            "Epoch 53/200\n",
            "1416/1416 [==============================] - 6s 4ms/step - loss: 56.8497 - mean_absolute_error: 0.0176 - val_loss: 56.5740 - val_mean_absolute_error: 0.0153\n",
            "\n",
            "Epoch 00053: val_loss did not improve from 54.07866\n",
            "Epoch 54/200\n",
            "1416/1416 [==============================] - 6s 4ms/step - loss: 56.5913 - mean_absolute_error: 0.0175 - val_loss: 54.5468 - val_mean_absolute_error: 0.0159\n",
            "\n",
            "Epoch 00054: val_loss did not improve from 54.07866\n",
            "Epoch 55/200\n",
            "1416/1416 [==============================] - 6s 4ms/step - loss: 56.6320 - mean_absolute_error: 0.0176 - val_loss: 54.2631 - val_mean_absolute_error: 0.0158\n",
            "\n",
            "Epoch 00055: val_loss did not improve from 54.07866\n",
            "Epoch 56/200\n",
            "1416/1416 [==============================] - 6s 4ms/step - loss: 57.1458 - mean_absolute_error: 0.0176 - val_loss: 54.0695 - val_mean_absolute_error: 0.0158\n",
            "\n",
            "Epoch 00056: val_loss improved from 54.07866 to 54.06949, saving model to RegMos3.h5\n",
            "Epoch 57/200\n",
            "1416/1416 [==============================] - 6s 4ms/step - loss: 56.1091 - mean_absolute_error: 0.0175 - val_loss: 55.1556 - val_mean_absolute_error: 0.0160\n",
            "\n",
            "Epoch 00057: val_loss did not improve from 54.06949\n",
            "Epoch 58/200\n",
            "1416/1416 [==============================] - 6s 4ms/step - loss: 56.5519 - mean_absolute_error: 0.0175 - val_loss: 55.0751 - val_mean_absolute_error: 0.0156\n",
            "\n",
            "Epoch 00058: val_loss did not improve from 54.06949\n",
            "Epoch 59/200\n",
            "1416/1416 [==============================] - 6s 4ms/step - loss: 57.2273 - mean_absolute_error: 0.0176 - val_loss: 55.6077 - val_mean_absolute_error: 0.0161\n",
            "\n",
            "Epoch 00059: val_loss did not improve from 54.06949\n",
            "Epoch 60/200\n",
            "1416/1416 [==============================] - 6s 4ms/step - loss: 55.9396 - mean_absolute_error: 0.0176 - val_loss: 56.3842 - val_mean_absolute_error: 0.0154\n",
            "\n",
            "Epoch 00060: val_loss did not improve from 54.06949\n",
            "Epoch 61/200\n",
            "1416/1416 [==============================] - 6s 4ms/step - loss: 56.8425 - mean_absolute_error: 0.0176 - val_loss: 54.8946 - val_mean_absolute_error: 0.0159\n",
            "\n",
            "Epoch 00061: val_loss did not improve from 54.06949\n",
            "Epoch 62/200\n",
            "1416/1416 [==============================] - 6s 4ms/step - loss: 55.9186 - mean_absolute_error: 0.0176 - val_loss: 60.1088 - val_mean_absolute_error: 0.0151\n",
            "\n",
            "Epoch 00062: val_loss did not improve from 54.06949\n",
            "Epoch 63/200\n",
            "1416/1416 [==============================] - 6s 4ms/step - loss: 56.2983 - mean_absolute_error: 0.0175 - val_loss: 54.2199 - val_mean_absolute_error: 0.0158\n",
            "\n",
            "Epoch 00063: val_loss did not improve from 54.06949\n",
            "Epoch 64/200\n",
            "1416/1416 [==============================] - 6s 4ms/step - loss: 57.8966 - mean_absolute_error: 0.0177 - val_loss: 58.6036 - val_mean_absolute_error: 0.0151\n",
            "\n",
            "Epoch 00064: val_loss did not improve from 54.06949\n",
            "Epoch 65/200\n",
            "1416/1416 [==============================] - 6s 4ms/step - loss: 56.7101 - mean_absolute_error: 0.0175 - val_loss: 54.9099 - val_mean_absolute_error: 0.0159\n",
            "\n",
            "Epoch 00065: val_loss did not improve from 54.06949\n",
            "Epoch 66/200\n",
            "1416/1416 [==============================] - 6s 4ms/step - loss: 56.2575 - mean_absolute_error: 0.0175 - val_loss: 54.3765 - val_mean_absolute_error: 0.0157\n",
            "\n",
            "Epoch 00066: val_loss did not improve from 54.06949\n",
            "Epoch 67/200\n",
            "1416/1416 [==============================] - 6s 4ms/step - loss: 55.6774 - mean_absolute_error: 0.0176 - val_loss: 55.5945 - val_mean_absolute_error: 0.0161\n",
            "\n",
            "Epoch 00067: val_loss did not improve from 54.06949\n",
            "Epoch 68/200\n",
            "1416/1416 [==============================] - 6s 4ms/step - loss: 56.2166 - mean_absolute_error: 0.0176 - val_loss: 55.5427 - val_mean_absolute_error: 0.0161\n",
            "\n",
            "Epoch 00068: val_loss did not improve from 54.06949\n",
            "Epoch 69/200\n",
            "1416/1416 [==============================] - 6s 4ms/step - loss: 57.1947 - mean_absolute_error: 0.0176 - val_loss: 56.7930 - val_mean_absolute_error: 0.0163\n",
            "\n",
            "Epoch 00069: val_loss did not improve from 54.06949\n",
            "Epoch 70/200\n",
            "1416/1416 [==============================] - 6s 4ms/step - loss: 57.5977 - mean_absolute_error: 0.0177 - val_loss: 54.7019 - val_mean_absolute_error: 0.0159\n",
            "\n",
            "Epoch 00070: val_loss did not improve from 54.06949\n",
            "Epoch 71/200\n",
            "1416/1416 [==============================] - 6s 4ms/step - loss: 56.3616 - mean_absolute_error: 0.0176 - val_loss: 54.8499 - val_mean_absolute_error: 0.0156\n",
            "\n",
            "Epoch 00071: val_loss did not improve from 54.06949\n",
            "Epoch 72/200\n",
            "1416/1416 [==============================] - 6s 4ms/step - loss: 56.0854 - mean_absolute_error: 0.0176 - val_loss: 54.1513 - val_mean_absolute_error: 0.0158\n",
            "\n",
            "Epoch 00072: val_loss did not improve from 54.06949\n",
            "Epoch 73/200\n",
            "1416/1416 [==============================] - 6s 4ms/step - loss: 56.7977 - mean_absolute_error: 0.0176 - val_loss: 55.3618 - val_mean_absolute_error: 0.0155\n",
            "\n",
            "Epoch 00073: val_loss did not improve from 54.06949\n",
            "Epoch 74/200\n",
            "1416/1416 [==============================] - 6s 4ms/step - loss: 56.7178 - mean_absolute_error: 0.0176 - val_loss: 55.2806 - val_mean_absolute_error: 0.0160\n",
            "\n",
            "Epoch 00074: val_loss did not improve from 54.06949\n",
            "Epoch 75/200\n",
            "1416/1416 [==============================] - 6s 4ms/step - loss: 55.9513 - mean_absolute_error: 0.0176 - val_loss: 55.0003 - val_mean_absolute_error: 0.0160\n",
            "\n",
            "Epoch 00075: val_loss did not improve from 54.06949\n",
            "Epoch 76/200\n",
            "1416/1416 [==============================] - 6s 4ms/step - loss: 55.9345 - mean_absolute_error: 0.0176 - val_loss: 54.4602 - val_mean_absolute_error: 0.0157\n",
            "\n",
            "Epoch 00076: val_loss did not improve from 54.06949\n",
            "Epoch 77/200\n",
            "1416/1416 [==============================] - 6s 4ms/step - loss: 55.6790 - mean_absolute_error: 0.0176 - val_loss: 56.1739 - val_mean_absolute_error: 0.0154\n",
            "\n",
            "Epoch 00077: val_loss did not improve from 54.06949\n",
            "Epoch 78/200\n",
            "1416/1416 [==============================] - 6s 4ms/step - loss: 56.7562 - mean_absolute_error: 0.0176 - val_loss: 56.8656 - val_mean_absolute_error: 0.0153\n",
            "\n",
            "Epoch 00078: val_loss did not improve from 54.06949\n",
            "Epoch 79/200\n",
            "1416/1416 [==============================] - 6s 4ms/step - loss: 56.4854 - mean_absolute_error: 0.0176 - val_loss: 54.2503 - val_mean_absolute_error: 0.0157\n",
            "\n",
            "Epoch 00079: val_loss did not improve from 54.06949\n",
            "Epoch 80/200\n",
            "1416/1416 [==============================] - 6s 4ms/step - loss: 56.3187 - mean_absolute_error: 0.0176 - val_loss: 55.0027 - val_mean_absolute_error: 0.0156\n",
            "\n",
            "Epoch 00080: val_loss did not improve from 54.06949\n",
            "Epoch 81/200\n",
            "1416/1416 [==============================] - 6s 4ms/step - loss: 56.8629 - mean_absolute_error: 0.0176 - val_loss: 60.0577 - val_mean_absolute_error: 0.0151\n",
            "\n",
            "Epoch 00081: val_loss did not improve from 54.06949\n",
            "Epoch 82/200\n",
            "1416/1416 [==============================] - 6s 4ms/step - loss: 56.3209 - mean_absolute_error: 0.0176 - val_loss: 55.6295 - val_mean_absolute_error: 0.0155\n",
            "\n",
            "Epoch 00082: val_loss did not improve from 54.06949\n",
            "Epoch 83/200\n",
            "1416/1416 [==============================] - 6s 4ms/step - loss: 56.3305 - mean_absolute_error: 0.0175 - val_loss: 54.5306 - val_mean_absolute_error: 0.0157\n",
            "\n",
            "Epoch 00083: val_loss did not improve from 54.06949\n",
            "Epoch 84/200\n",
            "1416/1416 [==============================] - 6s 4ms/step - loss: 56.9066 - mean_absolute_error: 0.0176 - val_loss: 54.8315 - val_mean_absolute_error: 0.0156\n",
            "\n",
            "Epoch 00084: val_loss did not improve from 54.06949\n",
            "Epoch 85/200\n",
            "1416/1416 [==============================] - 6s 4ms/step - loss: 56.2108 - mean_absolute_error: 0.0175 - val_loss: 55.8426 - val_mean_absolute_error: 0.0154\n",
            "\n",
            "Epoch 00085: val_loss did not improve from 54.06949\n",
            "Epoch 86/200\n",
            "1416/1416 [==============================] - 6s 4ms/step - loss: 56.3627 - mean_absolute_error: 0.0177 - val_loss: 55.2952 - val_mean_absolute_error: 0.0160\n",
            "\n",
            "Epoch 00086: val_loss did not improve from 54.06949\n",
            "Epoch 87/200\n",
            "1416/1416 [==============================] - 6s 4ms/step - loss: 55.5145 - mean_absolute_error: 0.0176 - val_loss: 55.3249 - val_mean_absolute_error: 0.0155\n",
            "\n",
            "Epoch 00087: val_loss did not improve from 54.06949\n",
            "Epoch 88/200\n",
            "1416/1416 [==============================] - 6s 4ms/step - loss: 56.8069 - mean_absolute_error: 0.0175 - val_loss: 54.7001 - val_mean_absolute_error: 0.0159\n",
            "\n",
            "Epoch 00088: val_loss did not improve from 54.06949\n",
            "Epoch 89/200\n",
            "1416/1416 [==============================] - 6s 4ms/step - loss: 55.8420 - mean_absolute_error: 0.0176 - val_loss: 55.5447 - val_mean_absolute_error: 0.0155\n",
            "\n",
            "Epoch 00089: val_loss did not improve from 54.06949\n",
            "Epoch 90/200\n",
            "1416/1416 [==============================] - 6s 4ms/step - loss: 56.3004 - mean_absolute_error: 0.0175 - val_loss: 54.0078 - val_mean_absolute_error: 0.0157\n",
            "\n",
            "Epoch 00090: val_loss improved from 54.06949 to 54.00780, saving model to RegMos3.h5\n",
            "Epoch 91/200\n",
            "1416/1416 [==============================] - 6s 4ms/step - loss: 56.3829 - mean_absolute_error: 0.0176 - val_loss: 54.7930 - val_mean_absolute_error: 0.0156\n",
            "\n",
            "Epoch 00091: val_loss did not improve from 54.00780\n",
            "Epoch 92/200\n",
            "1416/1416 [==============================] - 6s 4ms/step - loss: 56.7469 - mean_absolute_error: 0.0176 - val_loss: 54.9758 - val_mean_absolute_error: 0.0156\n",
            "\n",
            "Epoch 00092: val_loss did not improve from 54.00780\n",
            "Epoch 93/200\n",
            "1416/1416 [==============================] - 6s 4ms/step - loss: 56.6058 - mean_absolute_error: 0.0176 - val_loss: 55.6281 - val_mean_absolute_error: 0.0155\n",
            "\n",
            "Epoch 00093: val_loss did not improve from 54.00780\n",
            "Epoch 94/200\n",
            "1416/1416 [==============================] - 6s 4ms/step - loss: 56.3770 - mean_absolute_error: 0.0176 - val_loss: 53.9321 - val_mean_absolute_error: 0.0157\n",
            "\n",
            "Epoch 00094: val_loss improved from 54.00780 to 53.93211, saving model to RegMos3.h5\n",
            "Epoch 95/200\n",
            "1416/1416 [==============================] - 6s 4ms/step - loss: 55.8493 - mean_absolute_error: 0.0176 - val_loss: 55.2365 - val_mean_absolute_error: 0.0155\n",
            "\n",
            "Epoch 00095: val_loss did not improve from 53.93211\n",
            "Epoch 96/200\n",
            "1416/1416 [==============================] - 6s 4ms/step - loss: 57.0914 - mean_absolute_error: 0.0176 - val_loss: 54.4457 - val_mean_absolute_error: 0.0157\n",
            "\n",
            "Epoch 00096: val_loss did not improve from 53.93211\n",
            "Epoch 97/200\n",
            "1416/1416 [==============================] - 6s 4ms/step - loss: 56.0490 - mean_absolute_error: 0.0175 - val_loss: 55.2776 - val_mean_absolute_error: 0.0160\n",
            "\n",
            "Epoch 00097: val_loss did not improve from 53.93211\n",
            "Epoch 98/200\n",
            "1416/1416 [==============================] - 6s 4ms/step - loss: 56.0665 - mean_absolute_error: 0.0176 - val_loss: 55.7768 - val_mean_absolute_error: 0.0154\n",
            "\n",
            "Epoch 00098: val_loss did not improve from 53.93211\n",
            "Epoch 99/200\n",
            "1416/1416 [==============================] - 6s 4ms/step - loss: 56.4648 - mean_absolute_error: 0.0176 - val_loss: 53.9926 - val_mean_absolute_error: 0.0158\n",
            "\n",
            "Epoch 00099: val_loss did not improve from 53.93211\n",
            "Epoch 100/200\n",
            "1416/1416 [==============================] - 6s 4ms/step - loss: 56.3058 - mean_absolute_error: 0.0175 - val_loss: 54.2239 - val_mean_absolute_error: 0.0157\n",
            "\n",
            "Epoch 00100: val_loss did not improve from 53.93211\n",
            "Epoch 101/200\n",
            "1416/1416 [==============================] - 6s 4ms/step - loss: 56.3377 - mean_absolute_error: 0.0176 - val_loss: 54.5592 - val_mean_absolute_error: 0.0156\n",
            "\n",
            "Epoch 00101: val_loss did not improve from 53.93211\n",
            "Epoch 102/200\n",
            "1416/1416 [==============================] - 6s 4ms/step - loss: 56.2179 - mean_absolute_error: 0.0176 - val_loss: 66.5031 - val_mean_absolute_error: 0.0173\n",
            "\n",
            "Epoch 00102: val_loss did not improve from 53.93211\n",
            "Epoch 103/200\n",
            "1416/1416 [==============================] - 6s 4ms/step - loss: 57.4857 - mean_absolute_error: 0.0176 - val_loss: 55.8163 - val_mean_absolute_error: 0.0154\n",
            "\n",
            "Epoch 00103: val_loss did not improve from 53.93211\n",
            "Epoch 104/200\n",
            "1416/1416 [==============================] - 6s 4ms/step - loss: 56.0021 - mean_absolute_error: 0.0175 - val_loss: 55.8758 - val_mean_absolute_error: 0.0154\n",
            "\n",
            "Epoch 00104: val_loss did not improve from 53.93211\n",
            "Epoch 105/200\n",
            "1416/1416 [==============================] - 6s 4ms/step - loss: 56.0751 - mean_absolute_error: 0.0177 - val_loss: 55.4726 - val_mean_absolute_error: 0.0155\n",
            "\n",
            "Epoch 00105: val_loss did not improve from 53.93211\n",
            "Epoch 106/200\n",
            "1416/1416 [==============================] - 6s 4ms/step - loss: 55.8018 - mean_absolute_error: 0.0175 - val_loss: 55.9698 - val_mean_absolute_error: 0.0162\n",
            "\n",
            "Epoch 00106: val_loss did not improve from 53.93211\n",
            "Epoch 107/200\n",
            "1416/1416 [==============================] - 6s 4ms/step - loss: 56.5709 - mean_absolute_error: 0.0176 - val_loss: 54.5073 - val_mean_absolute_error: 0.0156\n",
            "\n",
            "Epoch 00107: val_loss did not improve from 53.93211\n",
            "Epoch 108/200\n",
            "1416/1416 [==============================] - 6s 4ms/step - loss: 55.7599 - mean_absolute_error: 0.0176 - val_loss: 54.7300 - val_mean_absolute_error: 0.0160\n",
            "\n",
            "Epoch 00108: val_loss did not improve from 53.93211\n",
            "Epoch 109/200\n",
            "1416/1416 [==============================] - 6s 4ms/step - loss: 56.3683 - mean_absolute_error: 0.0175 - val_loss: 55.9671 - val_mean_absolute_error: 0.0162\n",
            "\n",
            "Epoch 00109: val_loss did not improve from 53.93211\n",
            "Epoch 110/200\n",
            "1416/1416 [==============================] - 6s 4ms/step - loss: 56.5269 - mean_absolute_error: 0.0176 - val_loss: 54.9356 - val_mean_absolute_error: 0.0156\n",
            "\n",
            "Epoch 00110: val_loss did not improve from 53.93211\n",
            "Epoch 111/200\n",
            "1416/1416 [==============================] - 6s 4ms/step - loss: 57.0817 - mean_absolute_error: 0.0177 - val_loss: 54.9916 - val_mean_absolute_error: 0.0156\n",
            "\n",
            "Epoch 00111: val_loss did not improve from 53.93211\n",
            "Epoch 112/200\n",
            "1416/1416 [==============================] - 6s 4ms/step - loss: 57.5804 - mean_absolute_error: 0.0176 - val_loss: 56.9358 - val_mean_absolute_error: 0.0164\n",
            "\n",
            "Epoch 00112: val_loss did not improve from 53.93211\n",
            "Epoch 113/200\n",
            "1416/1416 [==============================] - 6s 4ms/step - loss: 56.1894 - mean_absolute_error: 0.0175 - val_loss: 58.6144 - val_mean_absolute_error: 0.0167\n",
            "\n",
            "Epoch 00113: val_loss did not improve from 53.93211\n",
            "Epoch 114/200\n",
            "1416/1416 [==============================] - 6s 4ms/step - loss: 56.8477 - mean_absolute_error: 0.0177 - val_loss: 54.1368 - val_mean_absolute_error: 0.0157\n",
            "\n",
            "Epoch 00114: val_loss did not improve from 53.93211\n",
            "Epoch 115/200\n",
            "1416/1416 [==============================] - 6s 4ms/step - loss: 56.0767 - mean_absolute_error: 0.0175 - val_loss: 53.7398 - val_mean_absolute_error: 0.0158\n",
            "\n",
            "Epoch 00115: val_loss improved from 53.93211 to 53.73980, saving model to RegMos3.h5\n",
            "Epoch 116/200\n",
            "1416/1416 [==============================] - 6s 4ms/step - loss: 56.3735 - mean_absolute_error: 0.0176 - val_loss: 54.7148 - val_mean_absolute_error: 0.0156\n",
            "\n",
            "Epoch 00116: val_loss did not improve from 53.73980\n",
            "Epoch 117/200\n",
            "1416/1416 [==============================] - 6s 4ms/step - loss: 55.8618 - mean_absolute_error: 0.0175 - val_loss: 54.1077 - val_mean_absolute_error: 0.0157\n",
            "\n",
            "Epoch 00117: val_loss did not improve from 53.73980\n",
            "Epoch 118/200\n",
            "1416/1416 [==============================] - 6s 4ms/step - loss: 56.2609 - mean_absolute_error: 0.0176 - val_loss: 55.7557 - val_mean_absolute_error: 0.0154\n",
            "\n",
            "Epoch 00118: val_loss did not improve from 53.73980\n",
            "Epoch 119/200\n",
            "1416/1416 [==============================] - 6s 4ms/step - loss: 56.7984 - mean_absolute_error: 0.0177 - val_loss: 54.4499 - val_mean_absolute_error: 0.0159\n",
            "\n",
            "Epoch 00119: val_loss did not improve from 53.73980\n",
            "Epoch 120/200\n",
            "1416/1416 [==============================] - 6s 4ms/step - loss: 55.7239 - mean_absolute_error: 0.0176 - val_loss: 57.0254 - val_mean_absolute_error: 0.0152\n",
            "\n",
            "Epoch 00120: val_loss did not improve from 53.73980\n",
            "Epoch 121/200\n",
            "1416/1416 [==============================] - 6s 4ms/step - loss: 56.0502 - mean_absolute_error: 0.0175 - val_loss: 54.4985 - val_mean_absolute_error: 0.0156\n",
            "\n",
            "Epoch 00121: val_loss did not improve from 53.73980\n",
            "Epoch 122/200\n",
            "1416/1416 [==============================] - 6s 4ms/step - loss: 56.0936 - mean_absolute_error: 0.0175 - val_loss: 55.8412 - val_mean_absolute_error: 0.0154\n",
            "\n",
            "Epoch 00122: val_loss did not improve from 53.73980\n",
            "Epoch 123/200\n",
            "1416/1416 [==============================] - 6s 4ms/step - loss: 56.1012 - mean_absolute_error: 0.0176 - val_loss: 53.8501 - val_mean_absolute_error: 0.0157\n",
            "\n",
            "Epoch 00123: val_loss did not improve from 53.73980\n",
            "Epoch 124/200\n",
            "1416/1416 [==============================] - 6s 4ms/step - loss: 56.0731 - mean_absolute_error: 0.0175 - val_loss: 58.4766 - val_mean_absolute_error: 0.0151\n",
            "\n",
            "Epoch 00124: val_loss did not improve from 53.73980\n",
            "Epoch 125/200\n",
            "1416/1416 [==============================] - 6s 4ms/step - loss: 56.8414 - mean_absolute_error: 0.0176 - val_loss: 56.2260 - val_mean_absolute_error: 0.0153\n",
            "\n",
            "Epoch 00125: val_loss did not improve from 53.73980\n",
            "Epoch 126/200\n",
            "1416/1416 [==============================] - 6s 4ms/step - loss: 56.3570 - mean_absolute_error: 0.0176 - val_loss: 54.7059 - val_mean_absolute_error: 0.0156\n",
            "\n",
            "Epoch 00126: val_loss did not improve from 53.73980\n",
            "Epoch 127/200\n",
            "1416/1416 [==============================] - 6s 4ms/step - loss: 56.4401 - mean_absolute_error: 0.0176 - val_loss: 55.5370 - val_mean_absolute_error: 0.0154\n",
            "\n",
            "Epoch 00127: val_loss did not improve from 53.73980\n",
            "Epoch 128/200\n",
            "1416/1416 [==============================] - 6s 4ms/step - loss: 56.5386 - mean_absolute_error: 0.0175 - val_loss: 53.6919 - val_mean_absolute_error: 0.0157\n",
            "\n",
            "Epoch 00128: val_loss improved from 53.73980 to 53.69186, saving model to RegMos3.h5\n",
            "Epoch 129/200\n",
            "1416/1416 [==============================] - 6s 4ms/step - loss: 55.7777 - mean_absolute_error: 0.0176 - val_loss: 54.5989 - val_mean_absolute_error: 0.0156\n",
            "\n",
            "Epoch 00129: val_loss did not improve from 53.69186\n",
            "Epoch 130/200\n",
            "1416/1416 [==============================] - 6s 4ms/step - loss: 55.5772 - mean_absolute_error: 0.0175 - val_loss: 54.4648 - val_mean_absolute_error: 0.0159\n",
            "\n",
            "Epoch 00130: val_loss did not improve from 53.69186\n",
            "Epoch 131/200\n",
            "1416/1416 [==============================] - 6s 4ms/step - loss: 56.0395 - mean_absolute_error: 0.0176 - val_loss: 54.0530 - val_mean_absolute_error: 0.0157\n",
            "\n",
            "Epoch 00131: val_loss did not improve from 53.69186\n",
            "Epoch 132/200\n",
            "1416/1416 [==============================] - 6s 4ms/step - loss: 56.4705 - mean_absolute_error: 0.0176 - val_loss: 56.1738 - val_mean_absolute_error: 0.0163\n",
            "\n",
            "Epoch 00132: val_loss did not improve from 53.69186\n",
            "Epoch 133/200\n",
            "1416/1416 [==============================] - 6s 4ms/step - loss: 56.7390 - mean_absolute_error: 0.0176 - val_loss: 55.0149 - val_mean_absolute_error: 0.0155\n",
            "\n",
            "Epoch 00133: val_loss did not improve from 53.69186\n",
            "Epoch 134/200\n",
            "1416/1416 [==============================] - 6s 4ms/step - loss: 55.8653 - mean_absolute_error: 0.0176 - val_loss: 56.9143 - val_mean_absolute_error: 0.0164\n",
            "\n",
            "Epoch 00134: val_loss did not improve from 53.69186\n",
            "Epoch 135/200\n",
            "1416/1416 [==============================] - 6s 4ms/step - loss: 55.6368 - mean_absolute_error: 0.0177 - val_loss: 55.9110 - val_mean_absolute_error: 0.0154\n",
            "\n",
            "Epoch 00135: val_loss did not improve from 53.69186\n",
            "Epoch 136/200\n",
            "1416/1416 [==============================] - 6s 4ms/step - loss: 56.5345 - mean_absolute_error: 0.0176 - val_loss: 53.9206 - val_mean_absolute_error: 0.0157\n",
            "\n",
            "Epoch 00136: val_loss did not improve from 53.69186\n",
            "Epoch 137/200\n",
            "1416/1416 [==============================] - 6s 4ms/step - loss: 55.6874 - mean_absolute_error: 0.0176 - val_loss: 57.6704 - val_mean_absolute_error: 0.0151\n",
            "\n",
            "Epoch 00137: val_loss did not improve from 53.69186\n",
            "Epoch 138/200\n",
            "1416/1416 [==============================] - 6s 4ms/step - loss: 56.6196 - mean_absolute_error: 0.0175 - val_loss: 54.2454 - val_mean_absolute_error: 0.0156\n",
            "\n",
            "Epoch 00138: val_loss did not improve from 53.69186\n",
            "Epoch 139/200\n",
            "1416/1416 [==============================] - 6s 4ms/step - loss: 55.5280 - mean_absolute_error: 0.0176 - val_loss: 53.5877 - val_mean_absolute_error: 0.0158\n",
            "\n",
            "Epoch 00139: val_loss improved from 53.69186 to 53.58771, saving model to RegMos3.h5\n",
            "Epoch 140/200\n",
            "1416/1416 [==============================] - 6s 4ms/step - loss: 55.4808 - mean_absolute_error: 0.0176 - val_loss: 55.4843 - val_mean_absolute_error: 0.0161\n",
            "\n",
            "Epoch 00140: val_loss did not improve from 53.58771\n",
            "Epoch 141/200\n",
            "1416/1416 [==============================] - 6s 4ms/step - loss: 56.1049 - mean_absolute_error: 0.0176 - val_loss: 54.7322 - val_mean_absolute_error: 0.0156\n",
            "\n",
            "Epoch 00141: val_loss did not improve from 53.58771\n",
            "Epoch 142/200\n",
            "1416/1416 [==============================] - 6s 4ms/step - loss: 55.9919 - mean_absolute_error: 0.0176 - val_loss: 54.5577 - val_mean_absolute_error: 0.0156\n",
            "\n",
            "Epoch 00142: val_loss did not improve from 53.58771\n",
            "Epoch 143/200\n",
            "1416/1416 [==============================] - 6s 4ms/step - loss: 56.8147 - mean_absolute_error: 0.0176 - val_loss: 54.0210 - val_mean_absolute_error: 0.0157\n",
            "\n",
            "Epoch 00143: val_loss did not improve from 53.58771\n",
            "Epoch 144/200\n",
            "1416/1416 [==============================] - 6s 4ms/step - loss: 55.7517 - mean_absolute_error: 0.0176 - val_loss: 55.3967 - val_mean_absolute_error: 0.0154\n",
            "\n",
            "Epoch 00144: val_loss did not improve from 53.58771\n",
            "Epoch 145/200\n",
            "1416/1416 [==============================] - 6s 4ms/step - loss: 56.0086 - mean_absolute_error: 0.0176 - val_loss: 55.3449 - val_mean_absolute_error: 0.0161\n",
            "\n",
            "Epoch 00145: val_loss did not improve from 53.58771\n",
            "Epoch 146/200\n",
            "1416/1416 [==============================] - 6s 4ms/step - loss: 55.9070 - mean_absolute_error: 0.0176 - val_loss: 56.5312 - val_mean_absolute_error: 0.0153\n",
            "\n",
            "Epoch 00146: val_loss did not improve from 53.58771\n",
            "Epoch 147/200\n",
            "1416/1416 [==============================] - 6s 4ms/step - loss: 56.1824 - mean_absolute_error: 0.0176 - val_loss: 54.4694 - val_mean_absolute_error: 0.0156\n",
            "\n",
            "Epoch 00147: val_loss did not improve from 53.58771\n",
            "Epoch 148/200\n",
            "1416/1416 [==============================] - 6s 4ms/step - loss: 56.2847 - mean_absolute_error: 0.0176 - val_loss: 55.8555 - val_mean_absolute_error: 0.0154\n",
            "\n",
            "Epoch 00148: val_loss did not improve from 53.58771\n",
            "Epoch 149/200\n",
            "1416/1416 [==============================] - 6s 4ms/step - loss: 55.7477 - mean_absolute_error: 0.0175 - val_loss: 54.2118 - val_mean_absolute_error: 0.0156\n",
            "\n",
            "Epoch 00149: val_loss did not improve from 53.58771\n",
            "Epoch 150/200\n",
            "1416/1416 [==============================] - 6s 4ms/step - loss: 57.0376 - mean_absolute_error: 0.0176 - val_loss: 55.5404 - val_mean_absolute_error: 0.0154\n",
            "\n",
            "Epoch 00150: val_loss did not improve from 53.58771\n",
            "Epoch 151/200\n",
            "1416/1416 [==============================] - 6s 4ms/step - loss: 56.2333 - mean_absolute_error: 0.0175 - val_loss: 55.4381 - val_mean_absolute_error: 0.0161\n",
            "\n",
            "Epoch 00151: val_loss did not improve from 53.58771\n",
            "Epoch 152/200\n",
            "1416/1416 [==============================] - 6s 4ms/step - loss: 55.5372 - mean_absolute_error: 0.0176 - val_loss: 54.1934 - val_mean_absolute_error: 0.0156\n",
            "\n",
            "Epoch 00152: val_loss did not improve from 53.58771\n",
            "Epoch 153/200\n",
            "1416/1416 [==============================] - 6s 4ms/step - loss: 56.0986 - mean_absolute_error: 0.0176 - val_loss: 53.9057 - val_mean_absolute_error: 0.0157\n",
            "\n",
            "Epoch 00153: val_loss did not improve from 53.58771\n",
            "Epoch 154/200\n",
            "1416/1416 [==============================] - 6s 4ms/step - loss: 56.4936 - mean_absolute_error: 0.0176 - val_loss: 54.2129 - val_mean_absolute_error: 0.0159\n",
            "\n",
            "Epoch 00154: val_loss did not improve from 53.58771\n",
            "Epoch 155/200\n",
            "1416/1416 [==============================] - 6s 4ms/step - loss: 55.9474 - mean_absolute_error: 0.0175 - val_loss: 53.5716 - val_mean_absolute_error: 0.0157\n",
            "\n",
            "Epoch 00155: val_loss improved from 53.58771 to 53.57164, saving model to RegMos3.h5\n",
            "Epoch 156/200\n",
            "1416/1416 [==============================] - 6s 4ms/step - loss: 55.2916 - mean_absolute_error: 0.0176 - val_loss: 53.9773 - val_mean_absolute_error: 0.0157\n",
            "\n",
            "Epoch 00156: val_loss did not improve from 53.57164\n",
            "Epoch 157/200\n",
            "1416/1416 [==============================] - 6s 4ms/step - loss: 55.5462 - mean_absolute_error: 0.0176 - val_loss: 53.5673 - val_mean_absolute_error: 0.0158\n",
            "\n",
            "Epoch 00157: val_loss improved from 53.57164 to 53.56725, saving model to RegMos3.h5\n",
            "Epoch 158/200\n",
            "1416/1416 [==============================] - 6s 4ms/step - loss: 56.9202 - mean_absolute_error: 0.0175 - val_loss: 56.6849 - val_mean_absolute_error: 0.0152\n",
            "\n",
            "Epoch 00158: val_loss did not improve from 53.56725\n",
            "Epoch 159/200\n",
            "1416/1416 [==============================] - 6s 4ms/step - loss: 56.2062 - mean_absolute_error: 0.0176 - val_loss: 54.1045 - val_mean_absolute_error: 0.0156\n",
            "\n",
            "Epoch 00159: val_loss did not improve from 53.56725\n",
            "Epoch 160/200\n",
            "1416/1416 [==============================] - 6s 4ms/step - loss: 55.6435 - mean_absolute_error: 0.0176 - val_loss: 56.0848 - val_mean_absolute_error: 0.0163\n",
            "\n",
            "Epoch 00160: val_loss did not improve from 53.56725\n",
            "Epoch 161/200\n",
            "1416/1416 [==============================] - 6s 4ms/step - loss: 55.9303 - mean_absolute_error: 0.0176 - val_loss: 53.6731 - val_mean_absolute_error: 0.0158\n",
            "\n",
            "Epoch 00161: val_loss did not improve from 53.56725\n",
            "Epoch 162/200\n",
            "1416/1416 [==============================] - 6s 4ms/step - loss: 56.1886 - mean_absolute_error: 0.0176 - val_loss: 54.8321 - val_mean_absolute_error: 0.0155\n",
            "\n",
            "Epoch 00162: val_loss did not improve from 53.56725\n",
            "Epoch 163/200\n",
            "1416/1416 [==============================] - 6s 4ms/step - loss: 55.5284 - mean_absolute_error: 0.0175 - val_loss: 54.8979 - val_mean_absolute_error: 0.0155\n",
            "\n",
            "Epoch 00163: val_loss did not improve from 53.56725\n",
            "Epoch 164/200\n",
            "1416/1416 [==============================] - 6s 4ms/step - loss: 55.5543 - mean_absolute_error: 0.0176 - val_loss: 53.5310 - val_mean_absolute_error: 0.0157\n",
            "\n",
            "Epoch 00164: val_loss improved from 53.56725 to 53.53104, saving model to RegMos3.h5\n",
            "Epoch 165/200\n",
            "1416/1416 [==============================] - 6s 4ms/step - loss: 56.1100 - mean_absolute_error: 0.0176 - val_loss: 53.8424 - val_mean_absolute_error: 0.0157\n",
            "\n",
            "Epoch 00165: val_loss did not improve from 53.53104\n",
            "Epoch 166/200\n",
            "1416/1416 [==============================] - 6s 4ms/step - loss: 55.2406 - mean_absolute_error: 0.0175 - val_loss: 53.4299 - val_mean_absolute_error: 0.0158\n",
            "\n",
            "Epoch 00166: val_loss improved from 53.53104 to 53.42988, saving model to RegMos3.h5\n",
            "Epoch 167/200\n",
            "1416/1416 [==============================] - 6s 4ms/step - loss: 55.8922 - mean_absolute_error: 0.0175 - val_loss: 56.3091 - val_mean_absolute_error: 0.0163\n",
            "\n",
            "Epoch 00167: val_loss did not improve from 53.42988\n",
            "Epoch 168/200\n",
            "1416/1416 [==============================] - 6s 4ms/step - loss: 55.6691 - mean_absolute_error: 0.0176 - val_loss: 54.8346 - val_mean_absolute_error: 0.0160\n",
            "\n",
            "Epoch 00168: val_loss did not improve from 53.42988\n",
            "Epoch 169/200\n",
            "1416/1416 [==============================] - 6s 4ms/step - loss: 56.1520 - mean_absolute_error: 0.0175 - val_loss: 55.9879 - val_mean_absolute_error: 0.0153\n",
            "\n",
            "Epoch 00169: val_loss did not improve from 53.42988\n",
            "Epoch 170/200\n",
            "1416/1416 [==============================] - 6s 4ms/step - loss: 57.0270 - mean_absolute_error: 0.0177 - val_loss: 55.2589 - val_mean_absolute_error: 0.0155\n",
            "\n",
            "Epoch 00170: val_loss did not improve from 53.42988\n",
            "Epoch 171/200\n",
            "1416/1416 [==============================] - 6s 4ms/step - loss: 55.4049 - mean_absolute_error: 0.0176 - val_loss: 54.0146 - val_mean_absolute_error: 0.0157\n",
            "\n",
            "Epoch 00171: val_loss did not improve from 53.42988\n",
            "Epoch 172/200\n",
            "1416/1416 [==============================] - 6s 4ms/step - loss: 55.6877 - mean_absolute_error: 0.0176 - val_loss: 54.0657 - val_mean_absolute_error: 0.0157\n",
            "\n",
            "Epoch 00172: val_loss did not improve from 53.42988\n",
            "Epoch 173/200\n",
            "1416/1416 [==============================] - 6s 4ms/step - loss: 56.0827 - mean_absolute_error: 0.0176 - val_loss: 53.4942 - val_mean_absolute_error: 0.0157\n",
            "\n",
            "Epoch 00173: val_loss did not improve from 53.42988\n",
            "Epoch 174/200\n",
            "1416/1416 [==============================] - 6s 4ms/step - loss: 55.9659 - mean_absolute_error: 0.0175 - val_loss: 53.7346 - val_mean_absolute_error: 0.0158\n",
            "\n",
            "Epoch 00174: val_loss did not improve from 53.42988\n",
            "Epoch 175/200\n",
            "1416/1416 [==============================] - 6s 4ms/step - loss: 56.7433 - mean_absolute_error: 0.0177 - val_loss: 53.4415 - val_mean_absolute_error: 0.0158\n",
            "\n",
            "Epoch 00175: val_loss did not improve from 53.42988\n",
            "Epoch 176/200\n",
            "1416/1416 [==============================] - 6s 4ms/step - loss: 56.2178 - mean_absolute_error: 0.0175 - val_loss: 55.4106 - val_mean_absolute_error: 0.0154\n",
            "\n",
            "Epoch 00176: val_loss did not improve from 53.42988\n",
            "Epoch 177/200\n",
            "1416/1416 [==============================] - 6s 4ms/step - loss: 55.9315 - mean_absolute_error: 0.0175 - val_loss: 54.4071 - val_mean_absolute_error: 0.0160\n",
            "\n",
            "Epoch 00177: val_loss did not improve from 53.42988\n",
            "Epoch 178/200\n",
            "1416/1416 [==============================] - 6s 4ms/step - loss: 55.9800 - mean_absolute_error: 0.0175 - val_loss: 55.3859 - val_mean_absolute_error: 0.0161\n",
            "\n",
            "Epoch 00178: val_loss did not improve from 53.42988\n",
            "Epoch 179/200\n",
            "1416/1416 [==============================] - 6s 4ms/step - loss: 55.7204 - mean_absolute_error: 0.0176 - val_loss: 54.6675 - val_mean_absolute_error: 0.0156\n",
            "\n",
            "Epoch 00179: val_loss did not improve from 53.42988\n",
            "Epoch 180/200\n",
            "1416/1416 [==============================] - 6s 4ms/step - loss: 56.1472 - mean_absolute_error: 0.0175 - val_loss: 55.7942 - val_mean_absolute_error: 0.0154\n",
            "\n",
            "Epoch 00180: val_loss did not improve from 53.42988\n",
            "Epoch 181/200\n",
            "1416/1416 [==============================] - 6s 4ms/step - loss: 55.9356 - mean_absolute_error: 0.0176 - val_loss: 58.2974 - val_mean_absolute_error: 0.0167\n",
            "\n",
            "Epoch 00181: val_loss did not improve from 53.42988\n",
            "Epoch 182/200\n",
            "1416/1416 [==============================] - 6s 4ms/step - loss: 55.1650 - mean_absolute_error: 0.0175 - val_loss: 55.8791 - val_mean_absolute_error: 0.0153\n",
            "\n",
            "Epoch 00182: val_loss did not improve from 53.42988\n",
            "Epoch 183/200\n",
            "1416/1416 [==============================] - 6s 4ms/step - loss: 56.0809 - mean_absolute_error: 0.0177 - val_loss: 55.1282 - val_mean_absolute_error: 0.0155\n",
            "\n",
            "Epoch 00183: val_loss did not improve from 53.42988\n",
            "Epoch 184/200\n",
            "1416/1416 [==============================] - 6s 4ms/step - loss: 55.4796 - mean_absolute_error: 0.0175 - val_loss: 57.8093 - val_mean_absolute_error: 0.0166\n",
            "\n",
            "Epoch 00184: val_loss did not improve from 53.42988\n",
            "Epoch 185/200\n",
            "1416/1416 [==============================] - 6s 4ms/step - loss: 55.7166 - mean_absolute_error: 0.0177 - val_loss: 56.2359 - val_mean_absolute_error: 0.0153\n",
            "\n",
            "Epoch 00185: val_loss did not improve from 53.42988\n",
            "Epoch 186/200\n",
            "1416/1416 [==============================] - 6s 4ms/step - loss: 55.8734 - mean_absolute_error: 0.0176 - val_loss: 54.7286 - val_mean_absolute_error: 0.0155\n",
            "\n",
            "Epoch 00186: val_loss did not improve from 53.42988\n",
            "Epoch 187/200\n",
            "1416/1416 [==============================] - 6s 4ms/step - loss: 55.5863 - mean_absolute_error: 0.0176 - val_loss: 53.4283 - val_mean_absolute_error: 0.0158\n",
            "\n",
            "Epoch 00187: val_loss improved from 53.42988 to 53.42826, saving model to RegMos3.h5\n",
            "Epoch 188/200\n",
            "1416/1416 [==============================] - 6s 4ms/step - loss: 55.9109 - mean_absolute_error: 0.0176 - val_loss: 54.1931 - val_mean_absolute_error: 0.0159\n",
            "\n",
            "Epoch 00188: val_loss did not improve from 53.42826\n",
            "Epoch 189/200\n",
            "1416/1416 [==============================] - 6s 4ms/step - loss: 56.4158 - mean_absolute_error: 0.0176 - val_loss: 54.4873 - val_mean_absolute_error: 0.0156\n",
            "\n",
            "Epoch 00189: val_loss did not improve from 53.42826\n",
            "Epoch 190/200\n",
            "1416/1416 [==============================] - 6s 4ms/step - loss: 55.7377 - mean_absolute_error: 0.0176 - val_loss: 53.9815 - val_mean_absolute_error: 0.0157\n",
            "\n",
            "Epoch 00190: val_loss did not improve from 53.42826\n",
            "Epoch 191/200\n",
            "1416/1416 [==============================] - 6s 4ms/step - loss: 55.2640 - mean_absolute_error: 0.0176 - val_loss: 53.8681 - val_mean_absolute_error: 0.0157\n",
            "\n",
            "Epoch 00191: val_loss did not improve from 53.42826\n",
            "Epoch 192/200\n",
            "1416/1416 [==============================] - 6s 4ms/step - loss: 55.8506 - mean_absolute_error: 0.0176 - val_loss: 54.7295 - val_mean_absolute_error: 0.0156\n",
            "\n",
            "Epoch 00192: val_loss did not improve from 53.42826\n",
            "Epoch 193/200\n",
            "1416/1416 [==============================] - 6s 4ms/step - loss: 55.7572 - mean_absolute_error: 0.0175 - val_loss: 54.7824 - val_mean_absolute_error: 0.0160\n",
            "\n",
            "Epoch 00193: val_loss did not improve from 53.42826\n",
            "Epoch 194/200\n",
            "1416/1416 [==============================] - 6s 4ms/step - loss: 55.6599 - mean_absolute_error: 0.0176 - val_loss: 54.7519 - val_mean_absolute_error: 0.0156\n",
            "\n",
            "Epoch 00194: val_loss did not improve from 53.42826\n",
            "Epoch 195/200\n",
            "1416/1416 [==============================] - 6s 4ms/step - loss: 55.9863 - mean_absolute_error: 0.0176 - val_loss: 53.7124 - val_mean_absolute_error: 0.0157\n",
            "\n",
            "Epoch 00195: val_loss did not improve from 53.42826\n",
            "Epoch 196/200\n",
            "1416/1416 [==============================] - 6s 4ms/step - loss: 56.4557 - mean_absolute_error: 0.0176 - val_loss: 56.8539 - val_mean_absolute_error: 0.0164\n",
            "\n",
            "Epoch 00196: val_loss did not improve from 53.42826\n",
            "Epoch 197/200\n",
            "1416/1416 [==============================] - 6s 4ms/step - loss: 56.4272 - mean_absolute_error: 0.0176 - val_loss: 54.1612 - val_mean_absolute_error: 0.0157\n",
            "\n",
            "Epoch 00197: val_loss did not improve from 53.42826\n",
            "Epoch 198/200\n",
            "1416/1416 [==============================] - 6s 4ms/step - loss: 57.8834 - mean_absolute_error: 0.0176 - val_loss: 54.5369 - val_mean_absolute_error: 0.0156\n",
            "\n",
            "Epoch 00198: val_loss did not improve from 53.42826\n",
            "Epoch 199/200\n",
            "1416/1416 [==============================] - 6s 4ms/step - loss: 55.5023 - mean_absolute_error: 0.0176 - val_loss: 53.6547 - val_mean_absolute_error: 0.0157\n",
            "\n",
            "Epoch 00199: val_loss did not improve from 53.42826\n",
            "Epoch 200/200\n",
            "1416/1416 [==============================] - 6s 4ms/step - loss: 56.0934 - mean_absolute_error: 0.0175 - val_loss: 53.7505 - val_mean_absolute_error: 0.0157\n",
            "\n",
            "Epoch 00200: val_loss did not improve from 53.42826\n"
          ],
          "name": "stdout"
        }
      ]
    },
    {
      "cell_type": "code",
      "metadata": {
        "id": "iGObQdO18UzW",
        "colab_type": "code",
        "outputId": "b2cb8209-7b1b-4a5d-d57d-e39ede1d8e66",
        "colab": {
          "base_uri": "https://localhost:8080/",
          "height": 51
        }
      },
      "source": [
        "diff = preds.flatten() - testY\n",
        "percentDiff = (diff / testY) * 100\n",
        "absPercentDiff = np.abs(percentDiff)\n",
        " \n",
        "\n",
        "mean = np.mean(absPercentDiff)\n",
        "std = np.std(absPercentDiff)\n",
        " \n",
        "\n",
        "print(\"[INFO] avg. mosquito traped: {}, std mosquito trapped: {}\".format((result['TOTAL'].mean()),(result['TOTAL'].std())))\n",
        "print(\"[INFO] mean: {:.2f}%, std: {:.2f}%\".format(mean, std))\n",
        "\n",
        "\n"
      ],
      "execution_count": 0,
      "outputs": [
        {
          "output_type": "stream",
          "text": [
            "[INFO] avg. mosquito traped: 14.563519525457242, std mosquito trapped: 30.36583394682834\n",
            "[INFO] mean: 53.62%, std: 28.40%\n"
          ],
          "name": "stdout"
        }
      ]
    },
    {
      "cell_type": "code",
      "metadata": {
        "id": "4yDIXicsvLBs",
        "colab_type": "code",
        "outputId": "b0b1b3f9-22a8-42c4-d113-5c4f30fc5c3b",
        "colab": {
          "base_uri": "https://localhost:8080/",
          "height": 295
        }
      },
      "source": [
        "# Plot training & validation loss values\n",
        "plt.plot(history3.history['loss'])\n",
        "plt.plot(history3.history['val_loss'])\n",
        "plt.title('Model loss')\n",
        "plt.ylabel('Loss')\n",
        "plt.xlabel('Epoch')\n",
        "plt.legend(['Train', 'Test'], loc='upper right')\n",
        "plt.xlim(-1,200)\n",
        "plt.ylim(40,80)\n",
        "plt.show()"
      ],
      "execution_count": 0,
      "outputs": [
        {
          "output_type": "display_data",
          "data": {
            "image/png": "[encoded data removed]",
            "text/plain": [
              "<Figure size 432x288 with 1 Axes>"
            ]
          },
          "metadata": {
            "tags": []
          }
        }
      ]
    },
    {
      "cell_type": "code",
      "metadata": {
        "id": "xXxgHD3LjPv3",
        "colab_type": "code",
        "outputId": "cd06cf4a-9c0d-4b93-ac1a-8244f751042e",
        "colab": {
          "base_uri": "https://localhost:8080/",
          "height": 573
        }
      },
      "source": [
        "plt.plot(history.history['loss'], label='Numerical & categorical')\n",
        "plt.plot(history2.history['loss'], label='Satellite Imagery')\n",
        "plt.plot(history3.history['loss'], label='Combined')\n",
        "\n",
        "plt.title('Model loss')\n",
        "plt.ylabel('Loss')\n",
        "plt.xlabel('Epoch')\n",
        "plt.legend( loc='upper right')\n",
        "plt.xlim(-1,200)\n",
        "plt.ylim(0,80)\n",
        "plt.show()\n",
        "\n",
        "\n",
        "plt.plot(history.history['val_loss'], label='Numerical & categorical')\n",
        "plt.plot(history2.history['val_loss'], label='Satellite Imagery')\n",
        "plt.plot(history3.history['val_loss'], label='Combined')\n",
        "\n",
        "plt.title('Model Validation Loss')\n",
        "plt.ylabel('Validation Loss')\n",
        "plt.xlabel('Epoch')\n",
        "plt.legend( loc='upper right')\n",
        "plt.xlim(-1,200)\n",
        "plt.ylim(0,80)\n",
        "plt.show()\n",
        "\n"
      ],
      "execution_count": 0,
      "outputs": [
        {
          "output_type": "display_data",
          "data": {
            "image/png": "[encoded data removed]",
            "text/plain": [
              "<Figure size 432x288 with 1 Axes>"
            ]
          },
          "metadata": {
            "tags": []
          }
        },
        {
          "output_type": "display_data",
          "data": {
            "image/png": "[encoded data removed]",
            "text/plain": [
              "<Figure size 432x288 with 1 Axes>"
            ]
          },
          "metadata": {
            "tags": []
          }
        }
      ]
    },
    {
      "cell_type": "markdown",
      "metadata": {
        "id": "DqhpzTqATdtG",
        "colab_type": "text"
      },
      "source": [
        "## Sources"
      ]
    },
    {
      "cell_type": "markdown",
      "metadata": {
        "id": "NBeLn6I7neA1",
        "colab_type": "text"
      },
      "source": [
        "Source: \n",
        "\n",
        "[1] Cahill, Trey. (2019). Esri Story Maps: Fight the Bite, Protecting Washington, D.C. from Mosquito Borne Disease. \n",
        "\n",
        "[2] Giraldo-Calderón GI, Emrich SJ, MacCallum RM, Maslen G, Dialynas E, Topalis P, Ho N, Gesing S, VectorBase Consortium, Madey G, Collins FH, Lawson D. 2015. VectorBase: an updated bioinformatics resource for invertebrate vectors and other organisms related with human diseases. Nucleic Acids Research 43(Database issue):D707-13.\n",
        "\n",
        "[3] Ehelepola, N. D. B., et al. \"A study of the correlation between dengue and weather in Kandy City, Sri Lanka (2003-2012) and lessons learned.\" Infectious diseases of poverty 4.1 (2015): 42.\n",
        "\n",
        "H. Ahmed E. and Moustafa M. (2016). House Price Estimation from Visual and Textual Features.In Proceedings of the 8th International Joint Conference on Computational Intelligence (IJCCI 2016)ISBN 978-989-758-201-1, pages 62-68. DOI: 10.5220/0006040700620068"
      ]
    },
    {
      "cell_type": "markdown",
      "metadata": {
        "id": "o2EF18jFTk-p",
        "colab_type": "text"
      },
      "source": [
        "https://www.pyimagesearch.com/2019/02/04/keras-multiple-inputs-and-mixed-data/"
      ]
    },
    {
      "cell_type": "markdown",
      "metadata": {
        "id": "4sPMkGOjTmVG",
        "colab_type": "text"
      },
      "source": [
        "https://zoom.earth"
      ]
    },
    {
      "cell_type": "code",
      "metadata": {
        "id": "RctNPRSamz38",
        "colab_type": "code",
        "colab": {}
      },
      "source": [
        "'https://wtop.com/health-fitness/2016/06/trap-lab-dc-protects-residents-mosquito-borne-diseases/slide/1/'"
      ],
      "execution_count": 0,
      "outputs": []
    },
    {
      "cell_type": "code",
      "metadata": {
        "id": "o2tsW227m5Nq",
        "colab_type": "code",
        "colab": {}
      },
      "source": [
        ""
      ],
      "execution_count": 0,
      "outputs": []
    }
  ]
}