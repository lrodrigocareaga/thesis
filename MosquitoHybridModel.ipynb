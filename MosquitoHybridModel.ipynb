{
  "nbformat": 4,
  "nbformat_minor": 0,
  "metadata": {
    "colab": {
      "name": "MosquitoHybridModel.ipynb",
      "provenance": [],
      "collapsed_sections": [
        "YrY6jnihSbyX",
        "GOeUG8Q8jpWc",
        "JsBAmZrcEXW3",
        "tfzIn_e1UH0r",
        "_VkPLy8CZHEV",
        "95YVjw3gJr9i",
        "NfJ7CXQqF5Lh",
        "5EUxp8UFdwD7",
        "ZlohyiQ_6uIE",
        "ZKquLtko6qJ1",
        "Kc-n9Iyt6kjP",
        "Q-qaw1i5KOGZ",
        "lf3V3296Kmbz",
        "n31t79BiKenh",
        "ulDg6tAjm25k",
        "b5-j7UqBpvth",
        "DqhpzTqATdtG"
      ],
      "toc_visible": true,
      "machine_shape": "hm",
      "include_colab_link": true
    },
    "kernelspec": {
      "name": "python3",
      "display_name": "Python 3"
    },
    "accelerator": "GPU"
  },
  "cells": [
    {
      "cell_type": "markdown",
      "metadata": {
        "id": "view-in-github",
        "colab_type": "text"
      },
      "source": [
        "<a href=\"https://colab.research.google.com/github/lrodrigocareaga/thesis/blob/master/MosquitoHybridModel.ipynb\" target=\"_parent\"><img src=\"https://colab.research.google.com/assets/colab-badge.svg\" alt=\"Open In Colab\"/></a>"
      ]
    },
    {
      "cell_type": "markdown",
      "metadata": {
        "id": "YuevJNCEHRu0",
        "colab_type": "text"
      },
      "source": [
        "# Libraries"
      ]
    },
    {
      "cell_type": "code",
      "metadata": {
        "id": "SHJMkg8Yi6nd",
        "colab_type": "code",
        "outputId": "9587d908-0bd8-446f-bace-d0495e1738c1",
        "colab": {
          "base_uri": "https://localhost:8080/",
          "height": 34
        }
      },
      "source": [
        "#General libraries needed\n",
        "import numpy as np\n",
        "import pandas as pd\n",
        "import matplotlib.pyplot as plt\n",
        "import tensorflow as tf\n",
        "from tensorboardcolab import TensorBoardColab, TensorBoardColabCallback\n",
        "import keras,os,tarfile,sys,pickle,zipfile\n",
        "\n",
        "#Keras libraries & packages\n",
        "from keras import models,initializers,layers,optimizers\n",
        "from keras import backend as K\n",
        "from keras.utils import to_categorical,plot_model\n",
        "from keras.models import Sequential,Model, load_model\n",
        "from keras.optimizers import Adam\n",
        "from keras.preprocessing import image\n",
        "from keras.preprocessing.image import ImageDataGenerator\n",
        "from keras.layers import Input,Dense,Conv2D,advanced_activations,Flatten,concatenate,Dropout,MaxPooling2D,Activation,GlobalAveragePooling2D,BatchNormalization,SeparableConv2D,SpatialDropout2D,LeakyReLU\n",
        "from keras.callbacks import EarlyStopping, ModelCheckpoint\n",
        "\n",
        "from keras.applications.inception_v3 import InceptionV3\n",
        "from keras.applications.vgg19 import VGG19\n",
        "from keras.applications.resnet50 import ResNet50\n",
        "from keras.applications import MobileNet\n",
        "from keras.applications.mobilenet import preprocess_input\n",
        "\n",
        "#Sci-kit libraries\n",
        "from sklearn import metrics\n",
        "from sklearn.metrics import confusion_matrix,roc_auc_score, roc_curve, classification_report\n",
        "from sklearn.model_selection import train_test_split,StratifiedKFold, KFold, ShuffleSplit\n",
        "from sklearn.utils.multiclass import unique_labels\n",
        "from sklearn.preprocessing import MinMaxScaler, LabelBinarizer, MultiLabelBinarizer, LabelEncoder\n",
        "from sklearn.svm import SVR, LinearSVR\n",
        "from sklearn.linear_model import LinearRegression, LogisticRegression\n",
        "from sklearn.datasets import make_regression\n",
        "\n",
        "#Others\n",
        "import time\n",
        "import matplotlib.image as mpimg\n",
        "import warnings\n",
        "import skimage\n",
        "import argparse\n",
        "import locale\n",
        "import glob\n",
        "import sklearn.model_selection\n",
        "import cv2\n",
        "import shapely.wkt\n",
        "import shapely.affinity\n",
        "import seaborn as sns\n",
        "from skimage.io import imshow\n",
        "from shapely.geometry import MultiPolygon, Polygon\n",
        "from collections import defaultdict\n",
        "from shapely.wkt import loads as wkt_loads"
      ],
      "execution_count": 0,
      "outputs": [
        {
          "output_type": "stream",
          "text": [
            "Using TensorFlow backend.\n"
          ],
          "name": "stderr"
        }
      ]
    },
    {
      "cell_type": "code",
      "metadata": {
        "id": "j_JXoaNRHTar",
        "colab_type": "code",
        "outputId": "c0fd853d-5d05-489c-cee5-f68a71498b4e",
        "colab": {
          "base_uri": "https://localhost:8080/",
          "height": 125
        }
      },
      "source": [
        "# Establish the home directory\n",
        "from google.colab import drive\n",
        "drive.mount('/content/drive/')\n",
        "os.chdir('/content/drive/My Drive/mosquito')"
      ],
      "execution_count": 0,
      "outputs": [
        {
          "output_type": "stream",
          "text": [
            "Go to this URL in a browser: https://accounts.google.com/o/oauth2/auth?client_id=947318989803-6bn6qk8qdgf4n4g3pfee6491hc0brc4i.apps.googleusercontent.com&redirect_uri=urn%3Aietf%3Awg%3Aoauth%3A2.0%3Aoob&scope=email%20https%3A%2F%2Fwww.googleapis.com%2Fauth%2Fdocs.test%20https%3A%2F%2Fwww.googleapis.com%2Fauth%2Fdrive%20https%3A%2F%2Fwww.googleapis.com%2Fauth%2Fdrive.photos.readonly%20https%3A%2F%2Fwww.googleapis.com%2Fauth%2Fpeopleapi.readonly&response_type=code\n",
            "\n",
            "Enter your authorization code:\n",
            "··········\n",
            "Mounted at /content/drive/\n"
          ],
          "name": "stdout"
        }
      ]
    },
    {
      "cell_type": "code",
      "metadata": {
        "id": "dOz4B23tKqlg",
        "colab_type": "code",
        "outputId": "ca3e1d13-507d-4cf2-bb9d-d9b16a51e0a1",
        "colab": {
          "base_uri": "https://localhost:8080/",
          "height": 70
        }
      },
      "source": [
        "tbc=TensorBoardColab()"
      ],
      "execution_count": 0,
      "outputs": [
        {
          "output_type": "stream",
          "text": [
            "Wait for 8 seconds...\n",
            "TensorBoard link:\n",
            "http://8a581489.ngrok.io\n"
          ],
          "name": "stdout"
        }
      ]
    },
    {
      "cell_type": "code",
      "metadata": {
        "id": "cjqYeVcC54cL",
        "colab_type": "code",
        "colab": {}
      },
      "source": [
        "warnings.filterwarnings('ignore')"
      ],
      "execution_count": 0,
      "outputs": []
    },
    {
      "cell_type": "code",
      "metadata": {
        "id": "tl3pzglp13P0",
        "colab_type": "code",
        "colab": {}
      },
      "source": [
        "def avg(lst): \n",
        "    return sum(lst) / len(lst) "
      ],
      "execution_count": 0,
      "outputs": []
    },
    {
      "cell_type": "markdown",
      "metadata": {
        "id": "e32AktirJwbc",
        "colab_type": "text"
      },
      "source": [
        "# Experiments"
      ]
    },
    {
      "cell_type": "markdown",
      "metadata": {
        "id": "YrY6jnihSbyX",
        "colab_type": "text"
      },
      "source": [
        "## Load Data\n"
      ]
    },
    {
      "cell_type": "code",
      "metadata": {
        "id": "MLxz-JTnla6o",
        "colab_type": "code",
        "colab": {}
      },
      "source": [
        "def loadData(fileXls):\n",
        "\n",
        "  #Numerical and Categorical columns needed in the data\n",
        "  cols = ['collection_date','GPS_lat','GPS_lon','species','day','month','year','sample_count']\n",
        "\n",
        "  #Source file\n",
        "  df_info = pd.read_excel(fileXls)\n",
        "  #Erase blank rows\n",
        "  df_info = df_info.dropna()\n",
        "\n",
        "  #Add year and month\n",
        "  df_info['year'] = df_info['collection_date'].dt.year.astype(int)\n",
        "  df_info['month'] = df_info['collection_date'].dt.month.astype(int)\n",
        "  df_info['day'] = df_info['collection_date'].dt.day.astype(int)\n",
        "\n",
        "  #filter the dataset\n",
        "  df = df_info[cols]\n",
        "  df = df.dropna()\n",
        "\n",
        "  df['GENUS'] = df['species'].str.split(' ').str[0].astype(str)\n",
        "  df['SPECIES'] = df['species'].str.split(' ').str[1].astype(str)\n",
        "  df = df.rename(columns={\"GPS_lat\": \"LATITUDE\", \"GPS_lon\": \"LONGITUDE\"})\n",
        "\n",
        "  df.sample_count = df.sample_count.astype(int)\n",
        "  df['date'] = pd.to_datetime(df['collection_date'].dt.strftime('%d-%m-%Y'))\n",
        "\n",
        "  del df['collection_date']\n",
        "  del df['species']\n",
        "\n",
        "  return df"
      ],
      "execution_count": 0,
      "outputs": []
    },
    {
      "cell_type": "code",
      "metadata": {
        "id": "HqqmskXcsmxg",
        "colab_type": "code",
        "colab": {}
      },
      "source": [
        "#fileXls = '/content/drive/My Drive/mosquito/washington.xlsx'\n",
        "fileXls = '/content/drive/My Drive/mosquito/Manatee.xlsx'\n",
        "#fileXls = '/content/drive/My Drive/mosquito/Hernando.xlsx'\n",
        "df = loadData(fileXls)"
      ],
      "execution_count": 0,
      "outputs": []
    },
    {
      "cell_type": "code",
      "metadata": {
        "id": "s2dhkxDfG91V",
        "colab_type": "code",
        "colab": {}
      },
      "source": [
        "#Count of mosquitos trapped by ovitrap\n",
        "def printInfo(df):\n",
        "  countMonthK = df[\"month\"].value_counts().keys().tolist()\n",
        "  countMonth = df[\"month\"].value_counts().tolist()\n",
        "  print('Number of mosquitos captured by Month: ' + str(countMonthK))\n",
        "  print('Number of mosquitos captured by Month: ' + str(countMonth))\n",
        "\n",
        "  countYearK = df[\"year\"].value_counts().keys().tolist()\n",
        "  countYear = df[\"year\"].value_counts().tolist()\n",
        "  print('Number of mosquitos captured by Year: ' + str(countYearK))\n",
        "  print('Number of mosquitos captured by Year: ' + str(countYear))\n",
        "\n",
        "  countGenusK = df[\"GENUS\"].value_counts().keys().tolist()\n",
        "  countGenus = df[\"GENUS\"].value_counts().tolist()\n",
        "  print('Number of mosquitos captured by Genus: ' + str(countGenusK))\n",
        "  print('Number of mosquitos captured by Genus: ' + str(countGenus))\n",
        "\n",
        "  #DataFrame of number of mosquitos by trap\n",
        "  traps_df = pd.DataFrame({'Genus' : countGenusK,\n",
        "                         'Total' : countGenus},\n",
        "                         columns=['Genus','Total'])\n",
        "\n",
        "  print(traps_df.head())\n",
        "  return "
      ],
      "execution_count": 0,
      "outputs": []
    },
    {
      "cell_type": "code",
      "metadata": {
        "id": "ljVG2DktSoxT",
        "colab_type": "code",
        "colab": {}
      },
      "source": [
        "#dataset of Washington Climate\n",
        "def loadDataClimate(fileXlsClimate):\n",
        "\n",
        "  df_climate = pd.read_excel(fileXlsClimate)\n",
        "\n",
        "  df_climate['LATITUDE'] = df_climate['coordinates'].str.split(';').str[0].astype(float)\n",
        "  df_climate['LONGITUDE'] = df_climate['coordinates'].str.split(';').str[1].astype(float)\n",
        "  \n",
        "  df_climate['date'] =  pd.to_datetime(df_climate['date'], format='%Y-%m-%d')\n",
        "  df_climate['year'] = df_climate['date'].dt.year.astype(int)\n",
        "  df_climate['month'] = df_climate['date'].dt.month.astype(int)\n",
        "  df_climate['day'] = df_climate['date'].dt.day.astype(int)\n",
        "  \n",
        "  return df_climate\n"
      ],
      "execution_count": 0,
      "outputs": []
    },
    {
      "cell_type": "code",
      "metadata": {
        "id": "6FE31Z1iKL9y",
        "colab_type": "code",
        "colab": {}
      },
      "source": [
        "#fileXlsClimate = '/content/drive/My Drive/mosquito/weatherWashington.xlsx'\n",
        "fileXlsClimate = '/content/drive/My Drive/mosquito/WeatherManateeFinal.xlsx'\n",
        "#fileXlsClimate = '/content/drive/My Drive/mosquito/WeatherHernando.xlsx'\n",
        "df_climate = loadDataClimate(fileXlsClimate)"
      ],
      "execution_count": 0,
      "outputs": []
    },
    {
      "cell_type": "code",
      "metadata": {
        "id": "_6BCgDRNUEdw",
        "colab_type": "code",
        "colab": {}
      },
      "source": [
        "#Merge of climate and mosquitos dataset\n",
        "def mergeDatasets(df, df_climate):\n",
        "  result = pd.merge(df, df_climate, how='inner', on=['year','month','day','LATITUDE','LONGITUDE'])\n",
        "  result.head()\n",
        "\n",
        "  #Export dataset to csv\n",
        "  del result['date_x']\n",
        "  del result['coordinates']\n",
        "  result = result.rename(columns={\"sample_count\": \"TOTAL\", \"date_y\": \"date\"}) \n",
        "  result.TOTAL = result.TOTAL.astype(int)\n",
        "  result.to_csv('result.csv',index=True)\n",
        "\n",
        "  return result"
      ],
      "execution_count": 0,
      "outputs": []
    },
    {
      "cell_type": "code",
      "metadata": {
        "id": "3zZBokVhSnGa",
        "colab_type": "code",
        "outputId": "cd9d886c-9ce6-4a6e-ccbd-57e43c59698d",
        "colab": {
          "base_uri": "https://localhost:8080/",
          "height": 621
        }
      },
      "source": [
        "result = mergeDatasets(df, df_climate)\n",
        "print(result.head())\n",
        "print(result.info())"
      ],
      "execution_count": 0,
      "outputs": [
        {
          "output_type": "stream",
          "text": [
            "    LATITUDE  LONGITUDE  day  ...  humidity  windSpeed  cloudCover\n",
            "0  27.516317 -82.537735   22  ...      0.78       2.16        0.45\n",
            "1  27.516317 -82.537735   22  ...      0.78       2.16        0.45\n",
            "2  27.554018 -82.545481   22  ...      0.78       2.15        0.44\n",
            "3  27.488870 -82.592140   22  ...      0.79       2.25        0.44\n",
            "4  27.439449 -82.548928   22  ...      0.80       2.36        0.40\n",
            "\n",
            "[5 rows x 20 columns]\n",
            "<class 'pandas.core.frame.DataFrame'>\n",
            "Int64Index: 64332 entries, 0 to 64331\n",
            "Data columns (total 20 columns):\n",
            "LATITUDE              64332 non-null float64\n",
            "LONGITUDE             64332 non-null float64\n",
            "day                   64332 non-null int64\n",
            "month                 64332 non-null int64\n",
            "year                  64332 non-null int64\n",
            "TOTAL                 64332 non-null int64\n",
            "GENUS                 64332 non-null object\n",
            "SPECIES               64332 non-null object\n",
            "date                  64332 non-null datetime64[ns]\n",
            "precipType            64332 non-null int64\n",
            "precipProbability     64332 non-null float64\n",
            "precipIntensity       64332 non-null float64\n",
            "precipIntensityMax    64332 non-null float64\n",
            "temperatureLow        64332 non-null float64\n",
            "temperatureHigh       64332 non-null float64\n",
            "temperatureMin        64332 non-null float64\n",
            "temperatureMax        64332 non-null float64\n",
            "humidity              64332 non-null float64\n",
            "windSpeed             64332 non-null float64\n",
            "cloudCover            64332 non-null float64\n",
            "dtypes: datetime64[ns](1), float64(12), int64(5), object(2)\n",
            "memory usage: 10.3+ MB\n",
            "None\n"
          ],
          "name": "stdout"
        }
      ]
    },
    {
      "cell_type": "markdown",
      "metadata": {
        "id": "UNYiQp0BEufr",
        "colab_type": "text"
      },
      "source": [
        "## Take Outliers"
      ]
    },
    {
      "cell_type": "code",
      "metadata": {
        "id": "_O7Plv2UsIsl",
        "colab_type": "code",
        "colab": {}
      },
      "source": [
        "def takeOutliers(result, percentile):\n",
        "  result  = result.sort_values(by=['TOTAL'])\n",
        "  numEntries = len(result.index)\n",
        "  lowerBound = round(((1-percentile)/2),3)\n",
        "  upperBound = 1-lowerBound\n",
        "  print(lowerBound,' and ',upperBound)\n",
        "  result = result.iloc[int((numEntries*lowerBound)):(int(numEntries*upperBound))]\n",
        "  result.reindex(np.random.permutation(result.index))\n",
        "  return result"
      ],
      "execution_count": 0,
      "outputs": []
    },
    {
      "cell_type": "code",
      "metadata": {
        "id": "voiuqkfCtre2",
        "colab_type": "code",
        "outputId": "776a1bc4-b409-40f0-a28d-9a33202c9fea",
        "colab": {
          "base_uri": "https://localhost:8080/",
          "height": 621
        }
      },
      "source": [
        "result = takeOutliers(result, 0.7)\n",
        "print(result.head())\n",
        "print(result.info())"
      ],
      "execution_count": 0,
      "outputs": [
        {
          "output_type": "stream",
          "text": [
            "0.15  and  0.85\n",
            "        LATITUDE  LONGITUDE  day  ...  humidity  windSpeed  cloudCover\n",
            "57690  27.564967 -82.424886    9  ...      0.92       1.02        0.60\n",
            "3462   27.475085 -82.551283   24  ...      0.82       1.62        0.10\n",
            "51063  27.603067 -82.535717   18  ...      0.82       2.50        0.32\n",
            "3463   27.475085 -82.551283   24  ...      0.82       1.62        0.10\n",
            "58573  27.591467 -82.199850   20  ...      0.80       0.83        0.10\n",
            "\n",
            "[5 rows x 19 columns]\n",
            "<class 'pandas.core.frame.DataFrame'>\n",
            "Int64Index: 45033 entries, 57690 to 13076\n",
            "Data columns (total 19 columns):\n",
            "LATITUDE              45033 non-null float64\n",
            "LONGITUDE             45033 non-null float64\n",
            "day                   45033 non-null int64\n",
            "month                 45033 non-null int64\n",
            "year                  45033 non-null int64\n",
            "TOTAL                 45033 non-null int64\n",
            "GENUS                 45033 non-null object\n",
            "SPECIES               45033 non-null object\n",
            "precipType            45033 non-null int64\n",
            "precipProbability     45033 non-null float64\n",
            "precipIntensity       45033 non-null float64\n",
            "precipIntensityMax    45033 non-null float64\n",
            "temperatureLow        45033 non-null float64\n",
            "temperatureHigh       45033 non-null float64\n",
            "temperatureMin        45033 non-null float64\n",
            "temperatureMax        45033 non-null float64\n",
            "humidity              45033 non-null float64\n",
            "windSpeed             45033 non-null float64\n",
            "cloudCover            45033 non-null float64\n",
            "dtypes: float64(12), int64(5), object(2)\n",
            "memory usage: 8.1+ MB\n",
            "None\n"
          ],
          "name": "stdout"
        }
      ]
    },
    {
      "cell_type": "code",
      "metadata": {
        "id": "uFjyesqGIQgh",
        "colab_type": "code",
        "outputId": "2e9a28c4-851f-47f8-bc6d-0cb89caec7e1",
        "colab": {
          "base_uri": "https://localhost:8080/",
          "height": 250
        }
      },
      "source": [
        "printInfo(result)"
      ],
      "execution_count": 0,
      "outputs": [
        {
          "output_type": "stream",
          "text": [
            "Number of mosquitos captured by Month: [8, 7, 6, 9, 10, 5, 11, 4, 12, 3, 2, 1]\n",
            "Number of mosquitos captured by Month: [11109, 10999, 10842, 10429, 9985, 5500, 3564, 960, 636, 271, 26, 11]\n",
            "Number of mosquitos captured by Year: [2014, 2013, 2016, 2015, 2012]\n",
            "Number of mosquitos captured by Year: [14741, 13081, 12847, 12815, 10848]\n",
            "Number of mosquitos captured by Genus: ['Culex', 'Aedes', 'Anopheles', 'Psorophora', 'Mansonia', 'Coquillettidia', 'Uranotaenia', 'Culiseta', 'Wyeomyia', 'BLANK', 'Culicidae', 'Culicinae', 'Orthopodomyia']\n",
            "Number of mosquitos captured by Genus: [22134, 12108, 11349, 9557, 5542, 1605, 1251, 519, 108, 78, 72, 6, 3]\n",
            "        Genus  Total\n",
            "0       Culex  22134\n",
            "1       Aedes  12108\n",
            "2   Anopheles  11349\n",
            "3  Psorophora   9557\n",
            "4    Mansonia   5542\n"
          ],
          "name": "stdout"
        }
      ]
    },
    {
      "cell_type": "markdown",
      "metadata": {
        "id": "GOeUG8Q8jpWc",
        "colab_type": "text"
      },
      "source": [
        "## Data Split"
      ]
    },
    {
      "cell_type": "code",
      "metadata": {
        "id": "P-WH6g4fp_Mf",
        "colab_type": "code",
        "colab": {}
      },
      "source": [
        "def xyFunc(result):\n",
        "  del result['date']\n",
        "\n",
        "  X = result.iloc[:, :].values\n",
        "  y = result.iloc[:, 5].values\n",
        "\n",
        "  # Transform categorical variables if needed\n",
        "  labelencoder = LabelEncoder()\n",
        "  X[:, 6] = labelencoder.fit_transform(X[:, 6])\n",
        "  X[:, 7] = labelencoder.fit_transform(X[:, 7])\n",
        "  #X[:, -1] = labelencoder.fit_transform(X[:, -1])\n",
        "  scaler = MinMaxScaler(feature_range=(0, 1))\n",
        "  X = scaler.fit_transform(X)\n",
        "  #y = y/max(y)\n",
        "\n",
        "  return X,y"
      ],
      "execution_count": 0,
      "outputs": []
    },
    {
      "cell_type": "code",
      "metadata": {
        "id": "Rl58JGcofAPz",
        "colab_type": "code",
        "colab": {}
      },
      "source": [
        "X,y = xyFunc(result)"
      ],
      "execution_count": 0,
      "outputs": []
    },
    {
      "cell_type": "code",
      "metadata": {
        "id": "HR8CS2rWLMlT",
        "colab_type": "code",
        "outputId": "7a560ee6-0d34-4a6c-df5e-c2229c85aadf",
        "colab": {
          "base_uri": "https://localhost:8080/",
          "height": 34
        }
      },
      "source": [
        "max(y)"
      ],
      "execution_count": 0,
      "outputs": [
        {
          "output_type": "execute_result",
          "data": {
            "text/plain": [
              "54908"
            ]
          },
          "metadata": {
            "tags": []
          },
          "execution_count": 15
        }
      ]
    },
    {
      "cell_type": "markdown",
      "metadata": {
        "id": "JsBAmZrcEXW3",
        "colab_type": "text"
      },
      "source": [
        "## Visualization"
      ]
    },
    {
      "cell_type": "code",
      "metadata": {
        "id": "2FAG7RZqIkvx",
        "colab_type": "code",
        "colab": {}
      },
      "source": [
        "def boxPlotFunc(result):\n",
        "  sns.boxplot(x='GENUS',y='TOTAL',data=result)\n",
        "  plt.xlabel('GENUS')\n",
        "  plt.ylabel('TOTAL')\n",
        "  plt.title('Boxplot Graph')\n",
        "  plt.tight_layout()\n",
        "  plt.xticks(rotation='vertical')\n",
        "  plt.figure(figsize=(15, 20))\n",
        "  plt.savefig('/content/drive/My Drive/mosquito/resultsImages/box_Overall_Year.eps', format='eps', dpi=900)\n",
        "  return plt.show()"
      ],
      "execution_count": 0,
      "outputs": []
    },
    {
      "cell_type": "code",
      "metadata": {
        "id": "VBp7tmteJNEI",
        "colab_type": "code",
        "colab": {}
      },
      "source": [
        "def violinPlotFunc(result):\n",
        "  sns.violinplot(x='GENUS',y='TOTAL',data=result,inner=None,color='lightgray')\n",
        "  sns.stripplot(x='GENUS',y='TOTAL',data=result,size=10,jitter=True)\n",
        "  plt.xlabel('GENUS')\n",
        "  plt.ylabel('TOTAL')\n",
        "  plt.title('Violin Graph')\n",
        "  plt.xticks(rotation='vertical')\n",
        "  plt.tight_layout()\n",
        "  plt.figure(figsize=(15, 20))\n",
        "  plt.savefig('/content/drive/My Drive/mosquito/resultsImages/viol_Overall_Year.eps', format='eps', dpi=900)\n",
        "  return plt.show()"
      ],
      "execution_count": 0,
      "outputs": []
    },
    {
      "cell_type": "code",
      "metadata": {
        "id": "H2iu-8Maw66D",
        "colab_type": "code",
        "colab": {}
      },
      "source": [
        "#Observe the correlation of the variables\n",
        "def corrPlotFunc(result):\n",
        "  corr = result.corr()\n",
        "  corr.style.background_gradient()\n",
        "  plt.figure(figsize=(10, 10))\n",
        "  sns.heatmap(corr, cmap=\"RdYlGn_r\", square= True, vmin=-1, vmax=1)\n",
        "  plt.savefig('/content/drive/My Drive/mosquito/resultsImages/corr.eps', format='eps', dpi=900)\n",
        "  # Display the heatmap\n",
        "  return plt.show()"
      ],
      "execution_count": 0,
      "outputs": []
    },
    {
      "cell_type": "code",
      "metadata": {
        "id": "3CPnUmwD-IIE",
        "colab_type": "code",
        "colab": {}
      },
      "source": [
        "def evaluateModel(testX,testY,model):\n",
        "\n",
        "  #evaluation of the model with test data \n",
        "  test_lossDense = model.evaluate(testX, testY)\n",
        "  preds = model.predict(testX)\n",
        "\n",
        "  diff = preds.flatten() - testY\n",
        "  percentDiff = (diff / testY) * 100\n",
        "\n",
        "  absPercentDiff = np.abs(percentDiff)\n",
        "  absPercentDiff = absPercentDiff[absPercentDiff < 1E308]\n",
        "  absPercentDiff = absPercentDiff[absPercentDiff > -1E308]\n",
        "  \n",
        "  mean = np.mean(absPercentDiff, dtype=np.float64)\n",
        "  std = np.std(absPercentDiff, dtype=np.float64)\n",
        "\n",
        "  print(mean)\n",
        "  print(std)\n",
        "  fig, ax = plt.subplots()\n",
        "  ax.scatter(testY, preds)\n",
        "  ax.plot([testY.min(), testY.max()], [testY.min(), testY.max()], 'k--', lw=4)\n",
        "  ax.set_xlabel('Measured')\n",
        "  ax.set_ylabel('Predicted')\n",
        "  plt.show()\n",
        "\n",
        "  return mean,std"
      ],
      "execution_count": 0,
      "outputs": []
    },
    {
      "cell_type": "code",
      "metadata": {
        "id": "uIMm5m9XeC85",
        "colab_type": "code",
        "outputId": "8cdc8425-af47-4403-9915-4893a3139739",
        "colab": {
          "base_uri": "https://localhost:8080/",
          "height": 1000
        }
      },
      "source": [
        "boxPlotFunc(result)\n",
        "violinPlotFunc(result)\n",
        "corrPlotFunc(result)"
      ],
      "execution_count": 0,
      "outputs": [
        {
          "output_type": "display_data",
          "data": {
            "image/png": "[encoded data removed]",
            "text/plain": [
              "<Figure size 432x288 with 1 Axes>"
            ]
          },
          "metadata": {
            "tags": []
          }
        },
        {
          "output_type": "display_data",
          "data": {
            "text/plain": [
              "<Figure size 1080x1440 with 0 Axes>"
            ]
          },
          "metadata": {
            "tags": []
          }
        },
        {
          "output_type": "display_data",
          "data": {
            "image/png": "[encoded data removed]",
            "text/plain": [
              "<Figure size 432x288 with 1 Axes>"
            ]
          },
          "metadata": {
            "tags": []
          }
        },
        {
          "output_type": "display_data",
          "data": {
            "text/plain": [
              "<Figure size 1080x1440 with 0 Axes>"
            ]
          },
          "metadata": {
            "tags": []
          }
        },
        {
          "output_type": "display_data",
          "data": {
            "image/png": "[encoded data removed]",
            "text/plain": [
              "<Figure size 720x720 with 2 Axes>"
            ]
          },
          "metadata": {
            "tags": []
          }
        }
      ]
    },
    {
      "cell_type": "markdown",
      "metadata": {
        "id": "tfzIn_e1UH0r",
        "colab_type": "text"
      },
      "source": [
        "## SVM"
      ]
    },
    {
      "cell_type": "code",
      "metadata": {
        "id": "T562eOC1eViX",
        "colab_type": "code",
        "colab": {}
      },
      "source": [
        "# function to print SVM\n",
        "def svmFunct(X,y):\n",
        "  scoresCoef = []\n",
        "  regrSVM = LinearSVR(random_state=0, tol=1e-5)\n",
        "  cv = KFold(n_splits=10, random_state=1, shuffle=True)\n",
        "\n",
        "  for train_index, test_index in cv.split(X):\n",
        "    X_train, X_test, y_train, y_test = X[train_index], X[test_index], y[train_index], y[test_index]\n",
        "    regrSVM.fit(X_train, y_train)\n",
        "    y_pred = regrSVM.predict(X_test)\n",
        "      \n",
        "  print(regrSVM.coef_)\n",
        "  print(regrSVM.intercept_)\n",
        "\n",
        "  \n",
        "  fig, ax = plt.subplots()\n",
        "  ax.scatter(y_test, y_pred)\n",
        "  ax.plot([y_test.min(), y_test.max()], [y_test.min(), y_test.max()], 'k--', lw=4)\n",
        "  ax.set_xlabel('True Values')\n",
        "  ax.set_ylabel('Predicted')\n",
        "  plt.savefig('SVM.eps', format='eps', dpi=900)\n",
        "\n",
        "  return plt.show()"
      ],
      "execution_count": 0,
      "outputs": []
    },
    {
      "cell_type": "code",
      "metadata": {
        "id": "wcqXRWvcx6Q3",
        "colab_type": "code",
        "outputId": "af542f56-de6d-4ffc-dbf9-f8c898ccadf0",
        "colab": {
          "base_uri": "https://localhost:8080/",
          "height": 348
        }
      },
      "source": [
        "svmFunct(X,y)"
      ],
      "execution_count": 0,
      "outputs": [
        {
          "output_type": "stream",
          "text": [
            "[ 0.08976804 -1.82988468 -0.13222964  2.94343464  3.5764762  27.87403952\n",
            " -1.99995339  0.43346255 -0.89461977  0.09257932  1.73183541 -0.20706991\n",
            " -0.17949801  1.59263707 -0.03313029  0.81647037  0.19935375  1.1440815 ]\n",
            "[0.92371875]\n"
          ],
          "name": "stdout"
        },
        {
          "output_type": "display_data",
          "data": {
            "image/png": "[encoded data removed]",
            "text/plain": [
              "<Figure size 432x288 with 1 Axes>"
            ]
          },
          "metadata": {
            "tags": []
          }
        }
      ]
    },
    {
      "cell_type": "markdown",
      "metadata": {
        "id": "_VkPLy8CZHEV",
        "colab_type": "text"
      },
      "source": [
        "## Linear Regression"
      ]
    },
    {
      "cell_type": "code",
      "metadata": {
        "colab_type": "code",
        "id": "GDuHJ10YZNCa",
        "colab": {}
      },
      "source": [
        "def linearRegressionFunct(X,y):\n",
        "  scoresCoef = []\n",
        "  linreg = LinearRegression()\n",
        "  cv = KFold(n_splits=10, random_state=1, shuffle=True)\n",
        "\n",
        "  for train_index, test_index in cv.split(X):\n",
        "    X_train, X_test, y_train, y_test = X[train_index], X[test_index], y[train_index], y[test_index]\n",
        "    linreg.fit(X_train, y_train)\n",
        "    y_pred = linreg.predict(X_test)\n",
        "  \n",
        "  print('Accuracy of linear regression classifier on test set: {:.2f}'.format(linreg.score(X_test,y_test)))\n",
        "  #print('Accuracy of logistic regression classifier on test set: {:.2f}'.format(linreg.score(testX, testY))\n",
        "  print(linreg.coef_)\n",
        "  print(linreg.intercept_)\n",
        "\n",
        "  \n",
        "  fig, ax = plt.subplots()\n",
        "  ax.scatter(y_test, y_pred)\n",
        "  ax.plot([y_test.min(), y_test.max()], [y_test.min(), y_test.max()], 'k--', lw=4)\n",
        "  ax.set_xlabel('True Values')\n",
        "  ax.set_ylabel('Predicted')\n",
        "  plt.savefig('linreg.eps', format='eps', dpi=900)\n",
        "\n",
        "  return plt.show()"
      ],
      "execution_count": 0,
      "outputs": []
    },
    {
      "cell_type": "code",
      "metadata": {
        "id": "0eu1PiVcfEbB",
        "colab_type": "code",
        "outputId": "7d454dcc-2ad3-4255-cf67-c82b70d410cb",
        "colab": {
          "base_uri": "https://localhost:8080/",
          "height": 397
        }
      },
      "source": [
        "linearRegressionFunct(X,y)"
      ],
      "execution_count": 0,
      "outputs": [
        {
          "output_type": "stream",
          "text": [
            "Accuracy of linear regression classifier on test set: 1.00\n",
            "[-3.08896245e-14  2.48689958e-13 -2.51544829e-13 -1.38998010e-13\n",
            " -4.85718011e-13  4.94400000e+03 -1.68015182e-12 -1.38792723e-13\n",
            "  1.25292176e-12  2.58034672e-12 -3.18176570e-12 -2.52239733e-12\n",
            " -1.26413900e-12  9.62739409e-13  3.71129730e-12 -3.69203419e-13\n",
            " -1.10142645e-12  9.06830167e-13]\n",
            "-2.3803181647963356e-13\n"
          ],
          "name": "stdout"
        },
        {
          "output_type": "display_data",
          "data": {
            "image/png": "[encoded data removed]",
            "text/plain": [
              "<Figure size 432x288 with 1 Axes>"
            ]
          },
          "metadata": {
            "tags": []
          }
        }
      ]
    },
    {
      "cell_type": "markdown",
      "metadata": {
        "id": "95YVjw3gJr9i",
        "colab_type": "text"
      },
      "source": [
        "## Hyperparameters"
      ]
    },
    {
      "cell_type": "markdown",
      "metadata": {
        "id": "NfJ7CXQqF5Lh",
        "colab_type": "text"
      },
      "source": [
        "#### Dropout"
      ]
    },
    {
      "cell_type": "code",
      "metadata": {
        "id": "Rp7EEtFnF9qS",
        "colab_type": "code",
        "colab": {}
      },
      "source": [
        "dropout_10 = layers.Dropout(0.1,\n",
        "               noise_shape=None,\n",
        "               seed=1)"
      ],
      "execution_count": 0,
      "outputs": []
    },
    {
      "cell_type": "code",
      "metadata": {
        "id": "wlSVfqYoF9dX",
        "colab_type": "code",
        "colab": {}
      },
      "source": [
        "dropout_20 = layers.Dropout(0.2,\n",
        "               noise_shape=None,\n",
        "               seed=1)"
      ],
      "execution_count": 0,
      "outputs": []
    },
    {
      "cell_type": "code",
      "metadata": {
        "id": "89W9bbrGGApn",
        "colab_type": "code",
        "colab": {}
      },
      "source": [
        "dropout_50 = layers.Dropout(0.5,\n",
        "               noise_shape=None,\n",
        "               seed=1)"
      ],
      "execution_count": 0,
      "outputs": []
    },
    {
      "cell_type": "markdown",
      "metadata": {
        "id": "5EUxp8UFdwD7",
        "colab_type": "text"
      },
      "source": [
        "#### Lasso Regression"
      ]
    },
    {
      "cell_type": "code",
      "metadata": {
        "id": "xp-34B-vdwZE",
        "colab_type": "code",
        "colab": {}
      },
      "source": [
        "l1_reg10 = keras.regularizers.l1(0.001)"
      ],
      "execution_count": 0,
      "outputs": []
    },
    {
      "cell_type": "code",
      "metadata": {
        "id": "cM08DiGYdxJ9",
        "colab_type": "code",
        "colab": {}
      },
      "source": [
        "l1_reg20 = keras.regularizers.l1(0.2)"
      ],
      "execution_count": 0,
      "outputs": []
    },
    {
      "cell_type": "markdown",
      "metadata": {
        "id": "a1Wd2Rvudxj4",
        "colab_type": "text"
      },
      "source": [
        "#### Ridge Regression"
      ]
    },
    {
      "cell_type": "code",
      "metadata": {
        "id": "h6Y_RGYBdxzc",
        "colab_type": "code",
        "colab": {}
      },
      "source": [
        "l2_reg10 = keras.regularizers.l2(0.1)"
      ],
      "execution_count": 0,
      "outputs": []
    },
    {
      "cell_type": "code",
      "metadata": {
        "id": "hKWzF6XPdx2x",
        "colab_type": "code",
        "colab": {}
      },
      "source": [
        "l2_reg20 = keras.regularizers.l2(0.2)"
      ],
      "execution_count": 0,
      "outputs": []
    },
    {
      "cell_type": "markdown",
      "metadata": {
        "id": "DoVkep_eeV2I",
        "colab_type": "text"
      },
      "source": [
        "#### Lasso & Ridge"
      ]
    },
    {
      "cell_type": "code",
      "metadata": {
        "id": "gaVe-OA7eWhc",
        "colab_type": "code",
        "colab": {}
      },
      "source": [
        "l1l2_reg = keras.regularizers.l1_l2(l1=0.01, l2=0.01)"
      ],
      "execution_count": 0,
      "outputs": []
    },
    {
      "cell_type": "markdown",
      "metadata": {
        "id": "ZlohyiQ_6uIE",
        "colab_type": "text"
      },
      "source": [
        "### Batch Normalization"
      ]
    },
    {
      "cell_type": "code",
      "metadata": {
        "id": "FxQEH2KE6Lgd",
        "colab_type": "code",
        "colab": {}
      },
      "source": [
        "batch_normalization = layers.BatchNormalization(axis=-1, \n",
        "                                                momentum=0.999, \n",
        "                                                epsilon=0.0001, \n",
        "                                                center=True, \n",
        "                                                scale=True,\n",
        "                                                beta_initializer='zeros', \n",
        "                                                gamma_initializer='ones', \n",
        "                                                moving_mean_initializer='zeros', \n",
        "                                                moving_variance_initializer='ones',\n",
        "                                                beta_regularizer=None, \n",
        "                                                gamma_regularizer=None,\n",
        "                                                beta_constraint=None,\n",
        "                                                gamma_constraint=None)"
      ],
      "execution_count": 0,
      "outputs": []
    },
    {
      "cell_type": "markdown",
      "metadata": {
        "id": "ZKquLtko6qJ1",
        "colab_type": "text"
      },
      "source": [
        "### Custom Optimizers"
      ]
    },
    {
      "cell_type": "code",
      "metadata": {
        "id": "UeNUPt_46QQt",
        "colab_type": "code",
        "colab": {}
      },
      "source": [
        "adam_opt=optimizers.Adam(lr=0.001,\n",
        "                   beta_1=0.9, \n",
        "                   beta_2=0.999,\n",
        "                   epsilon=None,\n",
        "                   decay=0.0,\n",
        "                   amsgrad=False)"
      ],
      "execution_count": 0,
      "outputs": []
    },
    {
      "cell_type": "code",
      "metadata": {
        "id": "nB3g9c6x6QOG",
        "colab_type": "code",
        "colab": {}
      },
      "source": [
        "adadelta_opt = optimizers.Adadelta(lr=1.0,\n",
        "                                   rho=0.95,\n",
        "                                   epsilon=None,\n",
        "                                   decay=0.0)"
      ],
      "execution_count": 0,
      "outputs": []
    },
    {
      "cell_type": "code",
      "metadata": {
        "id": "sJjRW5YC6QLm",
        "colab_type": "code",
        "colab": {}
      },
      "source": [
        "adadelta_opt = optimizers.Adadelta(lr=1.0,\n",
        "                                   rho=0.95,\n",
        "                                   epsilon=None,\n",
        "                                   decay=0.0)"
      ],
      "execution_count": 0,
      "outputs": []
    },
    {
      "cell_type": "markdown",
      "metadata": {
        "id": "Kc-n9Iyt6kjP",
        "colab_type": "text"
      },
      "source": [
        "### Custom Activation Functions"
      ]
    },
    {
      "cell_type": "code",
      "metadata": {
        "id": "F5xDQQcP6QIL",
        "colab_type": "code",
        "colab": {}
      },
      "source": [
        "leakyReLU_act = layers.LeakyReLU(alpha=0.3)"
      ],
      "execution_count": 0,
      "outputs": []
    },
    {
      "cell_type": "code",
      "metadata": {
        "id": "kNI56RU56QFi",
        "colab_type": "code",
        "colab": {}
      },
      "source": [
        "pReLU_act = layers.PReLU(alpha_initializer='zeros',\n",
        "                         alpha_regularizer=None, \n",
        "                         alpha_constraint=None,\n",
        "                         shared_axes=None)"
      ],
      "execution_count": 0,
      "outputs": []
    },
    {
      "cell_type": "code",
      "metadata": {
        "id": "vyXuK0bY6PxD",
        "colab_type": "code",
        "colab": {}
      },
      "source": [
        "elu_act = layers.ELU(alpha=1.0)"
      ],
      "execution_count": 0,
      "outputs": []
    },
    {
      "cell_type": "markdown",
      "metadata": {
        "id": "CIWSlUN8-Vnr",
        "colab_type": "text"
      },
      "source": [
        "## Plot Functions"
      ]
    },
    {
      "cell_type": "code",
      "metadata": {
        "id": "iFy3nuwyKHQB",
        "colab_type": "code",
        "colab": {}
      },
      "source": [
        "colorsList = ['b','g','r','m','y','c','k','w']\n",
        "def lossTrainPlot(model_history):\n",
        "  plt.title('Loss vs Epochs')\n",
        "  for x in range(len(model_history)):\n",
        "    plt.plot(model_history[x].history['loss'], label=('Training Fold ', x+1), color=colorsList[x])\n",
        "  plt.legend()\n",
        "  #plt.ylim(0,2)\n",
        "  plt.savefig('/content/drive/My Drive/mosquito/resultsImages/lossPlot.eps', format='eps', dpi=900)\n",
        "  return plt.show()"
      ],
      "execution_count": 0,
      "outputs": []
    },
    {
      "cell_type": "code",
      "metadata": {
        "id": "YJE5stUDmFrM",
        "colab_type": "code",
        "colab": {}
      },
      "source": [
        "def lossValPlot(model_history):\n",
        "  plt.title('Val Loss vs Epochs')\n",
        "  for x in range(len(model_history)):\n",
        "    plt.plot(model_history[x].history['val_loss'], label=('Val Fold ', x+1), color=colorsList[x])\n",
        "  plt.legend()\n",
        "  #plt.ylim(0,2)\n",
        "  plt.savefig('/content/drive/My Drive/mosquito/resultsImages/ValPlot.eps', format='eps', dpi=900)\n",
        "  return plt.show()"
      ],
      "execution_count": 0,
      "outputs": []
    },
    {
      "cell_type": "code",
      "metadata": {
        "id": "cIFpse-aKQHg",
        "colab_type": "code",
        "colab": {}
      },
      "source": [
        "def lossTrainValPlot(model_history):\n",
        "  plt.title('Train Loss vs Val Loss')\n",
        "  for x in range(len(model_history)): \n",
        "    plt.plot(model_history[x].history['val_loss'], label=('Val Fold', x+1), color=colorsList[x])\n",
        "    plt.plot(model_history[x].history['loss'], label=('Training Fold ', x+1), color=colorsList[x], linestyle = \"dashdot\")\n",
        "  plt.legend(ncol=2)\n",
        "  #plt.ylim(0,2)\n",
        "  plt.savefig('/content/drive/My Drive/mosquito/resultsImages/lossValPlot.eps', format='eps', dpi=900)\n",
        "  return plt.show()"
      ],
      "execution_count": 0,
      "outputs": []
    },
    {
      "cell_type": "markdown",
      "metadata": {
        "id": "MVMKqPduSi3j",
        "colab_type": "text"
      },
      "source": [
        "## Multi-Layer Perceptron"
      ]
    },
    {
      "cell_type": "code",
      "metadata": {
        "id": "yfiYVFM-pXKH",
        "colab_type": "code",
        "colab": {}
      },
      "source": [
        "model_checkpoint = ModelCheckpoint('RegMos.h5', verbose=1, save_best_only=True)\n",
        "\n",
        "#model of dense neural network with 16, 8, 4 and 1 neurons in each layer respectively \n",
        "def create_mlp(dim, regress=False):\n",
        "  model = Sequential()\n",
        "  model.add(Dense(16, input_shape=(dim,),activation=\"relu\"))\n",
        "  model.add(Dense(8, activation=\"relu\"))\n",
        "  model.add(Dense(4, activation=\"relu\"))\n",
        "  \n",
        "  if regress:\n",
        "    model.add(Dense(1, activation=\"linear\"))\n",
        "  \n",
        "  opt = Adam(lr=1e-3, decay=1e-3 / 200)\n",
        "  model.compile(optimizer=opt, loss=\"mae\", metrics=['mse'])\n",
        "  \n",
        "  return model\n",
        "\n"
      ],
      "execution_count": 0,
      "outputs": []
    },
    {
      "cell_type": "code",
      "metadata": {
        "id": "JIWnEGe1Oonf",
        "colab_type": "code",
        "colab": {}
      },
      "source": [
        "def kFoldMLP(X, y, folds=5, num_epochs=50, batch_size=16, verbose=True):\n",
        "  all_scores = []\n",
        "  model_history = [] \n",
        "  mean_List = []\n",
        "  std_List = []\n",
        "  start = time.clock()                 \n",
        "  cv = KFold(n_splits=folds, random_state=1, shuffle=True)\n",
        "\n",
        "  for train_index, test_index in cv.split(X):\n",
        "    X_train, X_test, y_train, y_test = X[train_index], X[test_index], y[train_index], y[test_index]\n",
        "\n",
        "    model = create_mlp(X_train.shape[1], regress=True)\n",
        "\n",
        "    history = model.fit(X_train, y_train,validation_data=(X_test, y_test),\n",
        "                        epochs=num_epochs,callbacks=[model_checkpoint,\n",
        "                        TensorBoardColabCallback(tbc)], batch_size=batch_size, verbose=verbose)\n",
        "    \n",
        "    model_history.append(history)\n",
        "    val_mape,val_mae = model.evaluate(X_test, y_test, verbose=0)\n",
        "    all_scores.append(val_mape)\n",
        "\n",
        "    mean, std = evaluateModel(X_test,y_test,model)\n",
        "    print(mean)\n",
        "    mean_List.append(mean)\n",
        "    std_List.append(std)\n",
        "    print(mean_List)\n",
        "  \n",
        "  plot_model(model, show_shapes = 1, to_file='DenseModel.png')\n",
        "  model.summary()\n",
        "  end = time.clock()\n",
        "  timeDense = end-start\n",
        "  #total time of training\n",
        "  print(\"Total Time: {} \".format(timeDense)) \n",
        "  print(\"[INFO] avg. mosquito traped: {}, std mosquito trapped: {}\".format((result['TOTAL'].mean()),(result['TOTAL'].std())))\n",
        "  print(\"[INFO] mean: {:.2f}%, std: {:.2f}%\".format(avg(mean_List), avg(std_List)))\n",
        "  return model, model_history, all_scores"
      ],
      "execution_count": 0,
      "outputs": []
    },
    {
      "cell_type": "code",
      "metadata": {
        "id": "sxAk-hF_OOr2",
        "colab_type": "code",
        "outputId": "91530be0-cb8c-484c-af90-5c6d56da67f1",
        "colab": {
          "base_uri": "https://localhost:8080/",
          "height": 1000
        }
      },
      "source": [
        "#model, model_history, all_scores = kFoldMLP(X,y,folds=3, num_epochs=3,verbose=False)\n",
        "model, model_history, all_scores = kFoldMLP(X,y)"
      ],
      "execution_count": 0,
      "outputs": [
        {
          "output_type": "stream",
          "text": [
            "WARNING:tensorflow:From /usr/local/lib/python3.6/dist-packages/keras/backend/tensorflow_backend.py:66: The name tf.get_default_graph is deprecated. Please use tf.compat.v1.get_default_graph instead.\n",
            "\n",
            "WARNING:tensorflow:From /usr/local/lib/python3.6/dist-packages/keras/backend/tensorflow_backend.py:541: The name tf.placeholder is deprecated. Please use tf.compat.v1.placeholder instead.\n",
            "\n",
            "WARNING:tensorflow:From /usr/local/lib/python3.6/dist-packages/keras/backend/tensorflow_backend.py:4432: The name tf.random_uniform is deprecated. Please use tf.random.uniform instead.\n",
            "\n",
            "WARNING:tensorflow:From /usr/local/lib/python3.6/dist-packages/keras/optimizers.py:793: The name tf.train.Optimizer is deprecated. Please use tf.compat.v1.train.Optimizer instead.\n",
            "\n",
            "WARNING:tensorflow:From /usr/local/lib/python3.6/dist-packages/keras/backend/tensorflow_backend.py:1033: The name tf.assign_add is deprecated. Please use tf.compat.v1.assign_add instead.\n",
            "\n",
            "WARNING:tensorflow:From /usr/local/lib/python3.6/dist-packages/keras/backend/tensorflow_backend.py:1020: The name tf.assign is deprecated. Please use tf.compat.v1.assign instead.\n",
            "\n",
            "Train on 51465 samples, validate on 12867 samples\n",
            "WARNING:tensorflow:From /usr/local/lib/python3.6/dist-packages/tensorboardcolab/core.py:49: The name tf.summary.FileWriter is deprecated. Please use tf.compat.v1.summary.FileWriter instead.\n",
            "\n",
            "WARNING:tensorflow:From /usr/local/lib/python3.6/dist-packages/keras/callbacks.py:1122: The name tf.summary.merge_all is deprecated. Please use tf.compat.v1.summary.merge_all instead.\n",
            "\n",
            "Epoch 1/50\n",
            "51465/51465 [==============================] - 15s 284us/step - loss: 226.1132 - mean_squared_error: 1060072.3421 - val_loss: 253.8196 - val_mean_squared_error: 1357070.4955\n",
            "\n",
            "Epoch 00001: val_loss improved from inf to 253.81963, saving model to RegMos.h5\n",
            "Epoch 2/50\n",
            "51465/51465 [==============================] - 14s 267us/step - loss: 223.7035 - mean_squared_error: 1047008.4149 - val_loss: 250.0671 - val_mean_squared_error: 1331800.6115\n",
            "\n",
            "Epoch 00002: val_loss improved from 253.81963 to 250.06709, saving model to RegMos.h5\n",
            "Epoch 3/50\n",
            "51465/51465 [==============================] - 14s 264us/step - loss: 217.8831 - mean_squared_error: 1000779.1239 - val_loss: 237.6702 - val_mean_squared_error: 1217456.2363\n",
            "\n",
            "Epoch 00003: val_loss improved from 250.06709 to 237.67021, saving model to RegMos.h5\n",
            "Epoch 4/50\n",
            "51465/51465 [==============================] - 14s 264us/step - loss: 188.1357 - mean_squared_error: 756870.6839 - val_loss: 170.6139 - val_mean_squared_error: 674564.2265\n",
            "\n",
            "Epoch 00004: val_loss improved from 237.67021 to 170.61395, saving model to RegMos.h5\n",
            "Epoch 5/50\n",
            "51465/51465 [==============================] - 14s 263us/step - loss: 82.9334 - mean_squared_error: 228565.2404 - val_loss: 26.7074 - val_mean_squared_error: 49373.2297\n",
            "\n",
            "Epoch 00005: val_loss improved from 170.61395 to 26.70736, saving model to RegMos.h5\n",
            "Epoch 6/50\n",
            "51465/51465 [==============================] - 13s 261us/step - loss: 15.9583 - mean_squared_error: 34924.6984 - val_loss: 12.7680 - val_mean_squared_error: 39127.5717\n",
            "\n",
            "Epoch 00006: val_loss improved from 26.70736 to 12.76800, saving model to RegMos.h5\n",
            "Epoch 7/50\n",
            "51465/51465 [==============================] - 13s 262us/step - loss: 8.9437 - mean_squared_error: 29507.3842 - val_loss: 14.0789 - val_mean_squared_error: 31785.5711\n",
            "\n",
            "Epoch 00007: val_loss did not improve from 12.76800\n",
            "Epoch 8/50\n",
            "51465/51465 [==============================] - 13s 261us/step - loss: 7.8754 - mean_squared_error: 25255.8200 - val_loss: 8.8579 - val_mean_squared_error: 27251.3132\n",
            "\n",
            "Epoch 00008: val_loss improved from 12.76800 to 8.85789, saving model to RegMos.h5\n",
            "Epoch 9/50\n",
            "51465/51465 [==============================] - 13s 261us/step - loss: 6.9759 - mean_squared_error: 22281.4826 - val_loss: 8.5428 - val_mean_squared_error: 23689.4700\n",
            "\n",
            "Epoch 00009: val_loss improved from 8.85789 to 8.54284, saving model to RegMos.h5\n",
            "Epoch 10/50\n",
            "51465/51465 [==============================] - 13s 261us/step - loss: 6.5995 - mean_squared_error: 20062.3508 - val_loss: 8.2609 - val_mean_squared_error: 20687.5332\n",
            "\n",
            "Epoch 00010: val_loss improved from 8.54284 to 8.26094, saving model to RegMos.h5\n",
            "Epoch 11/50\n",
            "51465/51465 [==============================] - 13s 261us/step - loss: 6.0989 - mean_squared_error: 18384.2265 - val_loss: 8.5173 - val_mean_squared_error: 18326.3543\n",
            "\n",
            "Epoch 00011: val_loss did not improve from 8.26094\n",
            "Epoch 12/50\n",
            "51465/51465 [==============================] - 13s 260us/step - loss: 5.8092 - mean_squared_error: 16619.0072 - val_loss: 9.7131 - val_mean_squared_error: 16256.6585\n",
            "\n",
            "Epoch 00012: val_loss did not improve from 8.26094\n",
            "Epoch 13/50\n",
            "51465/51465 [==============================] - 13s 261us/step - loss: 5.6801 - mean_squared_error: 15321.2307 - val_loss: 6.4235 - val_mean_squared_error: 14459.7845\n",
            "\n",
            "Epoch 00013: val_loss improved from 8.26094 to 6.42349, saving model to RegMos.h5\n",
            "Epoch 14/50\n",
            "51465/51465 [==============================] - 13s 261us/step - loss: 5.3197 - mean_squared_error: 14273.7693 - val_loss: 9.0591 - val_mean_squared_error: 13189.3732\n",
            "\n",
            "Epoch 00014: val_loss did not improve from 6.42349\n",
            "Epoch 15/50\n",
            "51465/51465 [==============================] - 14s 263us/step - loss: 5.2396 - mean_squared_error: 13309.7264 - val_loss: 5.4342 - val_mean_squared_error: 11792.9950\n",
            "\n",
            "Epoch 00015: val_loss improved from 6.42349 to 5.43421, saving model to RegMos.h5\n",
            "Epoch 16/50\n",
            "51465/51465 [==============================] - 13s 261us/step - loss: 4.7656 - mean_squared_error: 12405.2358 - val_loss: 5.3427 - val_mean_squared_error: 10858.5363\n",
            "\n",
            "Epoch 00016: val_loss improved from 5.43421 to 5.34267, saving model to RegMos.h5\n",
            "Epoch 17/50\n",
            "51465/51465 [==============================] - 14s 263us/step - loss: 4.8056 - mean_squared_error: 11607.9821 - val_loss: 7.1153 - val_mean_squared_error: 9903.1412\n",
            "\n",
            "Epoch 00017: val_loss did not improve from 5.34267\n",
            "Epoch 18/50\n",
            "51465/51465 [==============================] - 14s 275us/step - loss: 4.6456 - mean_squared_error: 10862.4654 - val_loss: 6.6727 - val_mean_squared_error: 9000.8309\n",
            "\n",
            "Epoch 00018: val_loss did not improve from 5.34267\n",
            "Epoch 19/50\n",
            "51465/51465 [==============================] - 14s 262us/step - loss: 4.4451 - mean_squared_error: 10252.8595 - val_loss: 4.9947 - val_mean_squared_error: 8271.7509\n",
            "\n",
            "Epoch 00019: val_loss improved from 5.34267 to 4.99468, saving model to RegMos.h5\n",
            "Epoch 20/50\n",
            "51465/51465 [==============================] - 14s 263us/step - loss: 4.2412 - mean_squared_error: 9613.3192 - val_loss: 6.6992 - val_mean_squared_error: 7567.9537\n",
            "\n",
            "Epoch 00020: val_loss did not improve from 4.99468\n",
            "Epoch 21/50\n",
            "51465/51465 [==============================] - 14s 265us/step - loss: 4.2451 - mean_squared_error: 9176.6679 - val_loss: 5.0926 - val_mean_squared_error: 6944.2049\n",
            "\n",
            "Epoch 00021: val_loss did not improve from 4.99468\n",
            "Epoch 22/50\n",
            "51465/51465 [==============================] - 14s 267us/step - loss: 4.0489 - mean_squared_error: 8746.2293 - val_loss: 4.6854 - val_mean_squared_error: 6436.7511\n",
            "\n",
            "Epoch 00022: val_loss improved from 4.99468 to 4.68543, saving model to RegMos.h5\n",
            "Epoch 23/50\n",
            "51465/51465 [==============================] - 14s 263us/step - loss: 4.0345 - mean_squared_error: 8303.8264 - val_loss: 2.8719 - val_mean_squared_error: 5974.8518\n",
            "\n",
            "Epoch 00023: val_loss improved from 4.68543 to 2.87190, saving model to RegMos.h5\n",
            "Epoch 24/50\n",
            "51465/51465 [==============================] - 14s 264us/step - loss: 4.1184 - mean_squared_error: 7947.6769 - val_loss: 3.0692 - val_mean_squared_error: 5531.5754\n",
            "\n",
            "Epoch 00024: val_loss did not improve from 2.87190\n",
            "Epoch 25/50\n",
            "51465/51465 [==============================] - 13s 260us/step - loss: 3.9341 - mean_squared_error: 7616.7652 - val_loss: 3.8183 - val_mean_squared_error: 5153.8651\n",
            "\n",
            "Epoch 00025: val_loss did not improve from 2.87190\n",
            "Epoch 26/50\n",
            "51465/51465 [==============================] - 13s 261us/step - loss: 3.7999 - mean_squared_error: 7357.5806 - val_loss: 5.6751 - val_mean_squared_error: 4802.6411\n",
            "\n",
            "Epoch 00026: val_loss did not improve from 2.87190\n",
            "Epoch 27/50\n",
            "51465/51465 [==============================] - 14s 264us/step - loss: 3.7708 - mean_squared_error: 7076.5537 - val_loss: 6.5569 - val_mean_squared_error: 4523.0617\n",
            "\n",
            "Epoch 00027: val_loss did not improve from 2.87190\n",
            "Epoch 28/50\n",
            "51465/51465 [==============================] - 13s 261us/step - loss: 3.5896 - mean_squared_error: 6819.1518 - val_loss: 4.7639 - val_mean_squared_error: 4257.2451\n",
            "\n",
            "Epoch 00028: val_loss did not improve from 2.87190\n",
            "Epoch 29/50\n",
            "51465/51465 [==============================] - 13s 261us/step - loss: 3.4228 - mean_squared_error: 6599.9598 - val_loss: 7.5633 - val_mean_squared_error: 3962.6827\n",
            "\n",
            "Epoch 00029: val_loss did not improve from 2.87190\n",
            "Epoch 30/50\n",
            "51465/51465 [==============================] - 14s 263us/step - loss: 3.6049 - mean_squared_error: 6343.4182 - val_loss: 5.3648 - val_mean_squared_error: 3778.5914\n",
            "\n",
            "Epoch 00030: val_loss did not improve from 2.87190\n",
            "Epoch 31/50\n",
            "51465/51465 [==============================] - 13s 261us/step - loss: 3.4175 - mean_squared_error: 6165.6742 - val_loss: 3.5585 - val_mean_squared_error: 3579.8714\n",
            "\n",
            "Epoch 00031: val_loss did not improve from 2.87190\n",
            "Epoch 32/50\n",
            "51465/51465 [==============================] - 13s 260us/step - loss: 3.3947 - mean_squared_error: 5970.2416 - val_loss: 4.5252 - val_mean_squared_error: 3305.0337\n",
            "\n",
            "Epoch 00032: val_loss did not improve from 2.87190\n",
            "Epoch 33/50\n",
            "51465/51465 [==============================] - 13s 260us/step - loss: 3.3328 - mean_squared_error: 5795.7497 - val_loss: 4.9651 - val_mean_squared_error: 3210.4517\n",
            "\n",
            "Epoch 00033: val_loss did not improve from 2.87190\n",
            "Epoch 34/50\n",
            "51465/51465 [==============================] - 13s 260us/step - loss: 3.2735 - mean_squared_error: 5690.9351 - val_loss: 2.2440 - val_mean_squared_error: 3057.5570\n",
            "\n",
            "Epoch 00034: val_loss improved from 2.87190 to 2.24402, saving model to RegMos.h5\n",
            "Epoch 35/50\n",
            "51465/51465 [==============================] - 13s 260us/step - loss: 3.1608 - mean_squared_error: 5526.8666 - val_loss: 4.4701 - val_mean_squared_error: 2896.7491\n",
            "\n",
            "Epoch 00035: val_loss did not improve from 2.24402\n",
            "Epoch 36/50\n",
            "51465/51465 [==============================] - 13s 260us/step - loss: 3.2221 - mean_squared_error: 5367.9495 - val_loss: 3.9416 - val_mean_squared_error: 2777.6113\n",
            "\n",
            "Epoch 00036: val_loss did not improve from 2.24402\n",
            "Epoch 37/50\n",
            "51465/51465 [==============================] - 13s 260us/step - loss: 3.1167 - mean_squared_error: 5247.9772 - val_loss: 2.6806 - val_mean_squared_error: 2599.4645\n",
            "\n",
            "Epoch 00037: val_loss did not improve from 2.24402\n",
            "Epoch 38/50\n",
            "51465/51465 [==============================] - 13s 262us/step - loss: 3.2641 - mean_squared_error: 5122.8014 - val_loss: 3.4994 - val_mean_squared_error: 2517.4086\n",
            "\n",
            "Epoch 00038: val_loss did not improve from 2.24402\n",
            "Epoch 39/50\n",
            "51465/51465 [==============================] - 13s 261us/step - loss: 3.1277 - mean_squared_error: 5005.9618 - val_loss: 2.9521 - val_mean_squared_error: 2398.6404\n",
            "\n",
            "Epoch 00039: val_loss did not improve from 2.24402\n",
            "Epoch 40/50\n",
            "51465/51465 [==============================] - 13s 260us/step - loss: 2.9262 - mean_squared_error: 4915.3448 - val_loss: 5.5729 - val_mean_squared_error: 2329.8538\n",
            "\n",
            "Epoch 00040: val_loss did not improve from 2.24402\n",
            "Epoch 41/50\n",
            "51465/51465 [==============================] - 14s 274us/step - loss: 3.0750 - mean_squared_error: 4810.1252 - val_loss: 2.4989 - val_mean_squared_error: 2183.2384\n",
            "\n",
            "Epoch 00041: val_loss did not improve from 2.24402\n",
            "Epoch 42/50\n",
            "51465/51465 [==============================] - 13s 261us/step - loss: 3.0012 - mean_squared_error: 4714.0659 - val_loss: 2.5384 - val_mean_squared_error: 2096.5436\n",
            "\n",
            "Epoch 00042: val_loss did not improve from 2.24402\n",
            "Epoch 43/50\n",
            "51465/51465 [==============================] - 13s 261us/step - loss: 2.8177 - mean_squared_error: 4594.7677 - val_loss: 3.7125 - val_mean_squared_error: 2018.3616\n",
            "\n",
            "Epoch 00043: val_loss did not improve from 2.24402\n",
            "Epoch 44/50\n",
            "51465/51465 [==============================] - 14s 268us/step - loss: 2.9747 - mean_squared_error: 4496.6341 - val_loss: 4.8799 - val_mean_squared_error: 1926.7865\n",
            "\n",
            "Epoch 00044: val_loss did not improve from 2.24402\n",
            "Epoch 45/50\n",
            "51465/51465 [==============================] - 13s 260us/step - loss: 2.9999 - mean_squared_error: 4420.3609 - val_loss: 2.1897 - val_mean_squared_error: 1899.6197\n",
            "\n",
            "Epoch 00045: val_loss improved from 2.24402 to 2.18969, saving model to RegMos.h5\n",
            "Epoch 46/50\n",
            "51465/51465 [==============================] - 13s 261us/step - loss: 2.8389 - mean_squared_error: 4344.3568 - val_loss: 7.2988 - val_mean_squared_error: 1868.2584\n",
            "\n",
            "Epoch 00046: val_loss did not improve from 2.18969\n",
            "Epoch 47/50\n",
            "51465/51465 [==============================] - 13s 261us/step - loss: 2.9441 - mean_squared_error: 4259.7554 - val_loss: 4.1119 - val_mean_squared_error: 1773.0759\n",
            "\n",
            "Epoch 00047: val_loss did not improve from 2.18969\n",
            "Epoch 48/50\n",
            "51465/51465 [==============================] - 13s 260us/step - loss: 2.7406 - mean_squared_error: 4197.7716 - val_loss: 1.5921 - val_mean_squared_error: 1694.5689\n",
            "\n",
            "Epoch 00048: val_loss improved from 2.18969 to 1.59207, saving model to RegMos.h5\n",
            "Epoch 49/50\n",
            "51465/51465 [==============================] - 14s 263us/step - loss: 2.7275 - mean_squared_error: 4111.0164 - val_loss: 4.7494 - val_mean_squared_error: 1643.0960\n",
            "\n",
            "Epoch 00049: val_loss did not improve from 1.59207\n",
            "Epoch 50/50\n",
            "51465/51465 [==============================] - 13s 261us/step - loss: 2.6560 - mean_squared_error: 4049.8502 - val_loss: 2.8923 - val_mean_squared_error: 1570.6911\n",
            "\n",
            "Epoch 00050: val_loss did not improve from 1.59207\n",
            "12867/12867 [==============================] - 0s 35us/step\n",
            "21.637439463174406\n",
            "29.88846724398112\n"
          ],
          "name": "stdout"
        },
        {
          "output_type": "display_data",
          "data": {
            "image/png": "[encoded data removed]",
            "text/plain": [
              "<Figure size 432x288 with 1 Axes>"
            ]
          },
          "metadata": {
            "tags": []
          }
        },
        {
          "output_type": "stream",
          "text": [
            "21.637439463174406\n",
            "[21.637439463174406]\n",
            "Train on 51465 samples, validate on 12867 samples\n",
            "Epoch 1/50\n",
            "51465/51465 [==============================] - 14s 266us/step - loss: 232.3255 - mean_squared_error: 1155675.4306 - val_loss: 229.1771 - val_mean_squared_error: 975154.6457\n",
            "\n",
            "Epoch 00001: val_loss did not improve from 1.59207\n",
            "Epoch 2/50\n",
            "51465/51465 [==============================] - 14s 264us/step - loss: 229.6185 - mean_squared_error: 1141019.2128 - val_loss: 225.8255 - val_mean_squared_error: 953049.8837\n",
            "\n",
            "Epoch 00002: val_loss did not improve from 1.59207\n",
            "Epoch 3/50\n",
            "51465/51465 [==============================] - 14s 262us/step - loss: 224.1630 - mean_squared_error: 1100121.1285 - val_loss: 216.8951 - val_mean_squared_error: 891669.2999\n",
            "\n",
            "Epoch 00003: val_loss did not improve from 1.59207\n",
            "Epoch 4/50\n",
            "51465/51465 [==============================] - 13s 261us/step - loss: 206.2766 - mean_squared_error: 958966.0059 - val_loss: 186.8239 - val_mean_squared_error: 689812.2776\n",
            "\n",
            "Epoch 00004: val_loss did not improve from 1.59207\n",
            "Epoch 5/50\n",
            "51465/51465 [==============================] - 13s 262us/step - loss: 155.5363 - mean_squared_error: 640806.5202 - val_loss: 107.3262 - val_mean_squared_error: 289074.6117\n",
            "\n",
            "Epoch 00005: val_loss did not improve from 1.59207\n",
            "Epoch 6/50\n",
            "51465/51465 [==============================] - 13s 261us/step - loss: 57.7901 - mean_squared_error: 184566.9787 - val_loss: 25.4997 - val_mean_squared_error: 49579.4251\n",
            "\n",
            "Epoch 00006: val_loss did not improve from 1.59207\n",
            "Epoch 7/50\n",
            "51465/51465 [==============================] - 14s 264us/step - loss: 16.7813 - mean_squared_error: 67397.2883 - val_loss: 12.9391 - val_mean_squared_error: 31306.8124\n",
            "\n",
            "Epoch 00007: val_loss did not improve from 1.59207\n",
            "Epoch 8/50\n",
            "51465/51465 [==============================] - 13s 262us/step - loss: 12.4951 - mean_squared_error: 49825.4595 - val_loss: 8.2859 - val_mean_squared_error: 22230.1057\n",
            "\n",
            "Epoch 00008: val_loss did not improve from 1.59207\n",
            "Epoch 9/50\n",
            "51465/51465 [==============================] - 14s 263us/step - loss: 10.5425 - mean_squared_error: 37916.4180 - val_loss: 9.2474 - val_mean_squared_error: 16224.2922\n",
            "\n",
            "Epoch 00009: val_loss did not improve from 1.59207\n",
            "Epoch 10/50\n",
            "51465/51465 [==============================] - 14s 265us/step - loss: 9.2920 - mean_squared_error: 29000.8661 - val_loss: 5.4546 - val_mean_squared_error: 12312.7873\n",
            "\n",
            "Epoch 00010: val_loss did not improve from 1.59207\n",
            "Epoch 11/50\n",
            "51465/51465 [==============================] - 14s 264us/step - loss: 8.4500 - mean_squared_error: 23918.2196 - val_loss: 5.8998 - val_mean_squared_error: 9636.9839\n",
            "\n",
            "Epoch 00011: val_loss did not improve from 1.59207\n",
            "Epoch 12/50\n",
            "51465/51465 [==============================] - 14s 263us/step - loss: 7.7323 - mean_squared_error: 18513.7558 - val_loss: 10.3417 - val_mean_squared_error: 6879.6364\n",
            "\n",
            "Epoch 00012: val_loss did not improve from 1.59207\n",
            "Epoch 13/50\n",
            "51465/51465 [==============================] - 14s 266us/step - loss: 6.9269 - mean_squared_error: 14650.2953 - val_loss: 7.2590 - val_mean_squared_error: 4849.9834\n",
            "\n",
            "Epoch 00013: val_loss did not improve from 1.59207\n",
            "Epoch 14/50\n",
            "51465/51465 [==============================] - 14s 272us/step - loss: 6.3373 - mean_squared_error: 11141.6236 - val_loss: 4.4144 - val_mean_squared_error: 3756.9494\n",
            "\n",
            "Epoch 00014: val_loss did not improve from 1.59207\n",
            "Epoch 15/50\n",
            "51465/51465 [==============================] - 14s 281us/step - loss: 6.0382 - mean_squared_error: 8721.4977 - val_loss: 3.0887 - val_mean_squared_error: 3041.8287\n",
            "\n",
            "Epoch 00015: val_loss did not improve from 1.59207\n",
            "Epoch 16/50\n",
            "51465/51465 [==============================] - 14s 273us/step - loss: 5.4449 - mean_squared_error: 7044.9200 - val_loss: 4.8902 - val_mean_squared_error: 2137.7306\n",
            "\n",
            "Epoch 00016: val_loss did not improve from 1.59207\n",
            "Epoch 17/50\n",
            "51465/51465 [==============================] - 14s 267us/step - loss: 5.2292 - mean_squared_error: 5509.9871 - val_loss: 4.7601 - val_mean_squared_error: 1514.3862\n",
            "\n",
            "Epoch 00017: val_loss did not improve from 1.59207\n",
            "Epoch 18/50\n",
            "51465/51465 [==============================] - 14s 270us/step - loss: 4.6212 - mean_squared_error: 4057.9568 - val_loss: 2.6642 - val_mean_squared_error: 1252.1447\n",
            "\n",
            "Epoch 00018: val_loss did not improve from 1.59207\n",
            "Epoch 19/50\n",
            "51465/51465 [==============================] - 15s 288us/step - loss: 4.3898 - mean_squared_error: 3097.5978 - val_loss: 4.4232 - val_mean_squared_error: 928.5608\n",
            "\n",
            "Epoch 00019: val_loss did not improve from 1.59207\n",
            "Epoch 20/50\n",
            "51465/51465 [==============================] - 14s 273us/step - loss: 4.1373 - mean_squared_error: 2441.6719 - val_loss: 11.8100 - val_mean_squared_error: 712.2517\n",
            "\n",
            "Epoch 00020: val_loss did not improve from 1.59207\n",
            "Epoch 21/50\n",
            "51465/51465 [==============================] - 14s 274us/step - loss: 3.8299 - mean_squared_error: 1765.8185 - val_loss: 4.2539 - val_mean_squared_error: 423.9294\n",
            "\n",
            "Epoch 00021: val_loss did not improve from 1.59207\n",
            "Epoch 22/50\n",
            "51465/51465 [==============================] - 14s 274us/step - loss: 3.7543 - mean_squared_error: 1229.3917 - val_loss: 2.7781 - val_mean_squared_error: 263.7605\n",
            "\n",
            "Epoch 00022: val_loss did not improve from 1.59207\n",
            "Epoch 23/50\n",
            "51465/51465 [==============================] - 14s 272us/step - loss: 3.5073 - mean_squared_error: 819.0222 - val_loss: 1.6057 - val_mean_squared_error: 193.4855\n",
            "\n",
            "Epoch 00023: val_loss did not improve from 1.59207\n",
            "Epoch 24/50\n",
            "51465/51465 [==============================] - 14s 272us/step - loss: 3.1796 - mean_squared_error: 632.1650 - val_loss: 4.7230 - val_mean_squared_error: 146.4643\n",
            "\n",
            "Epoch 00024: val_loss did not improve from 1.59207\n",
            "Epoch 25/50\n",
            "51465/51465 [==============================] - 14s 272us/step - loss: 3.0706 - mean_squared_error: 423.8912 - val_loss: 1.2477 - val_mean_squared_error: 72.6143\n",
            "\n",
            "Epoch 00025: val_loss improved from 1.59207 to 1.24772, saving model to RegMos.h5\n",
            "Epoch 26/50\n",
            "51465/51465 [==============================] - 14s 272us/step - loss: 3.1141 - mean_squared_error: 283.3048 - val_loss: 2.1202 - val_mean_squared_error: 55.8615\n",
            "\n",
            "Epoch 00026: val_loss did not improve from 1.24772\n",
            "Epoch 27/50\n",
            "51465/51465 [==============================] - 14s 272us/step - loss: 2.9195 - mean_squared_error: 165.6506 - val_loss: 1.7698 - val_mean_squared_error: 42.0454\n",
            "\n",
            "Epoch 00027: val_loss did not improve from 1.24772\n",
            "Epoch 28/50\n",
            "51465/51465 [==============================] - 14s 273us/step - loss: 2.8598 - mean_squared_error: 113.5089 - val_loss: 4.8998 - val_mean_squared_error: 56.2170\n",
            "\n",
            "Epoch 00028: val_loss did not improve from 1.24772\n",
            "Epoch 29/50\n",
            "51465/51465 [==============================] - 14s 274us/step - loss: 2.6623 - mean_squared_error: 73.9623 - val_loss: 2.4003 - val_mean_squared_error: 33.8436\n",
            "\n",
            "Epoch 00029: val_loss did not improve from 1.24772\n",
            "Epoch 30/50\n",
            "51465/51465 [==============================] - 14s 274us/step - loss: 2.6645 - mean_squared_error: 54.3004 - val_loss: 1.3953 - val_mean_squared_error: 23.8920\n",
            "\n",
            "Epoch 00030: val_loss did not improve from 1.24772\n",
            "Epoch 31/50\n",
            "51465/51465 [==============================] - 14s 270us/step - loss: 2.6053 - mean_squared_error: 43.6861 - val_loss: 2.3627 - val_mean_squared_error: 25.3930\n",
            "\n",
            "Epoch 00031: val_loss did not improve from 1.24772\n",
            "Epoch 32/50\n",
            "51465/51465 [==============================] - 14s 270us/step - loss: 2.5871 - mean_squared_error: 37.0549 - val_loss: 1.3341 - val_mean_squared_error: 25.2771\n",
            "\n",
            "Epoch 00032: val_loss did not improve from 1.24772\n",
            "Epoch 33/50\n",
            "51465/51465 [==============================] - 14s 272us/step - loss: 2.5789 - mean_squared_error: 33.8098 - val_loss: 2.0019 - val_mean_squared_error: 23.2248\n",
            "\n",
            "Epoch 00033: val_loss did not improve from 1.24772\n",
            "Epoch 34/50\n",
            "51465/51465 [==============================] - 14s 271us/step - loss: 2.4673 - mean_squared_error: 32.5926 - val_loss: 1.0221 - val_mean_squared_error: 17.9524\n",
            "\n",
            "Epoch 00034: val_loss improved from 1.24772 to 1.02209, saving model to RegMos.h5\n",
            "Epoch 35/50\n",
            "51465/51465 [==============================] - 14s 275us/step - loss: 2.3934 - mean_squared_error: 27.8956 - val_loss: 1.1298 - val_mean_squared_error: 19.1107\n",
            "\n",
            "Epoch 00035: val_loss did not improve from 1.02209\n",
            "Epoch 36/50\n",
            "51465/51465 [==============================] - 14s 280us/step - loss: 2.3455 - mean_squared_error: 26.9504 - val_loss: 3.3211 - val_mean_squared_error: 28.6899\n",
            "\n",
            "Epoch 00036: val_loss did not improve from 1.02209\n",
            "Epoch 37/50\n",
            "51465/51465 [==============================] - 14s 269us/step - loss: 2.3404 - mean_squared_error: 28.6565 - val_loss: 3.8357 - val_mean_squared_error: 33.3651\n",
            "\n",
            "Epoch 00037: val_loss did not improve from 1.02209\n",
            "Epoch 38/50\n",
            "51465/51465 [==============================] - 14s 271us/step - loss: 2.3967 - mean_squared_error: 24.8114 - val_loss: 0.5985 - val_mean_squared_error: 17.1768\n",
            "\n",
            "Epoch 00038: val_loss improved from 1.02209 to 0.59853, saving model to RegMos.h5\n",
            "Epoch 39/50\n",
            "51465/51465 [==============================] - 14s 263us/step - loss: 2.3875 - mean_squared_error: 23.4831 - val_loss: 5.0608 - val_mean_squared_error: 36.7757\n",
            "\n",
            "Epoch 00039: val_loss did not improve from 0.59853\n",
            "Epoch 40/50\n",
            "51465/51465 [==============================] - 13s 261us/step - loss: 2.3303 - mean_squared_error: 25.1301 - val_loss: 5.9328 - val_mean_squared_error: 48.4069\n",
            "\n",
            "Epoch 00040: val_loss did not improve from 0.59853\n",
            "Epoch 41/50\n",
            "51465/51465 [==============================] - 13s 262us/step - loss: 2.3717 - mean_squared_error: 24.4002 - val_loss: 2.2780 - val_mean_squared_error: 19.7177\n",
            "\n",
            "Epoch 00041: val_loss did not improve from 0.59853\n",
            "Epoch 42/50\n",
            "51465/51465 [==============================] - 14s 267us/step - loss: 2.3057 - mean_squared_error: 24.2655 - val_loss: 2.1418 - val_mean_squared_error: 15.7202\n",
            "\n",
            "Epoch 00042: val_loss did not improve from 0.59853\n",
            "Epoch 43/50\n",
            "51465/51465 [==============================] - 14s 270us/step - loss: 2.3733 - mean_squared_error: 23.1688 - val_loss: 0.7329 - val_mean_squared_error: 12.5743\n",
            "\n",
            "Epoch 00043: val_loss did not improve from 0.59853\n",
            "Epoch 44/50\n",
            "51465/51465 [==============================] - 14s 267us/step - loss: 2.1588 - mean_squared_error: 20.1170 - val_loss: 2.7010 - val_mean_squared_error: 18.6252\n",
            "\n",
            "Epoch 00044: val_loss did not improve from 0.59853\n",
            "Epoch 45/50\n",
            "51465/51465 [==============================] - 14s 269us/step - loss: 2.1176 - mean_squared_error: 19.3077 - val_loss: 1.3825 - val_mean_squared_error: 12.5105\n",
            "\n",
            "Epoch 00045: val_loss did not improve from 0.59853\n",
            "Epoch 46/50\n",
            "51465/51465 [==============================] - 14s 269us/step - loss: 2.1945 - mean_squared_error: 20.4626 - val_loss: 0.6429 - val_mean_squared_error: 10.4882\n",
            "\n",
            "Epoch 00046: val_loss did not improve from 0.59853\n",
            "Epoch 47/50\n",
            "51465/51465 [==============================] - 14s 267us/step - loss: 2.0767 - mean_squared_error: 18.7777 - val_loss: 2.8626 - val_mean_squared_error: 27.7009\n",
            "\n",
            "Epoch 00047: val_loss did not improve from 0.59853\n",
            "Epoch 48/50\n",
            "51465/51465 [==============================] - 14s 270us/step - loss: 2.1636 - mean_squared_error: 20.0540 - val_loss: 0.9679 - val_mean_squared_error: 13.4401\n",
            "\n",
            "Epoch 00048: val_loss did not improve from 0.59853\n",
            "Epoch 49/50\n",
            "51465/51465 [==============================] - 14s 268us/step - loss: 2.0037 - mean_squared_error: 18.0844 - val_loss: 1.2993 - val_mean_squared_error: 15.4818\n",
            "\n",
            "Epoch 00049: val_loss did not improve from 0.59853\n",
            "Epoch 50/50\n",
            "51465/51465 [==============================] - 14s 268us/step - loss: 2.1300 - mean_squared_error: 17.5910 - val_loss: 2.0196 - val_mean_squared_error: 13.0214\n",
            "\n",
            "Epoch 00050: val_loss did not improve from 0.59853\n",
            "12867/12867 [==============================] - 0s 38us/step\n",
            "37.669672723468665\n",
            "64.44168137973665\n"
          ],
          "name": "stdout"
        },
        {
          "output_type": "display_data",
          "data": {
            "image/png": "[encoded data removed]",
            "text/plain": [
              "<Figure size 432x288 with 1 Axes>"
            ]
          },
          "metadata": {
            "tags": []
          }
        },
        {
          "output_type": "stream",
          "text": [
            "37.669672723468665\n",
            "[21.637439463174406, 37.669672723468665]\n",
            "Train on 51466 samples, validate on 12866 samples\n",
            "Epoch 1/50\n",
            "51466/51466 [==============================] - 14s 273us/step - loss: 238.3514 - mean_squared_error: 1162924.6453 - val_loss: 206.5704 - val_mean_squared_error: 952391.9539\n",
            "\n",
            "Epoch 00001: val_loss did not improve from 0.59853\n",
            "Epoch 2/50\n",
            "51466/51466 [==============================] - 14s 268us/step - loss: 235.2044 - mean_squared_error: 1147165.6963 - val_loss: 201.4522 - val_mean_squared_error: 917028.8854\n",
            "\n",
            "Epoch 00002: val_loss did not improve from 0.59853\n",
            "Epoch 3/50\n",
            "51466/51466 [==============================] - 14s 266us/step - loss: 220.2466 - mean_squared_error: 1030637.3475 - val_loss: 172.7379 - val_mean_squared_error: 698820.2283\n",
            "\n",
            "Epoch 00003: val_loss did not improve from 0.59853\n",
            "Epoch 4/50\n",
            "51466/51466 [==============================] - 14s 265us/step - loss: 142.5395 - mean_squared_error: 503899.0448 - val_loss: 52.2956 - val_mean_squared_error: 117125.3323\n",
            "\n",
            "Epoch 00004: val_loss did not improve from 0.59853\n",
            "Epoch 5/50\n",
            "51466/51466 [==============================] - 14s 266us/step - loss: 34.8701 - mean_squared_error: 67172.6535 - val_loss: 21.2110 - val_mean_squared_error: 56902.8454\n",
            "\n",
            "Epoch 00005: val_loss did not improve from 0.59853\n",
            "Epoch 6/50\n",
            "51466/51466 [==============================] - 14s 265us/step - loss: 16.7574 - mean_squared_error: 44921.9706 - val_loss: 7.0981 - val_mean_squared_error: 48482.9887\n",
            "\n",
            "Epoch 00006: val_loss did not improve from 0.59853\n",
            "Epoch 7/50\n",
            "51466/51466 [==============================] - 14s 263us/step - loss: 10.4662 - mean_squared_error: 36498.8227 - val_loss: 13.2205 - val_mean_squared_error: 43405.1827\n",
            "\n",
            "Epoch 00007: val_loss did not improve from 0.59853\n",
            "Epoch 8/50\n",
            "51466/51466 [==============================] - 14s 276us/step - loss: 9.3462 - mean_squared_error: 30876.6491 - val_loss: 9.5458 - val_mean_squared_error: 39430.5585\n",
            "\n",
            "Epoch 00008: val_loss did not improve from 0.59853\n",
            "Epoch 9/50\n",
            "51466/51466 [==============================] - 14s 263us/step - loss: 8.4408 - mean_squared_error: 26945.1300 - val_loss: 9.2844 - val_mean_squared_error: 36047.0418\n",
            "\n",
            "Epoch 00009: val_loss did not improve from 0.59853\n",
            "Epoch 10/50\n",
            "51466/51466 [==============================] - 14s 270us/step - loss: 8.0590 - mean_squared_error: 23347.6683 - val_loss: 6.0931 - val_mean_squared_error: 33351.1938\n",
            "\n",
            "Epoch 00010: val_loss did not improve from 0.59853\n",
            "Epoch 11/50\n",
            "51466/51466 [==============================] - 14s 264us/step - loss: 7.3034 - mean_squared_error: 20503.3495 - val_loss: 5.5763 - val_mean_squared_error: 30882.7412\n",
            "\n",
            "Epoch 00011: val_loss did not improve from 0.59853\n",
            "Epoch 12/50\n",
            "51466/51466 [==============================] - 14s 270us/step - loss: 6.7768 - mean_squared_error: 18233.5285 - val_loss: 4.6328 - val_mean_squared_error: 28840.6669\n",
            "\n",
            "Epoch 00012: val_loss did not improve from 0.59853\n",
            "Epoch 13/50\n",
            "51466/51466 [==============================] - 14s 272us/step - loss: 6.6309 - mean_squared_error: 16193.7753 - val_loss: 4.3420 - val_mean_squared_error: 26951.2198\n",
            "\n",
            "Epoch 00013: val_loss did not improve from 0.59853\n",
            "Epoch 14/50\n",
            "51466/51466 [==============================] - 14s 268us/step - loss: 6.3705 - mean_squared_error: 14741.2883 - val_loss: 4.4681 - val_mean_squared_error: 25536.5834\n",
            "\n",
            "Epoch 00014: val_loss did not improve from 0.59853\n",
            "Epoch 15/50\n",
            "51466/51466 [==============================] - 14s 270us/step - loss: 5.9312 - mean_squared_error: 13310.3335 - val_loss: 3.1789 - val_mean_squared_error: 24081.3799\n",
            "\n",
            "Epoch 00015: val_loss did not improve from 0.59853\n",
            "Epoch 16/50\n",
            "51466/51466 [==============================] - 14s 272us/step - loss: 5.7365 - mean_squared_error: 12349.4315 - val_loss: 4.4875 - val_mean_squared_error: 22979.6719\n",
            "\n",
            "Epoch 00016: val_loss did not improve from 0.59853\n",
            "Epoch 17/50\n",
            "51466/51466 [==============================] - 14s 270us/step - loss: 5.6908 - mean_squared_error: 11357.4329 - val_loss: 3.5905 - val_mean_squared_error: 21903.8736\n",
            "\n",
            "Epoch 00017: val_loss did not improve from 0.59853\n",
            "Epoch 18/50\n",
            "51466/51466 [==============================] - 14s 269us/step - loss: 5.6836 - mean_squared_error: 10464.6560 - val_loss: 3.8721 - val_mean_squared_error: 21219.4976\n",
            "\n",
            "Epoch 00018: val_loss did not improve from 0.59853\n",
            "Epoch 19/50\n",
            "51466/51466 [==============================] - 14s 269us/step - loss: 5.2080 - mean_squared_error: 9776.9889 - val_loss: 8.8586 - val_mean_squared_error: 20215.7746\n",
            "\n",
            "Epoch 00019: val_loss did not improve from 0.59853\n",
            "Epoch 20/50\n",
            "51466/51466 [==============================] - 14s 268us/step - loss: 5.1285 - mean_squared_error: 9115.0207 - val_loss: 11.1183 - val_mean_squared_error: 19775.1984\n",
            "\n",
            "Epoch 00020: val_loss did not improve from 0.59853\n",
            "Epoch 21/50\n",
            "51466/51466 [==============================] - 14s 270us/step - loss: 5.0443 - mean_squared_error: 8581.0043 - val_loss: 4.2490 - val_mean_squared_error: 18881.9855\n",
            "\n",
            "Epoch 00021: val_loss did not improve from 0.59853\n",
            "Epoch 22/50\n",
            "51466/51466 [==============================] - 14s 269us/step - loss: 4.9178 - mean_squared_error: 7994.7454 - val_loss: 3.1354 - val_mean_squared_error: 18157.8771\n",
            "\n",
            "Epoch 00022: val_loss did not improve from 0.59853\n",
            "Epoch 23/50\n",
            "51466/51466 [==============================] - 14s 268us/step - loss: 4.8272 - mean_squared_error: 7563.7027 - val_loss: 2.6793 - val_mean_squared_error: 17727.5062\n",
            "\n",
            "Epoch 00023: val_loss did not improve from 0.59853\n",
            "Epoch 24/50\n",
            "51466/51466 [==============================] - 14s 269us/step - loss: 4.7374 - mean_squared_error: 7158.5947 - val_loss: 8.6736 - val_mean_squared_error: 17241.5607\n",
            "\n",
            "Epoch 00024: val_loss did not improve from 0.59853\n",
            "Epoch 25/50\n",
            "51466/51466 [==============================] - 14s 269us/step - loss: 4.5282 - mean_squared_error: 6708.2700 - val_loss: 2.6527 - val_mean_squared_error: 16634.8191\n",
            "\n",
            "Epoch 00025: val_loss did not improve from 0.59853\n",
            "Epoch 26/50\n",
            "51466/51466 [==============================] - 14s 270us/step - loss: 4.3474 - mean_squared_error: 6353.9337 - val_loss: 7.9095 - val_mean_squared_error: 16144.7775\n",
            "\n",
            "Epoch 00026: val_loss did not improve from 0.59853\n",
            "Epoch 27/50\n",
            "51466/51466 [==============================] - 14s 270us/step - loss: 4.5711 - mean_squared_error: 6007.1911 - val_loss: 7.9393 - val_mean_squared_error: 15819.1451\n",
            "\n",
            "Epoch 00027: val_loss did not improve from 0.59853\n",
            "Epoch 28/50\n",
            "51466/51466 [==============================] - 14s 269us/step - loss: 4.3175 - mean_squared_error: 5706.8926 - val_loss: 2.7319 - val_mean_squared_error: 15331.4932\n",
            "\n",
            "Epoch 00028: val_loss did not improve from 0.59853\n",
            "Epoch 29/50\n",
            "51466/51466 [==============================] - 14s 269us/step - loss: 4.2946 - mean_squared_error: 5413.6586 - val_loss: 2.4863 - val_mean_squared_error: 14960.5816\n",
            "\n",
            "Epoch 00029: val_loss did not improve from 0.59853\n",
            "Epoch 30/50\n",
            "51466/51466 [==============================] - 14s 276us/step - loss: 4.0229 - mean_squared_error: 5176.6422 - val_loss: 2.3097 - val_mean_squared_error: 14505.8769\n",
            "\n",
            "Epoch 00030: val_loss did not improve from 0.59853\n",
            "Epoch 31/50\n",
            "51466/51466 [==============================] - 14s 272us/step - loss: 4.1649 - mean_squared_error: 4942.2423 - val_loss: 4.4399 - val_mean_squared_error: 14234.5531\n",
            "\n",
            "Epoch 00031: val_loss did not improve from 0.59853\n",
            "Epoch 32/50\n",
            "51466/51466 [==============================] - 14s 275us/step - loss: 3.9144 - mean_squared_error: 4710.5190 - val_loss: 3.6976 - val_mean_squared_error: 13894.9197\n",
            "\n",
            "Epoch 00032: val_loss did not improve from 0.59853\n",
            "Epoch 33/50\n",
            "51466/51466 [==============================] - 14s 268us/step - loss: 4.0171 - mean_squared_error: 4502.4732 - val_loss: 4.5555 - val_mean_squared_error: 13588.2283\n",
            "\n",
            "Epoch 00033: val_loss did not improve from 0.59853\n",
            "Epoch 34/50\n",
            "51466/51466 [==============================] - 14s 267us/step - loss: 3.9049 - mean_squared_error: 4322.0975 - val_loss: 4.1220 - val_mean_squared_error: 13324.8201\n",
            "\n",
            "Epoch 00034: val_loss did not improve from 0.59853\n",
            "Epoch 35/50\n",
            "51466/51466 [==============================] - 14s 269us/step - loss: 3.9332 - mean_squared_error: 4167.8477 - val_loss: 4.2576 - val_mean_squared_error: 13033.4637\n",
            "\n",
            "Epoch 00035: val_loss did not improve from 0.59853\n",
            "Epoch 36/50\n",
            "51466/51466 [==============================] - 14s 268us/step - loss: 3.7592 - mean_squared_error: 3967.4366 - val_loss: 4.8900 - val_mean_squared_error: 12757.7316\n",
            "\n",
            "Epoch 00036: val_loss did not improve from 0.59853\n",
            "Epoch 37/50\n",
            "51466/51466 [==============================] - 14s 266us/step - loss: 3.8452 - mean_squared_error: 3841.3174 - val_loss: 2.4578 - val_mean_squared_error: 12471.5717\n",
            "\n",
            "Epoch 00037: val_loss did not improve from 0.59853\n",
            "Epoch 38/50\n",
            "51466/51466 [==============================] - 14s 268us/step - loss: 3.7035 - mean_squared_error: 3686.4117 - val_loss: 2.9270 - val_mean_squared_error: 12205.5845\n",
            "\n",
            "Epoch 00038: val_loss did not improve from 0.59853\n",
            "Epoch 39/50\n",
            "51466/51466 [==============================] - 14s 269us/step - loss: 3.7569 - mean_squared_error: 3549.0579 - val_loss: 4.1465 - val_mean_squared_error: 12048.1155\n",
            "\n",
            "Epoch 00039: val_loss did not improve from 0.59853\n",
            "Epoch 40/50\n",
            "51466/51466 [==============================] - 14s 270us/step - loss: 3.6716 - mean_squared_error: 3421.9972 - val_loss: 2.9864 - val_mean_squared_error: 11700.9382\n",
            "\n",
            "Epoch 00040: val_loss did not improve from 0.59853\n",
            "Epoch 41/50\n",
            "51466/51466 [==============================] - 14s 269us/step - loss: 3.5653 - mean_squared_error: 3300.9825 - val_loss: 4.1394 - val_mean_squared_error: 11581.8326\n",
            "\n",
            "Epoch 00041: val_loss did not improve from 0.59853\n",
            "Epoch 42/50\n",
            "51466/51466 [==============================] - 14s 270us/step - loss: 3.4119 - mean_squared_error: 3188.1311 - val_loss: 3.0307 - val_mean_squared_error: 11388.6635\n",
            "\n",
            "Epoch 00042: val_loss did not improve from 0.59853\n",
            "Epoch 43/50\n",
            "51466/51466 [==============================] - 14s 271us/step - loss: 3.3981 - mean_squared_error: 3084.7609 - val_loss: 3.0707 - val_mean_squared_error: 11165.9973\n",
            "\n",
            "Epoch 00043: val_loss did not improve from 0.59853\n",
            "Epoch 44/50\n",
            "51466/51466 [==============================] - 14s 271us/step - loss: 3.3664 - mean_squared_error: 2966.8589 - val_loss: 8.9308 - val_mean_squared_error: 11070.8777\n",
            "\n",
            "Epoch 00044: val_loss did not improve from 0.59853\n",
            "Epoch 45/50\n",
            "51466/51466 [==============================] - 14s 270us/step - loss: 3.4282 - mean_squared_error: 2871.1752 - val_loss: 8.4081 - val_mean_squared_error: 10899.2410\n",
            "\n",
            "Epoch 00045: val_loss did not improve from 0.59853\n",
            "Epoch 46/50\n",
            "51466/51466 [==============================] - 14s 271us/step - loss: 3.2764 - mean_squared_error: 2777.5269 - val_loss: 4.3730 - val_mean_squared_error: 10635.3973\n",
            "\n",
            "Epoch 00046: val_loss did not improve from 0.59853\n",
            "Epoch 47/50\n",
            "51466/51466 [==============================] - 14s 271us/step - loss: 3.3807 - mean_squared_error: 2687.8294 - val_loss: 1.6675 - val_mean_squared_error: 10452.4753\n",
            "\n",
            "Epoch 00047: val_loss did not improve from 0.59853\n",
            "Epoch 48/50\n",
            "51466/51466 [==============================] - 14s 270us/step - loss: 3.1467 - mean_squared_error: 2589.3751 - val_loss: 1.6671 - val_mean_squared_error: 10254.1368\n",
            "\n",
            "Epoch 00048: val_loss did not improve from 0.59853\n",
            "Epoch 49/50\n",
            "51466/51466 [==============================] - 14s 269us/step - loss: 3.2156 - mean_squared_error: 2511.5653 - val_loss: 1.7496 - val_mean_squared_error: 10037.8817\n",
            "\n",
            "Epoch 00049: val_loss did not improve from 0.59853\n",
            "Epoch 50/50\n",
            "51466/51466 [==============================] - 14s 263us/step - loss: 3.2504 - mean_squared_error: 2434.0093 - val_loss: 3.4453 - val_mean_squared_error: 9908.9804\n",
            "\n",
            "Epoch 00050: val_loss did not improve from 0.59853\n",
            "12866/12866 [==============================] - 0s 35us/step\n",
            "24.603912036192767\n",
            "28.352145930709252\n"
          ],
          "name": "stdout"
        },
        {
          "output_type": "display_data",
          "data": {
            "image/png": "[encoded data removed]",
            "text/plain": [
              "<Figure size 432x288 with 1 Axes>"
            ]
          },
          "metadata": {
            "tags": []
          }
        },
        {
          "output_type": "stream",
          "text": [
            "24.603912036192767\n",
            "[21.637439463174406, 37.669672723468665, 24.603912036192767]\n",
            "Train on 51466 samples, validate on 12866 samples\n",
            "Epoch 1/50\n",
            "51466/51466 [==============================] - 14s 274us/step - loss: 232.2994 - mean_squared_error: 1155994.8299 - val_loss: 229.5131 - val_mean_squared_error: 974725.6952\n",
            "\n",
            "Epoch 00001: val_loss did not improve from 0.59853\n",
            "Epoch 2/50\n",
            "51466/51466 [==============================] - 14s 273us/step - loss: 229.4298 - mean_squared_error: 1139109.7929 - val_loss: 225.1124 - val_mean_squared_error: 943714.2482\n",
            "\n",
            "Epoch 00002: val_loss did not improve from 0.59853\n",
            "Epoch 3/50\n",
            "51466/51466 [==============================] - 14s 273us/step - loss: 218.8651 - mean_squared_error: 1056579.6717 - val_loss: 203.3733 - val_mean_squared_error: 775586.6081\n",
            "\n",
            "Epoch 00003: val_loss did not improve from 0.59853\n",
            "Epoch 4/50\n",
            "51466/51466 [==============================] - 14s 271us/step - loss: 163.1825 - mean_squared_error: 626956.6585 - val_loss: 96.1243 - val_mean_squared_error: 191188.8250\n",
            "\n",
            "Epoch 00004: val_loss did not improve from 0.59853\n",
            "Epoch 5/50\n",
            "51466/51466 [==============================] - 14s 270us/step - loss: 41.9502 - mean_squared_error: 93655.7549 - val_loss: 21.2627 - val_mean_squared_error: 33613.0555\n",
            "\n",
            "Epoch 00005: val_loss did not improve from 0.59853\n",
            "Epoch 6/50\n",
            "51466/51466 [==============================] - 14s 270us/step - loss: 17.4251 - mean_squared_error: 56811.2722 - val_loss: 7.4531 - val_mean_squared_error: 26139.9345\n",
            "\n",
            "Epoch 00006: val_loss did not improve from 0.59853\n",
            "Epoch 7/50\n",
            "51466/51466 [==============================] - 14s 269us/step - loss: 10.6736 - mean_squared_error: 47133.0946 - val_loss: 12.3755 - val_mean_squared_error: 21687.3145\n",
            "\n",
            "Epoch 00007: val_loss did not improve from 0.59853\n",
            "Epoch 8/50\n",
            "51466/51466 [==============================] - 14s 271us/step - loss: 9.8192 - mean_squared_error: 40908.5919 - val_loss: 7.9490 - val_mean_squared_error: 18780.0892\n",
            "\n",
            "Epoch 00008: val_loss did not improve from 0.59853\n",
            "Epoch 9/50\n",
            "51466/51466 [==============================] - 14s 270us/step - loss: 8.8539 - mean_squared_error: 36683.6487 - val_loss: 7.1764 - val_mean_squared_error: 16461.3004\n",
            "\n",
            "Epoch 00009: val_loss did not improve from 0.59853\n",
            "Epoch 10/50\n",
            "51466/51466 [==============================] - 14s 271us/step - loss: 8.4739 - mean_squared_error: 32425.7146 - val_loss: 4.9601 - val_mean_squared_error: 14503.9088\n",
            "\n",
            "Epoch 00010: val_loss did not improve from 0.59853\n",
            "Epoch 11/50\n",
            "51466/51466 [==============================] - 14s 272us/step - loss: 8.0639 - mean_squared_error: 29114.6663 - val_loss: 6.0536 - val_mean_squared_error: 12901.5983\n",
            "\n",
            "Epoch 00011: val_loss did not improve from 0.59853\n",
            "Epoch 12/50\n",
            "51466/51466 [==============================] - 14s 271us/step - loss: 7.3760 - mean_squared_error: 26812.7899 - val_loss: 6.0535 - val_mean_squared_error: 11522.7660\n",
            "\n",
            "Epoch 00012: val_loss did not improve from 0.59853\n",
            "Epoch 13/50\n",
            "51466/51466 [==============================] - 14s 269us/step - loss: 7.0729 - mean_squared_error: 24324.2862 - val_loss: 3.6423 - val_mean_squared_error: 10551.8336\n",
            "\n",
            "Epoch 00013: val_loss did not improve from 0.59853\n",
            "Epoch 14/50\n",
            "51466/51466 [==============================] - 14s 271us/step - loss: 6.6677 - mean_squared_error: 22404.6841 - val_loss: 3.8136 - val_mean_squared_error: 9435.7325\n",
            "\n",
            "Epoch 00014: val_loss did not improve from 0.59853\n",
            "Epoch 15/50\n",
            "51466/51466 [==============================] - 14s 270us/step - loss: 6.4688 - mean_squared_error: 20608.0539 - val_loss: 4.2466 - val_mean_squared_error: 8644.6046\n",
            "\n",
            "Epoch 00015: val_loss did not improve from 0.59853\n",
            "Epoch 16/50\n",
            "51466/51466 [==============================] - 14s 271us/step - loss: 6.1384 - mean_squared_error: 18955.3904 - val_loss: 3.6797 - val_mean_squared_error: 7976.7698\n",
            "\n",
            "Epoch 00016: val_loss did not improve from 0.59853\n",
            "Epoch 17/50\n",
            "51466/51466 [==============================] - 14s 271us/step - loss: 5.9944 - mean_squared_error: 17675.4786 - val_loss: 8.0705 - val_mean_squared_error: 7463.8843\n",
            "\n",
            "Epoch 00017: val_loss did not improve from 0.59853\n",
            "Epoch 18/50\n",
            "51466/51466 [==============================] - 14s 269us/step - loss: 5.8432 - mean_squared_error: 16586.5911 - val_loss: 3.8815 - val_mean_squared_error: 6883.3309\n",
            "\n",
            "Epoch 00018: val_loss did not improve from 0.59853\n",
            "Epoch 19/50\n",
            "51466/51466 [==============================] - 14s 271us/step - loss: 5.5013 - mean_squared_error: 15513.4165 - val_loss: 3.8466 - val_mean_squared_error: 6460.8138\n",
            "\n",
            "Epoch 00019: val_loss did not improve from 0.59853\n",
            "Epoch 20/50\n",
            "51466/51466 [==============================] - 14s 271us/step - loss: 5.4317 - mean_squared_error: 14645.4924 - val_loss: 6.0249 - val_mean_squared_error: 6024.5607\n",
            "\n",
            "Epoch 00020: val_loss did not improve from 0.59853\n",
            "Epoch 21/50\n",
            "51466/51466 [==============================] - 14s 270us/step - loss: 5.2330 - mean_squared_error: 13856.3031 - val_loss: 5.5223 - val_mean_squared_error: 5665.8865\n",
            "\n",
            "Epoch 00021: val_loss did not improve from 0.59853\n",
            "Epoch 22/50\n",
            "51466/51466 [==============================] - 14s 269us/step - loss: 5.1825 - mean_squared_error: 13057.4348 - val_loss: 2.0192 - val_mean_squared_error: 5323.7078\n",
            "\n",
            "Epoch 00022: val_loss did not improve from 0.59853\n",
            "Epoch 23/50\n",
            "51466/51466 [==============================] - 14s 270us/step - loss: 4.9068 - mean_squared_error: 12415.3746 - val_loss: 6.8259 - val_mean_squared_error: 5052.7941\n",
            "\n",
            "Epoch 00023: val_loss did not improve from 0.59853\n",
            "Epoch 24/50\n",
            "51466/51466 [==============================] - 14s 271us/step - loss: 4.8151 - mean_squared_error: 11880.3483 - val_loss: 6.6941 - val_mean_squared_error: 4790.0205\n",
            "\n",
            "Epoch 00024: val_loss did not improve from 0.59853\n",
            "Epoch 25/50\n",
            "51466/51466 [==============================] - 14s 281us/step - loss: 4.7732 - mean_squared_error: 11198.7137 - val_loss: 2.6359 - val_mean_squared_error: 4469.5031\n",
            "\n",
            "Epoch 00025: val_loss did not improve from 0.59853\n",
            "Epoch 26/50\n",
            "51466/51466 [==============================] - 14s 278us/step - loss: 4.6008 - mean_squared_error: 10853.8151 - val_loss: 6.2813 - val_mean_squared_error: 4307.3086\n",
            "\n",
            "Epoch 00026: val_loss did not improve from 0.59853\n",
            "Epoch 27/50\n",
            "51466/51466 [==============================] - 14s 269us/step - loss: 4.4006 - mean_squared_error: 10398.4227 - val_loss: 3.5198 - val_mean_squared_error: 4063.2334\n",
            "\n",
            "Epoch 00027: val_loss did not improve from 0.59853\n",
            "Epoch 28/50\n",
            "51466/51466 [==============================] - 14s 268us/step - loss: 4.4887 - mean_squared_error: 9949.1761 - val_loss: 4.4566 - val_mean_squared_error: 3861.1219\n",
            "\n",
            "Epoch 00028: val_loss did not improve from 0.59853\n",
            "Epoch 29/50\n",
            "51466/51466 [==============================] - 14s 271us/step - loss: 4.4901 - mean_squared_error: 9594.0456 - val_loss: 3.3622 - val_mean_squared_error: 3687.2771\n",
            "\n",
            "Epoch 00029: val_loss did not improve from 0.59853\n",
            "Epoch 30/50\n",
            "51466/51466 [==============================] - 14s 270us/step - loss: 4.5217 - mean_squared_error: 9249.5776 - val_loss: 3.5611 - val_mean_squared_error: 3478.2930\n",
            "\n",
            "Epoch 00030: val_loss did not improve from 0.59853\n",
            "Epoch 31/50\n",
            "51466/51466 [==============================] - 14s 269us/step - loss: 4.1957 - mean_squared_error: 8922.5755 - val_loss: 3.3505 - val_mean_squared_error: 3384.1479\n",
            "\n",
            "Epoch 00031: val_loss did not improve from 0.59853\n",
            "Epoch 32/50\n",
            "51466/51466 [==============================] - 14s 273us/step - loss: 4.3320 - mean_squared_error: 8633.4225 - val_loss: 2.2937 - val_mean_squared_error: 3222.8673\n",
            "\n",
            "Epoch 00032: val_loss did not improve from 0.59853\n",
            "Epoch 33/50\n",
            "51466/51466 [==============================] - 14s 273us/step - loss: 4.0350 - mean_squared_error: 8409.2920 - val_loss: 2.4397 - val_mean_squared_error: 3085.1448\n",
            "\n",
            "Epoch 00033: val_loss did not improve from 0.59853\n",
            "Epoch 34/50\n",
            "51466/51466 [==============================] - 14s 272us/step - loss: 4.0658 - mean_squared_error: 8116.4729 - val_loss: 2.1694 - val_mean_squared_error: 2941.4158\n",
            "\n",
            "Epoch 00034: val_loss did not improve from 0.59853\n",
            "Epoch 35/50\n",
            "51466/51466 [==============================] - 14s 271us/step - loss: 3.8169 - mean_squared_error: 7892.1748 - val_loss: 5.0112 - val_mean_squared_error: 2876.6504\n",
            "\n",
            "Epoch 00035: val_loss did not improve from 0.59853\n",
            "Epoch 36/50\n",
            "51466/51466 [==============================] - 14s 269us/step - loss: 4.0190 - mean_squared_error: 7697.5300 - val_loss: 2.8890 - val_mean_squared_error: 2745.6647\n",
            "\n",
            "Epoch 00036: val_loss did not improve from 0.59853\n",
            "Epoch 37/50\n",
            "51466/51466 [==============================] - 14s 269us/step - loss: 3.8484 - mean_squared_error: 7479.0254 - val_loss: 2.0485 - val_mean_squared_error: 2636.5428\n",
            "\n",
            "Epoch 00037: val_loss did not improve from 0.59853\n",
            "Epoch 38/50\n",
            "51466/51466 [==============================] - 14s 272us/step - loss: 3.8022 - mean_squared_error: 7270.8108 - val_loss: 2.2424 - val_mean_squared_error: 2543.9661\n",
            "\n",
            "Epoch 00038: val_loss did not improve from 0.59853\n",
            "Epoch 39/50\n",
            "51466/51466 [==============================] - 14s 268us/step - loss: 3.9019 - mean_squared_error: 7094.0195 - val_loss: 2.4025 - val_mean_squared_error: 2485.1933\n",
            "\n",
            "Epoch 00039: val_loss did not improve from 0.59853\n",
            "Epoch 40/50\n",
            "51466/51466 [==============================] - 14s 269us/step - loss: 3.6824 - mean_squared_error: 6959.6429 - val_loss: 2.3747 - val_mean_squared_error: 2381.9964\n",
            "\n",
            "Epoch 00040: val_loss did not improve from 0.59853\n",
            "Epoch 41/50\n",
            "51466/51466 [==============================] - 14s 274us/step - loss: 3.7701 - mean_squared_error: 6769.2851 - val_loss: 5.4437 - val_mean_squared_error: 2318.2890\n",
            "\n",
            "Epoch 00041: val_loss did not improve from 0.59853\n",
            "Epoch 42/50\n",
            "51466/51466 [==============================] - 14s 273us/step - loss: 3.8498 - mean_squared_error: 6616.9125 - val_loss: 3.5853 - val_mean_squared_error: 2243.3664\n",
            "\n",
            "Epoch 00042: val_loss did not improve from 0.59853\n",
            "Epoch 43/50\n",
            "51466/51466 [==============================] - 14s 273us/step - loss: 3.7476 - mean_squared_error: 6468.5507 - val_loss: 4.1480 - val_mean_squared_error: 2154.0094\n",
            "\n",
            "Epoch 00043: val_loss did not improve from 0.59853\n",
            "Epoch 44/50\n",
            "51466/51466 [==============================] - 14s 272us/step - loss: 3.4769 - mean_squared_error: 6304.5318 - val_loss: 2.0931 - val_mean_squared_error: 2084.7306\n",
            "\n",
            "Epoch 00044: val_loss did not improve from 0.59853\n",
            "Epoch 45/50\n",
            "51466/51466 [==============================] - 14s 272us/step - loss: 3.5688 - mean_squared_error: 6146.1490 - val_loss: 1.7695 - val_mean_squared_error: 2021.4982\n",
            "\n",
            "Epoch 00045: val_loss did not improve from 0.59853\n",
            "Epoch 46/50\n",
            "51466/51466 [==============================] - 14s 274us/step - loss: 3.4234 - mean_squared_error: 6038.7294 - val_loss: 1.8325 - val_mean_squared_error: 1950.6461\n",
            "\n",
            "Epoch 00046: val_loss did not improve from 0.59853\n",
            "Epoch 47/50\n",
            "51466/51466 [==============================] - 15s 285us/step - loss: 3.2991 - mean_squared_error: 5879.2049 - val_loss: 2.4141 - val_mean_squared_error: 1904.2424\n",
            "\n",
            "Epoch 00047: val_loss did not improve from 0.59853\n",
            "Epoch 48/50\n",
            "51466/51466 [==============================] - 14s 277us/step - loss: 3.3430 - mean_squared_error: 5757.3617 - val_loss: 4.7591 - val_mean_squared_error: 1845.1571\n",
            "\n",
            "Epoch 00048: val_loss did not improve from 0.59853\n",
            "Epoch 49/50\n",
            "51466/51466 [==============================] - 14s 270us/step - loss: 3.3402 - mean_squared_error: 5656.6689 - val_loss: 4.2442 - val_mean_squared_error: 1789.6368\n",
            "\n",
            "Epoch 00049: val_loss did not improve from 0.59853\n",
            "Epoch 50/50\n",
            "51466/51466 [==============================] - 14s 275us/step - loss: 3.2927 - mean_squared_error: 5539.6037 - val_loss: 5.6821 - val_mean_squared_error: 1709.9138\n",
            "\n",
            "Epoch 00050: val_loss did not improve from 0.59853\n",
            "12866/12866 [==============================] - 0s 37us/step\n",
            "89.45650663817027\n",
            "145.23528529347107\n"
          ],
          "name": "stdout"
        },
        {
          "output_type": "display_data",
          "data": {
            "image/png": "[encoded data removed]",
            "text/plain": [
              "<Figure size 432x288 with 1 Axes>"
            ]
          },
          "metadata": {
            "tags": []
          }
        },
        {
          "output_type": "stream",
          "text": [
            "89.45650663817027\n",
            "[21.637439463174406, 37.669672723468665, 24.603912036192767, 89.45650663817027]\n",
            "Train on 51466 samples, validate on 12866 samples\n",
            "Epoch 1/50\n",
            "51466/51466 [==============================] - 14s 277us/step - loss: 230.8814 - mean_squared_error: 1069181.1907 - val_loss: 235.5509 - val_mean_squared_error: 1322142.2902\n",
            "\n",
            "Epoch 00001: val_loss did not improve from 0.59853\n",
            "Epoch 2/50\n",
            "51466/51466 [==============================] - 14s 272us/step - loss: 228.7077 - mean_squared_error: 1057293.8979 - val_loss: 233.0495 - val_mean_squared_error: 1305369.4758\n",
            "\n",
            "Epoch 00002: val_loss did not improve from 0.59853\n",
            "Epoch 3/50\n",
            "51466/51466 [==============================] - 14s 273us/step - loss: 224.8201 - mean_squared_error: 1027778.8777 - val_loss: 226.4353 - val_mean_squared_error: 1244689.1380\n",
            "\n",
            "Epoch 00003: val_loss did not improve from 0.59853\n",
            "Epoch 4/50\n",
            "51466/51466 [==============================] - 14s 272us/step - loss: 210.8683 - mean_squared_error: 919177.9599 - val_loss: 197.6578 - val_mean_squared_error: 1010548.8828\n",
            "\n",
            "Epoch 00004: val_loss did not improve from 0.59853\n",
            "Epoch 5/50\n",
            "51466/51466 [==============================] - 14s 273us/step - loss: 149.8626 - mean_squared_error: 550300.6554 - val_loss: 92.4770 - val_mean_squared_error: 380830.1200\n",
            "\n",
            "Epoch 00005: val_loss did not improve from 0.59853\n",
            "Epoch 6/50\n",
            "51466/51466 [==============================] - 14s 269us/step - loss: 36.5781 - mean_squared_error: 118044.2695 - val_loss: 21.1288 - val_mean_squared_error: 119726.8102\n",
            "\n",
            "Epoch 00006: val_loss did not improve from 0.59853\n",
            "Epoch 7/50\n",
            "51466/51466 [==============================] - 14s 270us/step - loss: 14.4094 - mean_squared_error: 54918.2494 - val_loss: 12.6971 - val_mean_squared_error: 88462.4036\n",
            "\n",
            "Epoch 00007: val_loss did not improve from 0.59853\n",
            "Epoch 8/50\n",
            "51466/51466 [==============================] - 14s 269us/step - loss: 9.9751 - mean_squared_error: 39569.8033 - val_loss: 10.1287 - val_mean_squared_error: 71110.8113\n",
            "\n",
            "Epoch 00008: val_loss did not improve from 0.59853\n",
            "Epoch 9/50\n",
            "51466/51466 [==============================] - 14s 271us/step - loss: 8.0580 - mean_squared_error: 32398.6853 - val_loss: 15.0051 - val_mean_squared_error: 61189.8794\n",
            "\n",
            "Epoch 00009: val_loss did not improve from 0.59853\n",
            "Epoch 10/50\n",
            "51466/51466 [==============================] - 14s 267us/step - loss: 7.4362 - mean_squared_error: 28443.3589 - val_loss: 9.3008 - val_mean_squared_error: 55268.8152\n",
            "\n",
            "Epoch 00010: val_loss did not improve from 0.59853\n",
            "Epoch 11/50\n",
            "51466/51466 [==============================] - 14s 271us/step - loss: 7.0667 - mean_squared_error: 25965.4820 - val_loss: 10.5404 - val_mean_squared_error: 51789.8191\n",
            "\n",
            "Epoch 00011: val_loss did not improve from 0.59853\n",
            "Epoch 12/50\n",
            "51466/51466 [==============================] - 14s 271us/step - loss: 6.7156 - mean_squared_error: 23984.5836 - val_loss: 7.2731 - val_mean_squared_error: 48875.2913\n",
            "\n",
            "Epoch 00012: val_loss did not improve from 0.59853\n",
            "Epoch 13/50\n",
            "51466/51466 [==============================] - 14s 270us/step - loss: 6.4489 - mean_squared_error: 22334.9514 - val_loss: 7.8337 - val_mean_squared_error: 46098.4522\n",
            "\n",
            "Epoch 00013: val_loss did not improve from 0.59853\n",
            "Epoch 14/50\n",
            "51466/51466 [==============================] - 14s 270us/step - loss: 6.2573 - mean_squared_error: 20975.5449 - val_loss: 11.1176 - val_mean_squared_error: 43633.6025\n",
            "\n",
            "Epoch 00014: val_loss did not improve from 0.59853\n",
            "Epoch 15/50\n",
            "51466/51466 [==============================] - 14s 271us/step - loss: 5.9600 - mean_squared_error: 19774.1948 - val_loss: 8.6790 - val_mean_squared_error: 41413.3594\n",
            "\n",
            "Epoch 00015: val_loss did not improve from 0.59853\n",
            "Epoch 16/50\n",
            "51466/51466 [==============================] - 14s 270us/step - loss: 5.8338 - mean_squared_error: 18596.6801 - val_loss: 5.7362 - val_mean_squared_error: 39418.8827\n",
            "\n",
            "Epoch 00016: val_loss did not improve from 0.59853\n",
            "Epoch 17/50\n",
            "51466/51466 [==============================] - 14s 271us/step - loss: 5.6004 - mean_squared_error: 17468.0653 - val_loss: 6.2642 - val_mean_squared_error: 37446.5325\n",
            "\n",
            "Epoch 00017: val_loss did not improve from 0.59853\n",
            "Epoch 18/50\n",
            "51466/51466 [==============================] - 14s 271us/step - loss: 5.2762 - mean_squared_error: 16500.7818 - val_loss: 7.6875 - val_mean_squared_error: 35734.3994\n",
            "\n",
            "Epoch 00018: val_loss did not improve from 0.59853\n",
            "Epoch 19/50\n",
            "51466/51466 [==============================] - 15s 288us/step - loss: 5.1728 - mean_squared_error: 15589.5391 - val_loss: 8.2753 - val_mean_squared_error: 33901.1371\n",
            "\n",
            "Epoch 00019: val_loss did not improve from 0.59853\n",
            "Epoch 20/50\n",
            "51466/51466 [==============================] - 14s 271us/step - loss: 5.0904 - mean_squared_error: 14873.5939 - val_loss: 9.6149 - val_mean_squared_error: 32817.5805\n",
            "\n",
            "Epoch 00020: val_loss did not improve from 0.59853\n",
            "Epoch 21/50\n",
            "51466/51466 [==============================] - 14s 270us/step - loss: 4.8570 - mean_squared_error: 14200.8620 - val_loss: 6.0459 - val_mean_squared_error: 31160.4367\n",
            "\n",
            "Epoch 00021: val_loss did not improve from 0.59853\n",
            "Epoch 22/50\n",
            "51466/51466 [==============================] - 14s 268us/step - loss: 4.6777 - mean_squared_error: 13457.7570 - val_loss: 8.1073 - val_mean_squared_error: 30003.2698\n",
            "\n",
            "Epoch 00022: val_loss did not improve from 0.59853\n",
            "Epoch 23/50\n",
            "51466/51466 [==============================] - 14s 272us/step - loss: 4.5575 - mean_squared_error: 12903.3737 - val_loss: 5.5625 - val_mean_squared_error: 28721.3147\n",
            "\n",
            "Epoch 00023: val_loss did not improve from 0.59853\n",
            "Epoch 24/50\n",
            " 6608/51466 [==>...........................] - ETA: 10s - loss: 4.2652 - mean_squared_error: 4145.9675Buffered data was truncated after reaching the output size limit."
          ],
          "name": "stdout"
        }
      ]
    },
    {
      "cell_type": "code",
      "metadata": {
        "id": "n18aK4SnPiZq",
        "colab_type": "code",
        "outputId": "3312dc01-6cdb-42f5-85a8-9315aea79605",
        "colab": {
          "base_uri": "https://localhost:8080/",
          "height": 808
        }
      },
      "source": [
        "lossTrainPlot(model_history)\n",
        "lossValPlot(model_history)\n",
        "lossTrainValPlot(model_history)"
      ],
      "execution_count": 0,
      "outputs": [
        {
          "output_type": "display_data",
          "data": {
            "image/png": "[encoded data removed]",
            "text/plain": [
              "<Figure size 432x288 with 1 Axes>"
            ]
          },
          "metadata": {
            "tags": []
          }
        },
        {
          "output_type": "display_data",
          "data": {
            "image/png": "[encoded data removed]",
            "text/plain": [
              "<Figure size 432x288 with 1 Axes>"
            ]
          },
          "metadata": {
            "tags": []
          }
        },
        {
          "output_type": "display_data",
          "data": {
            "image/png": "[encoded data removed]",
            "text/plain": [
              "<Figure size 432x288 with 1 Axes>"
            ]
          },
          "metadata": {
            "tags": []
          }
        }
      ]
    },
    {
      "cell_type": "code",
      "metadata": {
        "id": "9aBlyO3JQDjH",
        "colab_type": "code",
        "colab": {}
      },
      "source": [
        "def WeightsLayers(model):\n",
        "  for layer in model.layers:\n",
        "      weights = layer.get_weights()\n",
        "  print(weights)\n",
        "  return"
      ],
      "execution_count": 0,
      "outputs": []
    },
    {
      "cell_type": "code",
      "metadata": {
        "id": "tlusHNm7QlBw",
        "colab_type": "code",
        "outputId": "43ef6031-16a7-4880-8a0e-226bef3e3cbb",
        "colab": {
          "base_uri": "https://localhost:8080/",
          "height": 87
        }
      },
      "source": [
        "WeightsLayers(model)"
      ],
      "execution_count": 0,
      "outputs": [
        {
          "output_type": "stream",
          "text": [
            "[array([[ 1.2569789],\n",
            "       [-1.2410798],\n",
            "       [-1.447251 ],\n",
            "       [-1.4367872]], dtype=float32), array([0.29563618], dtype=float32)]\n"
          ],
          "name": "stdout"
        }
      ]
    },
    {
      "cell_type": "code",
      "metadata": {
        "id": "xlD3ERbzRFNB",
        "colab_type": "code",
        "colab": {}
      },
      "source": [
        "def loadBestModel(modelName):\n",
        "\n",
        "  model = load_model(modelName)\n",
        "  model.load_weights(modelName)\n",
        "  print(\"Loaded model from disk\")\n",
        "\n",
        "  # evaluate loaded model on test data \n",
        "  # Define X_test & Y_test data first\n",
        "  model.compile(loss='mean_absolute_percentage_error', optimizer='adam', metrics=['mape'])\n",
        "  score = model.evaluate(testX, testY, verbose=0)\n",
        "  print (\"%s: %.2f%%\" % (model.metrics_names[1], score[1]))\n",
        "  preds = model.predict(testX)\n",
        "\n",
        "  fig, ax = plt.subplots()\n",
        "  ax.scatter(testY, preds)\n",
        "  ax.plot([testY.min(), testY.max()], [testY.min(), testY.max()], 'k--', lw=4)\n",
        "  ax.set_xlabel('Measured')\n",
        "  ax.set_ylabel('Predicted')\n",
        "  plt.show()\n",
        "  return"
      ],
      "execution_count": 0,
      "outputs": []
    },
    {
      "cell_type": "code",
      "metadata": {
        "id": "-AVYvhmITcu3",
        "colab_type": "code",
        "outputId": "60c2a930-f142-4000-ed97-d3f154c439e6",
        "colab": {
          "base_uri": "https://localhost:8080/",
          "height": 34
        }
      },
      "source": [
        "'''modelName = 'RegMos.h5'\n",
        "loadBestModel(modelName)'''"
      ],
      "execution_count": 0,
      "outputs": [
        {
          "output_type": "execute_result",
          "data": {
            "text/plain": [
              "\"modelName = 'RegMos.h5'\\nloadBestModel(modelName)\""
            ]
          },
          "metadata": {
            "tags": []
          },
          "execution_count": 33
        }
      ]
    },
    {
      "cell_type": "markdown",
      "metadata": {
        "id": "Q-qaw1i5KOGZ",
        "colab_type": "text"
      },
      "source": [
        "## Transfer Learning"
      ]
    },
    {
      "cell_type": "markdown",
      "metadata": {
        "id": "lf3V3296Kmbz",
        "colab_type": "text"
      },
      "source": [
        "### VGG19"
      ]
    },
    {
      "cell_type": "code",
      "metadata": {
        "id": "h4ju7lycODAz",
        "colab_type": "code",
        "colab": {}
      },
      "source": [
        "def vgg19Model(width, height, depth):\n",
        "  \n",
        "  inputShape = (height, width, depth)\n",
        "  base_modelVgg19=VGG19(weights='imagenet',\n",
        "                        include_top=False,\n",
        "                        input_shape=inputShape)\n",
        "\n",
        "  model = Sequential()\n",
        "  model.add(base_modelVgg19)\n",
        "  model.add(Flatten())\n",
        "  model.add(BatchNormalization())\n",
        "  model.add(Dense(128, activation='linear'))\n",
        "  model.add(layers.LeakyReLU(alpha=0.1))           \n",
        "  model.add(Dropout(0.4))\n",
        "  model.add(Dense(1, activation='linear'))\n",
        "  model.compile(optimizer='adam',loss='mae',metrics=['mse'])\n",
        "  return model"
      ],
      "execution_count": 0,
      "outputs": []
    },
    {
      "cell_type": "code",
      "metadata": {
        "id": "h65yRdZhhHvg",
        "colab_type": "code",
        "colab": {}
      },
      "source": [
        "start = time.clock() \n",
        "historyConvTransf = modelTransf.fit(x_train,train_small_with_dummies, \n",
        "                                    validation_data=(x_valid, train_small_with_dummies2),\n",
        "                                    batch_size=128,verbose=2, nb_epoch=256,shuffle=True)\n",
        "\n",
        "end = time.clock()\n",
        "timeConvTL = end-start\n",
        "\n",
        "print(\"Total Time: {} \".format(timeConvTL)) "
      ],
      "execution_count": 0,
      "outputs": []
    },
    {
      "cell_type": "code",
      "metadata": {
        "id": "OvZuzfy-nqQt",
        "colab_type": "code",
        "colab": {}
      },
      "source": [
        "historyConvTransfDA = modelTransf.fit_generator(\n",
        "        train_generator.flow(x_train, train_small_with_dummies, batch_size=32),\n",
        "        steps_per_epoch=int(2*SIZE / 32),\n",
        "        epochs=256,\n",
        "        validation_data=evaluate_generator.flow(x_valid, train_small_with_dummies2, batch_size=32),\n",
        "        validation_steps=128,\n",
        "        verbose=2\n",
        "    )"
      ],
      "execution_count": 0,
      "outputs": []
    },
    {
      "cell_type": "markdown",
      "metadata": {
        "id": "n31t79BiKenh",
        "colab_type": "text"
      },
      "source": [
        "### ResNet 50"
      ]
    },
    {
      "cell_type": "code",
      "metadata": {
        "colab_type": "code",
        "id": "MDBqjzOzKdF0",
        "colab": {}
      },
      "source": [
        "def resnet50Model(width, height, depth):\n",
        "  \n",
        "  inputShape = (height, width, depth)\n",
        "  base_modelRes=ResNet50(weights='imagenet',\n",
        "                        include_top=False,\n",
        "                        input_shape=inputShape)\n",
        "\n",
        "  model = Sequential()\n",
        "  model.add(base_modelRes)\n",
        "  model.add(Flatten())\n",
        "  model.add(BatchNormalization())\n",
        "  model.add(Dense(128, activation='linear'))\n",
        "  model.add(layers.LeakyReLU(alpha=0.1))           \n",
        "  model.add(Dropout(0.3))\n",
        "  model.add(Dense(1, activation='linear'))\n",
        "  model.compile(optimizer='adam',loss='mae',metrics=['mse'])\n",
        "  return model"
      ],
      "execution_count": 0,
      "outputs": []
    },
    {
      "cell_type": "code",
      "metadata": {
        "colab_type": "code",
        "outputId": "0851d0d2-c16b-4199-99e7-6f76f05c0d7e",
        "id": "j4sM7aprKdF2",
        "colab": {
          "base_uri": "https://localhost:8080/",
          "height": 8860
        }
      },
      "source": [
        "start = time.clock() \n",
        "historyRes = modelTransf2.fit(x_train,train_small_with_dummies, \n",
        "                                    validation_data=(x_valid, train_small_with_dummies2),\n",
        "                                    batch_size=128,verbose=2, nb_epoch=256,shuffle=True)\n",
        "\n",
        "end = time.clock()\n",
        "timeRes = end-start\n",
        "\n",
        "print(\"Total Time: {} \".format(timeRes)) "
      ],
      "execution_count": 0,
      "outputs": [
        {
          "output_type": "stream",
          "text": [
            "WARNING:tensorflow:From /usr/local/lib/python3.6/dist-packages/tensorflow/python/ops/math_ops.py:3066: to_int32 (from tensorflow.python.ops.math_ops) is deprecated and will be removed in a future version.\n",
            "Instructions for updating:\n",
            "Use tf.cast instead.\n"
          ],
          "name": "stdout"
        },
        {
          "output_type": "stream",
          "text": [
            "/usr/local/lib/python3.6/dist-packages/ipykernel_launcher.py:4: UserWarning: The `nb_epoch` argument in `fit` has been renamed `epochs`.\n",
            "  after removing the cwd from sys.path.\n"
          ],
          "name": "stderr"
        },
        {
          "output_type": "stream",
          "text": [
            "Train on 1680 samples, validate on 420 samples\n",
            "Epoch 1/256\n",
            " - 23s - loss: 1.6648 - acc: 0.5738 - val_loss: 7.2263 - val_acc: 0.3857\n",
            "Epoch 2/256\n",
            " - 3s - loss: 0.9536 - acc: 0.7357 - val_loss: 12.0762 - val_acc: 0.1619\n",
            "Epoch 3/256\n",
            " - 3s - loss: 0.6928 - acc: 0.8137 - val_loss: 11.9348 - val_acc: 0.1452\n",
            "Epoch 4/256\n",
            " - 3s - loss: 0.4888 - acc: 0.8423 - val_loss: 8.9149 - val_acc: 0.1762\n",
            "Epoch 5/256\n",
            " - 3s - loss: 0.5482 - acc: 0.8506 - val_loss: 5.6143 - val_acc: 0.3048\n",
            "Epoch 6/256\n",
            " - 3s - loss: 0.5075 - acc: 0.8708 - val_loss: 10.5026 - val_acc: 0.1714\n",
            "Epoch 7/256\n",
            " - 3s - loss: 0.2891 - acc: 0.9095 - val_loss: 3.9916 - val_acc: 0.4929\n",
            "Epoch 8/256\n",
            " - 3s - loss: 0.2819 - acc: 0.9107 - val_loss: 5.2025 - val_acc: 0.5286\n",
            "Epoch 9/256\n",
            " - 3s - loss: 0.3272 - acc: 0.9024 - val_loss: 5.6613 - val_acc: 0.3857\n",
            "Epoch 10/256\n",
            " - 3s - loss: 0.2176 - acc: 0.9274 - val_loss: 4.9551 - val_acc: 0.4167\n",
            "Epoch 11/256\n",
            " - 3s - loss: 0.1586 - acc: 0.9339 - val_loss: 5.8298 - val_acc: 0.4095\n",
            "Epoch 12/256\n",
            " - 3s - loss: 0.2210 - acc: 0.9208 - val_loss: 2.9179 - val_acc: 0.5262\n",
            "Epoch 13/256\n",
            " - 3s - loss: 0.3510 - acc: 0.8929 - val_loss: 3.3878 - val_acc: 0.3762\n",
            "Epoch 14/256\n",
            " - 3s - loss: 0.5835 - acc: 0.8488 - val_loss: 4.3702 - val_acc: 0.2929\n",
            "Epoch 15/256\n",
            " - 3s - loss: 0.2922 - acc: 0.9030 - val_loss: 4.0483 - val_acc: 0.3333\n",
            "Epoch 16/256\n",
            " - 3s - loss: 0.4008 - acc: 0.8893 - val_loss: 6.7586 - val_acc: 0.2738\n",
            "Epoch 17/256\n",
            " - 3s - loss: 0.2868 - acc: 0.9107 - val_loss: 4.9333 - val_acc: 0.4214\n",
            "Epoch 18/256\n",
            " - 3s - loss: 0.1856 - acc: 0.9262 - val_loss: 8.1810 - val_acc: 0.2690\n",
            "Epoch 19/256\n",
            " - 3s - loss: 0.2664 - acc: 0.9202 - val_loss: 2.9866 - val_acc: 0.5214\n",
            "Epoch 20/256\n",
            " - 3s - loss: 0.3154 - acc: 0.9095 - val_loss: 7.5300 - val_acc: 0.2214\n",
            "Epoch 21/256\n",
            " - 3s - loss: 0.2827 - acc: 0.9113 - val_loss: 5.5747 - val_acc: 0.3214\n",
            "Epoch 22/256\n",
            " - 3s - loss: 0.2327 - acc: 0.9315 - val_loss: 3.7715 - val_acc: 0.5048\n",
            "Epoch 23/256\n",
            " - 3s - loss: 0.4999 - acc: 0.8929 - val_loss: 8.9714 - val_acc: 0.1881\n",
            "Epoch 24/256\n",
            " - 3s - loss: 0.5480 - acc: 0.8393 - val_loss: 10.1220 - val_acc: 0.1738\n",
            "Epoch 25/256\n",
            " - 3s - loss: 0.5776 - acc: 0.8690 - val_loss: 9.9331 - val_acc: 0.1429\n",
            "Epoch 26/256\n",
            " - 3s - loss: 0.5596 - acc: 0.8536 - val_loss: 12.5753 - val_acc: 0.0762\n",
            "Epoch 27/256\n",
            " - 3s - loss: 0.5440 - acc: 0.8458 - val_loss: 14.0708 - val_acc: 0.0714\n",
            "Epoch 28/256\n",
            " - 3s - loss: 0.2826 - acc: 0.9107 - val_loss: 9.2530 - val_acc: 0.2071\n",
            "Epoch 29/256\n",
            " - 3s - loss: 0.2575 - acc: 0.9131 - val_loss: 4.4103 - val_acc: 0.4119\n",
            "Epoch 30/256\n",
            " - 3s - loss: 0.1779 - acc: 0.9381 - val_loss: 4.4449 - val_acc: 0.3881\n",
            "Epoch 31/256\n",
            " - 3s - loss: 1.0442 - acc: 0.7911 - val_loss: 14.8439 - val_acc: 0.0595\n",
            "Epoch 32/256\n",
            " - 3s - loss: 1.3599 - acc: 0.7250 - val_loss: 15.0739 - val_acc: 0.0190\n",
            "Epoch 33/256\n",
            " - 3s - loss: 1.5325 - acc: 0.6726 - val_loss: 13.4132 - val_acc: 0.0476\n",
            "Epoch 34/256\n",
            " - 3s - loss: 1.3418 - acc: 0.6863 - val_loss: 12.6974 - val_acc: 0.0952\n",
            "Epoch 35/256\n",
            " - 3s - loss: 1.3414 - acc: 0.6732 - val_loss: 13.1402 - val_acc: 0.0429\n",
            "Epoch 36/256\n",
            " - 3s - loss: 0.9406 - acc: 0.7637 - val_loss: 13.6769 - val_acc: 0.0548\n",
            "Epoch 37/256\n",
            " - 3s - loss: 0.5701 - acc: 0.8226 - val_loss: 12.0767 - val_acc: 0.0429\n",
            "Epoch 38/256\n",
            " - 3s - loss: 0.4357 - acc: 0.8536 - val_loss: 6.9894 - val_acc: 0.2143\n",
            "Epoch 39/256\n",
            " - 3s - loss: 0.3161 - acc: 0.8923 - val_loss: 4.6274 - val_acc: 0.3119\n",
            "Epoch 40/256\n",
            " - 3s - loss: 0.4075 - acc: 0.8887 - val_loss: 6.6388 - val_acc: 0.3024\n",
            "Epoch 41/256\n",
            " - 3s - loss: 0.2733 - acc: 0.9024 - val_loss: 4.4641 - val_acc: 0.3738\n",
            "Epoch 42/256\n",
            " - 3s - loss: 0.1784 - acc: 0.9244 - val_loss: 2.2453 - val_acc: 0.5857\n",
            "Epoch 43/256\n",
            " - 3s - loss: 0.2007 - acc: 0.9173 - val_loss: 1.9766 - val_acc: 0.5929\n",
            "Epoch 44/256\n",
            " - 3s - loss: 0.1603 - acc: 0.9333 - val_loss: 1.5241 - val_acc: 0.6405\n",
            "Epoch 45/256\n",
            " - 3s - loss: 0.1517 - acc: 0.9310 - val_loss: 1.4463 - val_acc: 0.6810\n",
            "Epoch 46/256\n",
            " - 3s - loss: 0.1778 - acc: 0.9274 - val_loss: 1.8730 - val_acc: 0.6071\n",
            "Epoch 47/256\n",
            " - 3s - loss: 0.1494 - acc: 0.9411 - val_loss: 1.1489 - val_acc: 0.6833\n",
            "Epoch 48/256\n",
            " - 3s - loss: 0.1309 - acc: 0.9399 - val_loss: 1.0358 - val_acc: 0.7214\n",
            "Epoch 49/256\n",
            " - 3s - loss: 0.1361 - acc: 0.9417 - val_loss: 2.2572 - val_acc: 0.6071\n",
            "Epoch 50/256\n",
            " - 3s - loss: 0.1626 - acc: 0.9274 - val_loss: 1.6362 - val_acc: 0.6690\n",
            "Epoch 51/256\n",
            " - 3s - loss: 0.1109 - acc: 0.9375 - val_loss: 1.4286 - val_acc: 0.6690\n",
            "Epoch 52/256\n",
            " - 3s - loss: 0.1007 - acc: 0.9476 - val_loss: 1.2384 - val_acc: 0.6833\n",
            "Epoch 53/256\n",
            " - 3s - loss: 0.1269 - acc: 0.9429 - val_loss: 1.1354 - val_acc: 0.6929\n",
            "Epoch 54/256\n",
            " - 3s - loss: 0.1070 - acc: 0.9560 - val_loss: 2.1262 - val_acc: 0.6214\n",
            "Epoch 55/256\n",
            " - 3s - loss: 0.1327 - acc: 0.9405 - val_loss: 1.3118 - val_acc: 0.6619\n",
            "Epoch 56/256\n",
            " - 3s - loss: 0.1454 - acc: 0.9357 - val_loss: 1.4691 - val_acc: 0.6786\n",
            "Epoch 57/256\n",
            " - 3s - loss: 0.1018 - acc: 0.9470 - val_loss: 1.3652 - val_acc: 0.6595\n",
            "Epoch 58/256\n",
            " - 3s - loss: 0.0987 - acc: 0.9494 - val_loss: 1.7396 - val_acc: 0.6381\n",
            "Epoch 59/256\n",
            " - 3s - loss: 0.2583 - acc: 0.9137 - val_loss: 4.2394 - val_acc: 0.3929\n",
            "Epoch 60/256\n",
            " - 3s - loss: 0.2968 - acc: 0.9077 - val_loss: 3.1256 - val_acc: 0.4738\n",
            "Epoch 61/256\n",
            " - 3s - loss: 0.1909 - acc: 0.9220 - val_loss: 3.9334 - val_acc: 0.4524\n",
            "Epoch 62/256\n",
            " - 3s - loss: 0.1428 - acc: 0.9381 - val_loss: 2.9356 - val_acc: 0.5476\n",
            "Epoch 63/256\n",
            " - 3s - loss: 0.1504 - acc: 0.9357 - val_loss: 2.7595 - val_acc: 0.5476\n",
            "Epoch 64/256\n",
            " - 3s - loss: 0.0907 - acc: 0.9577 - val_loss: 1.9136 - val_acc: 0.6262\n",
            "Epoch 65/256\n",
            " - 3s - loss: 0.0996 - acc: 0.9530 - val_loss: 1.2497 - val_acc: 0.6786\n",
            "Epoch 66/256\n",
            " - 3s - loss: 0.1008 - acc: 0.9518 - val_loss: 1.4462 - val_acc: 0.6714\n",
            "Epoch 67/256\n",
            " - 3s - loss: 0.0905 - acc: 0.9482 - val_loss: 1.8453 - val_acc: 0.6571\n",
            "Epoch 68/256\n",
            " - 3s - loss: 0.1433 - acc: 0.9446 - val_loss: 1.7822 - val_acc: 0.6405\n",
            "Epoch 69/256\n",
            " - 3s - loss: 0.1360 - acc: 0.9405 - val_loss: 2.1729 - val_acc: 0.6500\n",
            "Epoch 70/256\n",
            " - 3s - loss: 0.1529 - acc: 0.9345 - val_loss: 1.5530 - val_acc: 0.6571\n",
            "Epoch 71/256\n",
            " - 3s - loss: 0.1550 - acc: 0.9339 - val_loss: 1.6193 - val_acc: 0.6548\n",
            "Epoch 72/256\n",
            " - 3s - loss: 0.1491 - acc: 0.9393 - val_loss: 1.5166 - val_acc: 0.6810\n",
            "Epoch 73/256\n",
            " - 3s - loss: 0.2189 - acc: 0.9274 - val_loss: 2.4485 - val_acc: 0.5857\n",
            "Epoch 74/256\n",
            " - 3s - loss: 0.3145 - acc: 0.8994 - val_loss: 1.9086 - val_acc: 0.6357\n",
            "Epoch 75/256\n",
            " - 3s - loss: 0.1657 - acc: 0.9369 - val_loss: 2.1589 - val_acc: 0.6214\n",
            "Epoch 76/256\n",
            " - 3s - loss: 0.1350 - acc: 0.9345 - val_loss: 3.0564 - val_acc: 0.5357\n",
            "Epoch 77/256\n",
            " - 3s - loss: 0.7787 - acc: 0.8149 - val_loss: 14.9354 - val_acc: 0.0667\n",
            "Epoch 78/256\n",
            " - 3s - loss: 0.6863 - acc: 0.8185 - val_loss: 15.2107 - val_acc: 0.0524\n",
            "Epoch 79/256\n",
            " - 3s - loss: 0.4560 - acc: 0.8774 - val_loss: 9.5350 - val_acc: 0.2119\n",
            "Epoch 80/256\n",
            " - 3s - loss: 0.3935 - acc: 0.8935 - val_loss: 4.9213 - val_acc: 0.3619\n",
            "Epoch 81/256\n",
            " - 3s - loss: 0.2711 - acc: 0.9095 - val_loss: 4.7129 - val_acc: 0.3833\n",
            "Epoch 82/256\n",
            " - 3s - loss: 0.2378 - acc: 0.9065 - val_loss: 2.9296 - val_acc: 0.4524\n",
            "Epoch 83/256\n",
            " - 3s - loss: 0.2310 - acc: 0.9185 - val_loss: 2.5613 - val_acc: 0.4976\n",
            "Epoch 84/256\n",
            " - 3s - loss: 0.1503 - acc: 0.9363 - val_loss: 2.0147 - val_acc: 0.5786\n",
            "Epoch 85/256\n",
            " - 3s - loss: 0.1315 - acc: 0.9452 - val_loss: 1.6214 - val_acc: 0.6143\n",
            "Epoch 86/256\n",
            " - 3s - loss: 0.1351 - acc: 0.9351 - val_loss: 1.1919 - val_acc: 0.6643\n",
            "Epoch 87/256\n",
            " - 3s - loss: 0.1212 - acc: 0.9446 - val_loss: 1.6749 - val_acc: 0.6143\n",
            "Epoch 88/256\n",
            " - 3s - loss: 0.1157 - acc: 0.9500 - val_loss: 1.4664 - val_acc: 0.6476\n",
            "Epoch 89/256\n",
            " - 3s - loss: 0.1252 - acc: 0.9417 - val_loss: 1.4610 - val_acc: 0.6429\n",
            "Epoch 90/256\n",
            " - 3s - loss: 0.1235 - acc: 0.9429 - val_loss: 2.0236 - val_acc: 0.5571\n",
            "Epoch 91/256\n",
            " - 3s - loss: 0.2595 - acc: 0.9155 - val_loss: 5.8209 - val_acc: 0.2405\n",
            "Epoch 92/256\n",
            " - 3s - loss: 0.2122 - acc: 0.9274 - val_loss: 3.6728 - val_acc: 0.3929\n",
            "Epoch 93/256\n",
            " - 3s - loss: 0.2456 - acc: 0.9131 - val_loss: 4.6529 - val_acc: 0.3286\n",
            "Epoch 94/256\n",
            " - 3s - loss: 0.2241 - acc: 0.9149 - val_loss: 2.9901 - val_acc: 0.4405\n",
            "Epoch 95/256\n",
            " - 3s - loss: 0.1783 - acc: 0.9315 - val_loss: 2.1858 - val_acc: 0.5595\n",
            "Epoch 96/256\n",
            " - 3s - loss: 0.2513 - acc: 0.9226 - val_loss: 3.8953 - val_acc: 0.3833\n",
            "Epoch 97/256\n",
            " - 3s - loss: 0.4230 - acc: 0.8988 - val_loss: 4.4629 - val_acc: 0.4190\n",
            "Epoch 98/256\n",
            " - 3s - loss: 0.7044 - acc: 0.8494 - val_loss: 7.2696 - val_acc: 0.2976\n",
            "Epoch 99/256\n",
            " - 3s - loss: 1.0680 - acc: 0.7685 - val_loss: 14.2801 - val_acc: 0.0786\n",
            "Epoch 100/256\n",
            " - 3s - loss: 0.6993 - acc: 0.8417 - val_loss: 13.1802 - val_acc: 0.1000\n",
            "Epoch 101/256\n",
            " - 3s - loss: 0.4440 - acc: 0.8833 - val_loss: 8.2654 - val_acc: 0.2524\n",
            "Epoch 102/256\n",
            " - 3s - loss: 0.2854 - acc: 0.9054 - val_loss: 4.2117 - val_acc: 0.4667\n",
            "Epoch 103/256\n",
            " - 3s - loss: 0.1988 - acc: 0.9387 - val_loss: 3.5803 - val_acc: 0.4952\n",
            "Epoch 104/256\n",
            " - 3s - loss: 0.1775 - acc: 0.9310 - val_loss: 3.5608 - val_acc: 0.5143\n",
            "Epoch 105/256\n",
            " - 3s - loss: 0.2549 - acc: 0.9185 - val_loss: 2.4858 - val_acc: 0.5500\n",
            "Epoch 106/256\n",
            " - 3s - loss: 0.2675 - acc: 0.9214 - val_loss: 1.5211 - val_acc: 0.6000\n",
            "Epoch 107/256\n",
            " - 3s - loss: 0.3028 - acc: 0.9238 - val_loss: 1.6426 - val_acc: 0.6095\n",
            "Epoch 108/256\n",
            " - 3s - loss: 0.3841 - acc: 0.9149 - val_loss: 1.4760 - val_acc: 0.6214\n",
            "Epoch 109/256\n",
            " - 3s - loss: 0.2980 - acc: 0.9226 - val_loss: 1.2739 - val_acc: 0.6524\n",
            "Epoch 110/256\n",
            " - 3s - loss: 0.2757 - acc: 0.9244 - val_loss: 1.6288 - val_acc: 0.6143\n",
            "Epoch 111/256\n",
            " - 3s - loss: 0.2495 - acc: 0.9345 - val_loss: 2.7141 - val_acc: 0.4786\n",
            "Epoch 112/256\n",
            " - 3s - loss: 0.2327 - acc: 0.9339 - val_loss: 2.2692 - val_acc: 0.5643\n",
            "Epoch 113/256\n",
            " - 3s - loss: 0.1955 - acc: 0.9286 - val_loss: 2.6906 - val_acc: 0.4952\n",
            "Epoch 114/256\n",
            " - 3s - loss: 0.1949 - acc: 0.9244 - val_loss: 3.0677 - val_acc: 0.5000\n",
            "Epoch 115/256\n",
            " - 3s - loss: 0.2290 - acc: 0.9226 - val_loss: 1.9903 - val_acc: 0.5643\n",
            "Epoch 116/256\n",
            " - 3s - loss: 0.2277 - acc: 0.9280 - val_loss: 2.1081 - val_acc: 0.5714\n",
            "Epoch 117/256\n",
            " - 3s - loss: 0.2204 - acc: 0.9214 - val_loss: 2.9567 - val_acc: 0.5095\n",
            "Epoch 118/256\n",
            " - 3s - loss: 0.1961 - acc: 0.9321 - val_loss: 2.3495 - val_acc: 0.5714\n",
            "Epoch 119/256\n",
            " - 3s - loss: 0.1821 - acc: 0.9274 - val_loss: 1.7015 - val_acc: 0.6048\n",
            "Epoch 120/256\n",
            " - 3s - loss: 0.1698 - acc: 0.9339 - val_loss: 1.7904 - val_acc: 0.6048\n",
            "Epoch 121/256\n",
            " - 3s - loss: 0.1793 - acc: 0.9327 - val_loss: 1.9441 - val_acc: 0.5548\n",
            "Epoch 122/256\n",
            " - 3s - loss: 0.3211 - acc: 0.9024 - val_loss: 10.9648 - val_acc: 0.1333\n",
            "Epoch 123/256\n",
            " - 3s - loss: 0.2672 - acc: 0.9137 - val_loss: 10.1804 - val_acc: 0.1548\n",
            "Epoch 124/256\n",
            " - 3s - loss: 0.2101 - acc: 0.9286 - val_loss: 5.0123 - val_acc: 0.3714\n",
            "Epoch 125/256\n",
            " - 3s - loss: 0.2047 - acc: 0.9321 - val_loss: 2.5384 - val_acc: 0.5643\n",
            "Epoch 126/256\n",
            " - 3s - loss: 0.3710 - acc: 0.8946 - val_loss: 3.8284 - val_acc: 0.4571\n",
            "Epoch 127/256\n",
            " - 3s - loss: 0.4914 - acc: 0.8708 - val_loss: 3.8494 - val_acc: 0.4833\n",
            "Epoch 128/256\n",
            " - 3s - loss: 0.2405 - acc: 0.9149 - val_loss: 3.3181 - val_acc: 0.5262\n",
            "Epoch 129/256\n",
            " - 3s - loss: 0.2051 - acc: 0.9286 - val_loss: 1.8806 - val_acc: 0.6238\n",
            "Epoch 130/256\n",
            " - 3s - loss: 0.1556 - acc: 0.9399 - val_loss: 1.5703 - val_acc: 0.6286\n",
            "Epoch 131/256\n",
            " - 3s - loss: 0.1391 - acc: 0.9440 - val_loss: 1.8972 - val_acc: 0.6238\n",
            "Epoch 132/256\n",
            " - 3s - loss: 0.1368 - acc: 0.9464 - val_loss: 1.8367 - val_acc: 0.6405\n",
            "Epoch 133/256\n",
            " - 3s - loss: 0.1752 - acc: 0.9452 - val_loss: 3.3869 - val_acc: 0.4810\n",
            "Epoch 134/256\n",
            " - 3s - loss: 0.1829 - acc: 0.9339 - val_loss: 3.6566 - val_acc: 0.4143\n",
            "Epoch 135/256\n",
            " - 3s - loss: 0.1715 - acc: 0.9446 - val_loss: 2.3593 - val_acc: 0.5333\n",
            "Epoch 136/256\n",
            " - 3s - loss: 0.1437 - acc: 0.9476 - val_loss: 1.4930 - val_acc: 0.6214\n",
            "Epoch 137/256\n",
            " - 3s - loss: 0.1365 - acc: 0.9381 - val_loss: 1.8150 - val_acc: 0.5786\n",
            "Epoch 138/256\n",
            " - 3s - loss: 0.1176 - acc: 0.9387 - val_loss: 1.6519 - val_acc: 0.6071\n",
            "Epoch 139/256\n",
            " - 3s - loss: 0.1584 - acc: 0.9417 - val_loss: 2.2973 - val_acc: 0.5548\n",
            "Epoch 140/256\n",
            " - 3s - loss: 0.9886 - acc: 0.8077 - val_loss: 5.4590 - val_acc: 0.2619\n",
            "Epoch 141/256\n",
            " - 3s - loss: 0.8002 - acc: 0.8143 - val_loss: 5.0883 - val_acc: 0.2690\n",
            "Epoch 142/256\n",
            " - 3s - loss: 0.5229 - acc: 0.8708 - val_loss: 5.3095 - val_acc: 0.2976\n",
            "Epoch 143/256\n",
            " - 3s - loss: 0.4953 - acc: 0.8929 - val_loss: 4.5649 - val_acc: 0.3571\n",
            "Epoch 144/256\n",
            " - 3s - loss: 0.3605 - acc: 0.9214 - val_loss: 3.3959 - val_acc: 0.4000\n",
            "Epoch 145/256\n",
            " - 3s - loss: 0.8846 - acc: 0.8107 - val_loss: 6.4460 - val_acc: 0.1738\n",
            "Epoch 146/256\n",
            " - 3s - loss: 0.7244 - acc: 0.8310 - val_loss: 4.7051 - val_acc: 0.2238\n",
            "Epoch 147/256\n",
            " - 3s - loss: 0.8412 - acc: 0.8054 - val_loss: 12.1216 - val_acc: 0.0548\n",
            "Epoch 148/256\n",
            " - 3s - loss: 1.2838 - acc: 0.6970 - val_loss: 12.6455 - val_acc: 0.0738\n",
            "Epoch 149/256\n",
            " - 3s - loss: 0.9468 - acc: 0.7744 - val_loss: 14.4501 - val_acc: 0.0667\n",
            "Epoch 150/256\n",
            " - 3s - loss: 0.8280 - acc: 0.7893 - val_loss: 15.3506 - val_acc: 0.0476\n",
            "Epoch 151/256\n",
            " - 3s - loss: 1.1268 - acc: 0.7179 - val_loss: 12.4243 - val_acc: 0.0571\n",
            "Epoch 152/256\n",
            " - 3s - loss: 0.9741 - acc: 0.7435 - val_loss: 8.9829 - val_acc: 0.1381\n",
            "Epoch 153/256\n",
            " - 3s - loss: 0.6862 - acc: 0.8286 - val_loss: 6.9646 - val_acc: 0.1738\n",
            "Epoch 154/256\n",
            " - 3s - loss: 0.5833 - acc: 0.8530 - val_loss: 6.9595 - val_acc: 0.1738\n",
            "Epoch 155/256\n",
            " - 3s - loss: 0.6291 - acc: 0.8518 - val_loss: 4.2671 - val_acc: 0.3214\n",
            "Epoch 156/256\n",
            " - 3s - loss: 0.5078 - acc: 0.8768 - val_loss: 3.0466 - val_acc: 0.4214\n",
            "Epoch 157/256\n",
            " - 3s - loss: 0.5183 - acc: 0.8833 - val_loss: 3.5144 - val_acc: 0.4024\n",
            "Epoch 158/256\n",
            " - 3s - loss: 0.3866 - acc: 0.8988 - val_loss: 2.1171 - val_acc: 0.4881\n",
            "Epoch 159/256\n",
            " - 3s - loss: 0.3615 - acc: 0.9024 - val_loss: 1.8405 - val_acc: 0.5310\n",
            "Epoch 160/256\n",
            " - 3s - loss: 0.3447 - acc: 0.9131 - val_loss: 1.5220 - val_acc: 0.5738\n",
            "Epoch 161/256\n",
            " - 3s - loss: 0.4407 - acc: 0.8940 - val_loss: 1.9809 - val_acc: 0.5024\n",
            "Epoch 162/256\n",
            " - 3s - loss: 0.3970 - acc: 0.9190 - val_loss: 1.5326 - val_acc: 0.5762\n",
            "Epoch 163/256\n",
            " - 3s - loss: 0.3493 - acc: 0.9143 - val_loss: 2.3155 - val_acc: 0.4976\n",
            "Epoch 164/256\n",
            " - 3s - loss: 0.4231 - acc: 0.8976 - val_loss: 4.7952 - val_acc: 0.3071\n",
            "Epoch 165/256\n",
            " - 3s - loss: 0.4203 - acc: 0.8911 - val_loss: 4.5859 - val_acc: 0.2881\n",
            "Epoch 166/256\n",
            " - 3s - loss: 0.7966 - acc: 0.7952 - val_loss: 5.4866 - val_acc: 0.3667\n",
            "Epoch 167/256\n",
            " - 3s - loss: 0.5558 - acc: 0.8571 - val_loss: 6.8036 - val_acc: 0.3286\n",
            "Epoch 168/256\n",
            " - 3s - loss: 0.4485 - acc: 0.8810 - val_loss: 4.7305 - val_acc: 0.4190\n",
            "Epoch 169/256\n",
            " - 3s - loss: 0.3502 - acc: 0.9119 - val_loss: 2.0427 - val_acc: 0.5500\n",
            "Epoch 170/256\n",
            " - 3s - loss: 0.3192 - acc: 0.9149 - val_loss: 1.6647 - val_acc: 0.5929\n",
            "Epoch 171/256\n",
            " - 3s - loss: 0.3270 - acc: 0.9286 - val_loss: 1.7324 - val_acc: 0.5714\n",
            "Epoch 172/256\n",
            " - 3s - loss: 0.3047 - acc: 0.9262 - val_loss: 1.6381 - val_acc: 0.5738\n",
            "Epoch 173/256\n",
            " - 3s - loss: 0.3739 - acc: 0.9190 - val_loss: 3.9086 - val_acc: 0.3690\n",
            "Epoch 174/256\n",
            " - 3s - loss: 2.1425 - acc: 0.5024 - val_loss: 15.3506 - val_acc: 0.0476\n",
            "Epoch 175/256\n",
            " - 3s - loss: 2.0463 - acc: 0.4619 - val_loss: 15.3506 - val_acc: 0.0476\n",
            "Epoch 176/256\n",
            " - 3s - loss: 1.6045 - acc: 0.5673 - val_loss: 15.3506 - val_acc: 0.0476\n",
            "Epoch 177/256\n",
            " - 3s - loss: 1.2156 - acc: 0.6500 - val_loss: 15.3506 - val_acc: 0.0476\n",
            "Epoch 178/256\n",
            " - 3s - loss: 1.0366 - acc: 0.7107 - val_loss: 15.3245 - val_acc: 0.0476\n",
            "Epoch 179/256\n",
            " - 3s - loss: 1.0305 - acc: 0.7125 - val_loss: 4.7472 - val_acc: 0.1262\n",
            "Epoch 180/256\n",
            " - 3s - loss: 0.9118 - acc: 0.7476 - val_loss: 4.5701 - val_acc: 0.1738\n",
            "Epoch 181/256\n",
            " - 3s - loss: 0.7891 - acc: 0.7780 - val_loss: 5.9124 - val_acc: 0.1667\n",
            "Epoch 182/256\n",
            " - 3s - loss: 0.6668 - acc: 0.7952 - val_loss: 4.8312 - val_acc: 0.2143\n",
            "Epoch 183/256\n",
            " - 3s - loss: 0.5670 - acc: 0.8315 - val_loss: 5.2171 - val_acc: 0.2595\n",
            "Epoch 184/256\n",
            " - 3s - loss: 0.4489 - acc: 0.8607 - val_loss: 4.9658 - val_acc: 0.2881\n",
            "Epoch 185/256\n",
            " - 3s - loss: 0.4281 - acc: 0.8589 - val_loss: 6.0269 - val_acc: 0.2238\n",
            "Epoch 186/256\n",
            " - 3s - loss: 0.5034 - acc: 0.8417 - val_loss: 5.1480 - val_acc: 0.2690\n",
            "Epoch 187/256\n",
            " - 3s - loss: 0.4305 - acc: 0.8512 - val_loss: 2.8074 - val_acc: 0.3857\n",
            "Epoch 188/256\n",
            " - 3s - loss: 0.5901 - acc: 0.8274 - val_loss: 2.5314 - val_acc: 0.4286\n",
            "Epoch 189/256\n",
            " - 3s - loss: 1.0878 - acc: 0.6958 - val_loss: 8.1472 - val_acc: 0.1690\n",
            "Epoch 190/256\n",
            " - 3s - loss: 0.7961 - acc: 0.7542 - val_loss: 5.6599 - val_acc: 0.2571\n",
            "Epoch 191/256\n",
            " - 3s - loss: 0.7256 - acc: 0.7804 - val_loss: 3.9905 - val_acc: 0.3476\n",
            "Epoch 192/256\n",
            " - 3s - loss: 0.5987 - acc: 0.8214 - val_loss: 4.9125 - val_acc: 0.2810\n",
            "Epoch 193/256\n",
            " - 3s - loss: 0.4011 - acc: 0.8667 - val_loss: 4.3055 - val_acc: 0.3571\n",
            "Epoch 194/256\n",
            " - 3s - loss: 0.4423 - acc: 0.8673 - val_loss: 3.8567 - val_acc: 0.3976\n",
            "Epoch 195/256\n",
            " - 3s - loss: 0.3895 - acc: 0.8845 - val_loss: 3.4280 - val_acc: 0.4214\n",
            "Epoch 196/256\n",
            " - 3s - loss: 0.3164 - acc: 0.9030 - val_loss: 2.4016 - val_acc: 0.5143\n",
            "Epoch 197/256\n",
            " - 3s - loss: 0.3097 - acc: 0.9107 - val_loss: 2.1322 - val_acc: 0.5524\n",
            "Epoch 198/256\n",
            " - 3s - loss: 0.2131 - acc: 0.9179 - val_loss: 1.8746 - val_acc: 0.5595\n",
            "Epoch 199/256\n",
            " - 3s - loss: 0.2354 - acc: 0.9167 - val_loss: 1.8512 - val_acc: 0.5548\n",
            "Epoch 200/256\n",
            " - 3s - loss: 0.2334 - acc: 0.9274 - val_loss: 1.8105 - val_acc: 0.5548\n",
            "Epoch 201/256\n",
            " - 3s - loss: 0.2235 - acc: 0.9202 - val_loss: 1.6650 - val_acc: 0.5810\n",
            "Epoch 202/256\n",
            " - 3s - loss: 0.2437 - acc: 0.9155 - val_loss: 1.6841 - val_acc: 0.5905\n",
            "Epoch 203/256\n",
            " - 3s - loss: 0.3505 - acc: 0.8946 - val_loss: 4.2787 - val_acc: 0.3333\n",
            "Epoch 204/256\n",
            " - 3s - loss: 0.4142 - acc: 0.8869 - val_loss: 2.9712 - val_acc: 0.4429\n",
            "Epoch 205/256\n",
            " - 3s - loss: 0.2574 - acc: 0.9149 - val_loss: 2.3102 - val_acc: 0.5167\n",
            "Epoch 206/256\n",
            " - 3s - loss: 0.2700 - acc: 0.9167 - val_loss: 2.7782 - val_acc: 0.4714\n",
            "Epoch 207/256\n",
            " - 3s - loss: 0.2073 - acc: 0.9268 - val_loss: 2.9671 - val_acc: 0.4548\n",
            "Epoch 208/256\n",
            " - 3s - loss: 0.1905 - acc: 0.9333 - val_loss: 2.1845 - val_acc: 0.4929\n",
            "Epoch 209/256\n",
            " - 3s - loss: 0.1822 - acc: 0.9393 - val_loss: 1.8930 - val_acc: 0.5381\n",
            "Epoch 210/256\n",
            " - 3s - loss: 0.1896 - acc: 0.9321 - val_loss: 1.6994 - val_acc: 0.5857\n",
            "Epoch 211/256\n",
            " - 3s - loss: 0.1338 - acc: 0.9452 - val_loss: 1.5547 - val_acc: 0.6024\n",
            "Epoch 212/256\n",
            " - 3s - loss: 0.2486 - acc: 0.9185 - val_loss: 1.6305 - val_acc: 0.5881\n",
            "Epoch 213/256\n",
            " - 3s - loss: 0.3075 - acc: 0.9155 - val_loss: 1.6987 - val_acc: 0.5929\n",
            "Epoch 214/256\n",
            " - 3s - loss: 0.2415 - acc: 0.9220 - val_loss: 1.8057 - val_acc: 0.5595\n",
            "Epoch 215/256\n",
            " - 3s - loss: 0.2342 - acc: 0.9185 - val_loss: 1.8998 - val_acc: 0.5405\n",
            "Epoch 216/256\n",
            " - 3s - loss: 0.1918 - acc: 0.9202 - val_loss: 1.8218 - val_acc: 0.5405\n",
            "Epoch 217/256\n",
            " - 3s - loss: 0.1530 - acc: 0.9321 - val_loss: 1.6868 - val_acc: 0.5929\n",
            "Epoch 218/256\n",
            " - 3s - loss: 0.1579 - acc: 0.9345 - val_loss: 1.8903 - val_acc: 0.5500\n",
            "Epoch 219/256\n",
            " - 3s - loss: 0.1515 - acc: 0.9292 - val_loss: 1.8320 - val_acc: 0.5643\n",
            "Epoch 220/256\n",
            " - 3s - loss: 0.1778 - acc: 0.9298 - val_loss: 1.9187 - val_acc: 0.5714\n",
            "Epoch 221/256\n",
            " - 3s - loss: 0.1618 - acc: 0.9381 - val_loss: 1.7324 - val_acc: 0.5833\n",
            "Epoch 222/256\n",
            " - 3s - loss: 0.1940 - acc: 0.9399 - val_loss: 1.5337 - val_acc: 0.6095\n",
            "Epoch 223/256\n",
            " - 3s - loss: 0.1848 - acc: 0.9381 - val_loss: 1.9311 - val_acc: 0.5476\n",
            "Epoch 224/256\n",
            " - 3s - loss: 0.2239 - acc: 0.9173 - val_loss: 2.8666 - val_acc: 0.4381\n",
            "Epoch 225/256\n",
            " - 3s - loss: 0.2990 - acc: 0.9006 - val_loss: 4.6797 - val_acc: 0.3810\n",
            "Epoch 226/256\n",
            " - 3s - loss: 0.7193 - acc: 0.8357 - val_loss: 6.0309 - val_acc: 0.3190\n",
            "Epoch 227/256\n",
            " - 3s - loss: 0.5249 - acc: 0.8714 - val_loss: 3.7140 - val_acc: 0.4048\n",
            "Epoch 228/256\n",
            " - 3s - loss: 0.5612 - acc: 0.8679 - val_loss: 2.9243 - val_acc: 0.4024\n",
            "Epoch 229/256\n",
            " - 3s - loss: 0.7596 - acc: 0.8214 - val_loss: 4.4978 - val_acc: 0.3714\n",
            "Epoch 230/256\n",
            " - 3s - loss: 0.4698 - acc: 0.8756 - val_loss: 2.8107 - val_acc: 0.4929\n",
            "Epoch 231/256\n",
            " - 3s - loss: 0.3960 - acc: 0.8952 - val_loss: 2.1805 - val_acc: 0.5405\n",
            "Epoch 232/256\n",
            " - 3s - loss: 0.3358 - acc: 0.9208 - val_loss: 2.8600 - val_acc: 0.4667\n",
            "Epoch 233/256\n",
            " - 3s - loss: 0.5610 - acc: 0.8696 - val_loss: 2.4305 - val_acc: 0.4643\n",
            "Epoch 234/256\n",
            " - 3s - loss: 0.8110 - acc: 0.7887 - val_loss: 3.0121 - val_acc: 0.3738\n",
            "Epoch 235/256\n",
            " - 3s - loss: 1.0258 - acc: 0.7518 - val_loss: 3.6611 - val_acc: 0.2810\n",
            "Epoch 236/256\n",
            " - 3s - loss: 2.3222 - acc: 0.4244 - val_loss: 15.3122 - val_acc: 0.0500\n",
            "Epoch 237/256\n",
            " - 3s - loss: 2.1299 - acc: 0.4220 - val_loss: 15.3122 - val_acc: 0.0500\n",
            "Epoch 238/256\n",
            " - 3s - loss: 1.6728 - acc: 0.5292 - val_loss: 15.3122 - val_acc: 0.0500\n",
            "Epoch 239/256\n",
            " - 3s - loss: 1.4086 - acc: 0.5869 - val_loss: 15.3122 - val_acc: 0.0500\n",
            "Epoch 240/256\n",
            " - 3s - loss: 1.2115 - acc: 0.6417 - val_loss: 15.3506 - val_acc: 0.0476\n",
            "Epoch 241/256\n",
            " - 3s - loss: 1.1242 - acc: 0.6798 - val_loss: 15.3066 - val_acc: 0.0452\n",
            "Epoch 242/256\n",
            " - 3s - loss: 0.9568 - acc: 0.7339 - val_loss: 14.8053 - val_acc: 0.0310\n",
            "Epoch 243/256\n",
            " - 3s - loss: 0.7648 - acc: 0.7845 - val_loss: 11.4907 - val_acc: 0.0524\n",
            "Epoch 244/256\n",
            " - 3s - loss: 0.7535 - acc: 0.7821 - val_loss: 7.7018 - val_acc: 0.0952\n",
            "Epoch 245/256\n",
            " - 3s - loss: 0.6353 - acc: 0.8089 - val_loss: 5.8505 - val_acc: 0.1952\n",
            "Epoch 246/256\n",
            " - 3s - loss: 0.5634 - acc: 0.8339 - val_loss: 4.6491 - val_acc: 0.2333\n",
            "Epoch 247/256\n",
            " - 3s - loss: 0.4812 - acc: 0.8512 - val_loss: 3.5492 - val_acc: 0.3214\n",
            "Epoch 248/256\n",
            " - 3s - loss: 0.4611 - acc: 0.8714 - val_loss: 2.8975 - val_acc: 0.3690\n",
            "Epoch 249/256\n",
            " - 3s - loss: 0.3978 - acc: 0.8881 - val_loss: 2.1964 - val_acc: 0.4452\n",
            "Epoch 250/256\n",
            " - 3s - loss: 0.4296 - acc: 0.8911 - val_loss: 2.0693 - val_acc: 0.4476\n",
            "Epoch 251/256\n",
            " - 3s - loss: 0.3744 - acc: 0.8952 - val_loss: 1.9901 - val_acc: 0.4714\n",
            "Epoch 252/256\n",
            " - 3s - loss: 1.0421 - acc: 0.7244 - val_loss: 8.8408 - val_acc: 0.1595\n",
            "Epoch 253/256\n",
            " - 3s - loss: 1.2257 - acc: 0.6601 - val_loss: 12.5923 - val_acc: 0.1143\n",
            "Epoch 254/256\n",
            " - 3s - loss: 0.9655 - acc: 0.7173 - val_loss: 11.6781 - val_acc: 0.1429\n",
            "Epoch 255/256\n",
            " - 3s - loss: 0.8940 - acc: 0.7405 - val_loss: 9.3914 - val_acc: 0.2071\n",
            "Epoch 256/256\n",
            " - 3s - loss: 0.8145 - acc: 0.7810 - val_loss: 6.8874 - val_acc: 0.2738\n",
            "Total Time: 733.028145 \n"
          ],
          "name": "stdout"
        }
      ]
    },
    {
      "cell_type": "code",
      "metadata": {
        "colab_type": "code",
        "outputId": "09664c25-0843-429e-9fe0-568ca4766470",
        "id": "41FN0SULKdF3",
        "colab": {
          "base_uri": "https://localhost:8080/",
          "height": 8721
        }
      },
      "source": [
        "#ResNet with Data Augmentantion\n",
        "historyResDA = modelTransf2.fit_generator(\n",
        "        train_generator.flow(x_train, train_small_with_dummies, batch_size=32),\n",
        "        steps_per_epoch=int(2*SIZE / 32),\n",
        "        epochs=256,\n",
        "        validation_data=evaluate_generator.flow(x_valid, train_small_with_dummies2, batch_size=32),\n",
        "        validation_steps=128,\n",
        "        verbose=2\n",
        "    )"
      ],
      "execution_count": 0,
      "outputs": [
        {
          "output_type": "stream",
          "text": [
            "Epoch 1/256\n",
            " - 23s - loss: 3.3398 - acc: 0.2031 - val_loss: 5.3168 - val_acc: 0.2534\n",
            "Epoch 2/256\n",
            " - 5s - loss: 2.7254 - acc: 0.3542 - val_loss: 7.9000 - val_acc: 0.2084\n",
            "Epoch 3/256\n",
            " - 5s - loss: 2.5293 - acc: 0.3490 - val_loss: 7.7688 - val_acc: 0.2612\n",
            "Epoch 4/256\n",
            " - 5s - loss: 2.3101 - acc: 0.3646 - val_loss: 5.9448 - val_acc: 0.3007\n",
            "Epoch 5/256\n",
            " - 5s - loss: 2.2501 - acc: 0.4010 - val_loss: 4.3910 - val_acc: 0.2937\n",
            "Epoch 6/256\n",
            " - 6s - loss: 2.4885 - acc: 0.4271 - val_loss: 6.8921 - val_acc: 0.1907\n",
            "Epoch 7/256\n",
            " - 5s - loss: 2.5360 - acc: 0.4010 - val_loss: 9.0034 - val_acc: 0.1200\n",
            "Epoch 8/256\n",
            " - 5s - loss: 2.7296 - acc: 0.3906 - val_loss: 7.0437 - val_acc: 0.1376\n",
            "Epoch 9/256\n",
            " - 5s - loss: 2.5865 - acc: 0.3360 - val_loss: 12.2159 - val_acc: 0.0786\n",
            "Epoch 10/256\n",
            " - 5s - loss: 2.5090 - acc: 0.3958 - val_loss: 14.1588 - val_acc: 0.0315\n",
            "Epoch 11/256\n",
            " - 5s - loss: 3.2651 - acc: 0.2552 - val_loss: 15.4258 - val_acc: 0.0315\n",
            "Epoch 12/256\n",
            " - 6s - loss: 2.8837 - acc: 0.2760 - val_loss: 15.3174 - val_acc: 0.0369\n",
            "Epoch 13/256\n",
            " - 5s - loss: 2.9698 - acc: 0.2708 - val_loss: 12.7751 - val_acc: 0.0304\n",
            "Epoch 14/256\n",
            " - 5s - loss: 3.1096 - acc: 0.2135 - val_loss: 10.2901 - val_acc: 0.0440\n",
            "Epoch 15/256\n",
            " - 5s - loss: 3.2160 - acc: 0.2344 - val_loss: 7.1305 - val_acc: 0.0944\n",
            "Epoch 16/256\n",
            " - 5s - loss: 2.9198 - acc: 0.2604 - val_loss: 9.4668 - val_acc: 0.0708\n",
            "Epoch 17/256\n",
            " - 5s - loss: 3.2194 - acc: 0.2083 - val_loss: 9.5187 - val_acc: 0.0552\n",
            "Epoch 18/256\n",
            " - 5s - loss: 2.9997 - acc: 0.2123 - val_loss: 10.9336 - val_acc: 0.0398\n",
            "Epoch 19/256\n",
            " - 5s - loss: 2.9483 - acc: 0.2760 - val_loss: 13.0179 - val_acc: 0.0180\n",
            "Epoch 20/256\n",
            " - 5s - loss: 3.0739 - acc: 0.2656 - val_loss: 13.6085 - val_acc: 0.0255\n",
            "Epoch 21/256\n",
            " - 5s - loss: 2.8221 - acc: 0.3177 - val_loss: 7.5112 - val_acc: 0.1119\n",
            "Epoch 22/256\n",
            " - 6s - loss: 3.0593 - acc: 0.2135 - val_loss: 7.9719 - val_acc: 0.1186\n",
            "Epoch 23/256\n",
            " - 5s - loss: 3.3214 - acc: 0.2135 - val_loss: 11.9579 - val_acc: 0.1283\n",
            "Epoch 24/256\n",
            " - 5s - loss: 3.5385 - acc: 0.1302 - val_loss: 13.0896 - val_acc: 0.1129\n",
            "Epoch 25/256\n",
            " - 5s - loss: 3.4249 - acc: 0.1823 - val_loss: 13.4583 - val_acc: 0.1048\n",
            "Epoch 26/256\n",
            " - 5s - loss: 3.4912 - acc: 0.1458 - val_loss: 13.3894 - val_acc: 0.1080\n",
            "Epoch 27/256\n",
            " - 5s - loss: 3.3447 - acc: 0.1814 - val_loss: 11.7646 - val_acc: 0.1199\n",
            "Epoch 28/256\n",
            " - 5s - loss: 3.2605 - acc: 0.1354 - val_loss: 11.5466 - val_acc: 0.1069\n",
            "Epoch 29/256\n",
            " - 5s - loss: 3.5188 - acc: 0.1302 - val_loss: 11.2073 - val_acc: 0.1064\n",
            "Epoch 30/256\n",
            " - 5s - loss: 3.1993 - acc: 0.1562 - val_loss: 10.2996 - val_acc: 0.1158\n",
            "Epoch 31/256\n",
            " - 5s - loss: 3.5165 - acc: 0.1354 - val_loss: 11.3685 - val_acc: 0.0838\n",
            "Epoch 32/256\n",
            " - 5s - loss: 3.5147 - acc: 0.1250 - val_loss: 11.8997 - val_acc: 0.0957\n",
            "Epoch 33/256\n",
            " - 5s - loss: 3.5205 - acc: 0.1250 - val_loss: 9.7933 - val_acc: 0.0999\n",
            "Epoch 34/256\n",
            " - 5s - loss: 3.4222 - acc: 0.1354 - val_loss: 8.9564 - val_acc: 0.1197\n",
            "Epoch 35/256\n",
            " - 5s - loss: 3.5957 - acc: 0.0885 - val_loss: 7.7974 - val_acc: 0.1224\n",
            "Epoch 36/256\n",
            " - 5s - loss: 3.5543 - acc: 0.0873 - val_loss: 7.0849 - val_acc: 0.1283\n",
            "Epoch 37/256\n",
            " - 5s - loss: 3.3702 - acc: 0.1406 - val_loss: 5.8396 - val_acc: 0.0778\n",
            "Epoch 38/256\n",
            " - 6s - loss: 3.3177 - acc: 0.1562 - val_loss: 5.4288 - val_acc: 0.0715\n",
            "Epoch 39/256\n",
            " - 5s - loss: 3.6455 - acc: 0.1042 - val_loss: 5.2220 - val_acc: 0.0804\n",
            "Epoch 40/256\n",
            " - 5s - loss: 3.3067 - acc: 0.1250 - val_loss: 4.9221 - val_acc: 0.0731\n",
            "Epoch 41/256\n",
            " - 5s - loss: 3.3583 - acc: 0.1302 - val_loss: 4.7449 - val_acc: 0.0728\n",
            "Epoch 42/256\n",
            " - 5s - loss: 3.3149 - acc: 0.1094 - val_loss: 3.3451 - val_acc: 0.1847\n",
            "Epoch 43/256\n",
            " - 5s - loss: 3.1602 - acc: 0.1510 - val_loss: 3.1303 - val_acc: 0.1184\n",
            "Epoch 44/256\n",
            " - 5s - loss: 3.6174 - acc: 0.0677 - val_loss: 3.0497 - val_acc: 0.1238\n",
            "Epoch 45/256\n",
            " - 5s - loss: 3.2340 - acc: 0.1408 - val_loss: 3.1826 - val_acc: 0.1098\n",
            "Epoch 46/256\n",
            " - 5s - loss: 3.1942 - acc: 0.1406 - val_loss: 3.2141 - val_acc: 0.1189\n",
            "Epoch 47/256\n",
            " - 5s - loss: 3.1056 - acc: 0.1719 - val_loss: 3.3709 - val_acc: 0.1358\n",
            "Epoch 48/256\n",
            " - 5s - loss: 2.8484 - acc: 0.1719 - val_loss: 3.4289 - val_acc: 0.1537\n",
            "Epoch 49/256\n",
            " - 5s - loss: 2.8869 - acc: 0.1771 - val_loss: 3.5703 - val_acc: 0.1792\n",
            "Epoch 50/256\n",
            " - 5s - loss: 2.8974 - acc: 0.1771 - val_loss: 3.5689 - val_acc: 0.1613\n",
            "Epoch 51/256\n",
            " - 5s - loss: 3.1300 - acc: 0.1458 - val_loss: 3.2479 - val_acc: 0.1639\n",
            "Epoch 52/256\n",
            " - 5s - loss: 2.7332 - acc: 0.1875 - val_loss: 3.2657 - val_acc: 0.1446\n",
            "Epoch 53/256\n",
            " - 5s - loss: 2.9975 - acc: 0.1416 - val_loss: 3.1054 - val_acc: 0.1738\n",
            "Epoch 54/256\n",
            " - 6s - loss: 2.6697 - acc: 0.1927 - val_loss: 3.0823 - val_acc: 0.1532\n",
            "Epoch 55/256\n",
            " - 5s - loss: 2.7524 - acc: 0.2188 - val_loss: 3.0280 - val_acc: 0.1907\n",
            "Epoch 56/256\n",
            " - 5s - loss: 2.7947 - acc: 0.2135 - val_loss: 2.9512 - val_acc: 0.2227\n",
            "Epoch 57/256\n",
            " - 5s - loss: 2.6515 - acc: 0.2083 - val_loss: 2.9120 - val_acc: 0.2183\n",
            "Epoch 58/256\n",
            " - 5s - loss: 2.7900 - acc: 0.2135 - val_loss: 2.9292 - val_acc: 0.2110\n",
            "Epoch 59/256\n",
            " - 5s - loss: 2.7855 - acc: 0.2031 - val_loss: 2.8618 - val_acc: 0.1964\n",
            "Epoch 60/256\n",
            " - 5s - loss: 2.7981 - acc: 0.2240 - val_loss: 2.7471 - val_acc: 0.2050\n",
            "Epoch 61/256\n",
            " - 5s - loss: 2.7302 - acc: 0.1823 - val_loss: 2.7673 - val_acc: 0.1678\n",
            "Epoch 62/256\n",
            " - 5s - loss: 2.5844 - acc: 0.2155 - val_loss: 2.6148 - val_acc: 0.1922\n",
            "Epoch 63/256\n",
            " - 5s - loss: 2.5613 - acc: 0.2135 - val_loss: 2.5449 - val_acc: 0.2086\n",
            "Epoch 64/256\n",
            " - 5s - loss: 2.5726 - acc: 0.2344 - val_loss: 2.6501 - val_acc: 0.2219\n",
            "Epoch 65/256\n",
            " - 5s - loss: 2.7100 - acc: 0.1979 - val_loss: 2.6755 - val_acc: 0.2151\n",
            "Epoch 66/256\n",
            " - 5s - loss: 2.6951 - acc: 0.2500 - val_loss: 2.6656 - val_acc: 0.2305\n",
            "Epoch 67/256\n",
            " - 6s - loss: 2.4423 - acc: 0.1875 - val_loss: 2.6094 - val_acc: 0.2242\n",
            "Epoch 68/256\n",
            " - 6s - loss: 2.3586 - acc: 0.2292 - val_loss: 2.5436 - val_acc: 0.2430\n",
            "Epoch 69/256\n",
            " - 5s - loss: 2.3796 - acc: 0.2344 - val_loss: 2.5300 - val_acc: 0.2362\n",
            "Epoch 70/256\n",
            " - 6s - loss: 2.4194 - acc: 0.3021 - val_loss: 2.5009 - val_acc: 0.2183\n",
            "Epoch 71/256\n",
            " - 5s - loss: 2.5076 - acc: 0.2711 - val_loss: 2.5396 - val_acc: 0.2287\n",
            "Epoch 72/256\n",
            " - 5s - loss: 2.3940 - acc: 0.2500 - val_loss: 2.5213 - val_acc: 0.2573\n",
            "Epoch 73/256\n",
            " - 5s - loss: 2.5480 - acc: 0.2135 - val_loss: 2.5586 - val_acc: 0.2693\n",
            "Epoch 74/256\n",
            " - 5s - loss: 2.3242 - acc: 0.2760 - val_loss: 2.6108 - val_acc: 0.2383\n",
            "Epoch 75/256\n",
            " - 5s - loss: 2.4845 - acc: 0.2188 - val_loss: 2.7249 - val_acc: 0.2536\n",
            "Epoch 76/256\n",
            " - 5s - loss: 2.5024 - acc: 0.2135 - val_loss: 2.8148 - val_acc: 0.2386\n",
            "Epoch 77/256\n",
            " - 5s - loss: 2.2665 - acc: 0.2812 - val_loss: 2.7966 - val_acc: 0.2757\n",
            "Epoch 78/256\n",
            " - 5s - loss: 2.4230 - acc: 0.2812 - val_loss: 2.7740 - val_acc: 0.2698\n",
            "Epoch 79/256\n",
            " - 5s - loss: 2.2940 - acc: 0.2969 - val_loss: 2.6228 - val_acc: 0.2588\n",
            "Epoch 80/256\n",
            " - 5s - loss: 2.3909 - acc: 0.2658 - val_loss: 2.5447 - val_acc: 0.2229\n",
            "Epoch 81/256\n",
            " - 5s - loss: 2.2783 - acc: 0.3125 - val_loss: 2.3513 - val_acc: 0.2630\n",
            "Epoch 82/256\n",
            " - 5s - loss: 2.2056 - acc: 0.2760 - val_loss: 2.3438 - val_acc: 0.2661\n",
            "Epoch 83/256\n",
            " - 5s - loss: 2.2150 - acc: 0.2812 - val_loss: 2.3369 - val_acc: 0.2828\n",
            "Epoch 84/256\n",
            " - 5s - loss: 2.2763 - acc: 0.2969 - val_loss: 2.2926 - val_acc: 0.3069\n",
            "Epoch 85/256\n",
            " - 6s - loss: 2.3240 - acc: 0.2917 - val_loss: 2.2800 - val_acc: 0.2973\n",
            "Epoch 86/256\n",
            " - 6s - loss: 2.3407 - acc: 0.2812 - val_loss: 2.3715 - val_acc: 0.2763\n",
            "Epoch 87/256\n",
            " - 5s - loss: 2.5367 - acc: 0.2708 - val_loss: 2.8036 - val_acc: 0.2232\n",
            "Epoch 88/256\n",
            " - 5s - loss: 2.4766 - acc: 0.2865 - val_loss: 4.3051 - val_acc: 0.1488\n",
            "Epoch 89/256\n",
            " - 5s - loss: 2.6199 - acc: 0.3117 - val_loss: 4.7891 - val_acc: 0.1178\n",
            "Epoch 90/256\n",
            " - 5s - loss: 2.6707 - acc: 0.2500 - val_loss: 4.7114 - val_acc: 0.1410\n",
            "Epoch 91/256\n",
            " - 5s - loss: 2.2833 - acc: 0.2760 - val_loss: 4.6633 - val_acc: 0.1737\n",
            "Epoch 92/256\n",
            " - 5s - loss: 2.5306 - acc: 0.3021 - val_loss: 6.0192 - val_acc: 0.1790\n",
            "Epoch 93/256\n",
            " - 5s - loss: 2.6844 - acc: 0.2083 - val_loss: 6.2104 - val_acc: 0.1753\n",
            "Epoch 94/256\n",
            " - 5s - loss: 2.5905 - acc: 0.2344 - val_loss: 5.6861 - val_acc: 0.2167\n",
            "Epoch 95/256\n",
            " - 5s - loss: 2.1548 - acc: 0.2917 - val_loss: 4.9859 - val_acc: 0.2362\n",
            "Epoch 96/256\n",
            " - 5s - loss: 2.1536 - acc: 0.2969 - val_loss: 4.4468 - val_acc: 0.2490\n",
            "Epoch 97/256\n",
            " - 5s - loss: 2.2325 - acc: 0.2708 - val_loss: 3.2359 - val_acc: 0.3156\n",
            "Epoch 98/256\n",
            " - 5s - loss: 2.1290 - acc: 0.3397 - val_loss: 2.6002 - val_acc: 0.3021\n",
            "Epoch 99/256\n",
            " - 5s - loss: 2.3571 - acc: 0.2604 - val_loss: 2.4618 - val_acc: 0.3020\n",
            "Epoch 100/256\n",
            " - 5s - loss: 2.0807 - acc: 0.3646 - val_loss: 2.3989 - val_acc: 0.3049\n",
            "Epoch 101/256\n",
            " - 6s - loss: 2.3558 - acc: 0.2969 - val_loss: 2.2977 - val_acc: 0.3135\n",
            "Epoch 102/256\n",
            " - 6s - loss: 2.0814 - acc: 0.2969 - val_loss: 2.3060 - val_acc: 0.3306\n",
            "Epoch 103/256\n",
            " - 5s - loss: 1.9861 - acc: 0.3542 - val_loss: 2.1848 - val_acc: 0.3117\n",
            "Epoch 104/256\n",
            " - 5s - loss: 2.0706 - acc: 0.3229 - val_loss: 2.1575 - val_acc: 0.3215\n",
            "Epoch 105/256\n",
            " - 5s - loss: 2.4248 - acc: 0.2812 - val_loss: 1.9906 - val_acc: 0.3690\n",
            "Epoch 106/256\n",
            " - 5s - loss: 1.9140 - acc: 0.3283 - val_loss: 2.0187 - val_acc: 0.3530\n",
            "Epoch 107/256\n",
            " - 5s - loss: 2.0941 - acc: 0.3646 - val_loss: 1.9675 - val_acc: 0.3694\n",
            "Epoch 108/256\n",
            " - 5s - loss: 2.0036 - acc: 0.3906 - val_loss: 1.9355 - val_acc: 0.3900\n",
            "Epoch 109/256\n",
            " - 5s - loss: 2.0513 - acc: 0.2865 - val_loss: 1.9668 - val_acc: 0.3626\n",
            "Epoch 110/256\n",
            " - 5s - loss: 2.4846 - acc: 0.3021 - val_loss: 2.1200 - val_acc: 0.2992\n",
            "Epoch 111/256\n",
            " - 5s - loss: 2.2998 - acc: 0.3177 - val_loss: 2.2943 - val_acc: 0.3429\n",
            "Epoch 112/256\n",
            " - 5s - loss: 2.2202 - acc: 0.3125 - val_loss: 2.3241 - val_acc: 0.3449\n",
            "Epoch 113/256\n",
            " - 5s - loss: 2.1011 - acc: 0.3281 - val_loss: 2.2595 - val_acc: 0.3564\n",
            "Epoch 114/256\n",
            " - 5s - loss: 2.0872 - acc: 0.3333 - val_loss: 2.2523 - val_acc: 0.3429\n",
            "Epoch 115/256\n",
            " - 5s - loss: 2.2526 - acc: 0.3056 - val_loss: 2.1249 - val_acc: 0.3819\n",
            "Epoch 116/256\n",
            " - 5s - loss: 2.1200 - acc: 0.3281 - val_loss: 2.0403 - val_acc: 0.3983\n",
            "Epoch 117/256\n",
            " - 6s - loss: 2.3512 - acc: 0.3229 - val_loss: 1.9064 - val_acc: 0.4248\n",
            "Epoch 118/256\n",
            " - 5s - loss: 1.9852 - acc: 0.3802 - val_loss: 1.8868 - val_acc: 0.3965\n",
            "Epoch 119/256\n",
            " - 5s - loss: 2.0995 - acc: 0.3438 - val_loss: 1.9377 - val_acc: 0.3640\n",
            "Epoch 120/256\n",
            " - 5s - loss: 2.1844 - acc: 0.4062 - val_loss: 2.0591 - val_acc: 0.3239\n",
            "Epoch 121/256\n",
            " - 5s - loss: 1.8212 - acc: 0.4062 - val_loss: 2.0101 - val_acc: 0.3647\n",
            "Epoch 122/256\n",
            " - 5s - loss: 1.8037 - acc: 0.4375 - val_loss: 1.8642 - val_acc: 0.4149\n",
            "Epoch 123/256\n",
            " - 5s - loss: 2.3256 - acc: 0.3385 - val_loss: 1.8385 - val_acc: 0.4076\n",
            "Epoch 124/256\n",
            " - 5s - loss: 1.8607 - acc: 0.4460 - val_loss: 1.8492 - val_acc: 0.3822\n",
            "Epoch 125/256\n",
            " - 5s - loss: 1.9897 - acc: 0.3646 - val_loss: 1.8215 - val_acc: 0.3988\n",
            "Epoch 126/256\n",
            " - 5s - loss: 1.8428 - acc: 0.3698 - val_loss: 1.8889 - val_acc: 0.3792\n",
            "Epoch 127/256\n",
            " - 5s - loss: 2.0973 - acc: 0.3906 - val_loss: 1.8802 - val_acc: 0.3660\n",
            "Epoch 128/256\n",
            " - 6s - loss: 2.1083 - acc: 0.4115 - val_loss: 1.8565 - val_acc: 0.4050\n",
            "Epoch 129/256\n",
            " - 6s - loss: 2.1433 - acc: 0.4010 - val_loss: 1.7917 - val_acc: 0.3939\n",
            "Epoch 130/256\n",
            " - 5s - loss: 2.2631 - acc: 0.3698 - val_loss: 1.7493 - val_acc: 0.3678\n",
            "Epoch 131/256\n",
            " - 5s - loss: 2.3128 - acc: 0.3958 - val_loss: 1.7678 - val_acc: 0.3746\n",
            "Epoch 132/256\n",
            " - 6s - loss: 2.5227 - acc: 0.3177 - val_loss: 2.0175 - val_acc: 0.3085\n",
            "Epoch 133/256\n",
            " - 6s - loss: 2.2907 - acc: 0.3961 - val_loss: 2.2526 - val_acc: 0.2778\n",
            "Epoch 134/256\n",
            " - 5s - loss: 2.2905 - acc: 0.3229 - val_loss: 2.0466 - val_acc: 0.3158\n",
            "Epoch 135/256\n",
            " - 5s - loss: 2.2839 - acc: 0.4427 - val_loss: 1.8833 - val_acc: 0.3468\n",
            "Epoch 136/256\n",
            " - 5s - loss: 2.3691 - acc: 0.3698 - val_loss: 1.7693 - val_acc: 0.3416\n",
            "Epoch 137/256\n",
            " - 5s - loss: 2.0271 - acc: 0.4479 - val_loss: 1.8659 - val_acc: 0.3528\n",
            "Epoch 138/256\n",
            " - 5s - loss: 2.3526 - acc: 0.3750 - val_loss: 2.2528 - val_acc: 0.3083\n",
            "Epoch 139/256\n",
            " - 5s - loss: 2.2193 - acc: 0.4062 - val_loss: 2.1074 - val_acc: 0.3156\n",
            "Epoch 140/256\n",
            " - 5s - loss: 2.1523 - acc: 0.4271 - val_loss: 2.0704 - val_acc: 0.3194\n",
            "Epoch 141/256\n",
            " - 5s - loss: 2.1548 - acc: 0.4062 - val_loss: 2.2143 - val_acc: 0.3002\n",
            "Epoch 142/256\n",
            " - 5s - loss: 2.2580 - acc: 0.3856 - val_loss: 2.4219 - val_acc: 0.3161\n",
            "Epoch 143/256\n",
            " - 5s - loss: 2.0270 - acc: 0.4531 - val_loss: 1.7903 - val_acc: 0.4105\n",
            "Epoch 144/256\n",
            " - 5s - loss: 2.2755 - acc: 0.3802 - val_loss: 1.6663 - val_acc: 0.4308\n",
            "Epoch 145/256\n",
            " - 5s - loss: 2.0691 - acc: 0.4427 - val_loss: 1.7665 - val_acc: 0.4058\n",
            "Epoch 146/256\n",
            " - 5s - loss: 2.1033 - acc: 0.4062 - val_loss: 1.8084 - val_acc: 0.3772\n",
            "Epoch 147/256\n",
            " - 5s - loss: 2.1787 - acc: 0.4375 - val_loss: 2.0129 - val_acc: 0.3420\n",
            "Epoch 148/256\n",
            " - 5s - loss: 2.1766 - acc: 0.3802 - val_loss: 2.0896 - val_acc: 0.3939\n",
            "Epoch 149/256\n",
            " - 6s - loss: 2.0967 - acc: 0.4479 - val_loss: 2.1834 - val_acc: 0.4191\n",
            "Epoch 150/256\n",
            " - 5s - loss: 1.9547 - acc: 0.3958 - val_loss: 2.3868 - val_acc: 0.4037\n",
            "Epoch 151/256\n",
            " - 5s - loss: 2.1198 - acc: 0.4367 - val_loss: 2.3202 - val_acc: 0.3767\n",
            "Epoch 152/256\n",
            " - 5s - loss: 2.1062 - acc: 0.3854 - val_loss: 2.9735 - val_acc: 0.3117\n",
            "Epoch 153/256\n",
            " - 5s - loss: 2.1538 - acc: 0.4948 - val_loss: 3.0826 - val_acc: 0.3033\n",
            "Epoch 154/256\n",
            " - 5s - loss: 2.1062 - acc: 0.4219 - val_loss: 3.1755 - val_acc: 0.3063\n",
            "Epoch 155/256\n",
            " - 5s - loss: 2.0485 - acc: 0.4427 - val_loss: 3.1927 - val_acc: 0.3023\n",
            "Epoch 156/256\n",
            " - 5s - loss: 2.0225 - acc: 0.4583 - val_loss: 3.1887 - val_acc: 0.3049\n",
            "Epoch 157/256\n",
            " - 5s - loss: 2.1520 - acc: 0.4062 - val_loss: 3.0754 - val_acc: 0.3400\n",
            "Epoch 158/256\n",
            " - 5s - loss: 2.1324 - acc: 0.3698 - val_loss: 2.8607 - val_acc: 0.3850\n",
            "Epoch 159/256\n",
            " - 5s - loss: 2.2467 - acc: 0.4233 - val_loss: 2.7746 - val_acc: 0.4123\n",
            "Epoch 160/256\n",
            " - 5s - loss: 2.0771 - acc: 0.4635 - val_loss: 2.7165 - val_acc: 0.4282\n",
            "Epoch 161/256\n",
            " - 5s - loss: 2.1840 - acc: 0.4479 - val_loss: 2.6977 - val_acc: 0.3789\n",
            "Epoch 162/256\n",
            " - 5s - loss: 1.9977 - acc: 0.4375 - val_loss: 2.6083 - val_acc: 0.3548\n",
            "Epoch 163/256\n",
            " - 5s - loss: 2.0201 - acc: 0.4115 - val_loss: 2.3920 - val_acc: 0.3861\n",
            "Epoch 164/256\n",
            " - 5s - loss: 2.1361 - acc: 0.4479 - val_loss: 2.3003 - val_acc: 0.3970\n",
            "Epoch 165/256\n",
            " - 6s - loss: 1.8938 - acc: 0.4427 - val_loss: 2.1422 - val_acc: 0.4292\n",
            "Epoch 166/256\n",
            " - 5s - loss: 2.0863 - acc: 0.4167 - val_loss: 2.0416 - val_acc: 0.4363\n",
            "Epoch 167/256\n",
            " - 5s - loss: 2.0425 - acc: 0.4635 - val_loss: 1.8722 - val_acc: 0.4157\n",
            "Epoch 168/256\n",
            " - 5s - loss: 1.8988 - acc: 0.5422 - val_loss: 1.8685 - val_acc: 0.3957\n",
            "Epoch 169/256\n",
            " - 5s - loss: 1.8009 - acc: 0.4896 - val_loss: 1.8403 - val_acc: 0.4089\n",
            "Epoch 170/256\n",
            " - 5s - loss: 1.8887 - acc: 0.5000 - val_loss: 1.7572 - val_acc: 0.4396\n",
            "Epoch 171/256\n",
            " - 5s - loss: 1.8274 - acc: 0.5521 - val_loss: 1.9555 - val_acc: 0.3848\n",
            "Epoch 172/256\n",
            " - 5s - loss: 1.8686 - acc: 0.4844 - val_loss: 2.1571 - val_acc: 0.3421\n",
            "Epoch 173/256\n",
            " - 5s - loss: 1.9284 - acc: 0.4740 - val_loss: 1.9582 - val_acc: 0.3593\n",
            "Epoch 174/256\n",
            " - 5s - loss: 1.8773 - acc: 0.5052 - val_loss: 2.1274 - val_acc: 0.3358\n",
            "Epoch 175/256\n",
            " - 5s - loss: 1.9490 - acc: 0.5052 - val_loss: 2.1634 - val_acc: 0.3561\n",
            "Epoch 176/256\n",
            " - 5s - loss: 2.0825 - acc: 0.4792 - val_loss: 3.0149 - val_acc: 0.3210\n",
            "Epoch 177/256\n",
            " - 5s - loss: 2.0955 - acc: 0.4196 - val_loss: 3.7665 - val_acc: 0.2630\n",
            "Epoch 178/256\n",
            " - 5s - loss: 1.9022 - acc: 0.5208 - val_loss: 4.0166 - val_acc: 0.2734\n",
            "Epoch 179/256\n",
            " - 5s - loss: 2.0899 - acc: 0.4635 - val_loss: 3.7053 - val_acc: 0.3033\n",
            "Epoch 180/256\n",
            " - 6s - loss: 2.0190 - acc: 0.4271 - val_loss: 3.0990 - val_acc: 0.3132\n",
            "Epoch 181/256\n",
            " - 6s - loss: 2.1089 - acc: 0.4688 - val_loss: 3.1200 - val_acc: 0.3221\n",
            "Epoch 182/256\n",
            " - 5s - loss: 1.9226 - acc: 0.4844 - val_loss: 2.9274 - val_acc: 0.3032\n",
            "Epoch 183/256\n",
            " - 5s - loss: 1.9786 - acc: 0.4323 - val_loss: 5.3388 - val_acc: 0.2409\n",
            "Epoch 184/256\n",
            " - 5s - loss: 1.9761 - acc: 0.4688 - val_loss: 5.2549 - val_acc: 0.2336\n",
            "Epoch 185/256\n",
            " - 5s - loss: 1.9646 - acc: 0.4740 - val_loss: 5.0315 - val_acc: 0.2734\n",
            "Epoch 186/256\n",
            " - 5s - loss: 2.0203 - acc: 0.4903 - val_loss: 4.6855 - val_acc: 0.2994\n",
            "Epoch 187/256\n",
            " - 5s - loss: 1.8072 - acc: 0.4792 - val_loss: 4.4902 - val_acc: 0.2911\n",
            "Epoch 188/256\n",
            " - 5s - loss: 1.9892 - acc: 0.4427 - val_loss: 4.3012 - val_acc: 0.3231\n",
            "Epoch 189/256\n",
            " - 6s - loss: 1.8122 - acc: 0.5521 - val_loss: 2.6955 - val_acc: 0.4161\n",
            "Epoch 190/256\n",
            " - 6s - loss: 1.9388 - acc: 0.5000 - val_loss: 2.4890 - val_acc: 0.3169\n",
            "Epoch 191/256\n",
            " - 5s - loss: 2.1580 - acc: 0.4167 - val_loss: 2.3920 - val_acc: 0.3166\n",
            "Epoch 192/256\n",
            " - 6s - loss: 2.0044 - acc: 0.4844 - val_loss: 1.9956 - val_acc: 0.3913\n",
            "Epoch 193/256\n",
            " - 5s - loss: 2.0458 - acc: 0.4740 - val_loss: 1.6356 - val_acc: 0.4664\n",
            "Epoch 194/256\n",
            " - 5s - loss: 1.8336 - acc: 0.5208 - val_loss: 1.8083 - val_acc: 0.4376\n",
            "Epoch 195/256\n",
            " - 5s - loss: 2.0572 - acc: 0.4541 - val_loss: 2.1354 - val_acc: 0.4043\n",
            "Epoch 196/256\n",
            " - 6s - loss: 1.9354 - acc: 0.4583 - val_loss: 2.2527 - val_acc: 0.3823\n",
            "Epoch 197/256\n",
            " - 5s - loss: 2.0082 - acc: 0.4688 - val_loss: 2.6841 - val_acc: 0.3182\n",
            "Epoch 198/256\n",
            " - 5s - loss: 2.1148 - acc: 0.4271 - val_loss: 2.9107 - val_acc: 0.3018\n",
            "Epoch 199/256\n",
            " - 5s - loss: 2.0350 - acc: 0.4271 - val_loss: 2.5319 - val_acc: 0.3169\n",
            "Epoch 200/256\n",
            " - 5s - loss: 2.2513 - acc: 0.3958 - val_loss: 2.4752 - val_acc: 0.2672\n",
            "Epoch 201/256\n",
            " - 5s - loss: 2.3127 - acc: 0.3490 - val_loss: 3.8985 - val_acc: 0.2068\n",
            "Epoch 202/256\n",
            " - 5s - loss: 2.2624 - acc: 0.3958 - val_loss: 8.4484 - val_acc: 0.0869\n",
            "Epoch 203/256\n",
            " - 5s - loss: 2.3152 - acc: 0.4010 - val_loss: 10.4560 - val_acc: 0.0687\n",
            "Epoch 204/256\n",
            " - 5s - loss: 2.6650 - acc: 0.3304 - val_loss: 10.1447 - val_acc: 0.0622\n",
            "Epoch 205/256\n",
            " - 5s - loss: 2.3146 - acc: 0.3594 - val_loss: 11.0037 - val_acc: 0.0624\n",
            "Epoch 206/256\n",
            " - 5s - loss: 2.6333 - acc: 0.3073 - val_loss: 13.9465 - val_acc: 0.0674\n",
            "Epoch 207/256\n",
            " - 5s - loss: 2.7989 - acc: 0.2604 - val_loss: 14.6458 - val_acc: 0.0544\n",
            "Epoch 208/256\n",
            " - 5s - loss: 2.3104 - acc: 0.2865 - val_loss: 14.6761 - val_acc: 0.0562\n",
            "Epoch 209/256\n",
            " - 5s - loss: 2.7328 - acc: 0.3073 - val_loss: 14.7199 - val_acc: 0.0523\n",
            "Epoch 210/256\n",
            " - 5s - loss: 2.7054 - acc: 0.2500 - val_loss: 14.2316 - val_acc: 0.0553\n",
            "Epoch 211/256\n",
            " - 5s - loss: 2.6522 - acc: 0.3125 - val_loss: 13.6001 - val_acc: 0.0627\n",
            "Epoch 212/256\n",
            " - 6s - loss: 2.6528 - acc: 0.3547 - val_loss: 12.4652 - val_acc: 0.0741\n",
            "Epoch 213/256\n",
            " - 5s - loss: 2.5411 - acc: 0.3385 - val_loss: 11.3169 - val_acc: 0.0767\n",
            "Epoch 214/256\n",
            " - 5s - loss: 2.4623 - acc: 0.3333 - val_loss: 10.0566 - val_acc: 0.0921\n",
            "Epoch 215/256\n",
            " - 5s - loss: 2.3971 - acc: 0.3594 - val_loss: 8.6283 - val_acc: 0.1296\n",
            "Epoch 216/256\n",
            " - 5s - loss: 2.4974 - acc: 0.3281 - val_loss: 7.9001 - val_acc: 0.1483\n",
            "Epoch 217/256\n",
            " - 5s - loss: 2.2653 - acc: 0.3802 - val_loss: 7.0411 - val_acc: 0.1863\n",
            "Epoch 218/256\n",
            " - 5s - loss: 2.4303 - acc: 0.3438 - val_loss: 7.2015 - val_acc: 0.1379\n",
            "Epoch 219/256\n",
            " - 5s - loss: 2.6897 - acc: 0.2969 - val_loss: 7.5268 - val_acc: 0.1095\n",
            "Epoch 220/256\n",
            " - 5s - loss: 2.4809 - acc: 0.2865 - val_loss: 7.7219 - val_acc: 0.1093\n",
            "Epoch 221/256\n",
            " - 5s - loss: 2.7412 - acc: 0.2861 - val_loss: 8.8254 - val_acc: 0.0994\n",
            "Epoch 222/256\n",
            " - 5s - loss: 2.7118 - acc: 0.3021 - val_loss: 8.0485 - val_acc: 0.1314\n",
            "Epoch 223/256\n",
            " - 5s - loss: 2.4709 - acc: 0.3177 - val_loss: 3.9950 - val_acc: 0.2019\n",
            "Epoch 224/256\n",
            " - 5s - loss: 2.6381 - acc: 0.2917 - val_loss: 3.1495 - val_acc: 0.2332\n",
            "Epoch 225/256\n",
            " - 5s - loss: 2.5151 - acc: 0.3854 - val_loss: 2.5592 - val_acc: 0.2794\n",
            "Epoch 226/256\n",
            " - 5s - loss: 2.5289 - acc: 0.3438 - val_loss: 4.3287 - val_acc: 0.2453\n",
            "Epoch 227/256\n",
            " - 5s - loss: 2.4244 - acc: 0.3281 - val_loss: 4.8118 - val_acc: 0.2620\n",
            "Epoch 228/256\n",
            " - 6s - loss: 2.3815 - acc: 0.3385 - val_loss: 5.3695 - val_acc: 0.2677\n",
            "Epoch 229/256\n",
            " - 5s - loss: 2.2994 - acc: 0.3438 - val_loss: 7.3001 - val_acc: 0.2529\n",
            "Epoch 230/256\n",
            " - 5s - loss: 2.4010 - acc: 0.3494 - val_loss: 9.5910 - val_acc: 0.2138\n",
            "Epoch 231/256\n",
            " - 5s - loss: 2.2315 - acc: 0.3906 - val_loss: 9.5013 - val_acc: 0.2068\n",
            "Epoch 232/256\n",
            " - 5s - loss: 2.1667 - acc: 0.3333 - val_loss: 9.2429 - val_acc: 0.2066\n",
            "Epoch 233/256\n",
            " - 5s - loss: 2.1157 - acc: 0.4115 - val_loss: 8.9275 - val_acc: 0.2177\n",
            "Epoch 234/256\n",
            " - 5s - loss: 2.6102 - acc: 0.2500 - val_loss: 7.1931 - val_acc: 0.1883\n",
            "Epoch 235/256\n",
            " - 5s - loss: 2.5515 - acc: 0.3438 - val_loss: 8.2595 - val_acc: 0.1816\n",
            "Epoch 236/256\n",
            " - 5s - loss: 2.9956 - acc: 0.2812 - val_loss: 11.7768 - val_acc: 0.1043\n",
            "Epoch 237/256\n",
            " - 5s - loss: 2.9679 - acc: 0.2031 - val_loss: 13.9121 - val_acc: 0.0728\n",
            "Epoch 238/256\n",
            " - 5s - loss: 2.9589 - acc: 0.2656 - val_loss: 14.4649 - val_acc: 0.0432\n",
            "Epoch 239/256\n",
            " - 5s - loss: 2.9506 - acc: 0.2131 - val_loss: 12.2446 - val_acc: 0.0583\n",
            "Epoch 240/256\n",
            " - 5s - loss: 2.5925 - acc: 0.3177 - val_loss: 8.5064 - val_acc: 0.1283\n",
            "Epoch 241/256\n",
            " - 5s - loss: 2.8989 - acc: 0.2083 - val_loss: 8.7965 - val_acc: 0.1293\n",
            "Epoch 242/256\n",
            " - 5s - loss: 2.7301 - acc: 0.2188 - val_loss: 9.0339 - val_acc: 0.1402\n",
            "Epoch 243/256\n",
            " - 5s - loss: 2.6395 - acc: 0.2969 - val_loss: 8.4055 - val_acc: 0.1530\n",
            "Epoch 244/256\n",
            " - 6s - loss: 2.8211 - acc: 0.2240 - val_loss: 7.7054 - val_acc: 0.2001\n",
            "Epoch 245/256\n",
            " - 5s - loss: 2.4929 - acc: 0.2760 - val_loss: 8.0293 - val_acc: 0.2107\n",
            "Epoch 246/256\n",
            " - 5s - loss: 2.6366 - acc: 0.2708 - val_loss: 8.6817 - val_acc: 0.1920\n",
            "Epoch 247/256\n",
            " - 5s - loss: 2.7783 - acc: 0.2760 - val_loss: 8.3866 - val_acc: 0.1912\n",
            "Epoch 248/256\n",
            " - 5s - loss: 2.6502 - acc: 0.3389 - val_loss: 8.1239 - val_acc: 0.2079\n",
            "Epoch 249/256\n",
            " - 5s - loss: 2.4992 - acc: 0.2656 - val_loss: 7.1067 - val_acc: 0.2050\n",
            "Epoch 250/256\n",
            " - 6s - loss: 2.5585 - acc: 0.2760 - val_loss: 6.4068 - val_acc: 0.2479\n",
            "Epoch 251/256\n",
            " - 6s - loss: 2.6230 - acc: 0.2500 - val_loss: 6.1303 - val_acc: 0.2776\n",
            "Epoch 252/256\n",
            " - 6s - loss: 2.2898 - acc: 0.3021 - val_loss: 5.8336 - val_acc: 0.2642\n",
            "Epoch 253/256\n",
            " - 5s - loss: 2.1340 - acc: 0.3750 - val_loss: 5.4203 - val_acc: 0.2932\n",
            "Epoch 254/256\n",
            " - 5s - loss: 2.2409 - acc: 0.3073 - val_loss: 5.0597 - val_acc: 0.3098\n",
            "Epoch 255/256\n",
            " - 5s - loss: 2.2210 - acc: 0.3490 - val_loss: 4.8613 - val_acc: 0.3241\n",
            "Epoch 256/256\n",
            " - 5s - loss: 2.1271 - acc: 0.3802 - val_loss: 4.6026 - val_acc: 0.3158\n"
          ],
          "name": "stdout"
        }
      ]
    },
    {
      "cell_type": "code",
      "metadata": {
        "id": "KZmHDSNH28kI",
        "colab_type": "code",
        "colab": {}
      },
      "source": [
        ""
      ],
      "execution_count": 0,
      "outputs": []
    },
    {
      "cell_type": "markdown",
      "metadata": {
        "colab_type": "text",
        "id": "ulDg6tAjm25k"
      },
      "source": [
        "### Transfer Learning ResNet"
      ]
    },
    {
      "cell_type": "code",
      "metadata": {
        "colab_type": "code",
        "id": "_ls1WfO5m25l",
        "colab": {}
      },
      "source": [
        "'''modelTransf2=ResNet50(weights=None,\n",
        "                      include_top=True,\n",
        "                      classes=1,\n",
        "                      input_shape=(64,64,3))\n",
        "\n",
        "modelTransf2 = Sequential()\n",
        "\n",
        "\n",
        "modelTransf2.add(base_modelRes)\n",
        "modelTransf2.add(Flatten())\n",
        "modelTransf2.add(BatchNormalization())\n",
        "modelTransf2.add(Dense(128, activation='linear'))\n",
        "modelTransf2.add(layers.LeakyReLU(alpha=0.1))           \n",
        "modelTransf2.add(Dropout(0.3))\n",
        "modelTransf2.add(Dense(21, activation='softmax'))\n",
        "\n",
        "modelTransf2.compile(optimizer='adam',loss='categorical_crossentropy',metrics=['categorical_accuracy'])'''"
      ],
      "execution_count": 0,
      "outputs": []
    },
    {
      "cell_type": "code",
      "metadata": {
        "id": "-2N20MkfoNED",
        "colab_type": "code",
        "colab": {}
      },
      "source": [
        "'''#ResNet50 Vainilla\n",
        "start = time.clock() \n",
        "historyRes = modelTransf2.fit(trainImagesX, trainY, validation_data=(testImagesX, testY),epochs=200, batch_size=8)\n",
        "\n",
        "end = time.clock()\n",
        "timeRes = end-start\n",
        "\n",
        "print(\"Total Time: {} \".format(timeRes)) '''"
      ],
      "execution_count": 0,
      "outputs": []
    },
    {
      "cell_type": "code",
      "metadata": {
        "id": "4roKDw-Ep5js",
        "colab_type": "code",
        "colab": {}
      },
      "source": [
        "'''train_generator = ImageDataGenerator(\n",
        "        featurewise_center=True,\n",
        "        featurewise_std_normalization=True,\n",
        "        rotation_range=45,\n",
        "        width_shift_range=0.05,\n",
        "        height_shift_range=0.05,\n",
        "        horizontal_flip=True,\n",
        "        vertical_flip=True)\n",
        "\n",
        "train_generator.fit(trainImagesX)\n",
        "#ResNet with Data Augmentantion\n",
        "historyResDA = modelTransf2.fit_generator(\n",
        "        train_generator.flow(trainImagesX, trainY,epochs=200, batch_size=8),\n",
        "        steps_per_epoch=int(2*SIZE / 32),\n",
        "        epochs=256,\n",
        "        validation_data=evaluate_generator.flow(testImagesX, testY), batch_size=32),\n",
        "        validation_steps=128,\n",
        "        verbose=2\n",
        "    )'''"
      ],
      "execution_count": 0,
      "outputs": []
    },
    {
      "cell_type": "markdown",
      "metadata": {
        "id": "b5-j7UqBpvth",
        "colab_type": "text"
      },
      "source": [
        "## Retrieve Images"
      ]
    },
    {
      "cell_type": "code",
      "metadata": {
        "id": "3E3DYX67RRzm",
        "colab_type": "code",
        "colab": {}
      },
      "source": [
        "def retrieveImages(result,inputPath,imgSize):\n",
        "  start = time.clock() \n",
        "\n",
        "  images = []\n",
        "\n",
        "  for i in result['LATITUDE']:\n",
        "    basePath = os.path.sep.join([inputPath, \"{},*\".format(i)])\n",
        "    imagePaths = sorted(list(glob.glob(basePath)))\n",
        "    \n",
        "    for imagePath in imagePaths:\n",
        "      image = cv2.imread(imagePath)\n",
        "      image = cv2.resize(image, (imgSize, imgSize))\n",
        "      image = image.flatten()\n",
        "      images.append(image)\n",
        "\n",
        "  end = time.clock()\n",
        "  timeImages = end-start\n",
        "\n",
        "  print(\"Total Time: {} \".format(timeImages)) \n",
        "  images = np.array(images)\n",
        "  images = images / 255.0\n",
        "  print('X shape:', np.array(X).shape)\n",
        "  print('y shape:', np.array(y).shape)\n",
        "  print('images shape:', np.array(images).shape)\n",
        "  return images"
      ],
      "execution_count": 0,
      "outputs": []
    },
    {
      "cell_type": "code",
      "metadata": {
        "id": "NtXb5AB3xZpI",
        "colab_type": "code",
        "outputId": "a6f6f0ad-ee02-46d5-ccda-6b6e7dd366fa",
        "colab": {
          "base_uri": "https://localhost:8080/",
          "height": 87
        }
      },
      "source": [
        "#inputPath = '/content/drive/My Drive/mosquito/imagesWashington'\n",
        "inputPath = '/content/drive/My Drive/mosquito/imagesManatee'\n",
        "#inputPath = '/content/drive/My Drive/mosquito/imagesHernando'\n",
        "images = retrieveImages(result,inputPath,32)"
      ],
      "execution_count": 0,
      "outputs": [
        {
          "output_type": "stream",
          "text": [
            "Total Time: 271.650779 \n",
            "X shape: (64332, 19)\n",
            "y shape: (64332,)\n",
            "images shape: (64332, 3072)\n"
          ],
          "name": "stdout"
        }
      ]
    },
    {
      "cell_type": "code",
      "metadata": {
        "id": "e3k21O5HpOnp",
        "colab_type": "code",
        "colab": {}
      },
      "source": [
        "images"
      ],
      "execution_count": 0,
      "outputs": []
    },
    {
      "cell_type": "code",
      "metadata": {
        "id": "x7ZqcU9CuEGo",
        "colab_type": "code",
        "colab": {}
      },
      "source": [
        "'''pd.DataFrame(images).to_csv(\"imagesManatee_128_80.csv\", header=None, index=None)\n",
        "start = time.clock() \n",
        "images = pd.read_csv(\"images_64.csv\", header=None)\n",
        "images = images.values\n",
        "end = time.clock()\n",
        "timeImages = end-start\n",
        "print(\"Total Time: {} \".format(timeImages)) '''"
      ],
      "execution_count": 0,
      "outputs": []
    },
    {
      "cell_type": "markdown",
      "metadata": {
        "id": "N8CxfxrgSKOR",
        "colab_type": "text"
      },
      "source": [
        "## CNN with Images"
      ]
    },
    {
      "cell_type": "code",
      "metadata": {
        "id": "Vvgz1n9_oozv",
        "colab_type": "code",
        "colab": {}
      },
      "source": [
        "model_checkpoint2 = ModelCheckpoint('RegMos2.h5', verbose=1, save_best_only=True)\n",
        "def create_cnn(width, height, depth, filters=(16,32,64),regress=False):\n",
        "  \n",
        "  inputShape = (height, width, depth)\n",
        "  chanDim = -1\n",
        "  \n",
        "  inputs = Input(shape=inputShape)\n",
        "  \n",
        "  for (i,f) in enumerate(filters):\n",
        "    if i == 0:\n",
        "      x = inputs\n",
        "      \n",
        "    x = Conv2D(f, (3,3), padding='same', kernel_regularizer='l2')(x)\n",
        "    x = Activation ('relu')(x)\n",
        "    x = BatchNormalization(axis=chanDim)(x)\n",
        "    x = MaxPooling2D(pool_size=(2,2))(x)\n",
        "    \n",
        "  x = Flatten()(x)\n",
        "  x = Dense(16)(x)\n",
        "  x = Activation('relu')(x)\n",
        "  x = BatchNormalization(axis=chanDim)(x)\n",
        "  x = Dropout(0.5)(x)\n",
        "  \n",
        "  x = Dense(4)(x)\n",
        "  x = Activation('relu')(x)\n",
        "  \n",
        "  if regress:\n",
        "    x = Dense(1,activation='linear')(x)\n",
        "    \n",
        "  model = Model(inputs,x)\n",
        "  opt = Adam(lr=1e-3, decay=1e-3 / 200) \n",
        "  model.compile(optimizer=opt, loss=\"mae\", metrics=['mse'])\n",
        "  \n",
        "  return model"
      ],
      "execution_count": 0,
      "outputs": []
    },
    {
      "cell_type": "code",
      "metadata": {
        "id": "0HC74f42laB2",
        "colab_type": "code",
        "colab": {}
      },
      "source": [
        "def evaluateCNN(images,X,y,imgSize, folds=5, num_epochs=50, batch_size=16, verbose=True):\n",
        "  all_scores = []\n",
        "  model_history = [] \n",
        "  mean_List = []\n",
        "  std_List = []\n",
        "  start = time.clock()                 \n",
        "\n",
        "  cv = KFold(n_splits=folds, random_state=1, shuffle=True)\n",
        "\n",
        "  aug = ImageDataGenerator(rescale = 1./255, horizontal_flip = True,\n",
        "                                   fill_mode = \"nearest\", zoom_range = 0.2,\n",
        "                                   width_shift_range = 0.2, height_shift_range=0.2,\n",
        "                                   shear_range=0.2, rotation_range=30) \n",
        "  \n",
        "  for train_index, test_index in cv.split(X):\n",
        "\n",
        "    X_train, X_test, y_train, y_test = images[train_index], images[test_index], y[train_index], y[test_index]\n",
        "    \n",
        "    X_train = X_train.reshape((X_train.shape[0], imgSize, imgSize, 3))\n",
        "    X_test = X_test.reshape((X_test.shape[0], imgSize, imgSize, 3))\n",
        "\n",
        "    model = create_cnn(imgSize, imgSize, 3, regress=True)\n",
        "    #model = vgg19Model(imgSize, imgSize, 3)\n",
        "    #model = resnet50Model(imgSize, imgSize, 3)\n",
        "\n",
        "    history = model.fit(X_train, y_train,validation_data=(X_test, y_test),\n",
        "                        epochs=num_epochs,callbacks=[model_checkpoint2,\n",
        "                        TensorBoardColabCallback(tbc)], batch_size=batch_size, verbose=verbose)\n",
        "    \n",
        "    model_history.append(history)\n",
        "    val_mape,val_mae = model.evaluate(X_test, y_test, verbose=0)\n",
        "    all_scores.append(val_mape)\n",
        "\n",
        "    mean,std = evaluateModel(X_test,y_test,model)\n",
        "\n",
        "    mean_List.append(mean)\n",
        "    std_List.append(std)\n",
        "  \n",
        "\n",
        "  '''with open('file.json', 'w') as f:\n",
        "    json.dump(hist.history, f)'''\n",
        "  plot_model(model, show_shapes = 1, to_file='CNNModel.png')\n",
        "  model.summary()\n",
        "  end = time.clock()\n",
        "  timeDense = end-start\n",
        "  #total time of training\n",
        "  print(\"Total Time: {} \".format(timeDense)) \n",
        "  print(\"[INFO] avg. mosquito traped: {}, std mosquito trapped: {}\".format((result['TOTAL'].mean()),(result['TOTAL'].std())))\n",
        "  print(\"[INFO] mean: {:.2f}%, std: {:.2f}%\".format(avg(mean_List), avg(std_List)))\n",
        "  return model, model_history, all_scores"
      ],
      "execution_count": 0,
      "outputs": []
    },
    {
      "cell_type": "code",
      "metadata": {
        "id": "bEOszwFBSq5G",
        "colab_type": "code",
        "outputId": "74fc070b-478a-463c-cb7a-10dd6d9fa9f2",
        "colab": {
          "base_uri": "https://localhost:8080/",
          "height": 72
        }
      },
      "source": [
        "#model2, model_history2, all_scores2 = evaluateCNN(images,X,y, 64, folds=3, num_epochs=3, batch_size=16, verbose=True)\n",
        "model2, model_history2, all_scores2 = evaluateCNN(images,X,y,32)"
      ],
      "execution_count": 0,
      "outputs": [
        {
          "output_type": "stream",
          "text": [
            "WARNING:tensorflow:From /usr/local/lib/python3.6/dist-packages/keras/backend/tensorflow_backend.py:66: The name tf.get_default_graph is deprecated. Please use tf.compat.v1.get_default_graph instead.\n",
            "\n"
          ],
          "name": "stdout"
        }
      ]
    },
    {
      "cell_type": "code",
      "metadata": {
        "colab_type": "code",
        "id": "h9fMGS4ZY0hz",
        "colab": {}
      },
      "source": [
        "lossTrainPlot(model_history2)\n",
        "lossValPlot(model_history2)\n",
        "lossTrainValPlot(model_history2)"
      ],
      "execution_count": 0,
      "outputs": []
    },
    {
      "cell_type": "code",
      "metadata": {
        "id": "Ryx9KvnsaSa1",
        "colab_type": "code",
        "outputId": "a9731e1f-b970-40e0-b81a-c62d1dc2bee4",
        "colab": {
          "base_uri": "https://localhost:8080/",
          "height": 87
        }
      },
      "source": [
        "WeightsLayers(model2)"
      ],
      "execution_count": 0,
      "outputs": [
        {
          "output_type": "stream",
          "text": [
            "[array([[ 0.5833018 ],\n",
            "       [ 0.10444662],\n",
            "       [-0.18700325],\n",
            "       [ 0.45983508]], dtype=float32), array([1.3516402], dtype=float32)]\n"
          ],
          "name": "stdout"
        }
      ]
    },
    {
      "cell_type": "markdown",
      "metadata": {
        "id": "5l_qLqRqSRKi",
        "colab_type": "text"
      },
      "source": [
        "## Combine the models"
      ]
    },
    {
      "cell_type": "code",
      "metadata": {
        "id": "fLFAVz2Q8U-z",
        "colab_type": "code",
        "colab": {}
      },
      "source": [
        "model_checkpoint3 = ModelCheckpoint('RegMos3.h5', verbose=1, save_best_only=True)\n",
        "def hybridModel(X_train,imgSize):\n",
        "  mlp = create_mlp(X_train.shape[1], regress=False)\n",
        "  cnn = create_cnn(imgSize, imgSize, 3, filters=(16,32,64),regress=False)\n",
        "\n",
        "  combinedInput = concatenate([mlp.output, cnn.output])\n",
        "\n",
        "  x = Dense(8, activation=\"relu\")(combinedInput)\n",
        "  x = Dense(4, activation=\"relu\")(x)\n",
        "  x = Dense(1, activation=\"linear\")(x)\n",
        "\n",
        "  modelF = Model(inputs=[mlp.input, cnn.input], outputs=x)\n",
        "\n",
        "  opt = Adam(lr=1e-3, decay=1e-3 / 200)\n",
        "  modelF.compile(optimizer=opt, loss=\"mae\", metrics=['mse'])\n",
        "  \n",
        "  return modelF"
      ],
      "execution_count": 0,
      "outputs": []
    },
    {
      "cell_type": "code",
      "metadata": {
        "id": "yoz-wRs9ki4f",
        "colab_type": "code",
        "colab": {}
      },
      "source": [
        "def evaluateHybrid(images,X,y,imgSize=64, folds=5, num_epochs=50, batch_size=16, verbose=True):\n",
        "  all_scores = []\n",
        "  model_history = [] \n",
        "  mean_List = []\n",
        "  std_List = []\n",
        "  start = time.clock()                 \n",
        "\n",
        "  cv = KFold(n_splits=folds, random_state=1, shuffle=True)\n",
        "\n",
        "  aug = ImageDataGenerator(rescale = 1./255, horizontal_flip = True,\n",
        "                                   fill_mode = \"nearest\", zoom_range = 0.2,\n",
        "                                   width_shift_range = 0.2, height_shift_range=0.2,\n",
        "                                   shear_range=0.2, rotation_range=30) \n",
        "\n",
        "  \n",
        "  for train_index, test_index in cv.split(X):\n",
        "\n",
        "    X_train, X_trainImages, X_test, X_testImages, y_train, y_test = X[train_index], images[train_index], X[test_index], images[test_index], y[train_index], y[test_index]\n",
        "\n",
        "    X_trainImages = X_trainImages.reshape((X_train.shape[0], imgSize, imgSize, 3))\n",
        "    X_testImages = X_testImages.reshape((X_test.shape[0], imgSize, imgSize, 3))\n",
        "    \n",
        "    model = hybridModel(X_train,imgSize)\n",
        "    \n",
        "    history = model.fit([X_train, X_trainImages], y_train, validation_data=([X_test, X_testImages],y_test),epochs=num_epochs,callbacks=[model_checkpoint3, TensorBoardColabCallback(tbc)], batch_size=16, verbose=1)\n",
        "\n",
        "    model_history.append(history)\n",
        "    val_mape,val_mae = model.evaluate([X_test, X_testImages], y_test, verbose=0)\n",
        "    all_scores.append(val_mape)\n",
        "\n",
        "    mean,std = evaluateModel([X_test, X_testImages],y_test,model)\n",
        "\n",
        "    mean_List.append(mean)\n",
        "    std_List.append(std)\n",
        "  \n",
        "  plot_model(model, show_shapes = 1, to_file='HybridModel.png')\n",
        "  model.summary()\n",
        "  end = time.clock()\n",
        "  timeDense = end-start\n",
        "  #total time of training\n",
        "  print(\"Total Time: {} \".format(timeDense)) \n",
        "  print(\"[INFO] avg. mosquito traped: {}, std mosquito trapped: {}\".format((result['TOTAL'].mean()),(result['TOTAL'].std())))\n",
        "  print(\"[INFO] mean: {:.2f}%, std: {:.2f}%\".format(avg(mean_List), avg(std_List)))\n",
        "  return model, model_history, all_scores"
      ],
      "execution_count": 0,
      "outputs": []
    },
    {
      "cell_type": "code",
      "metadata": {
        "id": "tpJ7NpvpmvJH",
        "colab_type": "code",
        "colab": {}
      },
      "source": [
        "model3, model_history3, all_scores3 = evaluateHybrid(images,X,y,imgSize=64)"
      ],
      "execution_count": 0,
      "outputs": []
    },
    {
      "cell_type": "code",
      "metadata": {
        "id": "4yDIXicsvLBs",
        "colab_type": "code",
        "colab": {}
      },
      "source": [
        "lossTrainPlot(model_history3)\n",
        "lossValPlot(model_history3)\n",
        "lossTrainValPlot(model_history3)"
      ],
      "execution_count": 0,
      "outputs": []
    },
    {
      "cell_type": "code",
      "metadata": {
        "id": "G3KVX6zEydyq",
        "colab_type": "code",
        "colab": {}
      },
      "source": [
        "def lossKfold3Models(model_history,model_history3):\n",
        "  # plot with various axes scales\n",
        "  plt.figure(figsize=(20, 10))\n",
        "\n",
        "\n",
        "  plt.subplot(321)\n",
        "  plt.plot(model_history[0].history['loss'], label='Numerical & categorical')\n",
        "  plt.plot(model_history2[0].history['loss'], label='Satellite Imagery')\n",
        "  plt.plot(model_history3[0].history['loss'], label='Combined')\n",
        "  plt.ylabel('Loss')\n",
        "  plt.legend( loc='lower left')\n",
        "  plt.title('1st Fold')\n",
        "  plt.grid(True)\n",
        "\n",
        "  plt.subplot(322)\n",
        "  plt.plot(model_history[1].history['loss'], label='Numerical & categorical')\n",
        "  plt.plot(model_history2[1].history['loss'], label='Satellite Imagery')\n",
        "  plt.plot(model_history3[1].history['loss'], label='Combined')\n",
        "  plt.ylabel('Loss')\n",
        "  plt.legend( loc='lower left')\n",
        "  plt.title('2nd Fold')\n",
        "  plt.grid(True)\n",
        "\n",
        "  plt.subplot(323)\n",
        "  plt.plot(model_history[2].history['loss'], label='Numerical & categorical')\n",
        "  plt.plot(model_history2[2].history['loss'], label='Satellite Imagery')\n",
        "  plt.plot(model_history3[2].history['loss'], label='Combined')\n",
        "  plt.ylabel('Loss')\n",
        "  plt.legend( loc='lower left')\n",
        "  plt.title('3rd Fold')\n",
        "  plt.grid(True)\n",
        "\n",
        "  plt.subplot(324)\n",
        "  plt.plot(model_history[3].history['loss'], label='Numerical & categorical')\n",
        "  plt.plot(model_history2[3].history['loss'], label='Satellite Imagery')\n",
        "  plt.plot(model_history3[3].history['loss'], label='Combined')\n",
        "  plt.ylabel('Loss')\n",
        "  plt.xlabel('Epoch')\n",
        "  plt.legend( loc='lower left')\n",
        "  plt.title('4th Fold')\n",
        "  plt.grid(True)\n",
        "\n",
        "  plt.subplot(325)\n",
        "  plt.plot(model_history[4].history['loss'], label='Numerical & categorical')\n",
        "  plt.plot(model_history2[4].history['loss'], label='Satellite Imagery')\n",
        "  plt.plot(model_history3[4].history['loss'], label='Combined')\n",
        "  plt.ylabel('Loss')\n",
        "  plt.xlabel('Epoch')\n",
        "  plt.legend( loc='lower left')\n",
        "  plt.title('5th Fold')\n",
        "  plt.grid(True)\n",
        "\n",
        "  plt.subplots_adjust(top=0.92, bottom=0.08, left=0.10, right=0.95, hspace=0.25,\n",
        "                      wspace=0.35)\n",
        "  plt.savefig('lossKfold3Models.eps', format='eps', dpi=900)\n",
        "\n",
        "  return plt.show()"
      ],
      "execution_count": 0,
      "outputs": []
    },
    {
      "cell_type": "code",
      "metadata": {
        "id": "uTQcyLlK0QpN",
        "colab_type": "code",
        "colab": {}
      },
      "source": [
        "def valKfold3Models(model_history,model_history3):\n",
        "  # plot with various axes scales\n",
        "  plt.figure(figsize=(20, 10))\n",
        "\n",
        "\n",
        "  plt.subplot(321)\n",
        "  plt.plot(model_history[0].history['val_loss'], label='Numerical & categorical')\n",
        "  plt.plot(model_history2[0].history['val_loss'], label='Satellite Imagery')\n",
        "  plt.plot(model_history3[0].history['val_loss'], label='Combined')\n",
        "  plt.ylabel('Validation Loss')\n",
        "  plt.legend( loc='lower left')\n",
        "  plt.title('1st Fold')\n",
        "  plt.grid(True)\n",
        "\n",
        "  plt.subplot(322)\n",
        "  plt.plot(model_history[1].history['val_loss'], label='Numerical & categorical')\n",
        "  plt.plot(model_history2[1].history['val_loss'], label='Satellite Imagery')\n",
        "  plt.plot(model_history3[1].history['val_loss'], label='Combined')\n",
        "  plt.ylabel('Validation Loss')\n",
        "  plt.legend( loc='lower left')\n",
        "  plt.title('2nd Fold')\n",
        "  plt.grid(True)\n",
        "\n",
        "  plt.subplot(323)\n",
        "  plt.plot(model_history[2].history['val_loss'], label='Numerical & categorical')\n",
        "  plt.plot(model_history2[2].history['val_loss'], label='Satellite Imagery')\n",
        "  plt.plot(model_history3[2].history['val_loss'], label='Combined')\n",
        "  plt.ylabel('Validation Loss')\n",
        "  plt.legend( loc='lower left')\n",
        "  plt.title('3rd Fold')\n",
        "  plt.grid(True)\n",
        "\n",
        "  plt.subplot(324)\n",
        "  plt.plot(model_history[3].history['val_loss'], label='Numerical & categorical')\n",
        "  plt.plot(model_history2[3].history['val_loss'], label='Satellite Imagery')\n",
        "  plt.plot(model_history3[3].history['val_loss'], label='Combined')\n",
        "  plt.ylabel('Validation Loss')\n",
        "  plt.xlabel('Epoch')\n",
        "  plt.legend( loc='lower left')\n",
        "  plt.title('4th Fold')\n",
        "  plt.grid(True)\n",
        "\n",
        "  plt.subplot(325)\n",
        "  plt.plot(model_history[4].history['val_loss'], label='Numerical & categorical')\n",
        "  plt.plot(model_history2[4].history['val_loss'], label='Satellite Imagery')\n",
        "  plt.plot(model_history3[4].history['val_loss'], label='Combined')\n",
        "  plt.ylabel('Validation Loss')\n",
        "  plt.xlabel('Epoch')\n",
        "  plt.legend( loc='lower left')\n",
        "  plt.title('5th Fold')\n",
        "  plt.grid(True)\n",
        "\n",
        "  plt.subplots_adjust(top=0.92, bottom=0.08, left=0.10, right=0.95, hspace=0.25,\n",
        "                      wspace=0.35)\n",
        "  \n",
        "  plt.savefig('valKfold3Models.eps', format='eps', dpi=900)\n",
        "\n",
        "  return plt.show()"
      ],
      "execution_count": 0,
      "outputs": []
    },
    {
      "cell_type": "code",
      "metadata": {
        "id": "mPcBk73W3HhD",
        "colab_type": "code",
        "colab": {}
      },
      "source": [
        "lossKfold3Models(model_history,model_history3)"
      ],
      "execution_count": 0,
      "outputs": []
    },
    {
      "cell_type": "code",
      "metadata": {
        "id": "5nWnKLD527Ib",
        "colab_type": "code",
        "colab": {}
      },
      "source": [
        "valKfold3Models(model_history, model_history3)"
      ],
      "execution_count": 0,
      "outputs": []
    },
    {
      "cell_type": "code",
      "metadata": {
        "id": "YibD3uELxrVV",
        "colab_type": "code",
        "colab": {}
      },
      "source": [
        "def boxPlots3Models(all_scores, all_scores2, all_scores3):\n",
        "\n",
        "  ax1 = plt.subplot(131)\n",
        "  plt.boxplot(all_scores)\n",
        "  plt.title('MLP')\n",
        "  plt.ylim(0, 6.5)\n",
        "  #plt.setp(ax1.get_xticklabels(), fontsize=6)\n",
        "\n",
        "  # share x only\n",
        "  ax2 = plt.subplot(132, sharex=ax1)\n",
        "  plt.boxplot(all_scores2)\n",
        "  # make these tick labels invisible\n",
        "  plt.title('CNN')\n",
        "  plt.setp(ax2.get_xticklabels(), visible=False)\n",
        "\n",
        "  # share x and y\n",
        "  ax3 = plt.subplot(133)\n",
        "  plt.boxplot(all_scores3)\n",
        "  plt.ylim(0, 2.0)\n",
        "  plt.title('Hybrid')\n",
        "  plt.subplots_adjust(top=0.92, bottom=0.08, left=0.10, right=0.95, hspace=0.25,\n",
        "                      wspace=0.35)\n",
        "  plt.savefig('boxPlotsFinal.eps', format='eps', dpi=900)\n",
        "  plt.show()"
      ],
      "execution_count": 0,
      "outputs": []
    },
    {
      "cell_type": "code",
      "metadata": {
        "id": "0nQOEm5j2WHS",
        "colab_type": "code",
        "colab": {}
      },
      "source": [
        "boxPlots3Models(all_scores, all_scores2, all_scores3)"
      ],
      "execution_count": 0,
      "outputs": []
    },
    {
      "cell_type": "markdown",
      "metadata": {
        "id": "DqhpzTqATdtG",
        "colab_type": "text"
      },
      "source": [
        "## Sources"
      ]
    },
    {
      "cell_type": "markdown",
      "metadata": {
        "id": "NBeLn6I7neA1",
        "colab_type": "text"
      },
      "source": [
        "Source: \n",
        "\n",
        "[1] Cahill, Trey. (2019). Esri Story Maps: Fight the Bite, Protecting Washington, D.C. from Mosquito Borne Disease. \n",
        "\n",
        "[2] Giraldo-Calderón GI, Emrich SJ, MacCallum RM, Maslen G, Dialynas E, Topalis P, Ho N, Gesing S, VectorBase Consortium, Madey G, Collins FH, Lawson D. 2015. VectorBase: an updated bioinformatics resource for invertebrate vectors and other organisms related with human diseases. Nucleic Acids Research 43(Database issue):D707-13.\n",
        "\n",
        "[3] Ehelepola, N. D. B., et al. \"A study of the correlation between dengue and weather in Kandy City, Sri Lanka (2003-2012) and lessons learned.\" Infectious diseases of poverty 4.1 (2015): 42.\n",
        "\n",
        "H. Ahmed E. and Moustafa M. (2016). House Price Estimation from Visual and Textual Features.In Proceedings of the 8th International Joint Conference on Computational Intelligence (IJCCI 2016)ISBN 978-989-758-201-1, pages 62-68. DOI: 10.5220/0006040700620068"
      ]
    },
    {
      "cell_type": "markdown",
      "metadata": {
        "id": "o2EF18jFTk-p",
        "colab_type": "text"
      },
      "source": [
        "https://www.pyimagesearch.com/2019/02/04/keras-multiple-inputs-and-mixed-data/"
      ]
    },
    {
      "cell_type": "markdown",
      "metadata": {
        "id": "4sPMkGOjTmVG",
        "colab_type": "text"
      },
      "source": [
        "https://zoom.earth"
      ]
    },
    {
      "cell_type": "code",
      "metadata": {
        "id": "RctNPRSamz38",
        "colab_type": "code",
        "colab": {}
      },
      "source": [
        "'https://wtop.com/health-fitness/2016/06/trap-lab-dc-protects-residents-mosquito-borne-diseases/slide/1/'"
      ],
      "execution_count": 0,
      "outputs": []
    }
  ]
}