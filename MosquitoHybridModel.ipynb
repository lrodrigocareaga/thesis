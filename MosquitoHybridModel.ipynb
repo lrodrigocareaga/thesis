{
  "nbformat": 4,
  "nbformat_minor": 0,
  "metadata": {
    "colab": {
      "name": "MosquitoHybridModel.ipynb",
      "provenance": [],
      "collapsed_sections": [
        "YrY6jnihSbyX",
        "JsBAmZrcEXW3",
        "tfzIn_e1UH0r",
        "_VkPLy8CZHEV",
        "95YVjw3gJr9i",
        "NfJ7CXQqF5Lh",
        "5EUxp8UFdwD7",
        "a1Wd2Rvudxj4",
        "DoVkep_eeV2I",
        "ZlohyiQ_6uIE",
        "ZKquLtko6qJ1",
        "Kc-n9Iyt6kjP",
        "Q-qaw1i5KOGZ",
        "lf3V3296Kmbz",
        "n31t79BiKenh",
        "ulDg6tAjm25k",
        "N8CxfxrgSKOR",
        "DqhpzTqATdtG"
      ],
      "toc_visible": true,
      "machine_shape": "hm",
      "include_colab_link": true
    },
    "kernelspec": {
      "name": "python3",
      "display_name": "Python 3"
    },
    "accelerator": "GPU"
  },
  "cells": [
    {
      "cell_type": "markdown",
      "metadata": {
        "id": "view-in-github",
        "colab_type": "text"
      },
      "source": [
        "<a href=\"https://colab.research.google.com/github/lrodrigocareaga/thesis/blob/master/MosquitoHybridModel.ipynb\" target=\"_parent\"><img src=\"https://colab.research.google.com/assets/colab-badge.svg\" alt=\"Open In Colab\"/></a>"
      ]
    },
    {
      "cell_type": "markdown",
      "metadata": {
        "id": "YuevJNCEHRu0",
        "colab_type": "text"
      },
      "source": [
        "# Libraries"
      ]
    },
    {
      "cell_type": "code",
      "metadata": {
        "id": "SHJMkg8Yi6nd",
        "colab_type": "code",
        "colab": {
          "base_uri": "https://localhost:8080/",
          "height": 32
        },
        "outputId": "cf1214bf-f939-4874-e2c9-41d2e5c01341"
      },
      "source": [
        "#General libraries needed\n",
        "import numpy as np\n",
        "import pandas as pd\n",
        "import matplotlib.pyplot as plt\n",
        "import tensorflow as tf\n",
        "from tensorboardcolab import TensorBoardColab, TensorBoardColabCallback\n",
        "import keras,os,tarfile,sys,pickle,zipfile\n",
        "\n",
        "#Keras libraries & packages\n",
        "from keras import models,initializers,layers,optimizers\n",
        "from keras import backend as K\n",
        "from keras.utils import to_categorical,plot_model\n",
        "from keras.models import Sequential,Model, load_model\n",
        "from keras.optimizers import Adam\n",
        "from keras.preprocessing import image\n",
        "from keras.preprocessing.image import ImageDataGenerator\n",
        "from keras.layers import Input,Dense,Conv2D,advanced_activations,Flatten,concatenate,Dropout,MaxPooling2D,Activation,GlobalAveragePooling2D,BatchNormalization,SeparableConv2D,SpatialDropout2D,LeakyReLU\n",
        "from keras.callbacks import EarlyStopping, ModelCheckpoint\n",
        "\n",
        "from keras.applications.inception_v3 import InceptionV3\n",
        "from keras.applications.vgg19 import VGG19\n",
        "from keras.applications.resnet50 import ResNet50\n",
        "from keras.applications import MobileNet\n",
        "from keras.applications.mobilenet import preprocess_input\n",
        "\n",
        "#Sci-kit libraries\n",
        "from sklearn import metrics\n",
        "from sklearn.metrics import confusion_matrix,roc_auc_score, roc_curve, classification_report\n",
        "from sklearn.model_selection import train_test_split,StratifiedKFold, KFold, ShuffleSplit\n",
        "from sklearn.utils.multiclass import unique_labels\n",
        "from sklearn.preprocessing import MinMaxScaler, LabelBinarizer, MultiLabelBinarizer, LabelEncoder\n",
        "from sklearn.svm import SVR, LinearSVR\n",
        "from sklearn.linear_model import LinearRegression, LogisticRegression\n",
        "from sklearn.datasets import make_regression\n",
        "\n",
        "#Others\n",
        "import time\n",
        "import matplotlib.image as mpimg\n",
        "import skimage\n",
        "import argparse\n",
        "import locale\n",
        "import glob\n",
        "import sklearn.model_selection\n",
        "import cv2\n",
        "import shapely.wkt\n",
        "import shapely.affinity\n",
        "import seaborn as sns\n",
        "from skimage.io import imshow\n",
        "from shapely.geometry import MultiPolygon, Polygon\n",
        "from collections import defaultdict\n",
        "from shapely.wkt import loads as wkt_loads"
      ],
      "execution_count": 1,
      "outputs": [
        {
          "output_type": "stream",
          "text": [
            "Using TensorFlow backend.\n"
          ],
          "name": "stderr"
        }
      ]
    },
    {
      "cell_type": "code",
      "metadata": {
        "id": "j_JXoaNRHTar",
        "colab_type": "code",
        "outputId": "8749e564-fd46-4644-f904-c4c32f316a88",
        "colab": {
          "base_uri": "https://localhost:8080/",
          "height": 32
        }
      },
      "source": [
        "# Establish the home directory\n",
        "from google.colab import drive\n",
        "drive.mount('/content/drive/')\n",
        "os.chdir('/content/drive/My Drive/mosquito')\n"
      ],
      "execution_count": 2,
      "outputs": [
        {
          "output_type": "stream",
          "text": [
            "Drive already mounted at /content/drive/; to attempt to forcibly remount, call drive.mount(\"/content/drive/\", force_remount=True).\n"
          ],
          "name": "stdout"
        }
      ]
    },
    {
      "cell_type": "code",
      "metadata": {
        "id": "dOz4B23tKqlg",
        "colab_type": "code",
        "outputId": "083bd69c-9726-493a-b796-334dbf10a4a1",
        "colab": {
          "base_uri": "https://localhost:8080/",
          "height": 96
        }
      },
      "source": [
        "tbc=TensorBoardColab()\n",
        "import warnings\n",
        "warnings.filterwarnings('ignore')"
      ],
      "execution_count": 3,
      "outputs": [
        {
          "output_type": "stream",
          "text": [
            "Wait for 8 seconds...\n",
            "TensorBoard link:\n",
            "https://e65678f8.ngrok.io\n"
          ],
          "name": "stdout"
        }
      ]
    },
    {
      "cell_type": "code",
      "metadata": {
        "id": "tl3pzglp13P0",
        "colab_type": "code",
        "colab": {}
      },
      "source": [
        "def avg(lst): \n",
        "    return sum(lst) / len(lst) "
      ],
      "execution_count": 0,
      "outputs": []
    },
    {
      "cell_type": "markdown",
      "metadata": {
        "id": "e32AktirJwbc",
        "colab_type": "text"
      },
      "source": [
        "# Experiments"
      ]
    },
    {
      "cell_type": "markdown",
      "metadata": {
        "id": "YrY6jnihSbyX",
        "colab_type": "text"
      },
      "source": [
        "## Load Data\n"
      ]
    },
    {
      "cell_type": "code",
      "metadata": {
        "id": "MLxz-JTnla6o",
        "colab_type": "code",
        "colab": {}
      },
      "source": [
        "def loadData(fileXls):\n",
        "\n",
        "  #Numerical and Categorical columns needed in the data\n",
        "  cols = ['collection_date','GPS_lat','GPS_lon','species','day','month','year','sample_count']\n",
        "\n",
        "  #Source file\n",
        "  df_info = pd.read_excel(fileXls)\n",
        "  #Erase blank rows\n",
        "  df_info = df_info.dropna()\n",
        "\n",
        "  #Add year and month\n",
        "  df_info['year'] = df_info['collection_date'].dt.year.astype(int)\n",
        "  df_info['month'] = df_info['collection_date'].dt.month.astype(int)\n",
        "  df_info['day'] = df_info['collection_date'].dt.day.astype(int)\n",
        "\n",
        "  #filter the dataset\n",
        "  df = df_info[cols]\n",
        "  df = df.dropna()\n",
        "\n",
        "  df['GENUS'] = df['species'].str.split(' ').str[0].astype(str)\n",
        "  df['SPECIES'] = df['species'].str.split(' ').str[1].astype(str)\n",
        "  df = df.rename(columns={\"GPS_lat\": \"LATITUDE\", \"GPS_lon\": \"LONGITUDE\"})\n",
        "\n",
        "  df.sample_count = df.sample_count.astype(int)\n",
        "  df['date'] = pd.to_datetime(df['collection_date'].dt.strftime('%d-%m-%Y'))\n",
        "\n",
        "  del df['collection_date']\n",
        "  del df['species']\n",
        "\n",
        "  return df"
      ],
      "execution_count": 0,
      "outputs": []
    },
    {
      "cell_type": "code",
      "metadata": {
        "id": "HqqmskXcsmxg",
        "colab_type": "code",
        "colab": {}
      },
      "source": [
        "fileXls = '/content/drive/My Drive/mosquito/Manatee.xlsx'\n",
        "df = loadData(fileXls)"
      ],
      "execution_count": 0,
      "outputs": []
    },
    {
      "cell_type": "code",
      "metadata": {
        "id": "s2dhkxDfG91V",
        "colab_type": "code",
        "colab": {}
      },
      "source": [
        "#Count of mosquitos trapped by ovitrap\n",
        "def printInfo(df):\n",
        "  countMonthK = df[\"month\"].value_counts().keys().tolist()\n",
        "  countMonth = df[\"month\"].value_counts().tolist()\n",
        "  print('Number of mosquitos captured by Month: ' + str(countMonthK))\n",
        "  print('Number of mosquitos captured by Month: ' + str(countMonth))\n",
        "\n",
        "  countYearK = df[\"year\"].value_counts().keys().tolist()\n",
        "  countYear = df[\"year\"].value_counts().tolist()\n",
        "  print('Number of mosquitos captured by Year: ' + str(countYearK))\n",
        "  print('Number of mosquitos captured by Year: ' + str(countYear))\n",
        "\n",
        "  countGenusK = df[\"GENUS\"].value_counts().keys().tolist()\n",
        "  countGenus = df[\"GENUS\"].value_counts().tolist()\n",
        "  print('Number of mosquitos captured by Genus: ' + str(countGenusK))\n",
        "  print('Number of mosquitos captured by Genus: ' + str(countGenus))\n",
        "\n",
        "  #DataFrame of number of mosquitos by trap\n",
        "  traps_df = pd.DataFrame({'Genus' : countGenusK,\n",
        "                         'Total' : countGenus},\n",
        "                         columns=['Genus','Total'])\n",
        "\n",
        "  print(traps_df.head())\n",
        "  return "
      ],
      "execution_count": 0,
      "outputs": []
    },
    {
      "cell_type": "code",
      "metadata": {
        "id": "uFjyesqGIQgh",
        "colab_type": "code",
        "outputId": "e75b9868-a705-4d52-d587-54d8f0a36aa6",
        "colab": {
          "base_uri": "https://localhost:8080/",
          "height": 214
        }
      },
      "source": [
        "printInfo(df)"
      ],
      "execution_count": 7,
      "outputs": [
        {
          "output_type": "stream",
          "text": [
            "Number of mosquitos captured by Month: [8, 7, 6, 9, 10, 5, 11, 4, 12, 3, 2, 1]\n",
            "Number of mosquitos captured by Month: [11109, 10999, 10887, 10429, 9977, 5500, 3564, 960, 636, 271, 26, 11]\n",
            "Number of mosquitos captured by Year: [2014, 2013, 2016, 2015, 2012, 2002]\n",
            "Number of mosquitos captured by Year: [14741, 13073, 12847, 12815, 10848, 45]\n",
            "Number of mosquitos captured by Genus: ['Culex', 'Aedes', 'Anopheles', 'Psorophora', 'Mansonia', 'Coquillettidia', 'Uranotaenia', 'Culiseta', 'Wyeomyia', 'BLANK', 'Culicidae', 'Culicinae', 'Orthopodomyia']\n",
            "Number of mosquitos captured by Genus: [22141, 12123, 11354, 9567, 5542, 1605, 1250, 520, 108, 78, 72, 6, 3]\n",
            "        Genus  Total\n",
            "0       Culex  22141\n",
            "1       Aedes  12123\n",
            "2   Anopheles  11354\n",
            "3  Psorophora   9567\n",
            "4    Mansonia   5542\n"
          ],
          "name": "stdout"
        }
      ]
    },
    {
      "cell_type": "code",
      "metadata": {
        "id": "ljVG2DktSoxT",
        "colab_type": "code",
        "colab": {}
      },
      "source": [
        "#dataset of Washington Climate\n",
        "def loadDataClimate(fileXlsClimate):\n",
        "\n",
        "  df_climate = pd.read_excel(fileXlsClimate)\n",
        "\n",
        "  df_climate['LATITUDE'] = df_climate['coordinates'].str.split(';').str[0].astype(float)\n",
        "  df_climate['LONGITUDE'] = df_climate['coordinates'].str.split(';').str[1].astype(float)\n",
        "  \n",
        "  df_climate['date'] =  pd.to_datetime(df_climate['date'], format='%Y-%m-%d')\n",
        "  df_climate['year'] = df_climate['date'].dt.year.astype(int)\n",
        "  df_climate['month'] = df_climate['date'].dt.month.astype(int)\n",
        "  df_climate['day'] = df_climate['date'].dt.day.astype(int)\n",
        "  \n",
        "  return df_climate\n"
      ],
      "execution_count": 0,
      "outputs": []
    },
    {
      "cell_type": "code",
      "metadata": {
        "id": "6FE31Z1iKL9y",
        "colab_type": "code",
        "colab": {}
      },
      "source": [
        "#fileXlsClimate = '/content/drive/My Drive/mosquito/weatherWashington.xlsx'\n",
        "fileXlsClimate = '/content/drive/My Drive/mosquito/WeatherManateeFinal.xlsx'\n",
        "df_climate = loadDataClimate(fileXlsClimate)"
      ],
      "execution_count": 0,
      "outputs": []
    },
    {
      "cell_type": "code",
      "metadata": {
        "id": "_6BCgDRNUEdw",
        "colab_type": "code",
        "colab": {}
      },
      "source": [
        "#Merge of climate and mosquitos dataset\n",
        "def mergeDatasets(df, df_climate):\n",
        "  result = pd.merge(df, df_climate, how='inner', on=['year','month','day','LATITUDE','LONGITUDE'])\n",
        "  result.head()\n",
        "\n",
        "  #Export dataset to csv\n",
        "  result.to_csv('result.csv',index=True)\n",
        "  del result['date_x']\n",
        "  del result['coordinates']\n",
        "  result = result.rename(columns={\"sample_count\": \"TOTAL\", \"date_y\": \"date\"}) \n",
        "  result.TOTAL = result.TOTAL.astype(int)\n",
        "\n",
        "  return result"
      ],
      "execution_count": 0,
      "outputs": []
    },
    {
      "cell_type": "code",
      "metadata": {
        "id": "3zZBokVhSnGa",
        "colab_type": "code",
        "outputId": "5a3c39c1-a443-4317-f4a1-98777efcf3a0",
        "colab": {
          "base_uri": "https://localhost:8080/",
          "height": 576
        }
      },
      "source": [
        "result = mergeDatasets(df, df_climate)\n",
        "print(result.head())\n",
        "print(result.info())"
      ],
      "execution_count": 11,
      "outputs": [
        {
          "output_type": "stream",
          "text": [
            "    LATITUDE  LONGITUDE  day  ...  humidity  windSpeed  cloudCover\n",
            "0  27.516317 -82.537735   22  ...      0.78       2.16        0.45\n",
            "1  27.516317 -82.537735   22  ...      0.78       2.16        0.45\n",
            "2  27.554018 -82.545481   22  ...      0.78       2.15        0.44\n",
            "3  27.488870 -82.592140   22  ...      0.79       2.25        0.44\n",
            "4  27.439449 -82.548928   22  ...      0.80       2.36        0.40\n",
            "\n",
            "[5 rows x 20 columns]\n",
            "<class 'pandas.core.frame.DataFrame'>\n",
            "Int64Index: 64332 entries, 0 to 64331\n",
            "Data columns (total 20 columns):\n",
            "LATITUDE              64332 non-null float64\n",
            "LONGITUDE             64332 non-null float64\n",
            "day                   64332 non-null int64\n",
            "month                 64332 non-null int64\n",
            "year                  64332 non-null int64\n",
            "TOTAL                 64332 non-null int64\n",
            "GENUS                 64332 non-null object\n",
            "SPECIES               64332 non-null object\n",
            "date                  64332 non-null datetime64[ns]\n",
            "precipType            64332 non-null int64\n",
            "precipProbability     64332 non-null float64\n",
            "precipIntensity       64332 non-null float64\n",
            "precipIntensityMax    64332 non-null float64\n",
            "temperatureLow        64332 non-null float64\n",
            "temperatureHigh       64332 non-null float64\n",
            "temperatureMin        64332 non-null float64\n",
            "temperatureMax        64332 non-null float64\n",
            "humidity              64332 non-null float64\n",
            "windSpeed             64332 non-null float64\n",
            "cloudCover            64332 non-null float64\n",
            "dtypes: datetime64[ns](1), float64(12), int64(5), object(2)\n",
            "memory usage: 10.3+ MB\n",
            "None\n"
          ],
          "name": "stdout"
        }
      ]
    },
    {
      "cell_type": "code",
      "metadata": {
        "id": "ns_0BB8DCDDT",
        "colab_type": "code",
        "colab": {}
      },
      "source": [
        "result['location'] = result['LATITUDE'].astype(str) + '_' + result['LONGITUDE'].astype(str)"
      ],
      "execution_count": 0,
      "outputs": []
    },
    {
      "cell_type": "code",
      "metadata": {
        "id": "DYT5giTiJ8I7",
        "colab_type": "code",
        "colab": {}
      },
      "source": [
        "dfImages = pd.read_excel('imagesManatee.xlsx', sheet_name='Sheet1')\n",
        "dfImages.head()\n",
        "result = pd.merge(result, dfImages, how='inner', on='LATITUDE')"
      ],
      "execution_count": 0,
      "outputs": []
    },
    {
      "cell_type": "code",
      "metadata": {
        "id": "_O7Plv2UsIsl",
        "colab_type": "code",
        "colab": {}
      },
      "source": [
        "def takeOutliers(result, percentile):\n",
        "  result  = result.sort_values(by=['TOTAL'])\n",
        "  numEntries = len(result.index)\n",
        "  lowerBound = round(((1-percentile)/2),3)\n",
        "  upperBound = 1-lowerBound\n",
        "  print(lowerBound,' and ',upperBound)\n",
        "  result = result.iloc[int((numEntries*lowerBound)):(int(numEntries*upperBound))]\n",
        "  result.reindex(np.random.permutation(result.index))\n",
        "  return result"
      ],
      "execution_count": 0,
      "outputs": []
    },
    {
      "cell_type": "code",
      "metadata": {
        "id": "voiuqkfCtre2",
        "colab_type": "code",
        "outputId": "c0d3db58-19ea-40b8-d71a-1d6222b9655e",
        "colab": {
          "base_uri": "https://localhost:8080/",
          "height": 609
        }
      },
      "source": [
        "result = takeOutliers(result, 0.2)\n",
        "print(result.head())\n",
        "print(result.info())"
      ],
      "execution_count": 15,
      "outputs": [
        {
          "output_type": "stream",
          "text": [
            "0.4  and  0.6\n",
            "        LATITUDE  LONGITUDE  day  ...  windSpeed  cloudCover              location\n",
            "60893  27.627967 -82.496833   22  ...       0.75        0.16  27.627967_-82.496833\n",
            "44499  27.463570 -82.303790    4  ...       0.94        0.01    27.46357_-82.30379\n",
            "19468  27.554018 -82.545481   10  ...       2.11        0.06  27.554018_-82.545481\n",
            "45711  27.578355 -82.483695   20  ...       1.00        0.12  27.578355_-82.483695\n",
            "37219  27.564989 -82.480332   21  ...       0.44        0.08  27.564989_-82.480332\n",
            "\n",
            "[5 rows x 21 columns]\n",
            "<class 'pandas.core.frame.DataFrame'>\n",
            "Int64Index: 2574 entries, 60893 to 40426\n",
            "Data columns (total 21 columns):\n",
            "LATITUDE              2574 non-null float64\n",
            "LONGITUDE             2574 non-null float64\n",
            "day                   2574 non-null int64\n",
            "month                 2574 non-null int64\n",
            "year                  2574 non-null int64\n",
            "TOTAL                 2574 non-null int64\n",
            "GENUS                 2574 non-null object\n",
            "SPECIES               2574 non-null object\n",
            "date                  2574 non-null datetime64[ns]\n",
            "precipType            2574 non-null int64\n",
            "precipProbability     2574 non-null float64\n",
            "precipIntensity       2574 non-null float64\n",
            "precipIntensityMax    2574 non-null float64\n",
            "temperatureLow        2574 non-null float64\n",
            "temperatureHigh       2574 non-null float64\n",
            "temperatureMin        2574 non-null float64\n",
            "temperatureMax        2574 non-null float64\n",
            "humidity              2574 non-null float64\n",
            "windSpeed             2574 non-null float64\n",
            "cloudCover            2574 non-null float64\n",
            "location              2574 non-null object\n",
            "dtypes: datetime64[ns](1), float64(12), int64(5), object(3)\n",
            "memory usage: 522.4+ KB\n",
            "None\n"
          ],
          "name": "stdout"
        }
      ]
    },
    {
      "cell_type": "markdown",
      "metadata": {
        "id": "JsBAmZrcEXW3",
        "colab_type": "text"
      },
      "source": [
        "## Visualization & data split"
      ]
    },
    {
      "cell_type": "code",
      "metadata": {
        "id": "2FAG7RZqIkvx",
        "colab_type": "code",
        "colab": {}
      },
      "source": [
        "def boxPlotFunc(result):\n",
        "  plt.plot()\n",
        "  sns.boxplot(x='GENUS',y='TOTAL',data=result)\n",
        "  plt.xlabel('GENUS')\n",
        "  plt.ylabel('TOTAL')\n",
        "  plt.title('Boxplot Graph')\n",
        "  plt.savefig('box_Overall_Year.eps', format='eps', dpi=900)\n",
        "  return plt.show()"
      ],
      "execution_count": 0,
      "outputs": []
    },
    {
      "cell_type": "code",
      "metadata": {
        "id": "VBp7tmteJNEI",
        "colab_type": "code",
        "colab": {}
      },
      "source": [
        "def violinPlotFunc(result):\n",
        "  sns.violinplot(x='GENUS',y='TOTAL',data=result,inner=None,color='lightgray')\n",
        "  sns.stripplot(x='GENUS',y='TOTAL',data=result,size=10,jitter=True)\n",
        "  plt.xlabel('TOTAL')\n",
        "  plt.ylabel('Overall')\n",
        "  plt.title('Violin Graph')\n",
        "  plt.tight_layout()\n",
        "  plt.savefig('viol_Overall_Year.eps', format='eps', dpi=900)\n",
        "  return plt.show()"
      ],
      "execution_count": 0,
      "outputs": []
    },
    {
      "cell_type": "code",
      "metadata": {
        "id": "H2iu-8Maw66D",
        "colab_type": "code",
        "colab": {}
      },
      "source": [
        "#Observe the correlation of the variables\n",
        "def corrPlotFunc(result):\n",
        "  corr = result.corr()\n",
        "  corr.style.background_gradient()\n",
        "\n",
        "  sns.heatmap(corr, cmap=\"RdYlGn_r\", square= True, vmin=-1, vmax=1)\n",
        "  plt.savefig('corr.eps', format='eps', dpi=900)\n",
        "  # Display the heatmap\n",
        "  return plt.show()"
      ],
      "execution_count": 0,
      "outputs": []
    },
    {
      "cell_type": "code",
      "metadata": {
        "id": "uIMm5m9XeC85",
        "colab_type": "code",
        "outputId": "fc2ec662-ce2d-48f9-d663-8f849bc81d88",
        "colab": {
          "base_uri": "https://localhost:8080/",
          "height": 910
        }
      },
      "source": [
        "boxPlotFunc(result)\n",
        "violinPlotFunc(result)\n",
        "corrPlotFunc(result)"
      ],
      "execution_count": 19,
      "outputs": [
        {
          "output_type": "display_data",
          "data": {
            "image/png": "[encoded data removed]",
            "text/plain": [
              "<Figure size 432x288 with 1 Axes>"
            ]
          },
          "metadata": {
            "tags": []
          }
        },
        {
          "output_type": "display_data",
          "data": {
            "image/png": "[encoded data removed]",
            "text/plain": [
              "<Figure size 432x288 with 1 Axes>"
            ]
          },
          "metadata": {
            "tags": []
          }
        },
        {
          "output_type": "display_data",
          "data": {
            "image/png": "[encoded data removed]",
            "text/plain": [
              "<Figure size 432x288 with 2 Axes>"
            ]
          },
          "metadata": {
            "tags": []
          }
        }
      ]
    },
    {
      "cell_type": "code",
      "metadata": {
        "id": "P-WH6g4fp_Mf",
        "colab_type": "code",
        "colab": {}
      },
      "source": [
        "def xyFunc(result):\n",
        "  #del result['date']\n",
        "  #del result['location']\n",
        "  #del result['fileName']\n",
        "\n",
        "  X = result.iloc[:, :].values\n",
        "  y = result.iloc[:, 5].values\n",
        "\n",
        "  # Transform categorical variables if needed\n",
        "  labelencoder = LabelEncoder()\n",
        "  X[:, 6] = labelencoder.fit_transform(X[:, 6])\n",
        "  X[:, 7] = labelencoder.fit_transform(X[:, 7])\n",
        "  X[:, -1] = labelencoder.fit_transform(X[:, -1])\n",
        "  scaler = MinMaxScaler(feature_range=(0, 1))\n",
        "  X = scaler.fit_transform(X)\n",
        "\n",
        "  return X,y"
      ],
      "execution_count": 0,
      "outputs": []
    },
    {
      "cell_type": "code",
      "metadata": {
        "id": "Rl58JGcofAPz",
        "colab_type": "code",
        "colab": {}
      },
      "source": [
        "X,y = xyFunc(result)"
      ],
      "execution_count": 0,
      "outputs": []
    },
    {
      "cell_type": "markdown",
      "metadata": {
        "id": "tfzIn_e1UH0r",
        "colab_type": "text"
      },
      "source": [
        "## SVM"
      ]
    },
    {
      "cell_type": "code",
      "metadata": {
        "id": "T562eOC1eViX",
        "colab_type": "code",
        "colab": {}
      },
      "source": [
        "# function to print SVM\n",
        "def svmFunct(X,y):\n",
        "  scoresCoef = []\n",
        "  regrSVM = LinearSVR(random_state=0, tol=1e-5)\n",
        "  cv = KFold(n_splits=10, random_state=1, shuffle=True)\n",
        "\n",
        "  for train_index, test_index in cv.split(X):\n",
        "    X_train, X_test, y_train, y_test = X[train_index], X[test_index], y[train_index], y[test_index]\n",
        "    regrSVM.fit(X_train, y_train)\n",
        "    y_pred = regrSVM.predict(X_test)\n",
        "      \n",
        "  print(regrSVM.coef_)\n",
        "  print(regrSVM.intercept_)\n",
        "\n",
        "  \n",
        "  fig, ax = plt.subplots()\n",
        "  ax.scatter(y_test, y_pred)\n",
        "  ax.plot([y_test.min(), y_test.max()], [y_test.min(), y_test.max()], 'k--', lw=4)\n",
        "  ax.set_xlabel('True Values')\n",
        "  ax.set_ylabel('Predicted')\n",
        "  plt.savefig('SVM.eps', format='eps', dpi=900)\n",
        "\n",
        "  return plt.show()"
      ],
      "execution_count": 0,
      "outputs": []
    },
    {
      "cell_type": "code",
      "metadata": {
        "id": "wcqXRWvcx6Q3",
        "colab_type": "code",
        "outputId": "2c9de627-4fa6-4a27-84f2-53655a3e9b92",
        "colab": {
          "base_uri": "https://localhost:8080/",
          "height": 381
        }
      },
      "source": [
        "svmFunct(X,y)"
      ],
      "execution_count": 0,
      "outputs": [
        {
          "output_type": "stream",
          "text": [
            "[-1.77912359e-05  9.43453732e-06 -7.32349217e-07  5.03121491e-05\n",
            " -4.26657798e-05  7.42000021e+02  1.86007461e-05  3.07930272e-06\n",
            " -4.20689384e-05  2.29003765e-06 -4.43209063e-04  5.59475768e-05\n",
            "  2.61958404e-04 -1.83371841e-02 -4.08399443e-04  1.70818409e-02\n",
            " -1.52862607e-05 -1.74275140e-04  1.89454505e-04]\n",
            "[1.00141748]\n"
          ],
          "name": "stdout"
        },
        {
          "output_type": "display_data",
          "data": {
            "image/png": "[encoded data removed]",
            "text/plain": [
              "<Figure size 432x288 with 1 Axes>"
            ]
          },
          "metadata": {
            "tags": []
          }
        }
      ]
    },
    {
      "cell_type": "markdown",
      "metadata": {
        "id": "_VkPLy8CZHEV",
        "colab_type": "text"
      },
      "source": [
        "## Linear Regression"
      ]
    },
    {
      "cell_type": "code",
      "metadata": {
        "colab_type": "code",
        "id": "GDuHJ10YZNCa",
        "colab": {}
      },
      "source": [
        "def linearRegressionFunct(X,y):\n",
        "  scoresCoef = []\n",
        "  linreg = LinearRegression()\n",
        "  cv = KFold(n_splits=10, random_state=1, shuffle=True)\n",
        "\n",
        "  for train_index, test_index in cv.split(X):\n",
        "    X_train, X_test, y_train, y_test = X[train_index], X[test_index], y[train_index], y[test_index]\n",
        "    linreg.fit(X_train, y_train)\n",
        "    y_pred = linreg.predict(X_test)\n",
        "  \n",
        "  print('Accuracy of linear regression classifier on test set: {:.2f}'.format(linreg.score(X_test,y_test)))\n",
        "  #print('Accuracy of logistic regression classifier on test set: {:.2f}'.format(linreg.score(testX, testY))\n",
        "  print(linreg.coef_)\n",
        "  print(linreg.intercept_)\n",
        "\n",
        "  \n",
        "  fig, ax = plt.subplots()\n",
        "  ax.scatter(y_test, y_pred)\n",
        "  ax.plot([y_test.min(), y_test.max()], [y_test.min(), y_test.max()], 'k--', lw=4)\n",
        "  ax.set_xlabel('True Values')\n",
        "  ax.set_ylabel('Predicted')\n",
        "  plt.savefig('linreg.eps', format='eps', dpi=900)\n",
        "\n",
        "  return plt.show()"
      ],
      "execution_count": 0,
      "outputs": []
    },
    {
      "cell_type": "code",
      "metadata": {
        "id": "0eu1PiVcfEbB",
        "colab_type": "code",
        "outputId": "d8b1b889-67c3-4b97-9216-9b346214e910",
        "colab": {
          "base_uri": "https://localhost:8080/",
          "height": 397
        }
      },
      "source": [
        "linearRegressionFunct(X,y)"
      ],
      "execution_count": 0,
      "outputs": [
        {
          "output_type": "stream",
          "text": [
            "Accuracy of linear regression classifier on test set: 1.00\n",
            "[-2.36250574e-14 -1.56319402e-13  1.63410386e-13  6.03264217e-14\n",
            "  5.59101825e-14  7.42000000e+02  2.11058932e-14 -7.39857134e-14\n",
            " -2.09698816e-13 -4.51123473e-14  3.45842158e-13 -4.10845575e-13\n",
            "  2.80182687e-13  2.41028498e-12  7.17176033e-14 -1.90414351e-12\n",
            "  8.07191368e-13 -3.55715457e-13  4.63629135e-13]\n",
            "0.9999999999983729\n"
          ],
          "name": "stdout"
        },
        {
          "output_type": "display_data",
          "data": {
            "image/png": "[encoded data removed]",
            "text/plain": [
              "<Figure size 432x288 with 1 Axes>"
            ]
          },
          "metadata": {
            "tags": []
          }
        }
      ]
    },
    {
      "cell_type": "markdown",
      "metadata": {
        "id": "95YVjw3gJr9i",
        "colab_type": "text"
      },
      "source": [
        "## Hyperparameters"
      ]
    },
    {
      "cell_type": "markdown",
      "metadata": {
        "id": "NfJ7CXQqF5Lh",
        "colab_type": "text"
      },
      "source": [
        "#### Dropout"
      ]
    },
    {
      "cell_type": "code",
      "metadata": {
        "id": "Rp7EEtFnF9qS",
        "colab_type": "code",
        "colab": {}
      },
      "source": [
        "dropout_10 = layers.Dropout(0.1,\n",
        "               noise_shape=None,\n",
        "               seed=1)"
      ],
      "execution_count": 0,
      "outputs": []
    },
    {
      "cell_type": "code",
      "metadata": {
        "id": "wlSVfqYoF9dX",
        "colab_type": "code",
        "colab": {}
      },
      "source": [
        "dropout_20 = layers.Dropout(0.2,\n",
        "               noise_shape=None,\n",
        "               seed=1)"
      ],
      "execution_count": 0,
      "outputs": []
    },
    {
      "cell_type": "code",
      "metadata": {
        "id": "89W9bbrGGApn",
        "colab_type": "code",
        "colab": {}
      },
      "source": [
        "dropout_50 = layers.Dropout(0.5,\n",
        "               noise_shape=None,\n",
        "               seed=1)"
      ],
      "execution_count": 0,
      "outputs": []
    },
    {
      "cell_type": "markdown",
      "metadata": {
        "id": "5EUxp8UFdwD7",
        "colab_type": "text"
      },
      "source": [
        "#### Lasso Regression"
      ]
    },
    {
      "cell_type": "code",
      "metadata": {
        "id": "xp-34B-vdwZE",
        "colab_type": "code",
        "colab": {}
      },
      "source": [
        "l1_reg10 = keras.regularizers.l1(0.1)"
      ],
      "execution_count": 0,
      "outputs": []
    },
    {
      "cell_type": "code",
      "metadata": {
        "id": "cM08DiGYdxJ9",
        "colab_type": "code",
        "colab": {}
      },
      "source": [
        "l1_reg20 = keras.regularizers.l1(0.2)"
      ],
      "execution_count": 0,
      "outputs": []
    },
    {
      "cell_type": "markdown",
      "metadata": {
        "id": "a1Wd2Rvudxj4",
        "colab_type": "text"
      },
      "source": [
        "#### Ridge Regression"
      ]
    },
    {
      "cell_type": "code",
      "metadata": {
        "id": "h6Y_RGYBdxzc",
        "colab_type": "code",
        "colab": {}
      },
      "source": [
        "l2_reg10 = keras.regularizers.l2(0.1)"
      ],
      "execution_count": 0,
      "outputs": []
    },
    {
      "cell_type": "code",
      "metadata": {
        "id": "hKWzF6XPdx2x",
        "colab_type": "code",
        "colab": {}
      },
      "source": [
        "l2_reg20 = keras.regularizers.l2(0.2)"
      ],
      "execution_count": 0,
      "outputs": []
    },
    {
      "cell_type": "markdown",
      "metadata": {
        "id": "DoVkep_eeV2I",
        "colab_type": "text"
      },
      "source": [
        "#### Lasso & Ridge"
      ]
    },
    {
      "cell_type": "code",
      "metadata": {
        "id": "gaVe-OA7eWhc",
        "colab_type": "code",
        "colab": {}
      },
      "source": [
        "l1l2_reg = keras.regularizers.l1_l2(l1=0.01, l2=0.01)"
      ],
      "execution_count": 0,
      "outputs": []
    },
    {
      "cell_type": "markdown",
      "metadata": {
        "id": "ZlohyiQ_6uIE",
        "colab_type": "text"
      },
      "source": [
        "### Batch Normalization"
      ]
    },
    {
      "cell_type": "code",
      "metadata": {
        "id": "FxQEH2KE6Lgd",
        "colab_type": "code",
        "colab": {}
      },
      "source": [
        "batch_normalization = layers.BatchNormalization(axis=-1, \n",
        "                                                momentum=0.999, \n",
        "                                                epsilon=0.0001, \n",
        "                                                center=True, \n",
        "                                                scale=True,\n",
        "                                                beta_initializer='zeros', \n",
        "                                                gamma_initializer='ones', \n",
        "                                                moving_mean_initializer='zeros', \n",
        "                                                moving_variance_initializer='ones',\n",
        "                                                beta_regularizer=None, \n",
        "                                                gamma_regularizer=None,\n",
        "                                                beta_constraint=None,\n",
        "                                                gamma_constraint=None)"
      ],
      "execution_count": 0,
      "outputs": []
    },
    {
      "cell_type": "markdown",
      "metadata": {
        "id": "ZKquLtko6qJ1",
        "colab_type": "text"
      },
      "source": [
        "### Custom Optimizers"
      ]
    },
    {
      "cell_type": "code",
      "metadata": {
        "id": "UeNUPt_46QQt",
        "colab_type": "code",
        "colab": {}
      },
      "source": [
        "adam_opt=optimizers.Adam(lr=0.001,\n",
        "                   beta_1=0.9, \n",
        "                   beta_2=0.999,\n",
        "                   epsilon=None,\n",
        "                   decay=0.0,\n",
        "                   amsgrad=False)"
      ],
      "execution_count": 0,
      "outputs": []
    },
    {
      "cell_type": "code",
      "metadata": {
        "id": "nB3g9c6x6QOG",
        "colab_type": "code",
        "colab": {}
      },
      "source": [
        "adadelta_opt = optimizers.Adadelta(lr=1.0,\n",
        "                                   rho=0.95,\n",
        "                                   epsilon=None,\n",
        "                                   decay=0.0)"
      ],
      "execution_count": 0,
      "outputs": []
    },
    {
      "cell_type": "code",
      "metadata": {
        "id": "sJjRW5YC6QLm",
        "colab_type": "code",
        "colab": {}
      },
      "source": [
        "adadelta_opt = optimizers.Adadelta(lr=1.0,\n",
        "                                   rho=0.95,\n",
        "                                   epsilon=None,\n",
        "                                   decay=0.0)"
      ],
      "execution_count": 0,
      "outputs": []
    },
    {
      "cell_type": "markdown",
      "metadata": {
        "id": "Kc-n9Iyt6kjP",
        "colab_type": "text"
      },
      "source": [
        "### Custom Activation Functions"
      ]
    },
    {
      "cell_type": "code",
      "metadata": {
        "id": "F5xDQQcP6QIL",
        "colab_type": "code",
        "colab": {}
      },
      "source": [
        "leakyReLU_act = layers.LeakyReLU(alpha=0.3)"
      ],
      "execution_count": 0,
      "outputs": []
    },
    {
      "cell_type": "code",
      "metadata": {
        "id": "kNI56RU56QFi",
        "colab_type": "code",
        "colab": {}
      },
      "source": [
        "pReLU_act = layers.PReLU(alpha_initializer='zeros',\n",
        "                         alpha_regularizer=None, \n",
        "                         alpha_constraint=None,\n",
        "                         shared_axes=None)"
      ],
      "execution_count": 0,
      "outputs": []
    },
    {
      "cell_type": "code",
      "metadata": {
        "id": "vyXuK0bY6PxD",
        "colab_type": "code",
        "colab": {}
      },
      "source": [
        "elu_act = layers.ELU(alpha=1.0)"
      ],
      "execution_count": 0,
      "outputs": []
    },
    {
      "cell_type": "markdown",
      "metadata": {
        "id": "MVMKqPduSi3j",
        "colab_type": "text"
      },
      "source": [
        "## Multi-Layer Perceptron"
      ]
    },
    {
      "cell_type": "code",
      "metadata": {
        "id": "yfiYVFM-pXKH",
        "colab_type": "code",
        "colab": {}
      },
      "source": [
        "model_checkpoint = ModelCheckpoint('RegMos.h5', verbose=1, save_best_only=True)\n",
        "\n",
        "#model of dense neural network with 16, 8, 4 and 1 neurons in each layer respectively \n",
        "def create_mlp(dim, regress=False):\n",
        "  model = Sequential()\n",
        "  model.add(Dense(128, input_dim=dim, activation=\"relu\"))\n",
        "  model.add(Dense(64, activation=\"relu\"))\n",
        "  model.add(Dense(32, activation=\"relu\"))\n",
        "  model.add(Dense(16, activation=\"relu\"))\n",
        "  model.add(Dense(8, activation=\"relu\"))\n",
        "  model.add(Dense(4, activation=\"relu\"))\n",
        "  \n",
        "  if regress:\n",
        "    model.add(Dense(1, activation=\"linear\"))\n",
        "  \n",
        "  opt = Adam(lr=1e-3, decay=1e-3 / 200)\n",
        "  model.compile(optimizer=opt, loss=\"mean_absolute_percentage_error\", metrics=['mae'])\n",
        "  \n",
        "  return model\n",
        "\n"
      ],
      "execution_count": 0,
      "outputs": []
    },
    {
      "cell_type": "code",
      "metadata": {
        "id": "JIWnEGe1Oonf",
        "colab_type": "code",
        "colab": {}
      },
      "source": [
        "def kFoldMLP(X, y, folds=5, num_epochs=50, batch_size=16, verbose=True):\n",
        "  all_scores = []\n",
        "  model_history = [] \n",
        "  mean_List = []\n",
        "  std_List = []\n",
        "  start = time.clock()                 \n",
        "  cv = KFold(n_splits=folds, random_state=1, shuffle=True)\n",
        "\n",
        "  for train_index, test_index in cv.split(X):\n",
        "    X_train, X_test, y_train, y_test = X[train_index], X[test_index], y[train_index], y[test_index]\n",
        "\n",
        "    model = create_mlp(X_train.shape[1], regress=True)\n",
        "\n",
        "    history = model.fit(X_train, y_train,validation_data=(X_test, y_test),\n",
        "                        epochs=num_epochs,callbacks=[model_checkpoint,\n",
        "                        TensorBoardColabCallback(tbc)], batch_size=batch_size, verbose=verbose)\n",
        "    \n",
        "    model_history.append(history)\n",
        "    val_mape,val_mae = model.evaluate(X_test, y_test, verbose=0)\n",
        "    all_scores.append(val_mape)\n",
        "\n",
        "    mean,std = evaluateModel(X_test,y_test,model)\n",
        "\n",
        "    mean_List.append(mean)\n",
        "    std_List.append(std)\n",
        "  \n",
        "  plot_model(model, show_shapes = 1, to_file='DenseModel.png')\n",
        "  model.summary()\n",
        "  end = time.clock()\n",
        "  timeDense = end-start\n",
        "  #total time of training\n",
        "  print(\"Total Time: {} \".format(timeDense)) \n",
        "  print(\"[INFO] avg. mosquito traped: {}, std mosquito trapped: {}\".format((result['TOTAL'].mean()),(result['TOTAL'].std())))\n",
        "  print(\"[INFO] mean: {:.2f}%, std: {:.2f}%\".format(avg(mean_List), avg(std_List)))\n",
        "  return model, model_history, all_scores"
      ],
      "execution_count": 0,
      "outputs": []
    },
    {
      "cell_type": "code",
      "metadata": {
        "id": "sxAk-hF_OOr2",
        "colab_type": "code",
        "outputId": "917c5fbc-2be2-4a66-b468-4504ff780227",
        "colab": {
          "base_uri": "https://localhost:8080/",
          "height": 872
        }
      },
      "source": [
        "model, model_history, all_scores = kFoldMLP(X,y,folds=3, num_epochs=3,verbose=False)"
      ],
      "execution_count": 99,
      "outputs": [
        {
          "output_type": "stream",
          "text": [
            "\n",
            "Epoch 00001: val_loss did not improve from 2.15270\n",
            "\n",
            "Epoch 00002: val_loss did not improve from 2.15270\n",
            "\n",
            "Epoch 00003: val_loss did not improve from 2.15270\n",
            "[6.147738514131713, 6.337021748070578, 6.131747705033682, 6.513868113397394, 6.765007980138876]\n",
            "6.379076812154448\n",
            "858/858 [==============================] - 0s 92us/step\n",
            "\n",
            "Epoch 00001: val_loss did not improve from 2.15270\n",
            "\n",
            "Epoch 00002: val_loss did not improve from 2.15270\n",
            "\n",
            "Epoch 00003: val_loss did not improve from 2.15270\n",
            "[6.147738514131713, 6.337021748070578, 6.131747705033682, 6.513868113397394, 6.765007980138876]\n",
            "6.379076812154448\n",
            "858/858 [==============================] - 0s 95us/step\n",
            "\n",
            "Epoch 00001: val_loss did not improve from 2.15270\n",
            "\n",
            "Epoch 00002: val_loss did not improve from 2.15270\n",
            "\n",
            "Epoch 00003: val_loss did not improve from 2.15270\n",
            "[6.147738514131713, 6.337021748070578, 6.131747705033682, 6.513868113397394, 6.765007980138876]\n",
            "6.379076812154448\n",
            "858/858 [==============================] - 0s 99us/step\n",
            "Model: \"sequential_20\"\n",
            "_________________________________________________________________\n",
            "Layer (type)                 Output Shape              Param #   \n",
            "=================================================================\n",
            "dense_212 (Dense)            (None, 128)               2560      \n",
            "_________________________________________________________________\n",
            "dense_213 (Dense)            (None, 64)                8256      \n",
            "_________________________________________________________________\n",
            "dense_214 (Dense)            (None, 32)                2080      \n",
            "_________________________________________________________________\n",
            "dense_215 (Dense)            (None, 16)                528       \n",
            "_________________________________________________________________\n",
            "dense_216 (Dense)            (None, 8)                 136       \n",
            "_________________________________________________________________\n",
            "dense_217 (Dense)            (None, 4)                 36        \n",
            "_________________________________________________________________\n",
            "dense_218 (Dense)            (None, 1)                 5         \n",
            "=================================================================\n",
            "Total params: 13,601\n",
            "Trainable params: 13,601\n",
            "Non-trainable params: 0\n",
            "_________________________________________________________________\n",
            "Total Time: 61.9445639999999 \n",
            "[INFO] avg. mosquito traped: 18.07808857808858, std mosquito trapped: 1.2572841315348362\n",
            "[INFO] mean: 4.59%, std: 3.90%\n"
          ],
          "name": "stdout"
        }
      ]
    },
    {
      "cell_type": "code",
      "metadata": {
        "id": "iFy3nuwyKHQB",
        "colab_type": "code",
        "colab": {}
      },
      "source": [
        "colorsList = ['b','g','r','m','y','c','k','w']\n",
        "def lossTrainPlot(model_history):\n",
        "  plt.title('Loss vs Epochs')\n",
        "  for x in range(len(model_history)):\n",
        "    plt.plot(model_history[x].history['loss'], label=('Training Fold ', x+1), color=colorsList[x])\n",
        "  plt.legend()\n",
        "  plt.ylim(0,60)\n",
        "  plt.show()\n",
        "  return"
      ],
      "execution_count": 0,
      "outputs": []
    },
    {
      "cell_type": "code",
      "metadata": {
        "id": "YJE5stUDmFrM",
        "colab_type": "code",
        "colab": {}
      },
      "source": [
        "def lossValPlot(model_history):\n",
        "  plt.title('Loss vs Epochs')\n",
        "  for x in range(len(model_history)):\n",
        "    plt.plot(model_history[x].history['val_loss'], label=('Val Fold ', x+1), color=colorsList[x])\n",
        "  plt.legend()\n",
        "  plt.ylim(0,60)\n",
        "  plt.show()\n",
        "  return"
      ],
      "execution_count": 0,
      "outputs": []
    },
    {
      "cell_type": "code",
      "metadata": {
        "id": "cIFpse-aKQHg",
        "colab_type": "code",
        "colab": {}
      },
      "source": [
        "def lossTrainValPlot(model_history):\n",
        "  plt.title('Train Loss vs Val Loss')\n",
        "  for x in range(len(model_history)): \n",
        "    plt.plot(model_history[x].history['val_loss'], label=('Val Fold', x+1), color=colorsList[x])\n",
        "    plt.plot(model_history[x].history['loss'], label=('Training Fold ', x+1), color=colorsList[x], linestyle = \"dashdot\")\n",
        "  plt.legend(ncol=2)\n",
        "  plt.ylim(0,60)\n",
        "  plt.show()\n",
        "  return"
      ],
      "execution_count": 0,
      "outputs": []
    },
    {
      "cell_type": "code",
      "metadata": {
        "id": "n18aK4SnPiZq",
        "colab_type": "code",
        "outputId": "9c46536a-585b-4c12-853b-69a863d4510b",
        "colab": {
          "base_uri": "https://localhost:8080/",
          "height": 807
        }
      },
      "source": [
        "lossTrainPlot(model_history)\n",
        "lossValPlot(model_history)\n",
        "lossTrainValPlot(model_history)"
      ],
      "execution_count": 0,
      "outputs": [
        {
          "output_type": "display_data",
          "data": {
            "image/png": "[encoded data removed]",
            "text/plain": [
              "<Figure size 432x288 with 1 Axes>"
            ]
          },
          "metadata": {
            "tags": []
          }
        },
        {
          "output_type": "display_data",
          "data": {
            "image/png": "[encoded data removed]",
            "text/plain": [
              "<Figure size 432x288 with 1 Axes>"
            ]
          },
          "metadata": {
            "tags": []
          }
        },
        {
          "output_type": "display_data",
          "data": {
            "image/png": "[encoded data removed]",
            "text/plain": [
              "<Figure size 432x288 with 1 Axes>"
            ]
          },
          "metadata": {
            "tags": []
          }
        }
      ]
    },
    {
      "cell_type": "code",
      "metadata": {
        "id": "FGn8u3fTpXBv",
        "colab_type": "code",
        "colab": {}
      },
      "source": [
        "def evaluateModel(testX,testY,model):\n",
        "\n",
        "  #evaluation of the model with test data \n",
        "  print(all_scores)\n",
        "  print(np.mean(all_scores))\n",
        "\n",
        "  test_lossDense = model.evaluate(testX, testY)\n",
        "  preds = model.predict(testX)\n",
        "\n",
        "  diff = preds.flatten() - testY\n",
        "  percentDiff = (diff / testY) * 100\n",
        "  absPercentDiff = np.abs(percentDiff)\n",
        "\n",
        "  mean = np.mean(absPercentDiff)\n",
        "  std = np.std(absPercentDiff)\n",
        "\n",
        "  '''fig, ax = plt.subplots()\n",
        "  ax.scatter(testY, preds)\n",
        "  ax.plot([testY.min(), testY.max()], [testY.min(), testY.max()], 'k--', lw=4)\n",
        "  ax.set_xlabel('Measured')\n",
        "  ax.set_ylabel('Predicted')\n",
        "  plt.show()'''\n",
        "\n",
        "  return mean,std"
      ],
      "execution_count": 0,
      "outputs": []
    },
    {
      "cell_type": "code",
      "metadata": {
        "id": "9aBlyO3JQDjH",
        "colab_type": "code",
        "colab": {}
      },
      "source": [
        "def WeightsLayers(model):\n",
        "  for layer in model.layers:\n",
        "      weights = layer.get_weights()\n",
        "  print(weights)\n",
        "  return"
      ],
      "execution_count": 0,
      "outputs": []
    },
    {
      "cell_type": "code",
      "metadata": {
        "id": "tlusHNm7QlBw",
        "colab_type": "code",
        "outputId": "782794c0-ac26-4343-b506-0fa4289640d1",
        "colab": {
          "base_uri": "https://localhost:8080/",
          "height": 82
        }
      },
      "source": [
        "WeightsLayers(model)"
      ],
      "execution_count": 0,
      "outputs": [
        {
          "output_type": "stream",
          "text": [
            "[array([[ 0.13476346],\n",
            "       [ 0.75449026],\n",
            "       [-0.9079459 ],\n",
            "       [-0.61366546]], dtype=float32), array([0.00371771], dtype=float32)]\n"
          ],
          "name": "stdout"
        }
      ]
    },
    {
      "cell_type": "code",
      "metadata": {
        "id": "xlD3ERbzRFNB",
        "colab_type": "code",
        "colab": {}
      },
      "source": [
        "def loadBestModel(modelName):\n",
        "\n",
        "  model = load_model(modelName)\n",
        "  model.load_weights(modelName)\n",
        "  print(\"Loaded model from disk\")\n",
        "\n",
        "  # evaluate loaded model on test data \n",
        "  # Define X_test & Y_test data first\n",
        "  model.compile(loss='mean_absolute_percentage_error', optimizer='adam', metrics=['mape'])\n",
        "  score = model.evaluate(testX, testY, verbose=0)\n",
        "  print (\"%s: %.2f%%\" % (model.metrics_names[1], score[1]))\n",
        "  preds = model.predict(testX)\n",
        "\n",
        "  fig, ax = plt.subplots()\n",
        "  ax.scatter(testY, preds)\n",
        "  ax.plot([testY.min(), testY.max()], [testY.min(), testY.max()], 'k--', lw=4)\n",
        "  ax.set_xlabel('Measured')\n",
        "  ax.set_ylabel('Predicted')\n",
        "  plt.show()\n",
        "  return"
      ],
      "execution_count": 0,
      "outputs": []
    },
    {
      "cell_type": "code",
      "metadata": {
        "id": "-AVYvhmITcu3",
        "colab_type": "code",
        "outputId": "da12a77a-4d35-41ee-9709-45db85350e8a",
        "colab": {
          "base_uri": "https://localhost:8080/",
          "height": 315
        }
      },
      "source": [
        "modelName = 'RegMos.h5'\n",
        "loadBestModel(modelName)"
      ],
      "execution_count": 0,
      "outputs": [
        {
          "output_type": "stream",
          "text": [
            "Loaded model from disk\n",
            "mean_absolute_percentage_error: 48.70%\n"
          ],
          "name": "stdout"
        },
        {
          "output_type": "display_data",
          "data": {
            "image/png": "[encoded data removed]",
            "text/plain": [
              "<Figure size 432x288 with 1 Axes>"
            ]
          },
          "metadata": {
            "tags": []
          }
        }
      ]
    },
    {
      "cell_type": "markdown",
      "metadata": {
        "id": "Q-qaw1i5KOGZ",
        "colab_type": "text"
      },
      "source": [
        "## Transfer Learning"
      ]
    },
    {
      "cell_type": "markdown",
      "metadata": {
        "id": "lf3V3296Kmbz",
        "colab_type": "text"
      },
      "source": [
        "### VGG19"
      ]
    },
    {
      "cell_type": "code",
      "metadata": {
        "id": "h4ju7lycODAz",
        "colab_type": "code",
        "colab": {}
      },
      "source": [
        "base_modelVgg19=VGG19(weights='imagenet',\n",
        "                      include_top=False,\n",
        "                      input_shape=(64,64,3))\n",
        "\n",
        "modelTransf = Sequential()\n",
        "\n",
        "modelTransf.add(base_modelVgg19)\n",
        "modelTransf.add(Flatten())\n",
        "modelTransf.add(BatchNormalization())\n",
        "modelTransf.add(Dense(128, activation='linear'))\n",
        "modelTransf.add(layers.LeakyReLU(alpha=0.1))           \n",
        "modelTransf.add(Dropout(0.3))\n",
        "modelTransf.add(Dense(21, activation='softmax'))\n",
        "modelTransf.compile(optimizer='adam',loss='categorical_crossentropy',metrics=['accuracy'])"
      ],
      "execution_count": 0,
      "outputs": []
    },
    {
      "cell_type": "code",
      "metadata": {
        "id": "h65yRdZhhHvg",
        "colab_type": "code",
        "outputId": "e5b05483-c210-4f8a-e22d-78b88c46d753",
        "colab": {
          "base_uri": "https://localhost:8080/",
          "height": 8789
        }
      },
      "source": [
        "start = time.clock() \n",
        "historyConvTransf = modelTransf.fit(x_train,train_small_with_dummies, \n",
        "                                    validation_data=(x_valid, train_small_with_dummies2),\n",
        "                                    batch_size=128,verbose=2, nb_epoch=256,shuffle=True)\n",
        "\n",
        "end = time.clock()\n",
        "timeConvTL = end-start\n",
        "\n",
        "print(\"Total Time: {} \".format(timeConvTL)) "
      ],
      "execution_count": 0,
      "outputs": [
        {
          "output_type": "stream",
          "text": [
            "/usr/local/lib/python3.6/dist-packages/ipykernel_launcher.py:6: UserWarning: The `nb_epoch` argument in `fit` has been renamed `epochs`.\n",
            "  \n"
          ],
          "name": "stderr"
        },
        {
          "output_type": "stream",
          "text": [
            "Train on 1680 samples, validate on 420 samples\n",
            "Epoch 1/256\n",
            " - 8s - loss: 2.9710 - acc: 0.0845 - val_loss: 15.3889 - val_acc: 0.0452\n",
            "Epoch 2/256\n",
            " - 3s - loss: 2.7135 - acc: 0.0929 - val_loss: 15.2738 - val_acc: 0.0524\n",
            "Epoch 3/256\n",
            " - 3s - loss: 2.6819 - acc: 0.0982 - val_loss: 15.6192 - val_acc: 0.0310\n",
            "Epoch 4/256\n",
            " - 3s - loss: 2.6146 - acc: 0.1214 - val_loss: 15.3889 - val_acc: 0.0452\n",
            "Epoch 5/256\n",
            " - 3s - loss: 2.5701 - acc: 0.1345 - val_loss: 15.3889 - val_acc: 0.0452\n",
            "Epoch 6/256\n",
            " - 3s - loss: 2.5383 - acc: 0.1393 - val_loss: 5.8011 - val_acc: 0.0929\n",
            "Epoch 7/256\n",
            " - 3s - loss: 2.4705 - acc: 0.1601 - val_loss: 10.4263 - val_acc: 0.0667\n",
            "Epoch 8/256\n",
            " - 3s - loss: 2.4565 - acc: 0.1476 - val_loss: 11.7171 - val_acc: 0.0595\n",
            "Epoch 9/256\n",
            " - 3s - loss: 2.4112 - acc: 0.1554 - val_loss: 7.7097 - val_acc: 0.0857\n",
            "Epoch 10/256\n",
            " - 3s - loss: 2.3856 - acc: 0.1714 - val_loss: 13.7657 - val_acc: 0.0167\n",
            "Epoch 11/256\n",
            " - 3s - loss: 2.3789 - acc: 0.1720 - val_loss: 15.0819 - val_acc: 0.0643\n",
            "Epoch 12/256\n",
            " - 3s - loss: 2.3412 - acc: 0.1815 - val_loss: 15.3506 - val_acc: 0.0476\n",
            "Epoch 13/256\n",
            " - 3s - loss: 2.3709 - acc: 0.1845 - val_loss: 15.3889 - val_acc: 0.0452\n",
            "Epoch 14/256\n",
            " - 3s - loss: 2.3333 - acc: 0.1821 - val_loss: 15.3889 - val_acc: 0.0452\n",
            "Epoch 15/256\n",
            " - 3s - loss: 2.2914 - acc: 0.2036 - val_loss: 15.3889 - val_acc: 0.0452\n",
            "Epoch 16/256\n",
            " - 3s - loss: 2.2465 - acc: 0.2101 - val_loss: 7.2478 - val_acc: 0.0976\n",
            "Epoch 17/256\n",
            " - 3s - loss: 2.2726 - acc: 0.2089 - val_loss: 11.6594 - val_acc: 0.0595\n",
            "Epoch 18/256\n",
            " - 3s - loss: 2.2806 - acc: 0.1964 - val_loss: 12.7969 - val_acc: 0.1095\n",
            "Epoch 19/256\n",
            " - 3s - loss: 2.2612 - acc: 0.2083 - val_loss: 6.4954 - val_acc: 0.1357\n",
            "Epoch 20/256\n",
            " - 3s - loss: 2.2886 - acc: 0.1905 - val_loss: 6.3531 - val_acc: 0.0905\n",
            "Epoch 21/256\n",
            " - 3s - loss: 2.2251 - acc: 0.2048 - val_loss: 10.3998 - val_acc: 0.1071\n",
            "Epoch 22/256\n",
            " - 3s - loss: 2.2222 - acc: 0.2232 - val_loss: 7.6353 - val_acc: 0.0786\n",
            "Epoch 23/256\n",
            " - 3s - loss: 2.2170 - acc: 0.1952 - val_loss: 6.6747 - val_acc: 0.0738\n",
            "Epoch 24/256\n",
            " - 3s - loss: 2.2095 - acc: 0.2071 - val_loss: 7.5445 - val_acc: 0.0786\n",
            "Epoch 25/256\n",
            " - 3s - loss: 2.1848 - acc: 0.2232 - val_loss: 15.4273 - val_acc: 0.0429\n",
            "Epoch 26/256\n",
            " - 3s - loss: 2.1790 - acc: 0.2179 - val_loss: 15.2738 - val_acc: 0.0524\n",
            "Epoch 27/256\n",
            " - 3s - loss: 2.1872 - acc: 0.2220 - val_loss: 14.4905 - val_acc: 0.0690\n",
            "Epoch 28/256\n",
            " - 3s - loss: 2.1473 - acc: 0.2339 - val_loss: 13.6387 - val_acc: 0.0500\n",
            "Epoch 29/256\n",
            " - 3s - loss: 2.1049 - acc: 0.2631 - val_loss: 7.3531 - val_acc: 0.1190\n",
            "Epoch 30/256\n",
            " - 3s - loss: 2.0347 - acc: 0.2911 - val_loss: 8.0003 - val_acc: 0.0905\n",
            "Epoch 31/256\n",
            " - 3s - loss: 2.0377 - acc: 0.2619 - val_loss: 9.8567 - val_acc: 0.1048\n",
            "Epoch 32/256\n",
            " - 3s - loss: 1.9989 - acc: 0.3012 - val_loss: 15.1587 - val_acc: 0.0595\n",
            "Epoch 33/256\n",
            " - 3s - loss: 1.9304 - acc: 0.3238 - val_loss: 12.0197 - val_acc: 0.1143\n",
            "Epoch 34/256\n",
            " - 3s - loss: 1.9432 - acc: 0.3060 - val_loss: 7.6167 - val_acc: 0.0905\n",
            "Epoch 35/256\n",
            " - 3s - loss: 1.9072 - acc: 0.3280 - val_loss: 6.5072 - val_acc: 0.0905\n",
            "Epoch 36/256\n",
            " - 3s - loss: 1.8333 - acc: 0.3673 - val_loss: 6.5862 - val_acc: 0.1167\n",
            "Epoch 37/256\n",
            " - 3s - loss: 1.7845 - acc: 0.3625 - val_loss: 5.2363 - val_acc: 0.1357\n",
            "Epoch 38/256\n",
            " - 3s - loss: 1.8181 - acc: 0.3500 - val_loss: 3.5258 - val_acc: 0.1548\n",
            "Epoch 39/256\n",
            " - 3s - loss: 1.7322 - acc: 0.3905 - val_loss: 4.4496 - val_acc: 0.1452\n",
            "Epoch 40/256\n",
            " - 3s - loss: 1.6932 - acc: 0.3786 - val_loss: 8.5069 - val_acc: 0.0905\n",
            "Epoch 41/256\n",
            " - 3s - loss: 1.6997 - acc: 0.3851 - val_loss: 7.2587 - val_acc: 0.0905\n",
            "Epoch 42/256\n",
            " - 3s - loss: 1.6444 - acc: 0.3994 - val_loss: 3.5930 - val_acc: 0.1762\n",
            "Epoch 43/256\n",
            " - 3s - loss: 1.5902 - acc: 0.4339 - val_loss: 2.3639 - val_acc: 0.2571\n",
            "Epoch 44/256\n",
            " - 3s - loss: 1.5158 - acc: 0.4696 - val_loss: 4.9138 - val_acc: 0.1214\n",
            "Epoch 45/256\n",
            " - 3s - loss: 1.5836 - acc: 0.4232 - val_loss: 3.6572 - val_acc: 0.1952\n",
            "Epoch 46/256\n",
            " - 3s - loss: 1.5959 - acc: 0.4232 - val_loss: 5.0252 - val_acc: 0.1476\n",
            "Epoch 47/256\n",
            " - 3s - loss: 1.5219 - acc: 0.4458 - val_loss: 13.3135 - val_acc: 0.0786\n",
            "Epoch 48/256\n",
            " - 3s - loss: 1.5830 - acc: 0.4387 - val_loss: 3.0810 - val_acc: 0.1833\n",
            "Epoch 49/256\n",
            " - 3s - loss: 1.6148 - acc: 0.4208 - val_loss: 9.3223 - val_acc: 0.1000\n",
            "Epoch 50/256\n",
            " - 3s - loss: 1.5087 - acc: 0.4554 - val_loss: 12.1324 - val_acc: 0.0667\n",
            "Epoch 51/256\n",
            " - 3s - loss: 1.4261 - acc: 0.4935 - val_loss: 2.9583 - val_acc: 0.2714\n",
            "Epoch 52/256\n",
            " - 3s - loss: 1.3634 - acc: 0.5030 - val_loss: 5.3071 - val_acc: 0.1786\n",
            "Epoch 53/256\n",
            " - 3s - loss: 1.3612 - acc: 0.5018 - val_loss: 9.9256 - val_acc: 0.0929\n",
            "Epoch 54/256\n",
            " - 3s - loss: 1.3612 - acc: 0.4911 - val_loss: 3.4619 - val_acc: 0.2048\n",
            "Epoch 55/256\n",
            " - 3s - loss: 1.3434 - acc: 0.5161 - val_loss: 2.2857 - val_acc: 0.3048\n",
            "Epoch 56/256\n",
            " - 3s - loss: 1.2599 - acc: 0.5470 - val_loss: 7.3063 - val_acc: 0.1429\n",
            "Epoch 57/256\n",
            " - 3s - loss: 1.3070 - acc: 0.5226 - val_loss: 2.5274 - val_acc: 0.3048\n",
            "Epoch 58/256\n",
            " - 3s - loss: 1.2742 - acc: 0.5369 - val_loss: 2.2007 - val_acc: 0.3643\n",
            "Epoch 59/256\n",
            " - 3s - loss: 1.1476 - acc: 0.5946 - val_loss: 11.4019 - val_acc: 0.0571\n",
            "Epoch 60/256\n",
            " - 3s - loss: 1.1178 - acc: 0.5798 - val_loss: 2.8322 - val_acc: 0.2571\n",
            "Epoch 61/256\n",
            " - 3s - loss: 1.2394 - acc: 0.5482 - val_loss: 3.5591 - val_acc: 0.2548\n",
            "Epoch 62/256\n",
            " - 3s - loss: 1.2000 - acc: 0.5512 - val_loss: 12.5655 - val_acc: 0.0667\n",
            "Epoch 63/256\n",
            " - 3s - loss: 1.1603 - acc: 0.5738 - val_loss: 8.1110 - val_acc: 0.1762\n",
            "Epoch 64/256\n",
            " - 3s - loss: 1.0163 - acc: 0.6315 - val_loss: 1.9545 - val_acc: 0.3952\n",
            "Epoch 65/256\n",
            " - 3s - loss: 1.0056 - acc: 0.6304 - val_loss: 2.4660 - val_acc: 0.3405\n",
            "Epoch 66/256\n",
            " - 3s - loss: 0.9149 - acc: 0.6613 - val_loss: 3.2308 - val_acc: 0.2524\n",
            "Epoch 67/256\n",
            " - 3s - loss: 0.8732 - acc: 0.6714 - val_loss: 6.0904 - val_acc: 0.1714\n",
            "Epoch 68/256\n",
            " - 3s - loss: 0.9096 - acc: 0.6738 - val_loss: 2.3952 - val_acc: 0.3714\n",
            "Epoch 69/256\n",
            " - 3s - loss: 0.9202 - acc: 0.6613 - val_loss: 7.7064 - val_acc: 0.1167\n",
            "Epoch 70/256\n",
            " - 3s - loss: 0.9685 - acc: 0.6482 - val_loss: 6.1821 - val_acc: 0.1786\n",
            "Epoch 71/256\n",
            " - 3s - loss: 1.0201 - acc: 0.6321 - val_loss: 5.8232 - val_acc: 0.1929\n",
            "Epoch 72/256\n",
            " - 3s - loss: 0.8984 - acc: 0.6679 - val_loss: 10.5102 - val_acc: 0.1143\n",
            "Epoch 73/256\n",
            " - 3s - loss: 0.7586 - acc: 0.7214 - val_loss: 5.9382 - val_acc: 0.1548\n",
            "Epoch 74/256\n",
            " - 3s - loss: 0.7463 - acc: 0.7232 - val_loss: 2.1121 - val_acc: 0.4119\n",
            "Epoch 75/256\n",
            " - 3s - loss: 0.6958 - acc: 0.7458 - val_loss: 6.5885 - val_acc: 0.1690\n",
            "Epoch 76/256\n",
            " - 3s - loss: 0.6251 - acc: 0.7714 - val_loss: 5.0315 - val_acc: 0.2381\n",
            "Epoch 77/256\n",
            " - 3s - loss: 0.6345 - acc: 0.7571 - val_loss: 3.4390 - val_acc: 0.3286\n",
            "Epoch 78/256\n",
            " - 3s - loss: 0.6350 - acc: 0.7667 - val_loss: 5.5121 - val_acc: 0.2357\n",
            "Epoch 79/256\n",
            " - 3s - loss: 0.7190 - acc: 0.7399 - val_loss: 1.7121 - val_acc: 0.4595\n",
            "Epoch 80/256\n",
            " - 3s - loss: 0.6346 - acc: 0.7679 - val_loss: 1.7423 - val_acc: 0.4786\n",
            "Epoch 81/256\n",
            " - 3s - loss: 0.6932 - acc: 0.7411 - val_loss: 13.1968 - val_acc: 0.0833\n",
            "Epoch 82/256\n",
            " - 3s - loss: 0.8298 - acc: 0.7024 - val_loss: 14.7365 - val_acc: 0.0857\n",
            "Epoch 83/256\n",
            " - 3s - loss: 0.6332 - acc: 0.7560 - val_loss: 13.3337 - val_acc: 0.0381\n",
            "Epoch 84/256\n",
            " - 3s - loss: 0.6370 - acc: 0.7613 - val_loss: 14.9406 - val_acc: 0.0262\n",
            "Epoch 85/256\n",
            " - 3s - loss: 0.5732 - acc: 0.7905 - val_loss: 6.9996 - val_acc: 0.1524\n",
            "Epoch 86/256\n",
            " - 3s - loss: 0.6559 - acc: 0.7613 - val_loss: 9.4292 - val_acc: 0.1071\n",
            "Epoch 87/256\n",
            " - 3s - loss: 0.5710 - acc: 0.7863 - val_loss: 14.8850 - val_acc: 0.0548\n",
            "Epoch 88/256\n",
            " - 3s - loss: 0.4543 - acc: 0.8250 - val_loss: 13.2726 - val_acc: 0.0762\n",
            "Epoch 89/256\n",
            " - 3s - loss: 0.4561 - acc: 0.8280 - val_loss: 3.6896 - val_acc: 0.3476\n",
            "Epoch 90/256\n",
            " - 3s - loss: 0.5250 - acc: 0.8083 - val_loss: 14.9135 - val_acc: 0.0452\n",
            "Epoch 91/256\n",
            " - 3s - loss: 0.5099 - acc: 0.8036 - val_loss: 6.0546 - val_acc: 0.2452\n",
            "Epoch 92/256\n",
            " - 3s - loss: 0.3525 - acc: 0.8595 - val_loss: 3.9003 - val_acc: 0.3571\n",
            "Epoch 93/256\n",
            " - 3s - loss: 0.3247 - acc: 0.8750 - val_loss: 2.1628 - val_acc: 0.4857\n",
            "Epoch 94/256\n",
            " - 3s - loss: 0.6097 - acc: 0.7768 - val_loss: 3.0713 - val_acc: 0.3881\n",
            "Epoch 95/256\n",
            " - 3s - loss: 0.4286 - acc: 0.8363 - val_loss: 10.2948 - val_acc: 0.1048\n",
            "Epoch 96/256\n",
            " - 3s - loss: 0.3383 - acc: 0.8732 - val_loss: 3.5152 - val_acc: 0.3714\n",
            "Epoch 97/256\n",
            " - 3s - loss: 0.3129 - acc: 0.8845 - val_loss: 2.0464 - val_acc: 0.5143\n",
            "Epoch 98/256\n",
            " - 3s - loss: 0.3231 - acc: 0.8714 - val_loss: 2.6179 - val_acc: 0.4643\n",
            "Epoch 99/256\n",
            " - 3s - loss: 0.3205 - acc: 0.8661 - val_loss: 3.1377 - val_acc: 0.4119\n",
            "Epoch 100/256\n",
            " - 3s - loss: 0.2978 - acc: 0.8744 - val_loss: 2.3338 - val_acc: 0.4690\n",
            "Epoch 101/256\n",
            " - 3s - loss: 0.2413 - acc: 0.9048 - val_loss: 2.7365 - val_acc: 0.4524\n",
            "Epoch 102/256\n",
            " - 3s - loss: 0.4776 - acc: 0.8196 - val_loss: 4.8794 - val_acc: 0.3714\n",
            "Epoch 103/256\n",
            " - 3s - loss: 0.4592 - acc: 0.8339 - val_loss: 9.2497 - val_acc: 0.1548\n",
            "Epoch 104/256\n",
            " - 3s - loss: 0.4597 - acc: 0.8315 - val_loss: 8.4879 - val_acc: 0.2524\n",
            "Epoch 105/256\n",
            " - 3s - loss: 0.5240 - acc: 0.8012 - val_loss: 15.3675 - val_acc: 0.0452\n",
            "Epoch 106/256\n",
            " - 3s - loss: 0.3914 - acc: 0.8446 - val_loss: 11.4058 - val_acc: 0.1405\n",
            "Epoch 107/256\n",
            " - 3s - loss: 0.2600 - acc: 0.9024 - val_loss: 4.9998 - val_acc: 0.3167\n",
            "Epoch 108/256\n",
            " - 3s - loss: 0.2319 - acc: 0.9101 - val_loss: 13.1000 - val_acc: 0.0881\n",
            "Epoch 109/256\n",
            " - 3s - loss: 0.2411 - acc: 0.9065 - val_loss: 13.6060 - val_acc: 0.0571\n",
            "Epoch 110/256\n",
            " - 3s - loss: 0.2673 - acc: 0.8804 - val_loss: 3.2552 - val_acc: 0.4190\n",
            "Epoch 111/256\n",
            " - 3s - loss: 0.2752 - acc: 0.8917 - val_loss: 2.2414 - val_acc: 0.5333\n",
            "Epoch 112/256\n",
            " - 3s - loss: 0.3443 - acc: 0.8601 - val_loss: 5.4022 - val_acc: 0.2881\n",
            "Epoch 113/256\n",
            " - 3s - loss: 0.3308 - acc: 0.8649 - val_loss: 5.9188 - val_acc: 0.2857\n",
            "Epoch 114/256\n",
            " - 3s - loss: 0.2037 - acc: 0.9125 - val_loss: 5.7859 - val_acc: 0.2524\n",
            "Epoch 115/256\n",
            " - 3s - loss: 0.1984 - acc: 0.9113 - val_loss: 4.8073 - val_acc: 0.3452\n",
            "Epoch 116/256\n",
            " - 3s - loss: 0.1638 - acc: 0.9351 - val_loss: 2.7444 - val_acc: 0.4571\n",
            "Epoch 117/256\n",
            " - 3s - loss: 0.4068 - acc: 0.8452 - val_loss: 10.6111 - val_acc: 0.2143\n",
            "Epoch 118/256\n",
            " - 3s - loss: 0.3465 - acc: 0.8696 - val_loss: 12.3754 - val_acc: 0.0976\n",
            "Epoch 119/256\n",
            " - 3s - loss: 0.2353 - acc: 0.9006 - val_loss: 12.3164 - val_acc: 0.0738\n",
            "Epoch 120/256\n",
            " - 3s - loss: 0.1666 - acc: 0.9262 - val_loss: 7.9123 - val_acc: 0.2429\n",
            "Epoch 121/256\n",
            " - 3s - loss: 0.1444 - acc: 0.9286 - val_loss: 5.6138 - val_acc: 0.3048\n",
            "Epoch 122/256\n",
            " - 3s - loss: 0.1633 - acc: 0.9280 - val_loss: 7.5129 - val_acc: 0.2143\n",
            "Epoch 123/256\n",
            " - 3s - loss: 0.1370 - acc: 0.9399 - val_loss: 7.2772 - val_acc: 0.2190\n",
            "Epoch 124/256\n",
            " - 3s - loss: 0.2407 - acc: 0.8982 - val_loss: 4.3577 - val_acc: 0.3738\n",
            "Epoch 125/256\n",
            " - 3s - loss: 0.2505 - acc: 0.8899 - val_loss: 11.4767 - val_acc: 0.1310\n",
            "Epoch 126/256\n",
            " - 3s - loss: 0.2771 - acc: 0.8911 - val_loss: 2.9900 - val_acc: 0.4929\n",
            "Epoch 127/256\n",
            " - 3s - loss: 0.1916 - acc: 0.9196 - val_loss: 5.9108 - val_acc: 0.2905\n",
            "Epoch 128/256\n",
            " - 3s - loss: 0.4297 - acc: 0.8458 - val_loss: 5.5965 - val_acc: 0.3262\n",
            "Epoch 129/256\n",
            " - 3s - loss: 0.4778 - acc: 0.8327 - val_loss: 4.7485 - val_acc: 0.3405\n",
            "Epoch 130/256\n",
            " - 3s - loss: 0.4147 - acc: 0.8452 - val_loss: 5.1625 - val_acc: 0.3476\n",
            "Epoch 131/256\n",
            " - 3s - loss: 0.2208 - acc: 0.9149 - val_loss: 3.1758 - val_acc: 0.4667\n",
            "Epoch 132/256\n",
            " - 3s - loss: 0.1758 - acc: 0.9202 - val_loss: 4.1014 - val_acc: 0.3762\n",
            "Epoch 133/256\n",
            " - 3s - loss: 0.1284 - acc: 0.9440 - val_loss: 2.6102 - val_acc: 0.5262\n",
            "Epoch 134/256\n",
            " - 3s - loss: 0.1391 - acc: 0.9405 - val_loss: 3.8851 - val_acc: 0.4024\n",
            "Epoch 135/256\n",
            " - 3s - loss: 0.1154 - acc: 0.9446 - val_loss: 10.0524 - val_acc: 0.2119\n",
            "Epoch 136/256\n",
            " - 3s - loss: 0.2577 - acc: 0.8964 - val_loss: 4.0511 - val_acc: 0.4214\n",
            "Epoch 137/256\n",
            " - 3s - loss: 0.1982 - acc: 0.9161 - val_loss: 4.3838 - val_acc: 0.4262\n",
            "Epoch 138/256\n",
            " - 3s - loss: 0.2161 - acc: 0.9048 - val_loss: 10.2249 - val_acc: 0.1619\n",
            "Epoch 139/256\n",
            " - 3s - loss: 0.2031 - acc: 0.9190 - val_loss: 6.5671 - val_acc: 0.2643\n",
            "Epoch 140/256\n",
            " - 3s - loss: 0.1551 - acc: 0.9351 - val_loss: 7.5831 - val_acc: 0.3000\n",
            "Epoch 141/256\n",
            " - 3s - loss: 0.2459 - acc: 0.9048 - val_loss: 2.7523 - val_acc: 0.5119\n",
            "Epoch 142/256\n",
            " - 3s - loss: 0.1947 - acc: 0.9149 - val_loss: 3.2421 - val_acc: 0.4738\n",
            "Epoch 143/256\n",
            " - 3s - loss: 0.1410 - acc: 0.9345 - val_loss: 2.4949 - val_acc: 0.5429\n",
            "Epoch 144/256\n",
            " - 3s - loss: 0.1611 - acc: 0.9280 - val_loss: 2.7392 - val_acc: 0.4929\n",
            "Epoch 145/256\n",
            " - 3s - loss: 0.3580 - acc: 0.8619 - val_loss: 4.0931 - val_acc: 0.4071\n",
            "Epoch 146/256\n",
            " - 3s - loss: 0.3955 - acc: 0.8542 - val_loss: 7.1626 - val_acc: 0.2500\n",
            "Epoch 147/256\n",
            " - 3s - loss: 0.3577 - acc: 0.8667 - val_loss: 4.1188 - val_acc: 0.3762\n",
            "Epoch 148/256\n",
            " - 3s - loss: 0.2522 - acc: 0.8952 - val_loss: 11.2511 - val_acc: 0.1357\n",
            "Epoch 149/256\n",
            " - 3s - loss: 0.1782 - acc: 0.9256 - val_loss: 9.5107 - val_acc: 0.2048\n",
            "Epoch 150/256\n",
            " - 3s - loss: 0.1950 - acc: 0.9173 - val_loss: 7.3543 - val_acc: 0.2238\n",
            "Epoch 151/256\n",
            " - 3s - loss: 0.3000 - acc: 0.8768 - val_loss: 10.3494 - val_acc: 0.1190\n",
            "Epoch 152/256\n",
            " - 3s - loss: 0.2621 - acc: 0.8845 - val_loss: 7.9640 - val_acc: 0.2548\n",
            "Epoch 153/256\n",
            " - 3s - loss: 0.2125 - acc: 0.9095 - val_loss: 9.4844 - val_acc: 0.1286\n",
            "Epoch 154/256\n",
            " - 3s - loss: 0.2082 - acc: 0.9155 - val_loss: 7.4669 - val_acc: 0.2619\n",
            "Epoch 155/256\n",
            " - 3s - loss: 0.1719 - acc: 0.9208 - val_loss: 4.2682 - val_acc: 0.3929\n",
            "Epoch 156/256\n",
            " - 3s - loss: 0.2033 - acc: 0.9042 - val_loss: 4.1089 - val_acc: 0.4167\n",
            "Epoch 157/256\n",
            " - 3s - loss: 0.2116 - acc: 0.9054 - val_loss: 6.9424 - val_acc: 0.2310\n",
            "Epoch 158/256\n",
            " - 3s - loss: 0.2481 - acc: 0.8929 - val_loss: 11.1520 - val_acc: 0.1310\n",
            "Epoch 159/256\n",
            " - 3s - loss: 0.2422 - acc: 0.8976 - val_loss: 9.9242 - val_acc: 0.1976\n",
            "Epoch 160/256\n",
            " - 3s - loss: 0.1527 - acc: 0.9238 - val_loss: 2.9175 - val_acc: 0.4952\n",
            "Epoch 161/256\n",
            " - 3s - loss: 0.1030 - acc: 0.9423 - val_loss: 2.9435 - val_acc: 0.4810\n",
            "Epoch 162/256\n",
            " - 3s - loss: 0.1126 - acc: 0.9393 - val_loss: 4.9652 - val_acc: 0.3571\n",
            "Epoch 163/256\n",
            " - 3s - loss: 0.1142 - acc: 0.9399 - val_loss: 5.6628 - val_acc: 0.3286\n",
            "Epoch 164/256\n",
            " - 3s - loss: 0.2835 - acc: 0.8940 - val_loss: 2.9497 - val_acc: 0.5071\n",
            "Epoch 165/256\n",
            " - 3s - loss: 0.3201 - acc: 0.8798 - val_loss: 4.8518 - val_acc: 0.3833\n",
            "Epoch 166/256\n",
            " - 3s - loss: 0.2107 - acc: 0.9083 - val_loss: 8.0860 - val_acc: 0.2214\n",
            "Epoch 167/256\n",
            " - 3s - loss: 0.1822 - acc: 0.9155 - val_loss: 12.2682 - val_acc: 0.1190\n",
            "Epoch 168/256\n",
            " - 3s - loss: 0.5102 - acc: 0.8327 - val_loss: 12.8231 - val_acc: 0.1500\n",
            "Epoch 169/256\n",
            " - 3s - loss: 0.2937 - acc: 0.8875 - val_loss: 11.5632 - val_acc: 0.1167\n",
            "Epoch 170/256\n",
            " - 3s - loss: 0.2037 - acc: 0.9173 - val_loss: 6.3249 - val_acc: 0.2643\n",
            "Epoch 171/256\n",
            " - 3s - loss: 0.2472 - acc: 0.8946 - val_loss: 8.1030 - val_acc: 0.2548\n",
            "Epoch 172/256\n",
            " - 3s - loss: 0.1785 - acc: 0.9190 - val_loss: 7.1683 - val_acc: 0.2381\n",
            "Epoch 173/256\n",
            " - 3s - loss: 0.1263 - acc: 0.9375 - val_loss: 8.1101 - val_acc: 0.2071\n",
            "Epoch 174/256\n",
            " - 3s - loss: 0.1349 - acc: 0.9345 - val_loss: 4.3159 - val_acc: 0.3762\n",
            "Epoch 175/256\n",
            " - 3s - loss: 0.1653 - acc: 0.9250 - val_loss: 3.1532 - val_acc: 0.5048\n",
            "Epoch 176/256\n",
            " - 3s - loss: 0.1710 - acc: 0.9286 - val_loss: 2.5691 - val_acc: 0.5214\n",
            "Epoch 177/256\n",
            " - 3s - loss: 0.3310 - acc: 0.8732 - val_loss: 8.2894 - val_acc: 0.2286\n",
            "Epoch 178/256\n",
            " - 3s - loss: 0.2147 - acc: 0.9054 - val_loss: 4.7897 - val_acc: 0.3214\n",
            "Epoch 179/256\n",
            " - 3s - loss: 0.1665 - acc: 0.9244 - val_loss: 7.3106 - val_acc: 0.2190\n",
            "Epoch 180/256\n",
            " - 3s - loss: 0.2093 - acc: 0.9143 - val_loss: 5.7442 - val_acc: 0.2690\n",
            "Epoch 181/256\n",
            " - 3s - loss: 0.1518 - acc: 0.9363 - val_loss: 5.2624 - val_acc: 0.3381\n",
            "Epoch 182/256\n",
            " - 3s - loss: 0.1360 - acc: 0.9357 - val_loss: 3.0536 - val_acc: 0.4714\n",
            "Epoch 183/256\n",
            " - 3s - loss: 0.2052 - acc: 0.9220 - val_loss: 5.2216 - val_acc: 0.3476\n",
            "Epoch 184/256\n",
            " - 3s - loss: 0.1900 - acc: 0.9125 - val_loss: 2.9676 - val_acc: 0.4619\n",
            "Epoch 185/256\n",
            " - 3s - loss: 0.1370 - acc: 0.9327 - val_loss: 2.4302 - val_acc: 0.5548\n",
            "Epoch 186/256\n",
            " - 3s - loss: 0.1075 - acc: 0.9405 - val_loss: 2.4047 - val_acc: 0.5571\n",
            "Epoch 187/256\n",
            " - 3s - loss: 0.2153 - acc: 0.9202 - val_loss: 6.2042 - val_acc: 0.2881\n",
            "Epoch 188/256\n",
            " - 3s - loss: 0.1389 - acc: 0.9327 - val_loss: 2.4247 - val_acc: 0.5571\n",
            "Epoch 189/256\n",
            " - 3s - loss: 0.1363 - acc: 0.9345 - val_loss: 3.6019 - val_acc: 0.4857\n",
            "Epoch 190/256\n",
            " - 3s - loss: 0.1455 - acc: 0.9268 - val_loss: 3.9404 - val_acc: 0.4381\n",
            "Epoch 191/256\n",
            " - 3s - loss: 0.1724 - acc: 0.9185 - val_loss: 7.2212 - val_acc: 0.2976\n",
            "Epoch 192/256\n",
            " - 3s - loss: 0.1646 - acc: 0.9220 - val_loss: 13.7059 - val_acc: 0.0738\n",
            "Epoch 193/256\n",
            " - 3s - loss: 0.1631 - acc: 0.9321 - val_loss: 6.8016 - val_acc: 0.2690\n",
            "Epoch 194/256\n",
            " - 3s - loss: 0.2095 - acc: 0.9208 - val_loss: 6.3046 - val_acc: 0.3595\n",
            "Epoch 195/256\n",
            " - 3s - loss: 0.2481 - acc: 0.9012 - val_loss: 4.3796 - val_acc: 0.4190\n",
            "Epoch 196/256\n",
            " - 3s - loss: 0.2445 - acc: 0.9030 - val_loss: 10.1245 - val_acc: 0.1667\n",
            "Epoch 197/256\n",
            " - 3s - loss: 0.1780 - acc: 0.9173 - val_loss: 4.7639 - val_acc: 0.3595\n",
            "Epoch 198/256\n",
            " - 3s - loss: 0.2134 - acc: 0.9060 - val_loss: 5.5521 - val_acc: 0.3452\n",
            "Epoch 199/256\n",
            " - 3s - loss: 0.1333 - acc: 0.9357 - val_loss: 5.2771 - val_acc: 0.3643\n",
            "Epoch 200/256\n",
            " - 3s - loss: 0.1006 - acc: 0.9435 - val_loss: 6.3033 - val_acc: 0.3143\n",
            "Epoch 201/256\n",
            " - 3s - loss: 0.0906 - acc: 0.9500 - val_loss: 2.9330 - val_acc: 0.5119\n",
            "Epoch 202/256\n",
            " - 3s - loss: 0.0816 - acc: 0.9560 - val_loss: 3.9353 - val_acc: 0.4333\n",
            "Epoch 203/256\n",
            " - 3s - loss: 0.0797 - acc: 0.9488 - val_loss: 3.6424 - val_acc: 0.4690\n",
            "Epoch 204/256\n",
            " - 3s - loss: 0.0794 - acc: 0.9482 - val_loss: 2.8307 - val_acc: 0.5286\n",
            "Epoch 205/256\n",
            " - 3s - loss: 0.1002 - acc: 0.9476 - val_loss: 2.7361 - val_acc: 0.5595\n",
            "Epoch 206/256\n",
            " - 3s - loss: 0.0860 - acc: 0.9429 - val_loss: 3.1286 - val_acc: 0.5071\n",
            "Epoch 207/256\n",
            " - 3s - loss: 0.0809 - acc: 0.9500 - val_loss: 2.3911 - val_acc: 0.5762\n",
            "Epoch 208/256\n",
            " - 3s - loss: 0.0755 - acc: 0.9554 - val_loss: 2.5047 - val_acc: 0.5381\n",
            "Epoch 209/256\n",
            " - 3s - loss: 0.0859 - acc: 0.9488 - val_loss: 2.6514 - val_acc: 0.5595\n",
            "Epoch 210/256\n",
            " - 3s - loss: 0.0917 - acc: 0.9482 - val_loss: 2.5443 - val_acc: 0.5500\n",
            "Epoch 211/256\n",
            " - 3s - loss: 0.2319 - acc: 0.9048 - val_loss: 5.4649 - val_acc: 0.3595\n",
            "Epoch 212/256\n",
            " - 3s - loss: 0.2005 - acc: 0.9036 - val_loss: 7.6202 - val_acc: 0.2333\n",
            "Epoch 213/256\n",
            " - 3s - loss: 0.2393 - acc: 0.8988 - val_loss: 3.3950 - val_acc: 0.4810\n",
            "Epoch 214/256\n",
            " - 3s - loss: 0.1725 - acc: 0.9220 - val_loss: 3.4882 - val_acc: 0.4190\n",
            "Epoch 215/256\n",
            " - 3s - loss: 0.1395 - acc: 0.9298 - val_loss: 3.7343 - val_acc: 0.4714\n",
            "Epoch 216/256\n",
            " - 3s - loss: 0.1178 - acc: 0.9375 - val_loss: 3.1374 - val_acc: 0.5119\n",
            "Epoch 217/256\n",
            " - 3s - loss: 0.1235 - acc: 0.9363 - val_loss: 2.7527 - val_acc: 0.5119\n",
            "Epoch 218/256\n",
            " - 3s - loss: 0.0975 - acc: 0.9452 - val_loss: 3.5210 - val_acc: 0.4762\n",
            "Epoch 219/256\n",
            " - 3s - loss: 0.0923 - acc: 0.9500 - val_loss: 3.0352 - val_acc: 0.5286\n",
            "Epoch 220/256\n",
            " - 3s - loss: 0.1110 - acc: 0.9393 - val_loss: 3.7559 - val_acc: 0.4643\n",
            "Epoch 221/256\n",
            " - 3s - loss: 0.1291 - acc: 0.9351 - val_loss: 2.8900 - val_acc: 0.5119\n",
            "Epoch 222/256\n",
            " - 3s - loss: 0.1550 - acc: 0.9250 - val_loss: 4.2076 - val_acc: 0.4667\n",
            "Epoch 223/256\n",
            " - 3s - loss: 0.1029 - acc: 0.9476 - val_loss: 5.6917 - val_acc: 0.3119\n",
            "Epoch 224/256\n",
            " - 3s - loss: 0.1496 - acc: 0.9280 - val_loss: 6.8610 - val_acc: 0.2738\n",
            "Epoch 225/256\n",
            " - 3s - loss: 0.1331 - acc: 0.9435 - val_loss: 3.4190 - val_acc: 0.4619\n",
            "Epoch 226/256\n",
            " - 3s - loss: 0.2423 - acc: 0.9024 - val_loss: 4.4031 - val_acc: 0.4286\n",
            "Epoch 227/256\n",
            " - 3s - loss: 0.1531 - acc: 0.9327 - val_loss: 3.0446 - val_acc: 0.5190\n",
            "Epoch 228/256\n",
            " - 3s - loss: 0.1019 - acc: 0.9440 - val_loss: 3.2864 - val_acc: 0.5214\n",
            "Epoch 229/256\n",
            " - 3s - loss: 0.1527 - acc: 0.9262 - val_loss: 4.8397 - val_acc: 0.4000\n",
            "Epoch 230/256\n",
            " - 3s - loss: 0.1228 - acc: 0.9375 - val_loss: 2.9856 - val_acc: 0.5119\n",
            "Epoch 231/256\n",
            " - 3s - loss: 0.1864 - acc: 0.9202 - val_loss: 2.6071 - val_acc: 0.5214\n",
            "Epoch 232/256\n",
            " - 3s - loss: 0.1686 - acc: 0.9310 - val_loss: 3.9029 - val_acc: 0.4452\n",
            "Epoch 233/256\n",
            " - 3s - loss: 0.1750 - acc: 0.9238 - val_loss: 3.5655 - val_acc: 0.4857\n",
            "Epoch 234/256\n",
            " - 3s - loss: 0.1458 - acc: 0.9304 - val_loss: 13.9343 - val_acc: 0.0881\n",
            "Epoch 235/256\n",
            " - 3s - loss: 0.1530 - acc: 0.9327 - val_loss: 4.6901 - val_acc: 0.3762\n",
            "Epoch 236/256\n",
            " - 3s - loss: 0.1823 - acc: 0.9179 - val_loss: 4.4482 - val_acc: 0.3786\n",
            "Epoch 237/256\n",
            " - 3s - loss: 0.2257 - acc: 0.9054 - val_loss: 5.8725 - val_acc: 0.2976\n",
            "Epoch 238/256\n",
            " - 3s - loss: 0.1624 - acc: 0.9220 - val_loss: 9.3128 - val_acc: 0.1762\n",
            "Epoch 239/256\n",
            " - 3s - loss: 0.1590 - acc: 0.9298 - val_loss: 11.0222 - val_acc: 0.1452\n",
            "Epoch 240/256\n",
            " - 3s - loss: 0.1141 - acc: 0.9411 - val_loss: 3.7298 - val_acc: 0.4214\n",
            "Epoch 241/256\n",
            " - 3s - loss: 0.0878 - acc: 0.9476 - val_loss: 2.8607 - val_acc: 0.4929\n",
            "Epoch 242/256\n",
            " - 3s - loss: 0.0857 - acc: 0.9435 - val_loss: 2.5683 - val_acc: 0.5214\n",
            "Epoch 243/256\n",
            " - 3s - loss: 0.0944 - acc: 0.9476 - val_loss: 3.1022 - val_acc: 0.4929\n",
            "Epoch 244/256\n",
            " - 3s - loss: 0.1803 - acc: 0.9173 - val_loss: 4.3935 - val_acc: 0.4214\n",
            "Epoch 245/256\n",
            " - 3s - loss: 0.1458 - acc: 0.9262 - val_loss: 4.2805 - val_acc: 0.4619\n",
            "Epoch 246/256\n",
            " - 3s - loss: 0.0956 - acc: 0.9494 - val_loss: 4.9342 - val_acc: 0.3667\n",
            "Epoch 247/256\n",
            " - 3s - loss: 0.0915 - acc: 0.9458 - val_loss: 3.7242 - val_acc: 0.4738\n",
            "Epoch 248/256\n",
            " - 3s - loss: 0.1647 - acc: 0.9280 - val_loss: 4.8370 - val_acc: 0.3857\n",
            "Epoch 249/256\n",
            " - 3s - loss: 0.1459 - acc: 0.9315 - val_loss: 3.1763 - val_acc: 0.5095\n",
            "Epoch 250/256\n",
            " - 3s - loss: 0.1127 - acc: 0.9429 - val_loss: 2.7144 - val_acc: 0.5357\n",
            "Epoch 251/256\n",
            " - 3s - loss: 0.0858 - acc: 0.9417 - val_loss: 2.6702 - val_acc: 0.4976\n",
            "Epoch 252/256\n",
            " - 3s - loss: 0.0837 - acc: 0.9464 - val_loss: 2.9246 - val_acc: 0.5190\n",
            "Epoch 253/256\n",
            " - 3s - loss: 0.1127 - acc: 0.9411 - val_loss: 5.3449 - val_acc: 0.3643\n",
            "Epoch 254/256\n",
            " - 3s - loss: 0.2908 - acc: 0.8845 - val_loss: 5.4739 - val_acc: 0.3786\n",
            "Epoch 255/256\n",
            " - 3s - loss: 0.1748 - acc: 0.9232 - val_loss: 5.8188 - val_acc: 0.3357\n",
            "Epoch 256/256\n",
            " - 3s - loss: 0.1645 - acc: 0.9286 - val_loss: 4.4643 - val_acc: 0.4214\n",
            "Total Time: 552.2298450000008 \n"
          ],
          "name": "stdout"
        }
      ]
    },
    {
      "cell_type": "code",
      "metadata": {
        "id": "OvZuzfy-nqQt",
        "colab_type": "code",
        "colab": {}
      },
      "source": [
        "historyConvTransfDA = modelTransf.fit_generator(\n",
        "        train_generator.flow(x_train, train_small_with_dummies, batch_size=32),\n",
        "        steps_per_epoch=int(2*SIZE / 32),\n",
        "        epochs=256,\n",
        "        validation_data=evaluate_generator.flow(x_valid, train_small_with_dummies2, batch_size=32),\n",
        "        validation_steps=128,\n",
        "        verbose=2\n",
        "    )"
      ],
      "execution_count": 0,
      "outputs": []
    },
    {
      "cell_type": "markdown",
      "metadata": {
        "id": "n31t79BiKenh",
        "colab_type": "text"
      },
      "source": [
        "### ResNet 50"
      ]
    },
    {
      "cell_type": "code",
      "metadata": {
        "colab_type": "code",
        "outputId": "92374574-681f-427c-cee7-7704cc6a941b",
        "id": "MDBqjzOzKdF0",
        "colab": {
          "base_uri": "https://localhost:8080/",
          "height": 51
        }
      },
      "source": [
        "base_modelRes=ResNet50(weights='imagenet',\n",
        "                      include_top=False,\n",
        "                      input_shape=(64,64,3))\n",
        "\n",
        "modelTransf2 = Sequential()\n",
        "\n",
        "\n",
        "modelTransf2.add(base_modelRes)\n",
        "modelTransf2.add(Flatten())\n",
        "modelTransf2.add(BatchNormalization())\n",
        "modelTransf2.add(Dense(128, activation='linear'))\n",
        "modelTransf2.add(layers.LeakyReLU(alpha=0.1))           \n",
        "modelTransf2.add(Dropout(0.3))\n",
        "modelTransf2.add(Dense(21, activation='softmax'))\n",
        "\n",
        "modelTransf2.compile(optimizer='adam',loss='categorical_crossentropy',metrics=['accuracy'])"
      ],
      "execution_count": 0,
      "outputs": [
        {
          "output_type": "stream",
          "text": [
            "/usr/local/lib/python3.6/dist-packages/keras_applications/resnet50.py:265: UserWarning: The output shape of `ResNet50(include_top=False)` has been changed since Keras 2.2.0.\n",
            "  warnings.warn('The output shape of `ResNet50(include_top=False)` '\n"
          ],
          "name": "stderr"
        }
      ]
    },
    {
      "cell_type": "code",
      "metadata": {
        "colab_type": "code",
        "outputId": "0851d0d2-c16b-4199-99e7-6f76f05c0d7e",
        "id": "j4sM7aprKdF2",
        "colab": {
          "base_uri": "https://localhost:8080/",
          "height": 8860
        }
      },
      "source": [
        "start = time.clock() \n",
        "historyRes = modelTransf2.fit(x_train,train_small_with_dummies, \n",
        "                                    validation_data=(x_valid, train_small_with_dummies2),\n",
        "                                    batch_size=128,verbose=2, nb_epoch=256,shuffle=True)\n",
        "\n",
        "end = time.clock()\n",
        "timeRes = end-start\n",
        "\n",
        "print(\"Total Time: {} \".format(timeRes)) "
      ],
      "execution_count": 0,
      "outputs": [
        {
          "output_type": "stream",
          "text": [
            "WARNING:tensorflow:From /usr/local/lib/python3.6/dist-packages/tensorflow/python/ops/math_ops.py:3066: to_int32 (from tensorflow.python.ops.math_ops) is deprecated and will be removed in a future version.\n",
            "Instructions for updating:\n",
            "Use tf.cast instead.\n"
          ],
          "name": "stdout"
        },
        {
          "output_type": "stream",
          "text": [
            "/usr/local/lib/python3.6/dist-packages/ipykernel_launcher.py:4: UserWarning: The `nb_epoch` argument in `fit` has been renamed `epochs`.\n",
            "  after removing the cwd from sys.path.\n"
          ],
          "name": "stderr"
        },
        {
          "output_type": "stream",
          "text": [
            "Train on 1680 samples, validate on 420 samples\n",
            "Epoch 1/256\n",
            " - 23s - loss: 1.6648 - acc: 0.5738 - val_loss: 7.2263 - val_acc: 0.3857\n",
            "Epoch 2/256\n",
            " - 3s - loss: 0.9536 - acc: 0.7357 - val_loss: 12.0762 - val_acc: 0.1619\n",
            "Epoch 3/256\n",
            " - 3s - loss: 0.6928 - acc: 0.8137 - val_loss: 11.9348 - val_acc: 0.1452\n",
            "Epoch 4/256\n",
            " - 3s - loss: 0.4888 - acc: 0.8423 - val_loss: 8.9149 - val_acc: 0.1762\n",
            "Epoch 5/256\n",
            " - 3s - loss: 0.5482 - acc: 0.8506 - val_loss: 5.6143 - val_acc: 0.3048\n",
            "Epoch 6/256\n",
            " - 3s - loss: 0.5075 - acc: 0.8708 - val_loss: 10.5026 - val_acc: 0.1714\n",
            "Epoch 7/256\n",
            " - 3s - loss: 0.2891 - acc: 0.9095 - val_loss: 3.9916 - val_acc: 0.4929\n",
            "Epoch 8/256\n",
            " - 3s - loss: 0.2819 - acc: 0.9107 - val_loss: 5.2025 - val_acc: 0.5286\n",
            "Epoch 9/256\n",
            " - 3s - loss: 0.3272 - acc: 0.9024 - val_loss: 5.6613 - val_acc: 0.3857\n",
            "Epoch 10/256\n",
            " - 3s - loss: 0.2176 - acc: 0.9274 - val_loss: 4.9551 - val_acc: 0.4167\n",
            "Epoch 11/256\n",
            " - 3s - loss: 0.1586 - acc: 0.9339 - val_loss: 5.8298 - val_acc: 0.4095\n",
            "Epoch 12/256\n",
            " - 3s - loss: 0.2210 - acc: 0.9208 - val_loss: 2.9179 - val_acc: 0.5262\n",
            "Epoch 13/256\n",
            " - 3s - loss: 0.3510 - acc: 0.8929 - val_loss: 3.3878 - val_acc: 0.3762\n",
            "Epoch 14/256\n",
            " - 3s - loss: 0.5835 - acc: 0.8488 - val_loss: 4.3702 - val_acc: 0.2929\n",
            "Epoch 15/256\n",
            " - 3s - loss: 0.2922 - acc: 0.9030 - val_loss: 4.0483 - val_acc: 0.3333\n",
            "Epoch 16/256\n",
            " - 3s - loss: 0.4008 - acc: 0.8893 - val_loss: 6.7586 - val_acc: 0.2738\n",
            "Epoch 17/256\n",
            " - 3s - loss: 0.2868 - acc: 0.9107 - val_loss: 4.9333 - val_acc: 0.4214\n",
            "Epoch 18/256\n",
            " - 3s - loss: 0.1856 - acc: 0.9262 - val_loss: 8.1810 - val_acc: 0.2690\n",
            "Epoch 19/256\n",
            " - 3s - loss: 0.2664 - acc: 0.9202 - val_loss: 2.9866 - val_acc: 0.5214\n",
            "Epoch 20/256\n",
            " - 3s - loss: 0.3154 - acc: 0.9095 - val_loss: 7.5300 - val_acc: 0.2214\n",
            "Epoch 21/256\n",
            " - 3s - loss: 0.2827 - acc: 0.9113 - val_loss: 5.5747 - val_acc: 0.3214\n",
            "Epoch 22/256\n",
            " - 3s - loss: 0.2327 - acc: 0.9315 - val_loss: 3.7715 - val_acc: 0.5048\n",
            "Epoch 23/256\n",
            " - 3s - loss: 0.4999 - acc: 0.8929 - val_loss: 8.9714 - val_acc: 0.1881\n",
            "Epoch 24/256\n",
            " - 3s - loss: 0.5480 - acc: 0.8393 - val_loss: 10.1220 - val_acc: 0.1738\n",
            "Epoch 25/256\n",
            " - 3s - loss: 0.5776 - acc: 0.8690 - val_loss: 9.9331 - val_acc: 0.1429\n",
            "Epoch 26/256\n",
            " - 3s - loss: 0.5596 - acc: 0.8536 - val_loss: 12.5753 - val_acc: 0.0762\n",
            "Epoch 27/256\n",
            " - 3s - loss: 0.5440 - acc: 0.8458 - val_loss: 14.0708 - val_acc: 0.0714\n",
            "Epoch 28/256\n",
            " - 3s - loss: 0.2826 - acc: 0.9107 - val_loss: 9.2530 - val_acc: 0.2071\n",
            "Epoch 29/256\n",
            " - 3s - loss: 0.2575 - acc: 0.9131 - val_loss: 4.4103 - val_acc: 0.4119\n",
            "Epoch 30/256\n",
            " - 3s - loss: 0.1779 - acc: 0.9381 - val_loss: 4.4449 - val_acc: 0.3881\n",
            "Epoch 31/256\n",
            " - 3s - loss: 1.0442 - acc: 0.7911 - val_loss: 14.8439 - val_acc: 0.0595\n",
            "Epoch 32/256\n",
            " - 3s - loss: 1.3599 - acc: 0.7250 - val_loss: 15.0739 - val_acc: 0.0190\n",
            "Epoch 33/256\n",
            " - 3s - loss: 1.5325 - acc: 0.6726 - val_loss: 13.4132 - val_acc: 0.0476\n",
            "Epoch 34/256\n",
            " - 3s - loss: 1.3418 - acc: 0.6863 - val_loss: 12.6974 - val_acc: 0.0952\n",
            "Epoch 35/256\n",
            " - 3s - loss: 1.3414 - acc: 0.6732 - val_loss: 13.1402 - val_acc: 0.0429\n",
            "Epoch 36/256\n",
            " - 3s - loss: 0.9406 - acc: 0.7637 - val_loss: 13.6769 - val_acc: 0.0548\n",
            "Epoch 37/256\n",
            " - 3s - loss: 0.5701 - acc: 0.8226 - val_loss: 12.0767 - val_acc: 0.0429\n",
            "Epoch 38/256\n",
            " - 3s - loss: 0.4357 - acc: 0.8536 - val_loss: 6.9894 - val_acc: 0.2143\n",
            "Epoch 39/256\n",
            " - 3s - loss: 0.3161 - acc: 0.8923 - val_loss: 4.6274 - val_acc: 0.3119\n",
            "Epoch 40/256\n",
            " - 3s - loss: 0.4075 - acc: 0.8887 - val_loss: 6.6388 - val_acc: 0.3024\n",
            "Epoch 41/256\n",
            " - 3s - loss: 0.2733 - acc: 0.9024 - val_loss: 4.4641 - val_acc: 0.3738\n",
            "Epoch 42/256\n",
            " - 3s - loss: 0.1784 - acc: 0.9244 - val_loss: 2.2453 - val_acc: 0.5857\n",
            "Epoch 43/256\n",
            " - 3s - loss: 0.2007 - acc: 0.9173 - val_loss: 1.9766 - val_acc: 0.5929\n",
            "Epoch 44/256\n",
            " - 3s - loss: 0.1603 - acc: 0.9333 - val_loss: 1.5241 - val_acc: 0.6405\n",
            "Epoch 45/256\n",
            " - 3s - loss: 0.1517 - acc: 0.9310 - val_loss: 1.4463 - val_acc: 0.6810\n",
            "Epoch 46/256\n",
            " - 3s - loss: 0.1778 - acc: 0.9274 - val_loss: 1.8730 - val_acc: 0.6071\n",
            "Epoch 47/256\n",
            " - 3s - loss: 0.1494 - acc: 0.9411 - val_loss: 1.1489 - val_acc: 0.6833\n",
            "Epoch 48/256\n",
            " - 3s - loss: 0.1309 - acc: 0.9399 - val_loss: 1.0358 - val_acc: 0.7214\n",
            "Epoch 49/256\n",
            " - 3s - loss: 0.1361 - acc: 0.9417 - val_loss: 2.2572 - val_acc: 0.6071\n",
            "Epoch 50/256\n",
            " - 3s - loss: 0.1626 - acc: 0.9274 - val_loss: 1.6362 - val_acc: 0.6690\n",
            "Epoch 51/256\n",
            " - 3s - loss: 0.1109 - acc: 0.9375 - val_loss: 1.4286 - val_acc: 0.6690\n",
            "Epoch 52/256\n",
            " - 3s - loss: 0.1007 - acc: 0.9476 - val_loss: 1.2384 - val_acc: 0.6833\n",
            "Epoch 53/256\n",
            " - 3s - loss: 0.1269 - acc: 0.9429 - val_loss: 1.1354 - val_acc: 0.6929\n",
            "Epoch 54/256\n",
            " - 3s - loss: 0.1070 - acc: 0.9560 - val_loss: 2.1262 - val_acc: 0.6214\n",
            "Epoch 55/256\n",
            " - 3s - loss: 0.1327 - acc: 0.9405 - val_loss: 1.3118 - val_acc: 0.6619\n",
            "Epoch 56/256\n",
            " - 3s - loss: 0.1454 - acc: 0.9357 - val_loss: 1.4691 - val_acc: 0.6786\n",
            "Epoch 57/256\n",
            " - 3s - loss: 0.1018 - acc: 0.9470 - val_loss: 1.3652 - val_acc: 0.6595\n",
            "Epoch 58/256\n",
            " - 3s - loss: 0.0987 - acc: 0.9494 - val_loss: 1.7396 - val_acc: 0.6381\n",
            "Epoch 59/256\n",
            " - 3s - loss: 0.2583 - acc: 0.9137 - val_loss: 4.2394 - val_acc: 0.3929\n",
            "Epoch 60/256\n",
            " - 3s - loss: 0.2968 - acc: 0.9077 - val_loss: 3.1256 - val_acc: 0.4738\n",
            "Epoch 61/256\n",
            " - 3s - loss: 0.1909 - acc: 0.9220 - val_loss: 3.9334 - val_acc: 0.4524\n",
            "Epoch 62/256\n",
            " - 3s - loss: 0.1428 - acc: 0.9381 - val_loss: 2.9356 - val_acc: 0.5476\n",
            "Epoch 63/256\n",
            " - 3s - loss: 0.1504 - acc: 0.9357 - val_loss: 2.7595 - val_acc: 0.5476\n",
            "Epoch 64/256\n",
            " - 3s - loss: 0.0907 - acc: 0.9577 - val_loss: 1.9136 - val_acc: 0.6262\n",
            "Epoch 65/256\n",
            " - 3s - loss: 0.0996 - acc: 0.9530 - val_loss: 1.2497 - val_acc: 0.6786\n",
            "Epoch 66/256\n",
            " - 3s - loss: 0.1008 - acc: 0.9518 - val_loss: 1.4462 - val_acc: 0.6714\n",
            "Epoch 67/256\n",
            " - 3s - loss: 0.0905 - acc: 0.9482 - val_loss: 1.8453 - val_acc: 0.6571\n",
            "Epoch 68/256\n",
            " - 3s - loss: 0.1433 - acc: 0.9446 - val_loss: 1.7822 - val_acc: 0.6405\n",
            "Epoch 69/256\n",
            " - 3s - loss: 0.1360 - acc: 0.9405 - val_loss: 2.1729 - val_acc: 0.6500\n",
            "Epoch 70/256\n",
            " - 3s - loss: 0.1529 - acc: 0.9345 - val_loss: 1.5530 - val_acc: 0.6571\n",
            "Epoch 71/256\n",
            " - 3s - loss: 0.1550 - acc: 0.9339 - val_loss: 1.6193 - val_acc: 0.6548\n",
            "Epoch 72/256\n",
            " - 3s - loss: 0.1491 - acc: 0.9393 - val_loss: 1.5166 - val_acc: 0.6810\n",
            "Epoch 73/256\n",
            " - 3s - loss: 0.2189 - acc: 0.9274 - val_loss: 2.4485 - val_acc: 0.5857\n",
            "Epoch 74/256\n",
            " - 3s - loss: 0.3145 - acc: 0.8994 - val_loss: 1.9086 - val_acc: 0.6357\n",
            "Epoch 75/256\n",
            " - 3s - loss: 0.1657 - acc: 0.9369 - val_loss: 2.1589 - val_acc: 0.6214\n",
            "Epoch 76/256\n",
            " - 3s - loss: 0.1350 - acc: 0.9345 - val_loss: 3.0564 - val_acc: 0.5357\n",
            "Epoch 77/256\n",
            " - 3s - loss: 0.7787 - acc: 0.8149 - val_loss: 14.9354 - val_acc: 0.0667\n",
            "Epoch 78/256\n",
            " - 3s - loss: 0.6863 - acc: 0.8185 - val_loss: 15.2107 - val_acc: 0.0524\n",
            "Epoch 79/256\n",
            " - 3s - loss: 0.4560 - acc: 0.8774 - val_loss: 9.5350 - val_acc: 0.2119\n",
            "Epoch 80/256\n",
            " - 3s - loss: 0.3935 - acc: 0.8935 - val_loss: 4.9213 - val_acc: 0.3619\n",
            "Epoch 81/256\n",
            " - 3s - loss: 0.2711 - acc: 0.9095 - val_loss: 4.7129 - val_acc: 0.3833\n",
            "Epoch 82/256\n",
            " - 3s - loss: 0.2378 - acc: 0.9065 - val_loss: 2.9296 - val_acc: 0.4524\n",
            "Epoch 83/256\n",
            " - 3s - loss: 0.2310 - acc: 0.9185 - val_loss: 2.5613 - val_acc: 0.4976\n",
            "Epoch 84/256\n",
            " - 3s - loss: 0.1503 - acc: 0.9363 - val_loss: 2.0147 - val_acc: 0.5786\n",
            "Epoch 85/256\n",
            " - 3s - loss: 0.1315 - acc: 0.9452 - val_loss: 1.6214 - val_acc: 0.6143\n",
            "Epoch 86/256\n",
            " - 3s - loss: 0.1351 - acc: 0.9351 - val_loss: 1.1919 - val_acc: 0.6643\n",
            "Epoch 87/256\n",
            " - 3s - loss: 0.1212 - acc: 0.9446 - val_loss: 1.6749 - val_acc: 0.6143\n",
            "Epoch 88/256\n",
            " - 3s - loss: 0.1157 - acc: 0.9500 - val_loss: 1.4664 - val_acc: 0.6476\n",
            "Epoch 89/256\n",
            " - 3s - loss: 0.1252 - acc: 0.9417 - val_loss: 1.4610 - val_acc: 0.6429\n",
            "Epoch 90/256\n",
            " - 3s - loss: 0.1235 - acc: 0.9429 - val_loss: 2.0236 - val_acc: 0.5571\n",
            "Epoch 91/256\n",
            " - 3s - loss: 0.2595 - acc: 0.9155 - val_loss: 5.8209 - val_acc: 0.2405\n",
            "Epoch 92/256\n",
            " - 3s - loss: 0.2122 - acc: 0.9274 - val_loss: 3.6728 - val_acc: 0.3929\n",
            "Epoch 93/256\n",
            " - 3s - loss: 0.2456 - acc: 0.9131 - val_loss: 4.6529 - val_acc: 0.3286\n",
            "Epoch 94/256\n",
            " - 3s - loss: 0.2241 - acc: 0.9149 - val_loss: 2.9901 - val_acc: 0.4405\n",
            "Epoch 95/256\n",
            " - 3s - loss: 0.1783 - acc: 0.9315 - val_loss: 2.1858 - val_acc: 0.5595\n",
            "Epoch 96/256\n",
            " - 3s - loss: 0.2513 - acc: 0.9226 - val_loss: 3.8953 - val_acc: 0.3833\n",
            "Epoch 97/256\n",
            " - 3s - loss: 0.4230 - acc: 0.8988 - val_loss: 4.4629 - val_acc: 0.4190\n",
            "Epoch 98/256\n",
            " - 3s - loss: 0.7044 - acc: 0.8494 - val_loss: 7.2696 - val_acc: 0.2976\n",
            "Epoch 99/256\n",
            " - 3s - loss: 1.0680 - acc: 0.7685 - val_loss: 14.2801 - val_acc: 0.0786\n",
            "Epoch 100/256\n",
            " - 3s - loss: 0.6993 - acc: 0.8417 - val_loss: 13.1802 - val_acc: 0.1000\n",
            "Epoch 101/256\n",
            " - 3s - loss: 0.4440 - acc: 0.8833 - val_loss: 8.2654 - val_acc: 0.2524\n",
            "Epoch 102/256\n",
            " - 3s - loss: 0.2854 - acc: 0.9054 - val_loss: 4.2117 - val_acc: 0.4667\n",
            "Epoch 103/256\n",
            " - 3s - loss: 0.1988 - acc: 0.9387 - val_loss: 3.5803 - val_acc: 0.4952\n",
            "Epoch 104/256\n",
            " - 3s - loss: 0.1775 - acc: 0.9310 - val_loss: 3.5608 - val_acc: 0.5143\n",
            "Epoch 105/256\n",
            " - 3s - loss: 0.2549 - acc: 0.9185 - val_loss: 2.4858 - val_acc: 0.5500\n",
            "Epoch 106/256\n",
            " - 3s - loss: 0.2675 - acc: 0.9214 - val_loss: 1.5211 - val_acc: 0.6000\n",
            "Epoch 107/256\n",
            " - 3s - loss: 0.3028 - acc: 0.9238 - val_loss: 1.6426 - val_acc: 0.6095\n",
            "Epoch 108/256\n",
            " - 3s - loss: 0.3841 - acc: 0.9149 - val_loss: 1.4760 - val_acc: 0.6214\n",
            "Epoch 109/256\n",
            " - 3s - loss: 0.2980 - acc: 0.9226 - val_loss: 1.2739 - val_acc: 0.6524\n",
            "Epoch 110/256\n",
            " - 3s - loss: 0.2757 - acc: 0.9244 - val_loss: 1.6288 - val_acc: 0.6143\n",
            "Epoch 111/256\n",
            " - 3s - loss: 0.2495 - acc: 0.9345 - val_loss: 2.7141 - val_acc: 0.4786\n",
            "Epoch 112/256\n",
            " - 3s - loss: 0.2327 - acc: 0.9339 - val_loss: 2.2692 - val_acc: 0.5643\n",
            "Epoch 113/256\n",
            " - 3s - loss: 0.1955 - acc: 0.9286 - val_loss: 2.6906 - val_acc: 0.4952\n",
            "Epoch 114/256\n",
            " - 3s - loss: 0.1949 - acc: 0.9244 - val_loss: 3.0677 - val_acc: 0.5000\n",
            "Epoch 115/256\n",
            " - 3s - loss: 0.2290 - acc: 0.9226 - val_loss: 1.9903 - val_acc: 0.5643\n",
            "Epoch 116/256\n",
            " - 3s - loss: 0.2277 - acc: 0.9280 - val_loss: 2.1081 - val_acc: 0.5714\n",
            "Epoch 117/256\n",
            " - 3s - loss: 0.2204 - acc: 0.9214 - val_loss: 2.9567 - val_acc: 0.5095\n",
            "Epoch 118/256\n",
            " - 3s - loss: 0.1961 - acc: 0.9321 - val_loss: 2.3495 - val_acc: 0.5714\n",
            "Epoch 119/256\n",
            " - 3s - loss: 0.1821 - acc: 0.9274 - val_loss: 1.7015 - val_acc: 0.6048\n",
            "Epoch 120/256\n",
            " - 3s - loss: 0.1698 - acc: 0.9339 - val_loss: 1.7904 - val_acc: 0.6048\n",
            "Epoch 121/256\n",
            " - 3s - loss: 0.1793 - acc: 0.9327 - val_loss: 1.9441 - val_acc: 0.5548\n",
            "Epoch 122/256\n",
            " - 3s - loss: 0.3211 - acc: 0.9024 - val_loss: 10.9648 - val_acc: 0.1333\n",
            "Epoch 123/256\n",
            " - 3s - loss: 0.2672 - acc: 0.9137 - val_loss: 10.1804 - val_acc: 0.1548\n",
            "Epoch 124/256\n",
            " - 3s - loss: 0.2101 - acc: 0.9286 - val_loss: 5.0123 - val_acc: 0.3714\n",
            "Epoch 125/256\n",
            " - 3s - loss: 0.2047 - acc: 0.9321 - val_loss: 2.5384 - val_acc: 0.5643\n",
            "Epoch 126/256\n",
            " - 3s - loss: 0.3710 - acc: 0.8946 - val_loss: 3.8284 - val_acc: 0.4571\n",
            "Epoch 127/256\n",
            " - 3s - loss: 0.4914 - acc: 0.8708 - val_loss: 3.8494 - val_acc: 0.4833\n",
            "Epoch 128/256\n",
            " - 3s - loss: 0.2405 - acc: 0.9149 - val_loss: 3.3181 - val_acc: 0.5262\n",
            "Epoch 129/256\n",
            " - 3s - loss: 0.2051 - acc: 0.9286 - val_loss: 1.8806 - val_acc: 0.6238\n",
            "Epoch 130/256\n",
            " - 3s - loss: 0.1556 - acc: 0.9399 - val_loss: 1.5703 - val_acc: 0.6286\n",
            "Epoch 131/256\n",
            " - 3s - loss: 0.1391 - acc: 0.9440 - val_loss: 1.8972 - val_acc: 0.6238\n",
            "Epoch 132/256\n",
            " - 3s - loss: 0.1368 - acc: 0.9464 - val_loss: 1.8367 - val_acc: 0.6405\n",
            "Epoch 133/256\n",
            " - 3s - loss: 0.1752 - acc: 0.9452 - val_loss: 3.3869 - val_acc: 0.4810\n",
            "Epoch 134/256\n",
            " - 3s - loss: 0.1829 - acc: 0.9339 - val_loss: 3.6566 - val_acc: 0.4143\n",
            "Epoch 135/256\n",
            " - 3s - loss: 0.1715 - acc: 0.9446 - val_loss: 2.3593 - val_acc: 0.5333\n",
            "Epoch 136/256\n",
            " - 3s - loss: 0.1437 - acc: 0.9476 - val_loss: 1.4930 - val_acc: 0.6214\n",
            "Epoch 137/256\n",
            " - 3s - loss: 0.1365 - acc: 0.9381 - val_loss: 1.8150 - val_acc: 0.5786\n",
            "Epoch 138/256\n",
            " - 3s - loss: 0.1176 - acc: 0.9387 - val_loss: 1.6519 - val_acc: 0.6071\n",
            "Epoch 139/256\n",
            " - 3s - loss: 0.1584 - acc: 0.9417 - val_loss: 2.2973 - val_acc: 0.5548\n",
            "Epoch 140/256\n",
            " - 3s - loss: 0.9886 - acc: 0.8077 - val_loss: 5.4590 - val_acc: 0.2619\n",
            "Epoch 141/256\n",
            " - 3s - loss: 0.8002 - acc: 0.8143 - val_loss: 5.0883 - val_acc: 0.2690\n",
            "Epoch 142/256\n",
            " - 3s - loss: 0.5229 - acc: 0.8708 - val_loss: 5.3095 - val_acc: 0.2976\n",
            "Epoch 143/256\n",
            " - 3s - loss: 0.4953 - acc: 0.8929 - val_loss: 4.5649 - val_acc: 0.3571\n",
            "Epoch 144/256\n",
            " - 3s - loss: 0.3605 - acc: 0.9214 - val_loss: 3.3959 - val_acc: 0.4000\n",
            "Epoch 145/256\n",
            " - 3s - loss: 0.8846 - acc: 0.8107 - val_loss: 6.4460 - val_acc: 0.1738\n",
            "Epoch 146/256\n",
            " - 3s - loss: 0.7244 - acc: 0.8310 - val_loss: 4.7051 - val_acc: 0.2238\n",
            "Epoch 147/256\n",
            " - 3s - loss: 0.8412 - acc: 0.8054 - val_loss: 12.1216 - val_acc: 0.0548\n",
            "Epoch 148/256\n",
            " - 3s - loss: 1.2838 - acc: 0.6970 - val_loss: 12.6455 - val_acc: 0.0738\n",
            "Epoch 149/256\n",
            " - 3s - loss: 0.9468 - acc: 0.7744 - val_loss: 14.4501 - val_acc: 0.0667\n",
            "Epoch 150/256\n",
            " - 3s - loss: 0.8280 - acc: 0.7893 - val_loss: 15.3506 - val_acc: 0.0476\n",
            "Epoch 151/256\n",
            " - 3s - loss: 1.1268 - acc: 0.7179 - val_loss: 12.4243 - val_acc: 0.0571\n",
            "Epoch 152/256\n",
            " - 3s - loss: 0.9741 - acc: 0.7435 - val_loss: 8.9829 - val_acc: 0.1381\n",
            "Epoch 153/256\n",
            " - 3s - loss: 0.6862 - acc: 0.8286 - val_loss: 6.9646 - val_acc: 0.1738\n",
            "Epoch 154/256\n",
            " - 3s - loss: 0.5833 - acc: 0.8530 - val_loss: 6.9595 - val_acc: 0.1738\n",
            "Epoch 155/256\n",
            " - 3s - loss: 0.6291 - acc: 0.8518 - val_loss: 4.2671 - val_acc: 0.3214\n",
            "Epoch 156/256\n",
            " - 3s - loss: 0.5078 - acc: 0.8768 - val_loss: 3.0466 - val_acc: 0.4214\n",
            "Epoch 157/256\n",
            " - 3s - loss: 0.5183 - acc: 0.8833 - val_loss: 3.5144 - val_acc: 0.4024\n",
            "Epoch 158/256\n",
            " - 3s - loss: 0.3866 - acc: 0.8988 - val_loss: 2.1171 - val_acc: 0.4881\n",
            "Epoch 159/256\n",
            " - 3s - loss: 0.3615 - acc: 0.9024 - val_loss: 1.8405 - val_acc: 0.5310\n",
            "Epoch 160/256\n",
            " - 3s - loss: 0.3447 - acc: 0.9131 - val_loss: 1.5220 - val_acc: 0.5738\n",
            "Epoch 161/256\n",
            " - 3s - loss: 0.4407 - acc: 0.8940 - val_loss: 1.9809 - val_acc: 0.5024\n",
            "Epoch 162/256\n",
            " - 3s - loss: 0.3970 - acc: 0.9190 - val_loss: 1.5326 - val_acc: 0.5762\n",
            "Epoch 163/256\n",
            " - 3s - loss: 0.3493 - acc: 0.9143 - val_loss: 2.3155 - val_acc: 0.4976\n",
            "Epoch 164/256\n",
            " - 3s - loss: 0.4231 - acc: 0.8976 - val_loss: 4.7952 - val_acc: 0.3071\n",
            "Epoch 165/256\n",
            " - 3s - loss: 0.4203 - acc: 0.8911 - val_loss: 4.5859 - val_acc: 0.2881\n",
            "Epoch 166/256\n",
            " - 3s - loss: 0.7966 - acc: 0.7952 - val_loss: 5.4866 - val_acc: 0.3667\n",
            "Epoch 167/256\n",
            " - 3s - loss: 0.5558 - acc: 0.8571 - val_loss: 6.8036 - val_acc: 0.3286\n",
            "Epoch 168/256\n",
            " - 3s - loss: 0.4485 - acc: 0.8810 - val_loss: 4.7305 - val_acc: 0.4190\n",
            "Epoch 169/256\n",
            " - 3s - loss: 0.3502 - acc: 0.9119 - val_loss: 2.0427 - val_acc: 0.5500\n",
            "Epoch 170/256\n",
            " - 3s - loss: 0.3192 - acc: 0.9149 - val_loss: 1.6647 - val_acc: 0.5929\n",
            "Epoch 171/256\n",
            " - 3s - loss: 0.3270 - acc: 0.9286 - val_loss: 1.7324 - val_acc: 0.5714\n",
            "Epoch 172/256\n",
            " - 3s - loss: 0.3047 - acc: 0.9262 - val_loss: 1.6381 - val_acc: 0.5738\n",
            "Epoch 173/256\n",
            " - 3s - loss: 0.3739 - acc: 0.9190 - val_loss: 3.9086 - val_acc: 0.3690\n",
            "Epoch 174/256\n",
            " - 3s - loss: 2.1425 - acc: 0.5024 - val_loss: 15.3506 - val_acc: 0.0476\n",
            "Epoch 175/256\n",
            " - 3s - loss: 2.0463 - acc: 0.4619 - val_loss: 15.3506 - val_acc: 0.0476\n",
            "Epoch 176/256\n",
            " - 3s - loss: 1.6045 - acc: 0.5673 - val_loss: 15.3506 - val_acc: 0.0476\n",
            "Epoch 177/256\n",
            " - 3s - loss: 1.2156 - acc: 0.6500 - val_loss: 15.3506 - val_acc: 0.0476\n",
            "Epoch 178/256\n",
            " - 3s - loss: 1.0366 - acc: 0.7107 - val_loss: 15.3245 - val_acc: 0.0476\n",
            "Epoch 179/256\n",
            " - 3s - loss: 1.0305 - acc: 0.7125 - val_loss: 4.7472 - val_acc: 0.1262\n",
            "Epoch 180/256\n",
            " - 3s - loss: 0.9118 - acc: 0.7476 - val_loss: 4.5701 - val_acc: 0.1738\n",
            "Epoch 181/256\n",
            " - 3s - loss: 0.7891 - acc: 0.7780 - val_loss: 5.9124 - val_acc: 0.1667\n",
            "Epoch 182/256\n",
            " - 3s - loss: 0.6668 - acc: 0.7952 - val_loss: 4.8312 - val_acc: 0.2143\n",
            "Epoch 183/256\n",
            " - 3s - loss: 0.5670 - acc: 0.8315 - val_loss: 5.2171 - val_acc: 0.2595\n",
            "Epoch 184/256\n",
            " - 3s - loss: 0.4489 - acc: 0.8607 - val_loss: 4.9658 - val_acc: 0.2881\n",
            "Epoch 185/256\n",
            " - 3s - loss: 0.4281 - acc: 0.8589 - val_loss: 6.0269 - val_acc: 0.2238\n",
            "Epoch 186/256\n",
            " - 3s - loss: 0.5034 - acc: 0.8417 - val_loss: 5.1480 - val_acc: 0.2690\n",
            "Epoch 187/256\n",
            " - 3s - loss: 0.4305 - acc: 0.8512 - val_loss: 2.8074 - val_acc: 0.3857\n",
            "Epoch 188/256\n",
            " - 3s - loss: 0.5901 - acc: 0.8274 - val_loss: 2.5314 - val_acc: 0.4286\n",
            "Epoch 189/256\n",
            " - 3s - loss: 1.0878 - acc: 0.6958 - val_loss: 8.1472 - val_acc: 0.1690\n",
            "Epoch 190/256\n",
            " - 3s - loss: 0.7961 - acc: 0.7542 - val_loss: 5.6599 - val_acc: 0.2571\n",
            "Epoch 191/256\n",
            " - 3s - loss: 0.7256 - acc: 0.7804 - val_loss: 3.9905 - val_acc: 0.3476\n",
            "Epoch 192/256\n",
            " - 3s - loss: 0.5987 - acc: 0.8214 - val_loss: 4.9125 - val_acc: 0.2810\n",
            "Epoch 193/256\n",
            " - 3s - loss: 0.4011 - acc: 0.8667 - val_loss: 4.3055 - val_acc: 0.3571\n",
            "Epoch 194/256\n",
            " - 3s - loss: 0.4423 - acc: 0.8673 - val_loss: 3.8567 - val_acc: 0.3976\n",
            "Epoch 195/256\n",
            " - 3s - loss: 0.3895 - acc: 0.8845 - val_loss: 3.4280 - val_acc: 0.4214\n",
            "Epoch 196/256\n",
            " - 3s - loss: 0.3164 - acc: 0.9030 - val_loss: 2.4016 - val_acc: 0.5143\n",
            "Epoch 197/256\n",
            " - 3s - loss: 0.3097 - acc: 0.9107 - val_loss: 2.1322 - val_acc: 0.5524\n",
            "Epoch 198/256\n",
            " - 3s - loss: 0.2131 - acc: 0.9179 - val_loss: 1.8746 - val_acc: 0.5595\n",
            "Epoch 199/256\n",
            " - 3s - loss: 0.2354 - acc: 0.9167 - val_loss: 1.8512 - val_acc: 0.5548\n",
            "Epoch 200/256\n",
            " - 3s - loss: 0.2334 - acc: 0.9274 - val_loss: 1.8105 - val_acc: 0.5548\n",
            "Epoch 201/256\n",
            " - 3s - loss: 0.2235 - acc: 0.9202 - val_loss: 1.6650 - val_acc: 0.5810\n",
            "Epoch 202/256\n",
            " - 3s - loss: 0.2437 - acc: 0.9155 - val_loss: 1.6841 - val_acc: 0.5905\n",
            "Epoch 203/256\n",
            " - 3s - loss: 0.3505 - acc: 0.8946 - val_loss: 4.2787 - val_acc: 0.3333\n",
            "Epoch 204/256\n",
            " - 3s - loss: 0.4142 - acc: 0.8869 - val_loss: 2.9712 - val_acc: 0.4429\n",
            "Epoch 205/256\n",
            " - 3s - loss: 0.2574 - acc: 0.9149 - val_loss: 2.3102 - val_acc: 0.5167\n",
            "Epoch 206/256\n",
            " - 3s - loss: 0.2700 - acc: 0.9167 - val_loss: 2.7782 - val_acc: 0.4714\n",
            "Epoch 207/256\n",
            " - 3s - loss: 0.2073 - acc: 0.9268 - val_loss: 2.9671 - val_acc: 0.4548\n",
            "Epoch 208/256\n",
            " - 3s - loss: 0.1905 - acc: 0.9333 - val_loss: 2.1845 - val_acc: 0.4929\n",
            "Epoch 209/256\n",
            " - 3s - loss: 0.1822 - acc: 0.9393 - val_loss: 1.8930 - val_acc: 0.5381\n",
            "Epoch 210/256\n",
            " - 3s - loss: 0.1896 - acc: 0.9321 - val_loss: 1.6994 - val_acc: 0.5857\n",
            "Epoch 211/256\n",
            " - 3s - loss: 0.1338 - acc: 0.9452 - val_loss: 1.5547 - val_acc: 0.6024\n",
            "Epoch 212/256\n",
            " - 3s - loss: 0.2486 - acc: 0.9185 - val_loss: 1.6305 - val_acc: 0.5881\n",
            "Epoch 213/256\n",
            " - 3s - loss: 0.3075 - acc: 0.9155 - val_loss: 1.6987 - val_acc: 0.5929\n",
            "Epoch 214/256\n",
            " - 3s - loss: 0.2415 - acc: 0.9220 - val_loss: 1.8057 - val_acc: 0.5595\n",
            "Epoch 215/256\n",
            " - 3s - loss: 0.2342 - acc: 0.9185 - val_loss: 1.8998 - val_acc: 0.5405\n",
            "Epoch 216/256\n",
            " - 3s - loss: 0.1918 - acc: 0.9202 - val_loss: 1.8218 - val_acc: 0.5405\n",
            "Epoch 217/256\n",
            " - 3s - loss: 0.1530 - acc: 0.9321 - val_loss: 1.6868 - val_acc: 0.5929\n",
            "Epoch 218/256\n",
            " - 3s - loss: 0.1579 - acc: 0.9345 - val_loss: 1.8903 - val_acc: 0.5500\n",
            "Epoch 219/256\n",
            " - 3s - loss: 0.1515 - acc: 0.9292 - val_loss: 1.8320 - val_acc: 0.5643\n",
            "Epoch 220/256\n",
            " - 3s - loss: 0.1778 - acc: 0.9298 - val_loss: 1.9187 - val_acc: 0.5714\n",
            "Epoch 221/256\n",
            " - 3s - loss: 0.1618 - acc: 0.9381 - val_loss: 1.7324 - val_acc: 0.5833\n",
            "Epoch 222/256\n",
            " - 3s - loss: 0.1940 - acc: 0.9399 - val_loss: 1.5337 - val_acc: 0.6095\n",
            "Epoch 223/256\n",
            " - 3s - loss: 0.1848 - acc: 0.9381 - val_loss: 1.9311 - val_acc: 0.5476\n",
            "Epoch 224/256\n",
            " - 3s - loss: 0.2239 - acc: 0.9173 - val_loss: 2.8666 - val_acc: 0.4381\n",
            "Epoch 225/256\n",
            " - 3s - loss: 0.2990 - acc: 0.9006 - val_loss: 4.6797 - val_acc: 0.3810\n",
            "Epoch 226/256\n",
            " - 3s - loss: 0.7193 - acc: 0.8357 - val_loss: 6.0309 - val_acc: 0.3190\n",
            "Epoch 227/256\n",
            " - 3s - loss: 0.5249 - acc: 0.8714 - val_loss: 3.7140 - val_acc: 0.4048\n",
            "Epoch 228/256\n",
            " - 3s - loss: 0.5612 - acc: 0.8679 - val_loss: 2.9243 - val_acc: 0.4024\n",
            "Epoch 229/256\n",
            " - 3s - loss: 0.7596 - acc: 0.8214 - val_loss: 4.4978 - val_acc: 0.3714\n",
            "Epoch 230/256\n",
            " - 3s - loss: 0.4698 - acc: 0.8756 - val_loss: 2.8107 - val_acc: 0.4929\n",
            "Epoch 231/256\n",
            " - 3s - loss: 0.3960 - acc: 0.8952 - val_loss: 2.1805 - val_acc: 0.5405\n",
            "Epoch 232/256\n",
            " - 3s - loss: 0.3358 - acc: 0.9208 - val_loss: 2.8600 - val_acc: 0.4667\n",
            "Epoch 233/256\n",
            " - 3s - loss: 0.5610 - acc: 0.8696 - val_loss: 2.4305 - val_acc: 0.4643\n",
            "Epoch 234/256\n",
            " - 3s - loss: 0.8110 - acc: 0.7887 - val_loss: 3.0121 - val_acc: 0.3738\n",
            "Epoch 235/256\n",
            " - 3s - loss: 1.0258 - acc: 0.7518 - val_loss: 3.6611 - val_acc: 0.2810\n",
            "Epoch 236/256\n",
            " - 3s - loss: 2.3222 - acc: 0.4244 - val_loss: 15.3122 - val_acc: 0.0500\n",
            "Epoch 237/256\n",
            " - 3s - loss: 2.1299 - acc: 0.4220 - val_loss: 15.3122 - val_acc: 0.0500\n",
            "Epoch 238/256\n",
            " - 3s - loss: 1.6728 - acc: 0.5292 - val_loss: 15.3122 - val_acc: 0.0500\n",
            "Epoch 239/256\n",
            " - 3s - loss: 1.4086 - acc: 0.5869 - val_loss: 15.3122 - val_acc: 0.0500\n",
            "Epoch 240/256\n",
            " - 3s - loss: 1.2115 - acc: 0.6417 - val_loss: 15.3506 - val_acc: 0.0476\n",
            "Epoch 241/256\n",
            " - 3s - loss: 1.1242 - acc: 0.6798 - val_loss: 15.3066 - val_acc: 0.0452\n",
            "Epoch 242/256\n",
            " - 3s - loss: 0.9568 - acc: 0.7339 - val_loss: 14.8053 - val_acc: 0.0310\n",
            "Epoch 243/256\n",
            " - 3s - loss: 0.7648 - acc: 0.7845 - val_loss: 11.4907 - val_acc: 0.0524\n",
            "Epoch 244/256\n",
            " - 3s - loss: 0.7535 - acc: 0.7821 - val_loss: 7.7018 - val_acc: 0.0952\n",
            "Epoch 245/256\n",
            " - 3s - loss: 0.6353 - acc: 0.8089 - val_loss: 5.8505 - val_acc: 0.1952\n",
            "Epoch 246/256\n",
            " - 3s - loss: 0.5634 - acc: 0.8339 - val_loss: 4.6491 - val_acc: 0.2333\n",
            "Epoch 247/256\n",
            " - 3s - loss: 0.4812 - acc: 0.8512 - val_loss: 3.5492 - val_acc: 0.3214\n",
            "Epoch 248/256\n",
            " - 3s - loss: 0.4611 - acc: 0.8714 - val_loss: 2.8975 - val_acc: 0.3690\n",
            "Epoch 249/256\n",
            " - 3s - loss: 0.3978 - acc: 0.8881 - val_loss: 2.1964 - val_acc: 0.4452\n",
            "Epoch 250/256\n",
            " - 3s - loss: 0.4296 - acc: 0.8911 - val_loss: 2.0693 - val_acc: 0.4476\n",
            "Epoch 251/256\n",
            " - 3s - loss: 0.3744 - acc: 0.8952 - val_loss: 1.9901 - val_acc: 0.4714\n",
            "Epoch 252/256\n",
            " - 3s - loss: 1.0421 - acc: 0.7244 - val_loss: 8.8408 - val_acc: 0.1595\n",
            "Epoch 253/256\n",
            " - 3s - loss: 1.2257 - acc: 0.6601 - val_loss: 12.5923 - val_acc: 0.1143\n",
            "Epoch 254/256\n",
            " - 3s - loss: 0.9655 - acc: 0.7173 - val_loss: 11.6781 - val_acc: 0.1429\n",
            "Epoch 255/256\n",
            " - 3s - loss: 0.8940 - acc: 0.7405 - val_loss: 9.3914 - val_acc: 0.2071\n",
            "Epoch 256/256\n",
            " - 3s - loss: 0.8145 - acc: 0.7810 - val_loss: 6.8874 - val_acc: 0.2738\n",
            "Total Time: 733.028145 \n"
          ],
          "name": "stdout"
        }
      ]
    },
    {
      "cell_type": "code",
      "metadata": {
        "colab_type": "code",
        "outputId": "09664c25-0843-429e-9fe0-568ca4766470",
        "id": "41FN0SULKdF3",
        "colab": {
          "base_uri": "https://localhost:8080/",
          "height": 8721
        }
      },
      "source": [
        "#ResNet with Data Augmentantion\n",
        "historyResDA = modelTransf2.fit_generator(\n",
        "        train_generator.flow(x_train, train_small_with_dummies, batch_size=32),\n",
        "        steps_per_epoch=int(2*SIZE / 32),\n",
        "        epochs=256,\n",
        "        validation_data=evaluate_generator.flow(x_valid, train_small_with_dummies2, batch_size=32),\n",
        "        validation_steps=128,\n",
        "        verbose=2\n",
        "    )"
      ],
      "execution_count": 0,
      "outputs": [
        {
          "output_type": "stream",
          "text": [
            "Epoch 1/256\n",
            " - 23s - loss: 3.3398 - acc: 0.2031 - val_loss: 5.3168 - val_acc: 0.2534\n",
            "Epoch 2/256\n",
            " - 5s - loss: 2.7254 - acc: 0.3542 - val_loss: 7.9000 - val_acc: 0.2084\n",
            "Epoch 3/256\n",
            " - 5s - loss: 2.5293 - acc: 0.3490 - val_loss: 7.7688 - val_acc: 0.2612\n",
            "Epoch 4/256\n",
            " - 5s - loss: 2.3101 - acc: 0.3646 - val_loss: 5.9448 - val_acc: 0.3007\n",
            "Epoch 5/256\n",
            " - 5s - loss: 2.2501 - acc: 0.4010 - val_loss: 4.3910 - val_acc: 0.2937\n",
            "Epoch 6/256\n",
            " - 6s - loss: 2.4885 - acc: 0.4271 - val_loss: 6.8921 - val_acc: 0.1907\n",
            "Epoch 7/256\n",
            " - 5s - loss: 2.5360 - acc: 0.4010 - val_loss: 9.0034 - val_acc: 0.1200\n",
            "Epoch 8/256\n",
            " - 5s - loss: 2.7296 - acc: 0.3906 - val_loss: 7.0437 - val_acc: 0.1376\n",
            "Epoch 9/256\n",
            " - 5s - loss: 2.5865 - acc: 0.3360 - val_loss: 12.2159 - val_acc: 0.0786\n",
            "Epoch 10/256\n",
            " - 5s - loss: 2.5090 - acc: 0.3958 - val_loss: 14.1588 - val_acc: 0.0315\n",
            "Epoch 11/256\n",
            " - 5s - loss: 3.2651 - acc: 0.2552 - val_loss: 15.4258 - val_acc: 0.0315\n",
            "Epoch 12/256\n",
            " - 6s - loss: 2.8837 - acc: 0.2760 - val_loss: 15.3174 - val_acc: 0.0369\n",
            "Epoch 13/256\n",
            " - 5s - loss: 2.9698 - acc: 0.2708 - val_loss: 12.7751 - val_acc: 0.0304\n",
            "Epoch 14/256\n",
            " - 5s - loss: 3.1096 - acc: 0.2135 - val_loss: 10.2901 - val_acc: 0.0440\n",
            "Epoch 15/256\n",
            " - 5s - loss: 3.2160 - acc: 0.2344 - val_loss: 7.1305 - val_acc: 0.0944\n",
            "Epoch 16/256\n",
            " - 5s - loss: 2.9198 - acc: 0.2604 - val_loss: 9.4668 - val_acc: 0.0708\n",
            "Epoch 17/256\n",
            " - 5s - loss: 3.2194 - acc: 0.2083 - val_loss: 9.5187 - val_acc: 0.0552\n",
            "Epoch 18/256\n",
            " - 5s - loss: 2.9997 - acc: 0.2123 - val_loss: 10.9336 - val_acc: 0.0398\n",
            "Epoch 19/256\n",
            " - 5s - loss: 2.9483 - acc: 0.2760 - val_loss: 13.0179 - val_acc: 0.0180\n",
            "Epoch 20/256\n",
            " - 5s - loss: 3.0739 - acc: 0.2656 - val_loss: 13.6085 - val_acc: 0.0255\n",
            "Epoch 21/256\n",
            " - 5s - loss: 2.8221 - acc: 0.3177 - val_loss: 7.5112 - val_acc: 0.1119\n",
            "Epoch 22/256\n",
            " - 6s - loss: 3.0593 - acc: 0.2135 - val_loss: 7.9719 - val_acc: 0.1186\n",
            "Epoch 23/256\n",
            " - 5s - loss: 3.3214 - acc: 0.2135 - val_loss: 11.9579 - val_acc: 0.1283\n",
            "Epoch 24/256\n",
            " - 5s - loss: 3.5385 - acc: 0.1302 - val_loss: 13.0896 - val_acc: 0.1129\n",
            "Epoch 25/256\n",
            " - 5s - loss: 3.4249 - acc: 0.1823 - val_loss: 13.4583 - val_acc: 0.1048\n",
            "Epoch 26/256\n",
            " - 5s - loss: 3.4912 - acc: 0.1458 - val_loss: 13.3894 - val_acc: 0.1080\n",
            "Epoch 27/256\n",
            " - 5s - loss: 3.3447 - acc: 0.1814 - val_loss: 11.7646 - val_acc: 0.1199\n",
            "Epoch 28/256\n",
            " - 5s - loss: 3.2605 - acc: 0.1354 - val_loss: 11.5466 - val_acc: 0.1069\n",
            "Epoch 29/256\n",
            " - 5s - loss: 3.5188 - acc: 0.1302 - val_loss: 11.2073 - val_acc: 0.1064\n",
            "Epoch 30/256\n",
            " - 5s - loss: 3.1993 - acc: 0.1562 - val_loss: 10.2996 - val_acc: 0.1158\n",
            "Epoch 31/256\n",
            " - 5s - loss: 3.5165 - acc: 0.1354 - val_loss: 11.3685 - val_acc: 0.0838\n",
            "Epoch 32/256\n",
            " - 5s - loss: 3.5147 - acc: 0.1250 - val_loss: 11.8997 - val_acc: 0.0957\n",
            "Epoch 33/256\n",
            " - 5s - loss: 3.5205 - acc: 0.1250 - val_loss: 9.7933 - val_acc: 0.0999\n",
            "Epoch 34/256\n",
            " - 5s - loss: 3.4222 - acc: 0.1354 - val_loss: 8.9564 - val_acc: 0.1197\n",
            "Epoch 35/256\n",
            " - 5s - loss: 3.5957 - acc: 0.0885 - val_loss: 7.7974 - val_acc: 0.1224\n",
            "Epoch 36/256\n",
            " - 5s - loss: 3.5543 - acc: 0.0873 - val_loss: 7.0849 - val_acc: 0.1283\n",
            "Epoch 37/256\n",
            " - 5s - loss: 3.3702 - acc: 0.1406 - val_loss: 5.8396 - val_acc: 0.0778\n",
            "Epoch 38/256\n",
            " - 6s - loss: 3.3177 - acc: 0.1562 - val_loss: 5.4288 - val_acc: 0.0715\n",
            "Epoch 39/256\n",
            " - 5s - loss: 3.6455 - acc: 0.1042 - val_loss: 5.2220 - val_acc: 0.0804\n",
            "Epoch 40/256\n",
            " - 5s - loss: 3.3067 - acc: 0.1250 - val_loss: 4.9221 - val_acc: 0.0731\n",
            "Epoch 41/256\n",
            " - 5s - loss: 3.3583 - acc: 0.1302 - val_loss: 4.7449 - val_acc: 0.0728\n",
            "Epoch 42/256\n",
            " - 5s - loss: 3.3149 - acc: 0.1094 - val_loss: 3.3451 - val_acc: 0.1847\n",
            "Epoch 43/256\n",
            " - 5s - loss: 3.1602 - acc: 0.1510 - val_loss: 3.1303 - val_acc: 0.1184\n",
            "Epoch 44/256\n",
            " - 5s - loss: 3.6174 - acc: 0.0677 - val_loss: 3.0497 - val_acc: 0.1238\n",
            "Epoch 45/256\n",
            " - 5s - loss: 3.2340 - acc: 0.1408 - val_loss: 3.1826 - val_acc: 0.1098\n",
            "Epoch 46/256\n",
            " - 5s - loss: 3.1942 - acc: 0.1406 - val_loss: 3.2141 - val_acc: 0.1189\n",
            "Epoch 47/256\n",
            " - 5s - loss: 3.1056 - acc: 0.1719 - val_loss: 3.3709 - val_acc: 0.1358\n",
            "Epoch 48/256\n",
            " - 5s - loss: 2.8484 - acc: 0.1719 - val_loss: 3.4289 - val_acc: 0.1537\n",
            "Epoch 49/256\n",
            " - 5s - loss: 2.8869 - acc: 0.1771 - val_loss: 3.5703 - val_acc: 0.1792\n",
            "Epoch 50/256\n",
            " - 5s - loss: 2.8974 - acc: 0.1771 - val_loss: 3.5689 - val_acc: 0.1613\n",
            "Epoch 51/256\n",
            " - 5s - loss: 3.1300 - acc: 0.1458 - val_loss: 3.2479 - val_acc: 0.1639\n",
            "Epoch 52/256\n",
            " - 5s - loss: 2.7332 - acc: 0.1875 - val_loss: 3.2657 - val_acc: 0.1446\n",
            "Epoch 53/256\n",
            " - 5s - loss: 2.9975 - acc: 0.1416 - val_loss: 3.1054 - val_acc: 0.1738\n",
            "Epoch 54/256\n",
            " - 6s - loss: 2.6697 - acc: 0.1927 - val_loss: 3.0823 - val_acc: 0.1532\n",
            "Epoch 55/256\n",
            " - 5s - loss: 2.7524 - acc: 0.2188 - val_loss: 3.0280 - val_acc: 0.1907\n",
            "Epoch 56/256\n",
            " - 5s - loss: 2.7947 - acc: 0.2135 - val_loss: 2.9512 - val_acc: 0.2227\n",
            "Epoch 57/256\n",
            " - 5s - loss: 2.6515 - acc: 0.2083 - val_loss: 2.9120 - val_acc: 0.2183\n",
            "Epoch 58/256\n",
            " - 5s - loss: 2.7900 - acc: 0.2135 - val_loss: 2.9292 - val_acc: 0.2110\n",
            "Epoch 59/256\n",
            " - 5s - loss: 2.7855 - acc: 0.2031 - val_loss: 2.8618 - val_acc: 0.1964\n",
            "Epoch 60/256\n",
            " - 5s - loss: 2.7981 - acc: 0.2240 - val_loss: 2.7471 - val_acc: 0.2050\n",
            "Epoch 61/256\n",
            " - 5s - loss: 2.7302 - acc: 0.1823 - val_loss: 2.7673 - val_acc: 0.1678\n",
            "Epoch 62/256\n",
            " - 5s - loss: 2.5844 - acc: 0.2155 - val_loss: 2.6148 - val_acc: 0.1922\n",
            "Epoch 63/256\n",
            " - 5s - loss: 2.5613 - acc: 0.2135 - val_loss: 2.5449 - val_acc: 0.2086\n",
            "Epoch 64/256\n",
            " - 5s - loss: 2.5726 - acc: 0.2344 - val_loss: 2.6501 - val_acc: 0.2219\n",
            "Epoch 65/256\n",
            " - 5s - loss: 2.7100 - acc: 0.1979 - val_loss: 2.6755 - val_acc: 0.2151\n",
            "Epoch 66/256\n",
            " - 5s - loss: 2.6951 - acc: 0.2500 - val_loss: 2.6656 - val_acc: 0.2305\n",
            "Epoch 67/256\n",
            " - 6s - loss: 2.4423 - acc: 0.1875 - val_loss: 2.6094 - val_acc: 0.2242\n",
            "Epoch 68/256\n",
            " - 6s - loss: 2.3586 - acc: 0.2292 - val_loss: 2.5436 - val_acc: 0.2430\n",
            "Epoch 69/256\n",
            " - 5s - loss: 2.3796 - acc: 0.2344 - val_loss: 2.5300 - val_acc: 0.2362\n",
            "Epoch 70/256\n",
            " - 6s - loss: 2.4194 - acc: 0.3021 - val_loss: 2.5009 - val_acc: 0.2183\n",
            "Epoch 71/256\n",
            " - 5s - loss: 2.5076 - acc: 0.2711 - val_loss: 2.5396 - val_acc: 0.2287\n",
            "Epoch 72/256\n",
            " - 5s - loss: 2.3940 - acc: 0.2500 - val_loss: 2.5213 - val_acc: 0.2573\n",
            "Epoch 73/256\n",
            " - 5s - loss: 2.5480 - acc: 0.2135 - val_loss: 2.5586 - val_acc: 0.2693\n",
            "Epoch 74/256\n",
            " - 5s - loss: 2.3242 - acc: 0.2760 - val_loss: 2.6108 - val_acc: 0.2383\n",
            "Epoch 75/256\n",
            " - 5s - loss: 2.4845 - acc: 0.2188 - val_loss: 2.7249 - val_acc: 0.2536\n",
            "Epoch 76/256\n",
            " - 5s - loss: 2.5024 - acc: 0.2135 - val_loss: 2.8148 - val_acc: 0.2386\n",
            "Epoch 77/256\n",
            " - 5s - loss: 2.2665 - acc: 0.2812 - val_loss: 2.7966 - val_acc: 0.2757\n",
            "Epoch 78/256\n",
            " - 5s - loss: 2.4230 - acc: 0.2812 - val_loss: 2.7740 - val_acc: 0.2698\n",
            "Epoch 79/256\n",
            " - 5s - loss: 2.2940 - acc: 0.2969 - val_loss: 2.6228 - val_acc: 0.2588\n",
            "Epoch 80/256\n",
            " - 5s - loss: 2.3909 - acc: 0.2658 - val_loss: 2.5447 - val_acc: 0.2229\n",
            "Epoch 81/256\n",
            " - 5s - loss: 2.2783 - acc: 0.3125 - val_loss: 2.3513 - val_acc: 0.2630\n",
            "Epoch 82/256\n",
            " - 5s - loss: 2.2056 - acc: 0.2760 - val_loss: 2.3438 - val_acc: 0.2661\n",
            "Epoch 83/256\n",
            " - 5s - loss: 2.2150 - acc: 0.2812 - val_loss: 2.3369 - val_acc: 0.2828\n",
            "Epoch 84/256\n",
            " - 5s - loss: 2.2763 - acc: 0.2969 - val_loss: 2.2926 - val_acc: 0.3069\n",
            "Epoch 85/256\n",
            " - 6s - loss: 2.3240 - acc: 0.2917 - val_loss: 2.2800 - val_acc: 0.2973\n",
            "Epoch 86/256\n",
            " - 6s - loss: 2.3407 - acc: 0.2812 - val_loss: 2.3715 - val_acc: 0.2763\n",
            "Epoch 87/256\n",
            " - 5s - loss: 2.5367 - acc: 0.2708 - val_loss: 2.8036 - val_acc: 0.2232\n",
            "Epoch 88/256\n",
            " - 5s - loss: 2.4766 - acc: 0.2865 - val_loss: 4.3051 - val_acc: 0.1488\n",
            "Epoch 89/256\n",
            " - 5s - loss: 2.6199 - acc: 0.3117 - val_loss: 4.7891 - val_acc: 0.1178\n",
            "Epoch 90/256\n",
            " - 5s - loss: 2.6707 - acc: 0.2500 - val_loss: 4.7114 - val_acc: 0.1410\n",
            "Epoch 91/256\n",
            " - 5s - loss: 2.2833 - acc: 0.2760 - val_loss: 4.6633 - val_acc: 0.1737\n",
            "Epoch 92/256\n",
            " - 5s - loss: 2.5306 - acc: 0.3021 - val_loss: 6.0192 - val_acc: 0.1790\n",
            "Epoch 93/256\n",
            " - 5s - loss: 2.6844 - acc: 0.2083 - val_loss: 6.2104 - val_acc: 0.1753\n",
            "Epoch 94/256\n",
            " - 5s - loss: 2.5905 - acc: 0.2344 - val_loss: 5.6861 - val_acc: 0.2167\n",
            "Epoch 95/256\n",
            " - 5s - loss: 2.1548 - acc: 0.2917 - val_loss: 4.9859 - val_acc: 0.2362\n",
            "Epoch 96/256\n",
            " - 5s - loss: 2.1536 - acc: 0.2969 - val_loss: 4.4468 - val_acc: 0.2490\n",
            "Epoch 97/256\n",
            " - 5s - loss: 2.2325 - acc: 0.2708 - val_loss: 3.2359 - val_acc: 0.3156\n",
            "Epoch 98/256\n",
            " - 5s - loss: 2.1290 - acc: 0.3397 - val_loss: 2.6002 - val_acc: 0.3021\n",
            "Epoch 99/256\n",
            " - 5s - loss: 2.3571 - acc: 0.2604 - val_loss: 2.4618 - val_acc: 0.3020\n",
            "Epoch 100/256\n",
            " - 5s - loss: 2.0807 - acc: 0.3646 - val_loss: 2.3989 - val_acc: 0.3049\n",
            "Epoch 101/256\n",
            " - 6s - loss: 2.3558 - acc: 0.2969 - val_loss: 2.2977 - val_acc: 0.3135\n",
            "Epoch 102/256\n",
            " - 6s - loss: 2.0814 - acc: 0.2969 - val_loss: 2.3060 - val_acc: 0.3306\n",
            "Epoch 103/256\n",
            " - 5s - loss: 1.9861 - acc: 0.3542 - val_loss: 2.1848 - val_acc: 0.3117\n",
            "Epoch 104/256\n",
            " - 5s - loss: 2.0706 - acc: 0.3229 - val_loss: 2.1575 - val_acc: 0.3215\n",
            "Epoch 105/256\n",
            " - 5s - loss: 2.4248 - acc: 0.2812 - val_loss: 1.9906 - val_acc: 0.3690\n",
            "Epoch 106/256\n",
            " - 5s - loss: 1.9140 - acc: 0.3283 - val_loss: 2.0187 - val_acc: 0.3530\n",
            "Epoch 107/256\n",
            " - 5s - loss: 2.0941 - acc: 0.3646 - val_loss: 1.9675 - val_acc: 0.3694\n",
            "Epoch 108/256\n",
            " - 5s - loss: 2.0036 - acc: 0.3906 - val_loss: 1.9355 - val_acc: 0.3900\n",
            "Epoch 109/256\n",
            " - 5s - loss: 2.0513 - acc: 0.2865 - val_loss: 1.9668 - val_acc: 0.3626\n",
            "Epoch 110/256\n",
            " - 5s - loss: 2.4846 - acc: 0.3021 - val_loss: 2.1200 - val_acc: 0.2992\n",
            "Epoch 111/256\n",
            " - 5s - loss: 2.2998 - acc: 0.3177 - val_loss: 2.2943 - val_acc: 0.3429\n",
            "Epoch 112/256\n",
            " - 5s - loss: 2.2202 - acc: 0.3125 - val_loss: 2.3241 - val_acc: 0.3449\n",
            "Epoch 113/256\n",
            " - 5s - loss: 2.1011 - acc: 0.3281 - val_loss: 2.2595 - val_acc: 0.3564\n",
            "Epoch 114/256\n",
            " - 5s - loss: 2.0872 - acc: 0.3333 - val_loss: 2.2523 - val_acc: 0.3429\n",
            "Epoch 115/256\n",
            " - 5s - loss: 2.2526 - acc: 0.3056 - val_loss: 2.1249 - val_acc: 0.3819\n",
            "Epoch 116/256\n",
            " - 5s - loss: 2.1200 - acc: 0.3281 - val_loss: 2.0403 - val_acc: 0.3983\n",
            "Epoch 117/256\n",
            " - 6s - loss: 2.3512 - acc: 0.3229 - val_loss: 1.9064 - val_acc: 0.4248\n",
            "Epoch 118/256\n",
            " - 5s - loss: 1.9852 - acc: 0.3802 - val_loss: 1.8868 - val_acc: 0.3965\n",
            "Epoch 119/256\n",
            " - 5s - loss: 2.0995 - acc: 0.3438 - val_loss: 1.9377 - val_acc: 0.3640\n",
            "Epoch 120/256\n",
            " - 5s - loss: 2.1844 - acc: 0.4062 - val_loss: 2.0591 - val_acc: 0.3239\n",
            "Epoch 121/256\n",
            " - 5s - loss: 1.8212 - acc: 0.4062 - val_loss: 2.0101 - val_acc: 0.3647\n",
            "Epoch 122/256\n",
            " - 5s - loss: 1.8037 - acc: 0.4375 - val_loss: 1.8642 - val_acc: 0.4149\n",
            "Epoch 123/256\n",
            " - 5s - loss: 2.3256 - acc: 0.3385 - val_loss: 1.8385 - val_acc: 0.4076\n",
            "Epoch 124/256\n",
            " - 5s - loss: 1.8607 - acc: 0.4460 - val_loss: 1.8492 - val_acc: 0.3822\n",
            "Epoch 125/256\n",
            " - 5s - loss: 1.9897 - acc: 0.3646 - val_loss: 1.8215 - val_acc: 0.3988\n",
            "Epoch 126/256\n",
            " - 5s - loss: 1.8428 - acc: 0.3698 - val_loss: 1.8889 - val_acc: 0.3792\n",
            "Epoch 127/256\n",
            " - 5s - loss: 2.0973 - acc: 0.3906 - val_loss: 1.8802 - val_acc: 0.3660\n",
            "Epoch 128/256\n",
            " - 6s - loss: 2.1083 - acc: 0.4115 - val_loss: 1.8565 - val_acc: 0.4050\n",
            "Epoch 129/256\n",
            " - 6s - loss: 2.1433 - acc: 0.4010 - val_loss: 1.7917 - val_acc: 0.3939\n",
            "Epoch 130/256\n",
            " - 5s - loss: 2.2631 - acc: 0.3698 - val_loss: 1.7493 - val_acc: 0.3678\n",
            "Epoch 131/256\n",
            " - 5s - loss: 2.3128 - acc: 0.3958 - val_loss: 1.7678 - val_acc: 0.3746\n",
            "Epoch 132/256\n",
            " - 6s - loss: 2.5227 - acc: 0.3177 - val_loss: 2.0175 - val_acc: 0.3085\n",
            "Epoch 133/256\n",
            " - 6s - loss: 2.2907 - acc: 0.3961 - val_loss: 2.2526 - val_acc: 0.2778\n",
            "Epoch 134/256\n",
            " - 5s - loss: 2.2905 - acc: 0.3229 - val_loss: 2.0466 - val_acc: 0.3158\n",
            "Epoch 135/256\n",
            " - 5s - loss: 2.2839 - acc: 0.4427 - val_loss: 1.8833 - val_acc: 0.3468\n",
            "Epoch 136/256\n",
            " - 5s - loss: 2.3691 - acc: 0.3698 - val_loss: 1.7693 - val_acc: 0.3416\n",
            "Epoch 137/256\n",
            " - 5s - loss: 2.0271 - acc: 0.4479 - val_loss: 1.8659 - val_acc: 0.3528\n",
            "Epoch 138/256\n",
            " - 5s - loss: 2.3526 - acc: 0.3750 - val_loss: 2.2528 - val_acc: 0.3083\n",
            "Epoch 139/256\n",
            " - 5s - loss: 2.2193 - acc: 0.4062 - val_loss: 2.1074 - val_acc: 0.3156\n",
            "Epoch 140/256\n",
            " - 5s - loss: 2.1523 - acc: 0.4271 - val_loss: 2.0704 - val_acc: 0.3194\n",
            "Epoch 141/256\n",
            " - 5s - loss: 2.1548 - acc: 0.4062 - val_loss: 2.2143 - val_acc: 0.3002\n",
            "Epoch 142/256\n",
            " - 5s - loss: 2.2580 - acc: 0.3856 - val_loss: 2.4219 - val_acc: 0.3161\n",
            "Epoch 143/256\n",
            " - 5s - loss: 2.0270 - acc: 0.4531 - val_loss: 1.7903 - val_acc: 0.4105\n",
            "Epoch 144/256\n",
            " - 5s - loss: 2.2755 - acc: 0.3802 - val_loss: 1.6663 - val_acc: 0.4308\n",
            "Epoch 145/256\n",
            " - 5s - loss: 2.0691 - acc: 0.4427 - val_loss: 1.7665 - val_acc: 0.4058\n",
            "Epoch 146/256\n",
            " - 5s - loss: 2.1033 - acc: 0.4062 - val_loss: 1.8084 - val_acc: 0.3772\n",
            "Epoch 147/256\n",
            " - 5s - loss: 2.1787 - acc: 0.4375 - val_loss: 2.0129 - val_acc: 0.3420\n",
            "Epoch 148/256\n",
            " - 5s - loss: 2.1766 - acc: 0.3802 - val_loss: 2.0896 - val_acc: 0.3939\n",
            "Epoch 149/256\n",
            " - 6s - loss: 2.0967 - acc: 0.4479 - val_loss: 2.1834 - val_acc: 0.4191\n",
            "Epoch 150/256\n",
            " - 5s - loss: 1.9547 - acc: 0.3958 - val_loss: 2.3868 - val_acc: 0.4037\n",
            "Epoch 151/256\n",
            " - 5s - loss: 2.1198 - acc: 0.4367 - val_loss: 2.3202 - val_acc: 0.3767\n",
            "Epoch 152/256\n",
            " - 5s - loss: 2.1062 - acc: 0.3854 - val_loss: 2.9735 - val_acc: 0.3117\n",
            "Epoch 153/256\n",
            " - 5s - loss: 2.1538 - acc: 0.4948 - val_loss: 3.0826 - val_acc: 0.3033\n",
            "Epoch 154/256\n",
            " - 5s - loss: 2.1062 - acc: 0.4219 - val_loss: 3.1755 - val_acc: 0.3063\n",
            "Epoch 155/256\n",
            " - 5s - loss: 2.0485 - acc: 0.4427 - val_loss: 3.1927 - val_acc: 0.3023\n",
            "Epoch 156/256\n",
            " - 5s - loss: 2.0225 - acc: 0.4583 - val_loss: 3.1887 - val_acc: 0.3049\n",
            "Epoch 157/256\n",
            " - 5s - loss: 2.1520 - acc: 0.4062 - val_loss: 3.0754 - val_acc: 0.3400\n",
            "Epoch 158/256\n",
            " - 5s - loss: 2.1324 - acc: 0.3698 - val_loss: 2.8607 - val_acc: 0.3850\n",
            "Epoch 159/256\n",
            " - 5s - loss: 2.2467 - acc: 0.4233 - val_loss: 2.7746 - val_acc: 0.4123\n",
            "Epoch 160/256\n",
            " - 5s - loss: 2.0771 - acc: 0.4635 - val_loss: 2.7165 - val_acc: 0.4282\n",
            "Epoch 161/256\n",
            " - 5s - loss: 2.1840 - acc: 0.4479 - val_loss: 2.6977 - val_acc: 0.3789\n",
            "Epoch 162/256\n",
            " - 5s - loss: 1.9977 - acc: 0.4375 - val_loss: 2.6083 - val_acc: 0.3548\n",
            "Epoch 163/256\n",
            " - 5s - loss: 2.0201 - acc: 0.4115 - val_loss: 2.3920 - val_acc: 0.3861\n",
            "Epoch 164/256\n",
            " - 5s - loss: 2.1361 - acc: 0.4479 - val_loss: 2.3003 - val_acc: 0.3970\n",
            "Epoch 165/256\n",
            " - 6s - loss: 1.8938 - acc: 0.4427 - val_loss: 2.1422 - val_acc: 0.4292\n",
            "Epoch 166/256\n",
            " - 5s - loss: 2.0863 - acc: 0.4167 - val_loss: 2.0416 - val_acc: 0.4363\n",
            "Epoch 167/256\n",
            " - 5s - loss: 2.0425 - acc: 0.4635 - val_loss: 1.8722 - val_acc: 0.4157\n",
            "Epoch 168/256\n",
            " - 5s - loss: 1.8988 - acc: 0.5422 - val_loss: 1.8685 - val_acc: 0.3957\n",
            "Epoch 169/256\n",
            " - 5s - loss: 1.8009 - acc: 0.4896 - val_loss: 1.8403 - val_acc: 0.4089\n",
            "Epoch 170/256\n",
            " - 5s - loss: 1.8887 - acc: 0.5000 - val_loss: 1.7572 - val_acc: 0.4396\n",
            "Epoch 171/256\n",
            " - 5s - loss: 1.8274 - acc: 0.5521 - val_loss: 1.9555 - val_acc: 0.3848\n",
            "Epoch 172/256\n",
            " - 5s - loss: 1.8686 - acc: 0.4844 - val_loss: 2.1571 - val_acc: 0.3421\n",
            "Epoch 173/256\n",
            " - 5s - loss: 1.9284 - acc: 0.4740 - val_loss: 1.9582 - val_acc: 0.3593\n",
            "Epoch 174/256\n",
            " - 5s - loss: 1.8773 - acc: 0.5052 - val_loss: 2.1274 - val_acc: 0.3358\n",
            "Epoch 175/256\n",
            " - 5s - loss: 1.9490 - acc: 0.5052 - val_loss: 2.1634 - val_acc: 0.3561\n",
            "Epoch 176/256\n",
            " - 5s - loss: 2.0825 - acc: 0.4792 - val_loss: 3.0149 - val_acc: 0.3210\n",
            "Epoch 177/256\n",
            " - 5s - loss: 2.0955 - acc: 0.4196 - val_loss: 3.7665 - val_acc: 0.2630\n",
            "Epoch 178/256\n",
            " - 5s - loss: 1.9022 - acc: 0.5208 - val_loss: 4.0166 - val_acc: 0.2734\n",
            "Epoch 179/256\n",
            " - 5s - loss: 2.0899 - acc: 0.4635 - val_loss: 3.7053 - val_acc: 0.3033\n",
            "Epoch 180/256\n",
            " - 6s - loss: 2.0190 - acc: 0.4271 - val_loss: 3.0990 - val_acc: 0.3132\n",
            "Epoch 181/256\n",
            " - 6s - loss: 2.1089 - acc: 0.4688 - val_loss: 3.1200 - val_acc: 0.3221\n",
            "Epoch 182/256\n",
            " - 5s - loss: 1.9226 - acc: 0.4844 - val_loss: 2.9274 - val_acc: 0.3032\n",
            "Epoch 183/256\n",
            " - 5s - loss: 1.9786 - acc: 0.4323 - val_loss: 5.3388 - val_acc: 0.2409\n",
            "Epoch 184/256\n",
            " - 5s - loss: 1.9761 - acc: 0.4688 - val_loss: 5.2549 - val_acc: 0.2336\n",
            "Epoch 185/256\n",
            " - 5s - loss: 1.9646 - acc: 0.4740 - val_loss: 5.0315 - val_acc: 0.2734\n",
            "Epoch 186/256\n",
            " - 5s - loss: 2.0203 - acc: 0.4903 - val_loss: 4.6855 - val_acc: 0.2994\n",
            "Epoch 187/256\n",
            " - 5s - loss: 1.8072 - acc: 0.4792 - val_loss: 4.4902 - val_acc: 0.2911\n",
            "Epoch 188/256\n",
            " - 5s - loss: 1.9892 - acc: 0.4427 - val_loss: 4.3012 - val_acc: 0.3231\n",
            "Epoch 189/256\n",
            " - 6s - loss: 1.8122 - acc: 0.5521 - val_loss: 2.6955 - val_acc: 0.4161\n",
            "Epoch 190/256\n",
            " - 6s - loss: 1.9388 - acc: 0.5000 - val_loss: 2.4890 - val_acc: 0.3169\n",
            "Epoch 191/256\n",
            " - 5s - loss: 2.1580 - acc: 0.4167 - val_loss: 2.3920 - val_acc: 0.3166\n",
            "Epoch 192/256\n",
            " - 6s - loss: 2.0044 - acc: 0.4844 - val_loss: 1.9956 - val_acc: 0.3913\n",
            "Epoch 193/256\n",
            " - 5s - loss: 2.0458 - acc: 0.4740 - val_loss: 1.6356 - val_acc: 0.4664\n",
            "Epoch 194/256\n",
            " - 5s - loss: 1.8336 - acc: 0.5208 - val_loss: 1.8083 - val_acc: 0.4376\n",
            "Epoch 195/256\n",
            " - 5s - loss: 2.0572 - acc: 0.4541 - val_loss: 2.1354 - val_acc: 0.4043\n",
            "Epoch 196/256\n",
            " - 6s - loss: 1.9354 - acc: 0.4583 - val_loss: 2.2527 - val_acc: 0.3823\n",
            "Epoch 197/256\n",
            " - 5s - loss: 2.0082 - acc: 0.4688 - val_loss: 2.6841 - val_acc: 0.3182\n",
            "Epoch 198/256\n",
            " - 5s - loss: 2.1148 - acc: 0.4271 - val_loss: 2.9107 - val_acc: 0.3018\n",
            "Epoch 199/256\n",
            " - 5s - loss: 2.0350 - acc: 0.4271 - val_loss: 2.5319 - val_acc: 0.3169\n",
            "Epoch 200/256\n",
            " - 5s - loss: 2.2513 - acc: 0.3958 - val_loss: 2.4752 - val_acc: 0.2672\n",
            "Epoch 201/256\n",
            " - 5s - loss: 2.3127 - acc: 0.3490 - val_loss: 3.8985 - val_acc: 0.2068\n",
            "Epoch 202/256\n",
            " - 5s - loss: 2.2624 - acc: 0.3958 - val_loss: 8.4484 - val_acc: 0.0869\n",
            "Epoch 203/256\n",
            " - 5s - loss: 2.3152 - acc: 0.4010 - val_loss: 10.4560 - val_acc: 0.0687\n",
            "Epoch 204/256\n",
            " - 5s - loss: 2.6650 - acc: 0.3304 - val_loss: 10.1447 - val_acc: 0.0622\n",
            "Epoch 205/256\n",
            " - 5s - loss: 2.3146 - acc: 0.3594 - val_loss: 11.0037 - val_acc: 0.0624\n",
            "Epoch 206/256\n",
            " - 5s - loss: 2.6333 - acc: 0.3073 - val_loss: 13.9465 - val_acc: 0.0674\n",
            "Epoch 207/256\n",
            " - 5s - loss: 2.7989 - acc: 0.2604 - val_loss: 14.6458 - val_acc: 0.0544\n",
            "Epoch 208/256\n",
            " - 5s - loss: 2.3104 - acc: 0.2865 - val_loss: 14.6761 - val_acc: 0.0562\n",
            "Epoch 209/256\n",
            " - 5s - loss: 2.7328 - acc: 0.3073 - val_loss: 14.7199 - val_acc: 0.0523\n",
            "Epoch 210/256\n",
            " - 5s - loss: 2.7054 - acc: 0.2500 - val_loss: 14.2316 - val_acc: 0.0553\n",
            "Epoch 211/256\n",
            " - 5s - loss: 2.6522 - acc: 0.3125 - val_loss: 13.6001 - val_acc: 0.0627\n",
            "Epoch 212/256\n",
            " - 6s - loss: 2.6528 - acc: 0.3547 - val_loss: 12.4652 - val_acc: 0.0741\n",
            "Epoch 213/256\n",
            " - 5s - loss: 2.5411 - acc: 0.3385 - val_loss: 11.3169 - val_acc: 0.0767\n",
            "Epoch 214/256\n",
            " - 5s - loss: 2.4623 - acc: 0.3333 - val_loss: 10.0566 - val_acc: 0.0921\n",
            "Epoch 215/256\n",
            " - 5s - loss: 2.3971 - acc: 0.3594 - val_loss: 8.6283 - val_acc: 0.1296\n",
            "Epoch 216/256\n",
            " - 5s - loss: 2.4974 - acc: 0.3281 - val_loss: 7.9001 - val_acc: 0.1483\n",
            "Epoch 217/256\n",
            " - 5s - loss: 2.2653 - acc: 0.3802 - val_loss: 7.0411 - val_acc: 0.1863\n",
            "Epoch 218/256\n",
            " - 5s - loss: 2.4303 - acc: 0.3438 - val_loss: 7.2015 - val_acc: 0.1379\n",
            "Epoch 219/256\n",
            " - 5s - loss: 2.6897 - acc: 0.2969 - val_loss: 7.5268 - val_acc: 0.1095\n",
            "Epoch 220/256\n",
            " - 5s - loss: 2.4809 - acc: 0.2865 - val_loss: 7.7219 - val_acc: 0.1093\n",
            "Epoch 221/256\n",
            " - 5s - loss: 2.7412 - acc: 0.2861 - val_loss: 8.8254 - val_acc: 0.0994\n",
            "Epoch 222/256\n",
            " - 5s - loss: 2.7118 - acc: 0.3021 - val_loss: 8.0485 - val_acc: 0.1314\n",
            "Epoch 223/256\n",
            " - 5s - loss: 2.4709 - acc: 0.3177 - val_loss: 3.9950 - val_acc: 0.2019\n",
            "Epoch 224/256\n",
            " - 5s - loss: 2.6381 - acc: 0.2917 - val_loss: 3.1495 - val_acc: 0.2332\n",
            "Epoch 225/256\n",
            " - 5s - loss: 2.5151 - acc: 0.3854 - val_loss: 2.5592 - val_acc: 0.2794\n",
            "Epoch 226/256\n",
            " - 5s - loss: 2.5289 - acc: 0.3438 - val_loss: 4.3287 - val_acc: 0.2453\n",
            "Epoch 227/256\n",
            " - 5s - loss: 2.4244 - acc: 0.3281 - val_loss: 4.8118 - val_acc: 0.2620\n",
            "Epoch 228/256\n",
            " - 6s - loss: 2.3815 - acc: 0.3385 - val_loss: 5.3695 - val_acc: 0.2677\n",
            "Epoch 229/256\n",
            " - 5s - loss: 2.2994 - acc: 0.3438 - val_loss: 7.3001 - val_acc: 0.2529\n",
            "Epoch 230/256\n",
            " - 5s - loss: 2.4010 - acc: 0.3494 - val_loss: 9.5910 - val_acc: 0.2138\n",
            "Epoch 231/256\n",
            " - 5s - loss: 2.2315 - acc: 0.3906 - val_loss: 9.5013 - val_acc: 0.2068\n",
            "Epoch 232/256\n",
            " - 5s - loss: 2.1667 - acc: 0.3333 - val_loss: 9.2429 - val_acc: 0.2066\n",
            "Epoch 233/256\n",
            " - 5s - loss: 2.1157 - acc: 0.4115 - val_loss: 8.9275 - val_acc: 0.2177\n",
            "Epoch 234/256\n",
            " - 5s - loss: 2.6102 - acc: 0.2500 - val_loss: 7.1931 - val_acc: 0.1883\n",
            "Epoch 235/256\n",
            " - 5s - loss: 2.5515 - acc: 0.3438 - val_loss: 8.2595 - val_acc: 0.1816\n",
            "Epoch 236/256\n",
            " - 5s - loss: 2.9956 - acc: 0.2812 - val_loss: 11.7768 - val_acc: 0.1043\n",
            "Epoch 237/256\n",
            " - 5s - loss: 2.9679 - acc: 0.2031 - val_loss: 13.9121 - val_acc: 0.0728\n",
            "Epoch 238/256\n",
            " - 5s - loss: 2.9589 - acc: 0.2656 - val_loss: 14.4649 - val_acc: 0.0432\n",
            "Epoch 239/256\n",
            " - 5s - loss: 2.9506 - acc: 0.2131 - val_loss: 12.2446 - val_acc: 0.0583\n",
            "Epoch 240/256\n",
            " - 5s - loss: 2.5925 - acc: 0.3177 - val_loss: 8.5064 - val_acc: 0.1283\n",
            "Epoch 241/256\n",
            " - 5s - loss: 2.8989 - acc: 0.2083 - val_loss: 8.7965 - val_acc: 0.1293\n",
            "Epoch 242/256\n",
            " - 5s - loss: 2.7301 - acc: 0.2188 - val_loss: 9.0339 - val_acc: 0.1402\n",
            "Epoch 243/256\n",
            " - 5s - loss: 2.6395 - acc: 0.2969 - val_loss: 8.4055 - val_acc: 0.1530\n",
            "Epoch 244/256\n",
            " - 6s - loss: 2.8211 - acc: 0.2240 - val_loss: 7.7054 - val_acc: 0.2001\n",
            "Epoch 245/256\n",
            " - 5s - loss: 2.4929 - acc: 0.2760 - val_loss: 8.0293 - val_acc: 0.2107\n",
            "Epoch 246/256\n",
            " - 5s - loss: 2.6366 - acc: 0.2708 - val_loss: 8.6817 - val_acc: 0.1920\n",
            "Epoch 247/256\n",
            " - 5s - loss: 2.7783 - acc: 0.2760 - val_loss: 8.3866 - val_acc: 0.1912\n",
            "Epoch 248/256\n",
            " - 5s - loss: 2.6502 - acc: 0.3389 - val_loss: 8.1239 - val_acc: 0.2079\n",
            "Epoch 249/256\n",
            " - 5s - loss: 2.4992 - acc: 0.2656 - val_loss: 7.1067 - val_acc: 0.2050\n",
            "Epoch 250/256\n",
            " - 6s - loss: 2.5585 - acc: 0.2760 - val_loss: 6.4068 - val_acc: 0.2479\n",
            "Epoch 251/256\n",
            " - 6s - loss: 2.6230 - acc: 0.2500 - val_loss: 6.1303 - val_acc: 0.2776\n",
            "Epoch 252/256\n",
            " - 6s - loss: 2.2898 - acc: 0.3021 - val_loss: 5.8336 - val_acc: 0.2642\n",
            "Epoch 253/256\n",
            " - 5s - loss: 2.1340 - acc: 0.3750 - val_loss: 5.4203 - val_acc: 0.2932\n",
            "Epoch 254/256\n",
            " - 5s - loss: 2.2409 - acc: 0.3073 - val_loss: 5.0597 - val_acc: 0.3098\n",
            "Epoch 255/256\n",
            " - 5s - loss: 2.2210 - acc: 0.3490 - val_loss: 4.8613 - val_acc: 0.3241\n",
            "Epoch 256/256\n",
            " - 5s - loss: 2.1271 - acc: 0.3802 - val_loss: 4.6026 - val_acc: 0.3158\n"
          ],
          "name": "stdout"
        }
      ]
    },
    {
      "cell_type": "code",
      "metadata": {
        "id": "KZmHDSNH28kI",
        "colab_type": "code",
        "colab": {}
      },
      "source": [
        ""
      ],
      "execution_count": 0,
      "outputs": []
    },
    {
      "cell_type": "markdown",
      "metadata": {
        "colab_type": "text",
        "id": "ulDg6tAjm25k"
      },
      "source": [
        "### Transfer Learning ResNet"
      ]
    },
    {
      "cell_type": "code",
      "metadata": {
        "colab_type": "code",
        "id": "_ls1WfO5m25l",
        "colab": {}
      },
      "source": [
        "'''modelTransf2=ResNet50(weights=None,\n",
        "                      include_top=True,\n",
        "                      classes=1,\n",
        "                      input_shape=(64,64,3))\n",
        "\n",
        "modelTransf2 = Sequential()\n",
        "\n",
        "\n",
        "modelTransf2.add(base_modelRes)\n",
        "modelTransf2.add(Flatten())\n",
        "modelTransf2.add(BatchNormalization())\n",
        "modelTransf2.add(Dense(128, activation='linear'))\n",
        "modelTransf2.add(layers.LeakyReLU(alpha=0.1))           \n",
        "modelTransf2.add(Dropout(0.3))\n",
        "modelTransf2.add(Dense(21, activation='softmax'))\n",
        "\n",
        "modelTransf2.compile(optimizer='adam',loss='categorical_crossentropy',metrics=['categorical_accuracy'])'''"
      ],
      "execution_count": 0,
      "outputs": []
    },
    {
      "cell_type": "code",
      "metadata": {
        "id": "-2N20MkfoNED",
        "colab_type": "code",
        "colab": {}
      },
      "source": [
        "'''#ResNet50 Vainilla\n",
        "start = time.clock() \n",
        "historyRes = modelTransf2.fit(trainImagesX, trainY, validation_data=(testImagesX, testY),epochs=200, batch_size=8)\n",
        "\n",
        "end = time.clock()\n",
        "timeRes = end-start\n",
        "\n",
        "print(\"Total Time: {} \".format(timeRes)) '''"
      ],
      "execution_count": 0,
      "outputs": []
    },
    {
      "cell_type": "code",
      "metadata": {
        "id": "4roKDw-Ep5js",
        "colab_type": "code",
        "colab": {}
      },
      "source": [
        "'''train_generator = ImageDataGenerator(\n",
        "        featurewise_center=True,\n",
        "        featurewise_std_normalization=True,\n",
        "        rotation_range=45,\n",
        "        width_shift_range=0.05,\n",
        "        height_shift_range=0.05,\n",
        "        horizontal_flip=True,\n",
        "        vertical_flip=True)\n",
        "\n",
        "train_generator.fit(trainImagesX)\n",
        "#ResNet with Data Augmentantion\n",
        "historyResDA = modelTransf2.fit_generator(\n",
        "        train_generator.flow(trainImagesX, trainY,epochs=200, batch_size=8),\n",
        "        steps_per_epoch=int(2*SIZE / 32),\n",
        "        epochs=256,\n",
        "        validation_data=evaluate_generator.flow(testImagesX, testY), batch_size=32),\n",
        "        validation_steps=128,\n",
        "        verbose=2\n",
        "    )'''"
      ],
      "execution_count": 0,
      "outputs": []
    },
    {
      "cell_type": "markdown",
      "metadata": {
        "id": "N8CxfxrgSKOR",
        "colab_type": "text"
      },
      "source": [
        "## CNN with Images"
      ]
    },
    {
      "cell_type": "code",
      "metadata": {
        "id": "Vvgz1n9_oozv",
        "colab_type": "code",
        "colab": {}
      },
      "source": [
        "model_checkpoint2 = ModelCheckpoint('RegMos2.h5', verbose=1, save_best_only=True)\n",
        "def create_cnn(width, height, depth, filters=(16,32,64),regress=False):\n",
        "  \n",
        "  inputShape = (height, width, depth)\n",
        "  chanDim = -1\n",
        "  \n",
        "  inputs = Input(shape=inputShape)\n",
        "  \n",
        "  for (i,f) in enumerate(filters):\n",
        "    if i == 0:\n",
        "      x = inputs\n",
        "      \n",
        "    x = Conv2D(f, (3,3), padding='same', kernel_regularizer='l2')(x)\n",
        "    x = Activation ('relu')(x)\n",
        "    x = BatchNormalization(axis=chanDim)(x)\n",
        "    x = MaxPooling2D(pool_size=(2,2))(x)\n",
        "    \n",
        "  x = Flatten()(x)\n",
        "  x = Dense(16)(x)\n",
        "  x = Activation('relu')(x)\n",
        "  x = BatchNormalization(axis=chanDim)(x)\n",
        "  x = Dropout(0.4)(x)\n",
        "  \n",
        "  x = Dense(4)(x)\n",
        "  x = Activation('relu')(x)\n",
        "  \n",
        "  if regress:\n",
        "    x = Dense(1,activation='linear')(x)\n",
        "    \n",
        "  model = Model(inputs,x)\n",
        "  opt = Adam(lr=1e-3, decay=1e-3 / 200) \n",
        "  model.compile(optimizer=opt, loss=\"mean_absolute_percentage_error\", metrics=['mae'])\n",
        "  \n",
        "  return model"
      ],
      "execution_count": 0,
      "outputs": []
    },
    {
      "cell_type": "code",
      "metadata": {
        "id": "3E3DYX67RRzm",
        "colab_type": "code",
        "colab": {
          "base_uri": "https://localhost:8080/",
          "height": 32
        },
        "outputId": "42a452cf-a842-44cd-d177-684e2440efcb"
      },
      "source": [
        "def retrieveImages(result,inputPath):\n",
        "  start = time.clock() \n",
        "\n",
        "  inputPath = '/content/drive/My Drive/mosquito/ManateeImages/'\n",
        "  images = []\n",
        "\n",
        "  for i in result['LATITUDE']:\n",
        "    basePath = os.path.sep.join([inputPath, \"{}_*\".format(i)])\n",
        "    imagePaths = sorted(list(glob.glob(basePath)))\n",
        "    \n",
        "    for imagePath in imagePaths:\n",
        "      image = cv2.imread(imagePath)\n",
        "      image = cv2.resize(image, (128, 128))\n",
        "      image = image.flatten()\n",
        "      images.append(image)\n",
        "\n",
        "  end = time.clock()\n",
        "  timeImages = end-start\n",
        "\n",
        "  print(\"Total Time: {} \".format(timeImages)) \n",
        "  images = np.array(images)\n",
        "  images = images / 255.0\n",
        "  print('X shape:', np.array(X).shape)\n",
        "  print('y shape:', np.array(y).shape)\n",
        "  print('images shape:', np.array(images).shape)\n",
        "  return images"
      ],
      "execution_count": 30,
      "outputs": [
        {
          "output_type": "stream",
          "text": [
            "Total Time: 129.94839399999998 \n"
          ],
          "name": "stdout"
        }
      ]
    },
    {
      "cell_type": "code",
      "metadata": {
        "id": "NtXb5AB3xZpI",
        "colab_type": "code",
        "colab": {}
      },
      "source": [
        "inputPath = '/content/drive/My Drive/mosquito/ManateeImages/'\n",
        "images = retrieveImages(result,inputPath)"
      ],
      "execution_count": 0,
      "outputs": []
    },
    {
      "cell_type": "code",
      "metadata": {
        "id": "0HC74f42laB2",
        "colab_type": "code",
        "colab": {}
      },
      "source": [
        "def evaluateCNN(images,X,y, folds=5, num_epochs=50, batch_size=16, verbose=True):\n",
        "  all_scores = []\n",
        "  model_history = [] \n",
        "  mean_List = []\n",
        "  std_List = []\n",
        "  start = time.clock()                 \n",
        "\n",
        "  cv = KFold(n_splits=folds, random_state=1, shuffle=True)\n",
        "\n",
        "  aug = ImageDataGenerator(rescale = 1./255, horizontal_flip = True,\n",
        "                                   fill_mode = \"nearest\", zoom_range = 0.2,\n",
        "                                   width_shift_range = 0.2, height_shift_range=0.2,\n",
        "                                   shear_range=0.2, rotation_range=30) \n",
        "  \n",
        "  for train_index, test_index in cv.split(X):\n",
        "\n",
        "    X_train, X_test, y_train, y_test = images[train_index], images[test_index], y[train_index], y[test_index]\n",
        "    \n",
        "    X_train = X_train.reshape((X_train.shape[0], 128, 128, 3))\n",
        "    X_test = X_test.reshape((X_test.shape[0], 128, 128, 3))\n",
        "\n",
        "    model = create_cnn(128, 128, 3, regress=True)\n",
        "\n",
        "    history = model.fit(X_train, y_train,validation_data=(X_test, y_test),\n",
        "                        epochs=num_epochs,callbacks=[model_checkpoint2,\n",
        "                        TensorBoardColabCallback(tbc)], batch_size=batch_size, verbose=verbose)\n",
        "    \n",
        "    model_history.append(history)\n",
        "    val_mape,val_mae = model.evaluate(X_test, y_test, verbose=0)\n",
        "    all_scores.append(val_mape)\n",
        "\n",
        "    mean,std = evaluateModel(X_test,y_test,model)\n",
        "\n",
        "    mean_List.append(mean)\n",
        "    std_List.append(std)\n",
        "  \n",
        "  plot_model(model, show_shapes = 1, to_file='CNNModel.png')\n",
        "  model.summary()\n",
        "  end = time.clock()\n",
        "  timeDense = end-start\n",
        "  #total time of training\n",
        "  print(\"Total Time: {} \".format(timeDense)) \n",
        "  print(\"[INFO] avg. mosquito traped: {}, std mosquito trapped: {}\".format((result['TOTAL'].mean()),(result['TOTAL'].std())))\n",
        "  print(\"[INFO] mean: {:.2f}%, std: {:.2f}%\".format(avg(mean_List), avg(std_List)))\n",
        "  return model, model_history, all_scores"
      ],
      "execution_count": 0,
      "outputs": []
    },
    {
      "cell_type": "code",
      "metadata": {
        "id": "bEOszwFBSq5G",
        "colab_type": "code",
        "colab": {
          "base_uri": "https://localhost:8080/",
          "height": 1000
        },
        "outputId": "c970f141-ad1c-4f1e-f9c1-bff9c9d155fa"
      },
      "source": [
        "model2, model_history2, all_scores2 = evaluateCNN(images,X,y, folds=3, num_epochs=3, batch_size=16, verbose=True)"
      ],
      "execution_count": 101,
      "outputs": [
        {
          "output_type": "stream",
          "text": [
            "Train on 1716 samples, validate on 858 samples\n",
            "Epoch 1/3\n",
            "1716/1716 [==============================] - 6s 3ms/step - loss: 88.4453 - mean_absolute_error: 15.8766 - val_loss: 82.9540 - val_mean_absolute_error: 14.9037\n",
            "\n",
            "Epoch 00001: val_loss did not improve from 5.97566\n",
            "Epoch 2/3\n",
            "1716/1716 [==============================] - 3s 2ms/step - loss: 66.9954 - mean_absolute_error: 12.0168 - val_loss: 56.3737 - val_mean_absolute_error: 10.1222\n",
            "\n",
            "Epoch 00002: val_loss did not improve from 5.97566\n",
            "Epoch 3/3\n",
            "1716/1716 [==============================] - 3s 2ms/step - loss: 47.6709 - mean_absolute_error: 8.5178 - val_loss: 58.5609 - val_mean_absolute_error: 10.3696\n",
            "\n",
            "Epoch 00003: val_loss did not improve from 5.97566\n",
            "[5.078456780849359, 4.013931694564286, 4.6764254947920225]\n",
            "4.589604656735222\n",
            "858/858 [==============================] - 1s 663us/step\n",
            "Train on 1716 samples, validate on 858 samples\n",
            "Epoch 1/3\n",
            "1716/1716 [==============================] - 6s 3ms/step - loss: 100.9390 - mean_absolute_error: 18.1186 - val_loss: 96.4964 - val_mean_absolute_error: 17.3468\n",
            "\n",
            "Epoch 00001: val_loss did not improve from 5.97566\n",
            "Epoch 2/3\n",
            "1716/1716 [==============================] - 3s 2ms/step - loss: 93.6898 - mean_absolute_error: 16.8217 - val_loss: 73.9317 - val_mean_absolute_error: 13.2950\n",
            "\n",
            "Epoch 00002: val_loss did not improve from 5.97566\n",
            "Epoch 3/3\n",
            "1716/1716 [==============================] - 3s 2ms/step - loss: 81.3220 - mean_absolute_error: 14.6036 - val_loss: 90.6894 - val_mean_absolute_error: 16.3083\n",
            "\n",
            "Epoch 00003: val_loss did not improve from 5.97566\n",
            "[5.078456780849359, 4.013931694564286, 4.6764254947920225]\n",
            "4.589604656735222\n",
            "858/858 [==============================] - 1s 658us/step\n",
            "Train on 1716 samples, validate on 858 samples\n",
            "Epoch 1/3\n",
            "1716/1716 [==============================] - 6s 3ms/step - loss: 95.2101 - mean_absolute_error: 17.1036 - val_loss: 86.3750 - val_mean_absolute_error: 15.4847\n",
            "\n",
            "Epoch 00001: val_loss did not improve from 5.97566\n",
            "Epoch 2/3\n",
            "1716/1716 [==============================] - 3s 2ms/step - loss: 81.4118 - mean_absolute_error: 14.6191 - val_loss: 51.3462 - val_mean_absolute_error: 9.1921\n",
            "\n",
            "Epoch 00002: val_loss did not improve from 5.97566\n",
            "Epoch 3/3\n",
            "1716/1716 [==============================] - 3s 2ms/step - loss: 60.1054 - mean_absolute_error: 10.7691 - val_loss: 51.4992 - val_mean_absolute_error: 9.1110\n",
            "\n",
            "Epoch 00003: val_loss did not improve from 5.97566\n",
            "[5.078456780849359, 4.013931694564286, 4.6764254947920225]\n",
            "4.589604656735222\n",
            "858/858 [==============================] - 1s 652us/step\n",
            "Model: \"model_39\"\n",
            "_________________________________________________________________\n",
            "Layer (type)                 Output Shape              Param #   \n",
            "=================================================================\n",
            "input_24 (InputLayer)        (None, 128, 128, 3)       0         \n",
            "_________________________________________________________________\n",
            "conv2d_70 (Conv2D)           (None, 128, 128, 16)      448       \n",
            "_________________________________________________________________\n",
            "activation_116 (Activation)  (None, 128, 128, 16)      0         \n",
            "_________________________________________________________________\n",
            "batch_normalization_93 (Batc (None, 128, 128, 16)      64        \n",
            "_________________________________________________________________\n",
            "max_pooling2d_70 (MaxPooling (None, 64, 64, 16)        0         \n",
            "_________________________________________________________________\n",
            "conv2d_71 (Conv2D)           (None, 64, 64, 32)        4640      \n",
            "_________________________________________________________________\n",
            "activation_117 (Activation)  (None, 64, 64, 32)        0         \n",
            "_________________________________________________________________\n",
            "batch_normalization_94 (Batc (None, 64, 64, 32)        128       \n",
            "_________________________________________________________________\n",
            "max_pooling2d_71 (MaxPooling (None, 32, 32, 32)        0         \n",
            "_________________________________________________________________\n",
            "conv2d_72 (Conv2D)           (None, 32, 32, 64)        18496     \n",
            "_________________________________________________________________\n",
            "activation_118 (Activation)  (None, 32, 32, 64)        0         \n",
            "_________________________________________________________________\n",
            "batch_normalization_95 (Batc (None, 32, 32, 64)        256       \n",
            "_________________________________________________________________\n",
            "max_pooling2d_72 (MaxPooling (None, 16, 16, 64)        0         \n",
            "_________________________________________________________________\n",
            "flatten_24 (Flatten)         (None, 16384)             0         \n",
            "_________________________________________________________________\n",
            "dense_225 (Dense)            (None, 16)                262160    \n",
            "_________________________________________________________________\n",
            "activation_119 (Activation)  (None, 16)                0         \n",
            "_________________________________________________________________\n",
            "batch_normalization_96 (Batc (None, 16)                64        \n",
            "_________________________________________________________________\n",
            "dropout_24 (Dropout)         (None, 16)                0         \n",
            "_________________________________________________________________\n",
            "dense_226 (Dense)            (None, 4)                 68        \n",
            "_________________________________________________________________\n",
            "activation_120 (Activation)  (None, 4)                 0         \n",
            "_________________________________________________________________\n",
            "dense_227 (Dense)            (None, 1)                 5         \n",
            "=================================================================\n",
            "Total params: 286,329\n",
            "Trainable params: 286,073\n",
            "Non-trainable params: 256\n",
            "_________________________________________________________________\n",
            "Total Time: 96.78490499999998 \n",
            "[INFO] avg. mosquito traped: 18.07808857808858, std mosquito trapped: 1.2572841315348362\n",
            "[INFO] mean: 66.29%, std: 22.93%\n"
          ],
          "name": "stdout"
        }
      ]
    },
    {
      "cell_type": "code",
      "metadata": {
        "colab_type": "code",
        "outputId": "789fc5f6-56e1-41ad-e763-83bbcd5555cd",
        "id": "h9fMGS4ZY0hz",
        "colab": {
          "base_uri": "https://localhost:8080/",
          "height": 807
        }
      },
      "source": [
        "lossTrainPlot(model_history2)\n",
        "lossValPlot(model_history2)\n",
        "lossTrainValPlot(model_history2)"
      ],
      "execution_count": 102,
      "outputs": [
        {
          "output_type": "display_data",
          "data": {
            "image/png": "[encoded data removed]",
            "text/plain": [
              "<Figure size 432x288 with 1 Axes>"
            ]
          },
          "metadata": {
            "tags": []
          }
        },
        {
          "output_type": "display_data",
          "data": {
            "image/png": "[encoded data removed]",
            "text/plain": [
              "<Figure size 432x288 with 1 Axes>"
            ]
          },
          "metadata": {
            "tags": []
          }
        },
        {
          "output_type": "display_data",
          "data": {
            "image/png": "[encoded data removed]",
            "text/plain": [
              "<Figure size 432x288 with 1 Axes>"
            ]
          },
          "metadata": {
            "tags": []
          }
        }
      ]
    },
    {
      "cell_type": "code",
      "metadata": {
        "id": "Ryx9KvnsaSa1",
        "colab_type": "code",
        "colab": {}
      },
      "source": [
        "WeightsLayers(model2)"
      ],
      "execution_count": 0,
      "outputs": []
    },
    {
      "cell_type": "markdown",
      "metadata": {
        "id": "5l_qLqRqSRKi",
        "colab_type": "text"
      },
      "source": [
        "## Combine the models"
      ]
    },
    {
      "cell_type": "code",
      "metadata": {
        "id": "fLFAVz2Q8U-z",
        "colab_type": "code",
        "colab": {}
      },
      "source": [
        "model_checkpoint3 = ModelCheckpoint('RegMos3.h5', verbose=1, save_best_only=True)\n",
        "def hybridModel(X_train):\n",
        "  mlp = create_mlp(X_train.shape[1], regress=False)\n",
        "  cnn = create_cnn(128, 128, 3, filters=(16,32,64),regress=False)\n",
        "\n",
        "  combinedInput = concatenate([mlp.output, cnn.output])\n",
        "\n",
        "  x = Dense(8, activation=\"relu\")(combinedInput)\n",
        "  x = Dense(4, activation=\"relu\")(x)\n",
        "  x = Dense(1, activation=\"linear\")(x)\n",
        "\n",
        "  modelF = Model(inputs=[mlp.input, cnn.input], outputs=x)\n",
        "\n",
        "  opt = Adam(lr=1e-3, decay=1e-3 / 200)\n",
        "  modelF.compile(optimizer=opt, loss=\"mean_absolute_percentage_error\", metrics=['mae'])\n",
        "  \n",
        "  return modelF"
      ],
      "execution_count": 0,
      "outputs": []
    },
    {
      "cell_type": "code",
      "metadata": {
        "id": "yoz-wRs9ki4f",
        "colab_type": "code",
        "colab": {}
      },
      "source": [
        "def evaluateHybrid(images,X,y, folds=5, num_epochs=50, batch_size=16, verbose=True):\n",
        "  all_scores = []\n",
        "  model_history = [] \n",
        "  mean_List = []\n",
        "  std_List = []\n",
        "  start = time.clock()                 \n",
        "\n",
        "  cv = KFold(n_splits=folds, random_state=1, shuffle=True)\n",
        "\n",
        "  aug = ImageDataGenerator(rescale = 1./255, horizontal_flip = True,\n",
        "                                   fill_mode = \"nearest\", zoom_range = 0.2,\n",
        "                                   width_shift_range = 0.2, height_shift_range=0.2,\n",
        "                                   shear_range=0.2, rotation_range=30) \n",
        "\n",
        "  \n",
        "  for train_index, test_index in cv.split(X):\n",
        "\n",
        "    X_train, X_trainImages, X_test, X_testImages, y_train, y_test = X[train_index], images[train_index], X[test_index], images[test_index], y[train_index], y[test_index]\n",
        "\n",
        "    X_trainImages = X_trainImages.reshape((X_train.shape[0], 128, 128, 3))\n",
        "    X_testImages = X_testImages.reshape((X_test.shape[0], 128, 128, 3))\n",
        "    \n",
        "    model = hybridModel(X_train)\n",
        "    \n",
        "    history = model.fit([X_train, X_trainImages], y_train, validation_data=([X_test, X_testImages],y_test),epochs=num_epochs,callbacks=[model_checkpoint3, TensorBoardColabCallback(tbc)], batch_size=16, verbose=1)\n",
        "\n",
        "    model_history.append(history)\n",
        "    val_mape,val_mae = model.evaluate([X_test, X_testImages], y_test, verbose=0)\n",
        "    all_scores.append(val_mape)\n",
        "\n",
        "    mean,std = evaluateModel([X_test, X_testImages],y_test,model)\n",
        "\n",
        "    mean_List.append(mean)\n",
        "    std_List.append(std)\n",
        "  \n",
        "  plot_model(model, show_shapes = 1, to_file='HybridModel.png')\n",
        "  model.summary()\n",
        "  end = time.clock()\n",
        "  timeDense = end-start\n",
        "  #total time of training\n",
        "  print(\"Total Time: {} \".format(timeDense)) \n",
        "  print(\"[INFO] avg. mosquito traped: {}, std mosquito trapped: {}\".format((result['TOTAL'].mean()),(result['TOTAL'].std())))\n",
        "  print(\"[INFO] mean: {:.2f}%, std: {:.2f}%\".format(avg(mean_List), avg(std_List)))\n",
        "  return model, model_history, all_scores"
      ],
      "execution_count": 0,
      "outputs": []
    },
    {
      "cell_type": "code",
      "metadata": {
        "id": "tpJ7NpvpmvJH",
        "colab_type": "code",
        "colab": {
          "base_uri": "https://localhost:8080/",
          "height": 1000
        },
        "outputId": "9a203fed-4645-4645-f18e-53244c47de56"
      },
      "source": [
        "model3, model_history3, all_scores3 = evaluateHybrid(images,X,y, folds=3, num_epochs=3)"
      ],
      "execution_count": 104,
      "outputs": [
        {
          "output_type": "stream",
          "text": [
            "Train on 1716 samples, validate on 858 samples\n",
            "Epoch 1/3\n",
            "1716/1716 [==============================] - 7s 4ms/step - loss: 42.0516 - mean_absolute_error: 7.4740 - val_loss: 6.8999 - val_mean_absolute_error: 1.1370\n",
            "\n",
            "Epoch 00001: val_loss did not improve from 0.13747\n",
            "Epoch 2/3\n",
            "1716/1716 [==============================] - 4s 2ms/step - loss: 5.6874 - mean_absolute_error: 0.9186 - val_loss: 5.0368 - val_mean_absolute_error: 0.8079\n",
            "\n",
            "Epoch 00002: val_loss did not improve from 0.13747\n",
            "Epoch 3/3\n",
            "1716/1716 [==============================] - 4s 2ms/step - loss: 4.6723 - mean_absolute_error: 0.7489 - val_loss: 4.6837 - val_mean_absolute_error: 0.7565\n",
            "\n",
            "Epoch 00003: val_loss did not improve from 0.13747\n",
            "[5.078456780849359, 4.013931694564286, 4.6764254947920225]\n",
            "4.589604656735222\n",
            "858/858 [==============================] - 1s 723us/step\n",
            "Train on 1716 samples, validate on 858 samples\n",
            "Epoch 1/3\n",
            "1716/1716 [==============================] - 7s 4ms/step - loss: 40.9544 - mean_absolute_error: 7.2889 - val_loss: 6.7607 - val_mean_absolute_error: 1.1152\n",
            "\n",
            "Epoch 00001: val_loss did not improve from 0.13747\n",
            "Epoch 2/3\n",
            "1716/1716 [==============================] - 4s 2ms/step - loss: 5.6826 - mean_absolute_error: 0.9215 - val_loss: 4.8014 - val_mean_absolute_error: 0.7701\n",
            "\n",
            "Epoch 00002: val_loss did not improve from 0.13747\n",
            "Epoch 3/3\n",
            "1716/1716 [==============================] - 4s 2ms/step - loss: 4.4845 - mean_absolute_error: 0.7200 - val_loss: 4.7662 - val_mean_absolute_error: 0.7819\n",
            "\n",
            "Epoch 00003: val_loss did not improve from 0.13747\n",
            "[5.078456780849359, 4.013931694564286, 4.6764254947920225]\n",
            "4.589604656735222\n",
            "858/858 [==============================] - 1s 708us/step\n",
            "Train on 1716 samples, validate on 858 samples\n",
            "Epoch 1/3\n",
            "1716/1716 [==============================] - 7s 4ms/step - loss: 100.4294 - mean_absolute_error: 18.0537 - val_loss: 99.6592 - val_mean_absolute_error: 17.8778\n",
            "\n",
            "Epoch 00001: val_loss did not improve from 0.13747\n",
            "Epoch 2/3\n",
            "1716/1716 [==============================] - 4s 3ms/step - loss: 50.5619 - mean_absolute_error: 9.0357 - val_loss: 24.2035 - val_mean_absolute_error: 4.2273\n",
            "\n",
            "Epoch 00002: val_loss did not improve from 0.13747\n",
            "Epoch 3/3\n",
            "1716/1716 [==============================] - 4s 3ms/step - loss: 6.5386 - mean_absolute_error: 1.0800 - val_loss: 8.1056 - val_mean_absolute_error: 1.3491\n",
            "\n",
            "Epoch 00003: val_loss did not improve from 0.13747\n",
            "[5.078456780849359, 4.013931694564286, 4.6764254947920225]\n",
            "4.589604656735222\n",
            "858/858 [==============================] - 1s 784us/step\n",
            "Model: \"model_45\"\n",
            "__________________________________________________________________________________________________\n",
            "Layer (type)                    Output Shape         Param #     Connected to                     \n",
            "==================================================================================================\n",
            "input_27 (InputLayer)           (None, 128, 128, 3)  0                                            \n",
            "__________________________________________________________________________________________________\n",
            "conv2d_79 (Conv2D)              (None, 128, 128, 16) 448         input_27[0][0]                   \n",
            "__________________________________________________________________________________________________\n",
            "activation_131 (Activation)     (None, 128, 128, 16) 0           conv2d_79[0][0]                  \n",
            "__________________________________________________________________________________________________\n",
            "batch_normalization_105 (BatchN (None, 128, 128, 16) 64          activation_131[0][0]             \n",
            "__________________________________________________________________________________________________\n",
            "max_pooling2d_79 (MaxPooling2D) (None, 64, 64, 16)   0           batch_normalization_105[0][0]    \n",
            "__________________________________________________________________________________________________\n",
            "conv2d_80 (Conv2D)              (None, 64, 64, 32)   4640        max_pooling2d_79[0][0]           \n",
            "__________________________________________________________________________________________________\n",
            "activation_132 (Activation)     (None, 64, 64, 32)   0           conv2d_80[0][0]                  \n",
            "__________________________________________________________________________________________________\n",
            "batch_normalization_106 (BatchN (None, 64, 64, 32)   128         activation_132[0][0]             \n",
            "__________________________________________________________________________________________________\n",
            "max_pooling2d_80 (MaxPooling2D) (None, 32, 32, 32)   0           batch_normalization_106[0][0]    \n",
            "__________________________________________________________________________________________________\n",
            "conv2d_81 (Conv2D)              (None, 32, 32, 64)   18496       max_pooling2d_80[0][0]           \n",
            "__________________________________________________________________________________________________\n",
            "activation_133 (Activation)     (None, 32, 32, 64)   0           conv2d_81[0][0]                  \n",
            "__________________________________________________________________________________________________\n",
            "batch_normalization_107 (BatchN (None, 32, 32, 64)   256         activation_133[0][0]             \n",
            "__________________________________________________________________________________________________\n",
            "max_pooling2d_81 (MaxPooling2D) (None, 16, 16, 64)   0           batch_normalization_107[0][0]    \n",
            "__________________________________________________________________________________________________\n",
            "dense_250_input (InputLayer)    (None, 19)           0                                            \n",
            "__________________________________________________________________________________________________\n",
            "flatten_27 (Flatten)            (None, 16384)        0           max_pooling2d_81[0][0]           \n",
            "__________________________________________________________________________________________________\n",
            "dense_250 (Dense)               (None, 128)          2560        dense_250_input[0][0]            \n",
            "__________________________________________________________________________________________________\n",
            "dense_256 (Dense)               (None, 16)           262160      flatten_27[0][0]                 \n",
            "__________________________________________________________________________________________________\n",
            "dense_251 (Dense)               (None, 64)           8256        dense_250[0][0]                  \n",
            "__________________________________________________________________________________________________\n",
            "activation_134 (Activation)     (None, 16)           0           dense_256[0][0]                  \n",
            "__________________________________________________________________________________________________\n",
            "dense_252 (Dense)               (None, 32)           2080        dense_251[0][0]                  \n",
            "__________________________________________________________________________________________________\n",
            "batch_normalization_108 (BatchN (None, 16)           64          activation_134[0][0]             \n",
            "__________________________________________________________________________________________________\n",
            "dense_253 (Dense)               (None, 16)           528         dense_252[0][0]                  \n",
            "__________________________________________________________________________________________________\n",
            "dropout_27 (Dropout)            (None, 16)           0           batch_normalization_108[0][0]    \n",
            "__________________________________________________________________________________________________\n",
            "dense_254 (Dense)               (None, 8)            136         dense_253[0][0]                  \n",
            "__________________________________________________________________________________________________\n",
            "dense_257 (Dense)               (None, 4)            68          dropout_27[0][0]                 \n",
            "__________________________________________________________________________________________________\n",
            "dense_255 (Dense)               (None, 4)            36          dense_254[0][0]                  \n",
            "__________________________________________________________________________________________________\n",
            "activation_135 (Activation)     (None, 4)            0           dense_257[0][0]                  \n",
            "__________________________________________________________________________________________________\n",
            "concatenate_18 (Concatenate)    (None, 8)            0           dense_255[0][0]                  \n",
            "                                                                 activation_135[0][0]             \n",
            "__________________________________________________________________________________________________\n",
            "dense_258 (Dense)               (None, 8)            72          concatenate_18[0][0]             \n",
            "__________________________________________________________________________________________________\n",
            "dense_259 (Dense)               (None, 4)            36          dense_258[0][0]                  \n",
            "__________________________________________________________________________________________________\n",
            "dense_260 (Dense)               (None, 1)            5           dense_259[0][0]                  \n",
            "==================================================================================================\n",
            "Total params: 300,033\n",
            "Trainable params: 299,777\n",
            "Non-trainable params: 256\n",
            "__________________________________________________________________________________________________\n",
            "Total Time: 115.83566000000019 \n",
            "[INFO] avg. mosquito traped: 18.07808857808858, std mosquito trapped: 1.2572841315348362\n",
            "[INFO] mean: 5.36%, std: 4.17%\n"
          ],
          "name": "stdout"
        }
      ]
    },
    {
      "cell_type": "code",
      "metadata": {
        "id": "4yDIXicsvLBs",
        "colab_type": "code",
        "outputId": "6cf27a30-b4b1-434a-d733-a391a112a20b",
        "colab": {
          "base_uri": "https://localhost:8080/",
          "height": 807
        }
      },
      "source": [
        "lossTrainPlot(model_history3)\n",
        "lossValPlot(model_history3)\n",
        "lossTrainValPlot(model_history3)"
      ],
      "execution_count": 105,
      "outputs": [
        {
          "output_type": "display_data",
          "data": {
            "image/png": "[encoded data removed]",
            "text/plain": [
              "<Figure size 432x288 with 1 Axes>"
            ]
          },
          "metadata": {
            "tags": []
          }
        },
        {
          "output_type": "display_data",
          "data": {
            "image/png": "[encoded data removed]",
            "text/plain": [
              "<Figure size 432x288 with 1 Axes>"
            ]
          },
          "metadata": {
            "tags": []
          }
        },
        {
          "output_type": "display_data",
          "data": {
            "image/png": "[encoded data removed]",
            "text/plain": [
              "<Figure size 432x288 with 1 Axes>"
            ]
          },
          "metadata": {
            "tags": []
          }
        }
      ]
    },
    {
      "cell_type": "code",
      "metadata": {
        "id": "ypmQ8sy55xDw",
        "colab_type": "code",
        "colab": {
          "base_uri": "https://localhost:8080/",
          "height": 571
        },
        "outputId": "efa8b8b7-3126-4501-9a5d-bd4c04b9139d"
      },
      "source": [
        "plt.plot(model_history[1].history['loss'], label='Numerical & categorical')\n",
        "plt.plot(model_history2[1].history['loss'], label='Satellite Imagery')\n",
        "plt.plot(model_history3[1].history['loss'], label='Combined')\n",
        "\n",
        "plt.title('Model loss')\n",
        "plt.ylabel('Loss')\n",
        "plt.xlabel('Epoch')\n",
        "plt.legend( loc='upper right')\n",
        "#plt.xlim(-1,200)\n",
        "#plt.ylim(0,80)\n",
        "plt.show()\n",
        "\n",
        "\n",
        "plt.plot(model_history[1].history['val_loss'], label='Numerical & categorical')\n",
        "plt.plot(model_history2[1].history['val_loss'], label='Satellite Imagery')\n",
        "plt.plot(model_history3[1].history['val_loss'], label='Combined')\n",
        "\n",
        "plt.title('Model Validation Loss')\n",
        "plt.ylabel('Validation Loss')\n",
        "plt.xlabel('Epoch')\n",
        "plt.legend( loc='upper right')\n",
        "#plt.xlim(-1,200)\n",
        "#plt.ylim(0,80)\n",
        "plt.show()"
      ],
      "execution_count": 130,
      "outputs": [
        {
          "output_type": "display_data",
          "data": {
            "image/png": "[encoded data removed]",
            "text/plain": [
              "<Figure size 432x288 with 1 Axes>"
            ]
          },
          "metadata": {
            "tags": []
          }
        },
        {
          "output_type": "display_data",
          "data": {
            "image/png": "[encoded data removed]",
            "text/plain": [
              "<Figure size 432x288 with 1 Axes>"
            ]
          },
          "metadata": {
            "tags": []
          }
        }
      ]
    },
    {
      "cell_type": "code",
      "metadata": {
        "id": "t4PHWbtn6LWJ",
        "colab_type": "code",
        "colab": {
          "base_uri": "https://localhost:8080/",
          "height": 783
        },
        "outputId": "901f2a2b-8eaa-4643-808c-6e038da21155"
      },
      "source": [
        "\n",
        "plt.title('Train Loss vs Val Loss')\n",
        "for y in (model_history,model_history2,model_history3):\n",
        "  for x in range(len(y)): \n",
        "    plt.plot(y[x].history['val_loss'], label=('Val Fold', x+1), color=colorsList[x])\n",
        "    plt.plot(y[x].history['loss'], label=('Training Fold ', x+1), color=colorsList[x], linestyle = \"dashdot\")\n",
        "  plt.legend(ncol=2)\n",
        "  #plt.ylim(0,60)\n",
        "  plt.show()\n"
      ],
      "execution_count": 129,
      "outputs": [
        {
          "output_type": "display_data",
          "data": {
            "image/png": "[encoded data removed]",
            "text/plain": [
              "<Figure size 432x288 with 1 Axes>"
            ]
          },
          "metadata": {
            "tags": []
          }
        },
        {
          "output_type": "display_data",
          "data": {
            "image/png": "[encoded data removed]",
            "text/plain": [
              "<Figure size 432x288 with 1 Axes>"
            ]
          },
          "metadata": {
            "tags": []
          }
        },
        {
          "output_type": "display_data",
          "data": {
            "image/png": "[encoded data removed]",
            "text/plain": [
              "<Figure size 432x288 with 1 Axes>"
            ]
          },
          "metadata": {
            "tags": []
          }
        }
      ]
    },
    {
      "cell_type": "markdown",
      "metadata": {
        "id": "DqhpzTqATdtG",
        "colab_type": "text"
      },
      "source": [
        "## Sources"
      ]
    },
    {
      "cell_type": "markdown",
      "metadata": {
        "id": "NBeLn6I7neA1",
        "colab_type": "text"
      },
      "source": [
        "Source: \n",
        "\n",
        "[1] Cahill, Trey. (2019). Esri Story Maps: Fight the Bite, Protecting Washington, D.C. from Mosquito Borne Disease. \n",
        "\n",
        "[2] Giraldo-Calderón GI, Emrich SJ, MacCallum RM, Maslen G, Dialynas E, Topalis P, Ho N, Gesing S, VectorBase Consortium, Madey G, Collins FH, Lawson D. 2015. VectorBase: an updated bioinformatics resource for invertebrate vectors and other organisms related with human diseases. Nucleic Acids Research 43(Database issue):D707-13.\n",
        "\n",
        "[3] Ehelepola, N. D. B., et al. \"A study of the correlation between dengue and weather in Kandy City, Sri Lanka (2003-2012) and lessons learned.\" Infectious diseases of poverty 4.1 (2015): 42.\n",
        "\n",
        "H. Ahmed E. and Moustafa M. (2016). House Price Estimation from Visual and Textual Features.In Proceedings of the 8th International Joint Conference on Computational Intelligence (IJCCI 2016)ISBN 978-989-758-201-1, pages 62-68. DOI: 10.5220/0006040700620068"
      ]
    },
    {
      "cell_type": "markdown",
      "metadata": {
        "id": "o2EF18jFTk-p",
        "colab_type": "text"
      },
      "source": [
        "https://www.pyimagesearch.com/2019/02/04/keras-multiple-inputs-and-mixed-data/"
      ]
    },
    {
      "cell_type": "markdown",
      "metadata": {
        "id": "4sPMkGOjTmVG",
        "colab_type": "text"
      },
      "source": [
        "https://zoom.earth"
      ]
    },
    {
      "cell_type": "code",
      "metadata": {
        "id": "RctNPRSamz38",
        "colab_type": "code",
        "colab": {}
      },
      "source": [
        "'https://wtop.com/health-fitness/2016/06/trap-lab-dc-protects-residents-mosquito-borne-diseases/slide/1/'"
      ],
      "execution_count": 0,
      "outputs": []
    }
  ]
}