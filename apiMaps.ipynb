{
  "nbformat": 4,
  "nbformat_minor": 0,
  "metadata": {
    "colab": {
      "name": "apiMaps.ipynb",
      "provenance": [],
      "collapsed_sections": [
        "-pvzHYApmJn-"
      ],
      "toc_visible": true,
      "include_colab_link": true
    },
    "kernelspec": {
      "name": "python3",
      "display_name": "Python 3"
    }
  },
  "cells": [
    {
      "cell_type": "markdown",
      "metadata": {
        "id": "view-in-github",
        "colab_type": "text"
      },
      "source": [
        "<a href=\"https://colab.research.google.com/github/lrodrigocareaga/thesis/blob/master/apiMaps.ipynb\" target=\"_parent\"><img src=\"https://colab.research.google.com/assets/colab-badge.svg\" alt=\"Open In Colab\"/></a>"
      ]
    },
    {
      "cell_type": "code",
      "metadata": {
        "id": "t4T3_DtHO-oi",
        "colab_type": "code",
        "outputId": "61b4b7f6-601d-400e-9d6a-9b83612c5fe2",
        "colab": {
          "base_uri": "https://localhost:8080/",
          "height": 122
        }
      },
      "source": [
        "from io import BytesIO\n",
        "from PIL import Image\n",
        "from urllib import request\n",
        "import matplotlib.pyplot as plt # this is if you want to plot the map using pyplot\n",
        "import pandas as pd\n",
        "import requests\n",
        "import os\n",
        "from google.colab import drive\n",
        "\n",
        "drive.mount('/content/drive')\n",
        "os.chdir('/content/drive/My Drive/mosquito')\n",
        "\n",
        "# Enter your api key here \n",
        "api_key = ###API###"
      ],
      "execution_count": 0,
      "outputs": [
        {
          "output_type": "stream",
          "text": [
            "Go to this URL in a browser: https://accounts.google.com/o/oauth2/auth?client_id=947318989803-6bn6qk8qdgf4n4g3pfee6491hc0brc4i.apps.googleusercontent.com&redirect_uri=urn%3Aietf%3Awg%3Aoauth%3A2.0%3Aoob&scope=email%20https%3A%2F%2Fwww.googleapis.com%2Fauth%2Fdocs.test%20https%3A%2F%2Fwww.googleapis.com%2Fauth%2Fdrive%20https%3A%2F%2Fwww.googleapis.com%2Fauth%2Fdrive.photos.readonly%20https%3A%2F%2Fwww.googleapis.com%2Fauth%2Fpeopleapi.readonly&response_type=code\n",
            "\n",
            "Enter your authorization code:\n",
            "··········\n",
            "Mounted at /content/drive\n"
          ],
          "name": "stdout"
        }
      ]
    },
    {
      "cell_type": "code",
      "metadata": {
        "id": "9L9jqZBIQGQ8",
        "colab_type": "code",
        "outputId": "cb7d1b17-f98d-4708-bf50-4b852122f2df",
        "colab": {
          "base_uri": "https://localhost:8080/",
          "height": 326
        }
      },
      "source": [
        "df = pd.read_csv('result.csv')\n",
        "df['LATLONG'] = df['LATITUDE'].round(6).apply(str) + ',' + df['LONGITUDE'].round(6).apply(str)\n",
        "df.head()\n",
        "listaCoor = list(df.LATLONG.unique())"
      ],
      "execution_count": 0,
      "outputs": [
        {
          "output_type": "execute_result",
          "data": {
            "text/html": [
              "<div>\n",
              "<style scoped>\n",
              "    .dataframe tbody tr th:only-of-type {\n",
              "        vertical-align: middle;\n",
              "    }\n",
              "\n",
              "    .dataframe tbody tr th {\n",
              "        vertical-align: top;\n",
              "    }\n",
              "\n",
              "    .dataframe thead th {\n",
              "        text-align: right;\n",
              "    }\n",
              "</style>\n",
              "<table border=\"1\" class=\"dataframe\">\n",
              "  <thead>\n",
              "    <tr style=\"text-align: right;\">\n",
              "      <th></th>\n",
              "      <th>Unnamed: 0</th>\n",
              "      <th>LATITUDE</th>\n",
              "      <th>LONGITUDE</th>\n",
              "      <th>day</th>\n",
              "      <th>month</th>\n",
              "      <th>year</th>\n",
              "      <th>TOTAL</th>\n",
              "      <th>GENUS</th>\n",
              "      <th>SPECIES</th>\n",
              "      <th>date</th>\n",
              "      <th>precipType</th>\n",
              "      <th>precipProbability</th>\n",
              "      <th>precipIntensity</th>\n",
              "      <th>precipIntensityMax</th>\n",
              "      <th>temperatureLow</th>\n",
              "      <th>temperatureHigh</th>\n",
              "      <th>temperatureMin</th>\n",
              "      <th>temperatureMax</th>\n",
              "      <th>humidity</th>\n",
              "      <th>windSpeed</th>\n",
              "      <th>cloudCover</th>\n",
              "      <th>LATLONG</th>\n",
              "    </tr>\n",
              "  </thead>\n",
              "  <tbody>\n",
              "    <tr>\n",
              "      <th>0</th>\n",
              "      <td>0</td>\n",
              "      <td>38.921453</td>\n",
              "      <td>-77.014480</td>\n",
              "      <td>6</td>\n",
              "      <td>4</td>\n",
              "      <td>2016</td>\n",
              "      <td>5</td>\n",
              "      <td>Culex</td>\n",
              "      <td>pipiens</td>\n",
              "      <td>2016-04-06</td>\n",
              "      <td>0</td>\n",
              "      <td>0.0</td>\n",
              "      <td>0.0000</td>\n",
              "      <td>0.0000</td>\n",
              "      <td>10.31</td>\n",
              "      <td>13.04</td>\n",
              "      <td>-2.39</td>\n",
              "      <td>13.04</td>\n",
              "      <td>0.52</td>\n",
              "      <td>1.50</td>\n",
              "      <td>0.15</td>\n",
              "      <td>38.921453,-77.01448</td>\n",
              "    </tr>\n",
              "    <tr>\n",
              "      <th>1</th>\n",
              "      <td>1</td>\n",
              "      <td>38.914005</td>\n",
              "      <td>-77.057311</td>\n",
              "      <td>6</td>\n",
              "      <td>4</td>\n",
              "      <td>2016</td>\n",
              "      <td>6</td>\n",
              "      <td>Culex</td>\n",
              "      <td>pipiens</td>\n",
              "      <td>2016-04-06</td>\n",
              "      <td>0</td>\n",
              "      <td>0.0</td>\n",
              "      <td>0.0000</td>\n",
              "      <td>0.0000</td>\n",
              "      <td>10.52</td>\n",
              "      <td>13.32</td>\n",
              "      <td>-2.29</td>\n",
              "      <td>13.32</td>\n",
              "      <td>0.51</td>\n",
              "      <td>1.41</td>\n",
              "      <td>0.16</td>\n",
              "      <td>38.914005,-77.057311</td>\n",
              "    </tr>\n",
              "    <tr>\n",
              "      <th>2</th>\n",
              "      <td>2</td>\n",
              "      <td>38.938009</td>\n",
              "      <td>-76.958136</td>\n",
              "      <td>7</td>\n",
              "      <td>4</td>\n",
              "      <td>2016</td>\n",
              "      <td>41</td>\n",
              "      <td>Culex</td>\n",
              "      <td>pipiens</td>\n",
              "      <td>2016-04-07</td>\n",
              "      <td>1</td>\n",
              "      <td>1.0</td>\n",
              "      <td>0.5652</td>\n",
              "      <td>5.2183</td>\n",
              "      <td>5.73</td>\n",
              "      <td>16.52</td>\n",
              "      <td>8.52</td>\n",
              "      <td>16.52</td>\n",
              "      <td>0.74</td>\n",
              "      <td>1.63</td>\n",
              "      <td>0.74</td>\n",
              "      <td>38.938009,-76.958136</td>\n",
              "    </tr>\n",
              "    <tr>\n",
              "      <th>3</th>\n",
              "      <td>3</td>\n",
              "      <td>38.873100</td>\n",
              "      <td>-76.972813</td>\n",
              "      <td>7</td>\n",
              "      <td>4</td>\n",
              "      <td>2016</td>\n",
              "      <td>2</td>\n",
              "      <td>Culex</td>\n",
              "      <td>pipiens</td>\n",
              "      <td>2016-04-07</td>\n",
              "      <td>1</td>\n",
              "      <td>1.0</td>\n",
              "      <td>0.5762</td>\n",
              "      <td>5.3537</td>\n",
              "      <td>5.76</td>\n",
              "      <td>16.61</td>\n",
              "      <td>8.52</td>\n",
              "      <td>16.61</td>\n",
              "      <td>0.74</td>\n",
              "      <td>1.59</td>\n",
              "      <td>0.75</td>\n",
              "      <td>38.8731,-76.972813</td>\n",
              "    </tr>\n",
              "    <tr>\n",
              "      <th>4</th>\n",
              "      <td>4</td>\n",
              "      <td>38.921453</td>\n",
              "      <td>-77.014480</td>\n",
              "      <td>13</td>\n",
              "      <td>4</td>\n",
              "      <td>2016</td>\n",
              "      <td>3</td>\n",
              "      <td>Culex</td>\n",
              "      <td>pipiens</td>\n",
              "      <td>2016-04-13</td>\n",
              "      <td>0</td>\n",
              "      <td>0.0</td>\n",
              "      <td>0.0000</td>\n",
              "      <td>0.0000</td>\n",
              "      <td>1.63</td>\n",
              "      <td>14.45</td>\n",
              "      <td>3.50</td>\n",
              "      <td>14.45</td>\n",
              "      <td>0.46</td>\n",
              "      <td>0.68</td>\n",
              "      <td>0.03</td>\n",
              "      <td>38.921453,-77.01448</td>\n",
              "    </tr>\n",
              "  </tbody>\n",
              "</table>\n",
              "</div>"
            ],
            "text/plain": [
              "   Unnamed: 0   LATITUDE  ...  cloudCover               LATLONG\n",
              "0           0  38.921453  ...        0.15   38.921453,-77.01448\n",
              "1           1  38.914005  ...        0.16  38.914005,-77.057311\n",
              "2           2  38.938009  ...        0.74  38.938009,-76.958136\n",
              "3           3  38.873100  ...        0.75    38.8731,-76.972813\n",
              "4           4  38.921453  ...        0.03   38.921453,-77.01448\n",
              "\n",
              "[5 rows x 22 columns]"
            ]
          },
          "metadata": {
            "tags": []
          },
          "execution_count": 21
        }
      ]
    },
    {
      "cell_type": "code",
      "metadata": {
        "id": "yEl2ywITUO9Y",
        "colab_type": "code",
        "colab": {}
      },
      "source": [
        "def getImages(listaCoor,api_key,folderPath):\n",
        "  for row in listaCoor:\n",
        "    url = \"https://maps.googleapis.com/maps/api/staticmap?center={}&zoom=15&size=400x400&maptype=satellite&key={}\".format(row,api_key)\n",
        "    response = requests.get(url)\n",
        "    img = Image.open(BytesIO(response.content))\n",
        "    os.chdir(folderPath)\n",
        "    img.save('{}.png'.format(row))\n",
        "  return"
      ],
      "execution_count": 0,
      "outputs": []
    },
    {
      "cell_type": "code",
      "metadata": {
        "id": "OVbQu9xcmtHR",
        "colab_type": "code",
        "colab": {}
      },
      "source": [
        "folderPath = '/content/drive/My Drive/mosquito/imagesWashington'\n",
        "getImages(listaCoor,api_key,folderPath)"
      ],
      "execution_count": 0,
      "outputs": []
    },
    {
      "cell_type": "markdown",
      "metadata": {
        "id": "-pvzHYApmJn-",
        "colab_type": "text"
      },
      "source": [
        "### Prueba"
      ]
    },
    {
      "cell_type": "code",
      "metadata": {
        "id": "WLE9HIWWl6iv",
        "colab_type": "code",
        "colab": {}
      },
      "source": [
        "url = \"https://maps.googleapis.com/maps/api/staticmap?center=28.53183,-82.469466&zoom=15&size=600x600&maptype=satellite&key=\"\n",
        "response = requests.get(url)\n",
        "img3 = Image.open(BytesIO(response.content))\n",
        "os.chdir('/content/drive/My Drive/mosquito/imagesPrueba')\n",
        "img.save('28.53183,-82.469466.png')"
      ],
      "execution_count": 0,
      "outputs": []
    }
  ]
}